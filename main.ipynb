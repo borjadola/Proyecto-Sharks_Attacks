{
 "cells": [
  {
   "cell_type": "code",
   "execution_count": 1,
   "id": "987b87e9",
   "metadata": {},
   "outputs": [],
   "source": [
    "import pandas as pd\n",
    "import numpy as np\n",
    "import warnings\n",
    "import zipfile\n",
    "import regex as re\n",
    "warnings.filterwarnings('ignore')"
   ]
  },
  {
   "cell_type": "code",
   "execution_count": 2,
   "id": "53d6d140",
   "metadata": {},
   "outputs": [],
   "source": [
    "zf = zipfile.ZipFile('/Users/borja/IronHack/Proyecto-Sharks_Attacks/data/Archive.zip')\n",
    "\n",
    "\n",
    "archivo = zf.open('attacks.csv')\n",
    "\n",
    "\n",
    "data_original = pd.read_csv(archivo, encoding='latin1')\n",
    "pd.set_option('display.max_columns', None)"
   ]
  },
  {
   "cell_type": "code",
   "execution_count": 3,
   "id": "993ed0b6",
   "metadata": {},
   "outputs": [
    {
     "data": {
      "text/html": [
       "<div>\n",
       "<style scoped>\n",
       "    .dataframe tbody tr th:only-of-type {\n",
       "        vertical-align: middle;\n",
       "    }\n",
       "\n",
       "    .dataframe tbody tr th {\n",
       "        vertical-align: top;\n",
       "    }\n",
       "\n",
       "    .dataframe thead th {\n",
       "        text-align: right;\n",
       "    }\n",
       "</style>\n",
       "<table border=\"1\" class=\"dataframe\">\n",
       "  <thead>\n",
       "    <tr style=\"text-align: right;\">\n",
       "      <th></th>\n",
       "      <th>Case Number</th>\n",
       "      <th>Date</th>\n",
       "      <th>Year</th>\n",
       "      <th>Type</th>\n",
       "      <th>Country</th>\n",
       "      <th>Area</th>\n",
       "      <th>Location</th>\n",
       "      <th>Activity</th>\n",
       "      <th>Name</th>\n",
       "      <th>Sex</th>\n",
       "      <th>Age</th>\n",
       "      <th>Injury</th>\n",
       "      <th>Fatal (Y/N)</th>\n",
       "      <th>Time</th>\n",
       "      <th>Species</th>\n",
       "      <th>Investigator or Source</th>\n",
       "      <th>pdf</th>\n",
       "      <th>href formula</th>\n",
       "      <th>href</th>\n",
       "      <th>Case Number.1</th>\n",
       "      <th>Case Number.2</th>\n",
       "      <th>original order</th>\n",
       "      <th>Unnamed: 22</th>\n",
       "      <th>Unnamed: 23</th>\n",
       "    </tr>\n",
       "  </thead>\n",
       "  <tbody>\n",
       "    <tr>\n",
       "      <th>0</th>\n",
       "      <td>2018.06.25</td>\n",
       "      <td>25-Jun-2018</td>\n",
       "      <td>2018.0</td>\n",
       "      <td>Boating</td>\n",
       "      <td>USA</td>\n",
       "      <td>California</td>\n",
       "      <td>Oceanside, San Diego County</td>\n",
       "      <td>Paddling</td>\n",
       "      <td>Julie Wolfe</td>\n",
       "      <td>F</td>\n",
       "      <td>57</td>\n",
       "      <td>No injury to occupant, outrigger canoe and pad...</td>\n",
       "      <td>N</td>\n",
       "      <td>18h00</td>\n",
       "      <td>White shark</td>\n",
       "      <td>R. Collier, GSAF</td>\n",
       "      <td>2018.06.25-Wolfe.pdf</td>\n",
       "      <td>http://sharkattackfile.net/spreadsheets/pdf_di...</td>\n",
       "      <td>http://sharkattackfile.net/spreadsheets/pdf_di...</td>\n",
       "      <td>2018.06.25</td>\n",
       "      <td>2018.06.25</td>\n",
       "      <td>6303.0</td>\n",
       "      <td>NaN</td>\n",
       "      <td>NaN</td>\n",
       "    </tr>\n",
       "    <tr>\n",
       "      <th>1</th>\n",
       "      <td>2018.06.18</td>\n",
       "      <td>18-Jun-2018</td>\n",
       "      <td>2018.0</td>\n",
       "      <td>Unprovoked</td>\n",
       "      <td>USA</td>\n",
       "      <td>Georgia</td>\n",
       "      <td>St. Simon Island, Glynn County</td>\n",
       "      <td>Standing</td>\n",
       "      <td>Adyson McNeely</td>\n",
       "      <td>F</td>\n",
       "      <td>11</td>\n",
       "      <td>Minor injury to left thigh</td>\n",
       "      <td>N</td>\n",
       "      <td>14h00  -15h00</td>\n",
       "      <td>NaN</td>\n",
       "      <td>K.McMurray, TrackingSharks.com</td>\n",
       "      <td>2018.06.18-McNeely.pdf</td>\n",
       "      <td>http://sharkattackfile.net/spreadsheets/pdf_di...</td>\n",
       "      <td>http://sharkattackfile.net/spreadsheets/pdf_di...</td>\n",
       "      <td>2018.06.18</td>\n",
       "      <td>2018.06.18</td>\n",
       "      <td>6302.0</td>\n",
       "      <td>NaN</td>\n",
       "      <td>NaN</td>\n",
       "    </tr>\n",
       "    <tr>\n",
       "      <th>2</th>\n",
       "      <td>2018.06.09</td>\n",
       "      <td>09-Jun-2018</td>\n",
       "      <td>2018.0</td>\n",
       "      <td>Invalid</td>\n",
       "      <td>USA</td>\n",
       "      <td>Hawaii</td>\n",
       "      <td>Habush, Oahu</td>\n",
       "      <td>Surfing</td>\n",
       "      <td>John Denges</td>\n",
       "      <td>M</td>\n",
       "      <td>48</td>\n",
       "      <td>Injury to left lower leg from surfboard skeg</td>\n",
       "      <td>N</td>\n",
       "      <td>07h45</td>\n",
       "      <td>NaN</td>\n",
       "      <td>K.McMurray, TrackingSharks.com</td>\n",
       "      <td>2018.06.09-Denges.pdf</td>\n",
       "      <td>http://sharkattackfile.net/spreadsheets/pdf_di...</td>\n",
       "      <td>http://sharkattackfile.net/spreadsheets/pdf_di...</td>\n",
       "      <td>2018.06.09</td>\n",
       "      <td>2018.06.09</td>\n",
       "      <td>6301.0</td>\n",
       "      <td>NaN</td>\n",
       "      <td>NaN</td>\n",
       "    </tr>\n",
       "    <tr>\n",
       "      <th>3</th>\n",
       "      <td>2018.06.08</td>\n",
       "      <td>08-Jun-2018</td>\n",
       "      <td>2018.0</td>\n",
       "      <td>Unprovoked</td>\n",
       "      <td>AUSTRALIA</td>\n",
       "      <td>New South Wales</td>\n",
       "      <td>Arrawarra Headland</td>\n",
       "      <td>Surfing</td>\n",
       "      <td>male</td>\n",
       "      <td>M</td>\n",
       "      <td>NaN</td>\n",
       "      <td>Minor injury to lower leg</td>\n",
       "      <td>N</td>\n",
       "      <td>NaN</td>\n",
       "      <td>2 m shark</td>\n",
       "      <td>B. Myatt, GSAF</td>\n",
       "      <td>2018.06.08-Arrawarra.pdf</td>\n",
       "      <td>http://sharkattackfile.net/spreadsheets/pdf_di...</td>\n",
       "      <td>http://sharkattackfile.net/spreadsheets/pdf_di...</td>\n",
       "      <td>2018.06.08</td>\n",
       "      <td>2018.06.08</td>\n",
       "      <td>6300.0</td>\n",
       "      <td>NaN</td>\n",
       "      <td>NaN</td>\n",
       "    </tr>\n",
       "    <tr>\n",
       "      <th>4</th>\n",
       "      <td>2018.06.04</td>\n",
       "      <td>04-Jun-2018</td>\n",
       "      <td>2018.0</td>\n",
       "      <td>Provoked</td>\n",
       "      <td>MEXICO</td>\n",
       "      <td>Colima</td>\n",
       "      <td>La Ticla</td>\n",
       "      <td>Free diving</td>\n",
       "      <td>Gustavo Ramos</td>\n",
       "      <td>M</td>\n",
       "      <td>NaN</td>\n",
       "      <td>Lacerations to leg &amp; hand shark PROVOKED INCIDENT</td>\n",
       "      <td>N</td>\n",
       "      <td>NaN</td>\n",
       "      <td>Tiger shark, 3m</td>\n",
       "      <td>A .Kipper</td>\n",
       "      <td>2018.06.04-Ramos.pdf</td>\n",
       "      <td>http://sharkattackfile.net/spreadsheets/pdf_di...</td>\n",
       "      <td>http://sharkattackfile.net/spreadsheets/pdf_di...</td>\n",
       "      <td>2018.06.04</td>\n",
       "      <td>2018.06.04</td>\n",
       "      <td>6299.0</td>\n",
       "      <td>NaN</td>\n",
       "      <td>NaN</td>\n",
       "    </tr>\n",
       "  </tbody>\n",
       "</table>\n",
       "</div>"
      ],
      "text/plain": [
       "  Case Number         Date    Year        Type    Country             Area  \\\n",
       "0  2018.06.25  25-Jun-2018  2018.0     Boating        USA       California   \n",
       "1  2018.06.18  18-Jun-2018  2018.0  Unprovoked        USA          Georgia   \n",
       "2  2018.06.09  09-Jun-2018  2018.0     Invalid        USA           Hawaii   \n",
       "3  2018.06.08  08-Jun-2018  2018.0  Unprovoked  AUSTRALIA  New South Wales   \n",
       "4  2018.06.04  04-Jun-2018  2018.0    Provoked     MEXICO           Colima   \n",
       "\n",
       "                         Location     Activity             Name Sex   Age  \\\n",
       "0     Oceanside, San Diego County     Paddling      Julie Wolfe    F   57   \n",
       "1  St. Simon Island, Glynn County     Standing  Adyson McNeely     F   11   \n",
       "2                    Habush, Oahu      Surfing      John Denges    M   48   \n",
       "3              Arrawarra Headland      Surfing             male    M  NaN   \n",
       "4                        La Ticla  Free diving   Gustavo Ramos     M  NaN   \n",
       "\n",
       "                                              Injury Fatal (Y/N)  \\\n",
       "0  No injury to occupant, outrigger canoe and pad...           N   \n",
       "1                         Minor injury to left thigh           N   \n",
       "2       Injury to left lower leg from surfboard skeg           N   \n",
       "3                          Minor injury to lower leg           N   \n",
       "4  Lacerations to leg & hand shark PROVOKED INCIDENT           N   \n",
       "\n",
       "            Time         Species           Investigator or Source  \\\n",
       "0          18h00      White shark                R. Collier, GSAF   \n",
       "1  14h00  -15h00              NaN  K.McMurray, TrackingSharks.com   \n",
       "2          07h45              NaN  K.McMurray, TrackingSharks.com   \n",
       "3            NaN        2 m shark                  B. Myatt, GSAF   \n",
       "4            NaN  Tiger shark, 3m                       A .Kipper   \n",
       "\n",
       "                        pdf  \\\n",
       "0      2018.06.25-Wolfe.pdf   \n",
       "1    2018.06.18-McNeely.pdf   \n",
       "2     2018.06.09-Denges.pdf   \n",
       "3  2018.06.08-Arrawarra.pdf   \n",
       "4      2018.06.04-Ramos.pdf   \n",
       "\n",
       "                                        href formula  \\\n",
       "0  http://sharkattackfile.net/spreadsheets/pdf_di...   \n",
       "1  http://sharkattackfile.net/spreadsheets/pdf_di...   \n",
       "2  http://sharkattackfile.net/spreadsheets/pdf_di...   \n",
       "3  http://sharkattackfile.net/spreadsheets/pdf_di...   \n",
       "4  http://sharkattackfile.net/spreadsheets/pdf_di...   \n",
       "\n",
       "                                                href Case Number.1  \\\n",
       "0  http://sharkattackfile.net/spreadsheets/pdf_di...    2018.06.25   \n",
       "1  http://sharkattackfile.net/spreadsheets/pdf_di...    2018.06.18   \n",
       "2  http://sharkattackfile.net/spreadsheets/pdf_di...    2018.06.09   \n",
       "3  http://sharkattackfile.net/spreadsheets/pdf_di...    2018.06.08   \n",
       "4  http://sharkattackfile.net/spreadsheets/pdf_di...    2018.06.04   \n",
       "\n",
       "  Case Number.2  original order Unnamed: 22 Unnamed: 23  \n",
       "0    2018.06.25          6303.0         NaN         NaN  \n",
       "1    2018.06.18          6302.0         NaN         NaN  \n",
       "2    2018.06.09          6301.0         NaN         NaN  \n",
       "3    2018.06.08          6300.0         NaN         NaN  \n",
       "4    2018.06.04          6299.0         NaN         NaN  "
      ]
     },
     "execution_count": 3,
     "metadata": {},
     "output_type": "execute_result"
    }
   ],
   "source": [
    "data_original.head()"
   ]
  },
  {
   "cell_type": "code",
   "execution_count": 4,
   "id": "5e8dcc81",
   "metadata": {},
   "outputs": [],
   "source": [
    "data = data_original.copy()"
   ]
  },
  {
   "cell_type": "code",
   "execution_count": 5,
   "id": "e4fd3a29",
   "metadata": {},
   "outputs": [
    {
     "data": {
      "text/plain": [
       "(25723, 24)"
      ]
     },
     "execution_count": 5,
     "metadata": {},
     "output_type": "execute_result"
    }
   ],
   "source": [
    "data.shape"
   ]
  },
  {
   "cell_type": "code",
   "execution_count": 6,
   "id": "405b6ca2",
   "metadata": {},
   "outputs": [
    {
     "name": "stdout",
     "output_type": "stream",
     "text": [
      "<class 'pandas.core.frame.DataFrame'>\n",
      "RangeIndex: 25723 entries, 0 to 25722\n",
      "Data columns (total 24 columns):\n",
      " #   Column                  Non-Null Count  Dtype  \n",
      "---  ------                  --------------  -----  \n",
      " 0   Case Number             8702 non-null   object \n",
      " 1   Date                    6302 non-null   object \n",
      " 2   Year                    6300 non-null   float64\n",
      " 3   Type                    6298 non-null   object \n",
      " 4   Country                 6252 non-null   object \n",
      " 5   Area                    5847 non-null   object \n",
      " 6   Location                5762 non-null   object \n",
      " 7   Activity                5758 non-null   object \n",
      " 8   Name                    6092 non-null   object \n",
      " 9   Sex                     5737 non-null   object \n",
      " 10  Age                     3471 non-null   object \n",
      " 11  Injury                  6274 non-null   object \n",
      " 12  Fatal (Y/N)             5763 non-null   object \n",
      " 13  Time                    2948 non-null   object \n",
      " 14  Species                 3464 non-null   object \n",
      " 15  Investigator or Source  6285 non-null   object \n",
      " 16  pdf                     6302 non-null   object \n",
      " 17  href formula            6301 non-null   object \n",
      " 18  href                    6302 non-null   object \n",
      " 19  Case Number.1           6302 non-null   object \n",
      " 20  Case Number.2           6302 non-null   object \n",
      " 21  original order          6309 non-null   float64\n",
      " 22  Unnamed: 22             1 non-null      object \n",
      " 23  Unnamed: 23             2 non-null      object \n",
      "dtypes: float64(2), object(22)\n",
      "memory usage: 22.8 MB\n"
     ]
    }
   ],
   "source": [
    "data.info(memory_usage='deep')"
   ]
  },
  {
   "cell_type": "code",
   "execution_count": 7,
   "id": "305ad9f1",
   "metadata": {},
   "outputs": [
    {
     "data": {
      "text/plain": [
       "19411"
      ]
     },
     "execution_count": 7,
     "metadata": {},
     "output_type": "execute_result"
    }
   ],
   "source": [
    "duplicados = data[data.duplicated()] #borramos las filas publicadas\n",
    "len(duplicados)"
   ]
  },
  {
   "cell_type": "code",
   "execution_count": 8,
   "id": "e3fcc04d",
   "metadata": {},
   "outputs": [
    {
     "data": {
      "text/plain": [
       "(6312, 24)"
      ]
     },
     "execution_count": 8,
     "metadata": {},
     "output_type": "execute_result"
    }
   ],
   "source": [
    "data = data.drop_duplicates() #tenemos un nuevo DF con 19.411 filas borradas\n",
    "data.shape"
   ]
  },
  {
   "cell_type": "code",
   "execution_count": 9,
   "id": "aca6db0c",
   "metadata": {},
   "outputs": [
    {
     "data": {
      "text/plain": [
       "Case Number                  2\n",
       "Date                        10\n",
       "Year                        12\n",
       "Type                        14\n",
       "Country                     60\n",
       "Area                       465\n",
       "Location                   550\n",
       "Activity                   554\n",
       "Name                       220\n",
       "Sex                        575\n",
       "Age                       2841\n",
       "Injury                      38\n",
       "Fatal (Y/N)                549\n",
       "Time                      3364\n",
       "Species                   2848\n",
       "Investigator or Source      27\n",
       "pdf                         10\n",
       "href formula                11\n",
       "href                        10\n",
       "Case Number.1               10\n",
       "Case Number.2               10\n",
       "original order               3\n",
       "Unnamed: 22               6311\n",
       "Unnamed: 23               6310\n",
       "dtype: int64"
      ]
     },
     "execution_count": 9,
     "metadata": {},
     "output_type": "execute_result"
    }
   ],
   "source": [
    "data.isna().sum()"
   ]
  },
  {
   "cell_type": "code",
   "execution_count": 10,
   "id": "123890a0",
   "metadata": {},
   "outputs": [],
   "source": [
    "data.reset_index(drop=True, inplace=True)\n",
    "filas_de_nulos = data.isna().mean(axis=1) > 0.6"
   ]
  },
  {
   "cell_type": "code",
   "execution_count": 11,
   "id": "50c1f96c",
   "metadata": {},
   "outputs": [
    {
     "data": {
      "text/plain": [
       "(10, 24)"
      ]
     },
     "execution_count": 11,
     "metadata": {},
     "output_type": "execute_result"
    }
   ],
   "source": [
    "data[filas_de_nulos].shape #solo hay 10 filas con nulos. no borramos por no ser significativo"
   ]
  },
  {
   "cell_type": "code",
   "execution_count": 12,
   "id": "30b12d50",
   "metadata": {},
   "outputs": [
    {
     "data": {
      "text/plain": [
       "Index(['Case Number', 'Date', 'Year', 'Type', 'Country', 'Area', 'Location',\n",
       "       'Activity', 'Name', 'Sex ', 'Age', 'Injury', 'Fatal (Y/N)', 'Time',\n",
       "       'Species ', 'Investigator or Source', 'pdf', 'href formula', 'href',\n",
       "       'Case Number.1', 'Case Number.2', 'original order', 'Unnamed: 22',\n",
       "       'Unnamed: 23'],\n",
       "      dtype='object')"
      ]
     },
     "execution_count": 12,
     "metadata": {},
     "output_type": "execute_result"
    }
   ],
   "source": [
    "data.columns"
   ]
  },
  {
   "cell_type": "code",
   "execution_count": 13,
   "id": "07ec9aa3",
   "metadata": {},
   "outputs": [],
   "source": [
    "data.columns = [c.lower().strip().replace(' ', '_') for c in data.columns]"
   ]
  },
  {
   "cell_type": "code",
   "execution_count": 14,
   "id": "299d5abb",
   "metadata": {},
   "outputs": [
    {
     "data": {
      "text/plain": [
       "Index(['case_number', 'date', 'year', 'type', 'country', 'area', 'location',\n",
       "       'activity', 'name', 'sex', 'age', 'injury', 'fatal_(y/n)', 'time',\n",
       "       'species', 'investigator_or_source', 'pdf', 'href_formula', 'href',\n",
       "       'case_number.1', 'case_number.2', 'original_order', 'unnamed:_22',\n",
       "       'unnamed:_23'],\n",
       "      dtype='object')"
      ]
     },
     "execution_count": 14,
     "metadata": {},
     "output_type": "execute_result"
    }
   ],
   "source": [
    "data.columns"
   ]
  },
  {
   "cell_type": "markdown",
   "id": "98eac438",
   "metadata": {},
   "source": [
    "# Case Number"
   ]
  },
  {
   "cell_type": "code",
   "execution_count": 15,
   "id": "cf9062f5",
   "metadata": {},
   "outputs": [
    {
     "data": {
      "text/plain": [
       "0               8\n",
       "1920.00.00.b    2\n",
       "1966.12.26      2\n",
       "2014.08.02      2\n",
       "1990.05.10      2\n",
       "               ..\n",
       "1999.09.05      1\n",
       "1999.09.10      1\n",
       "1999.09.16      1\n",
       "1999.09.18      1\n",
       "xx              1\n",
       "Name: case_number, Length: 6287, dtype: int64"
      ]
     },
     "execution_count": 15,
     "metadata": {},
     "output_type": "execute_result"
    }
   ],
   "source": [
    "data.case_number.value_counts()"
   ]
  },
  {
   "cell_type": "code",
   "execution_count": 16,
   "id": "e1f8a82f",
   "metadata": {},
   "outputs": [],
   "source": [
    "data.case_number = data.case_number.str.strip()"
   ]
  },
  {
   "cell_type": "code",
   "execution_count": 17,
   "id": "5b1cde2e",
   "metadata": {},
   "outputs": [],
   "source": [
    "def filtrar_fechas(texto):\n",
    "    # Definir el patrón de fecha: año.mes.día\n",
    "    texto = str(texto)\n",
    "    patron_fecha = r'\\b\\d{4}\\.\\d{2}\\.\\d{2}\\b'\n",
    "    \n",
    "    \n",
    "    \n",
    "    # Buscar todas las fechas que coincidan con el patrón en el texto\n",
    "    fechas = re.findall(patron_fecha, texto)\n",
    "\n",
    "    # Unir todas las fechas encontradas en una sola cadena de texto\n",
    "    fechas_string = ' '.join(fechas) \n",
    "\n",
    "    \n",
    "    return fechas_string"
   ]
  },
  {
   "cell_type": "code",
   "execution_count": 18,
   "id": "246c9f83",
   "metadata": {},
   "outputs": [],
   "source": [
    "data.case_number = data.case_number.apply(filtrar_fechas) #aplicamos la función anterior y corregimos fechas"
   ]
  },
  {
   "cell_type": "code",
   "execution_count": 19,
   "id": "5d83c181",
   "metadata": {},
   "outputs": [
    {
     "data": {
      "text/plain": [
       "              142\n",
       "1950.00.00     13\n",
       "1942.00.00     11\n",
       "1957.00.00     11\n",
       "1960.00.00     10\n",
       "             ... \n",
       "1995.06.23      1\n",
       "1995.06.24      1\n",
       "1995.06.30      1\n",
       "1995.07.00      1\n",
       "0005.00.00      1\n",
       "Name: case_number, Length: 5200, dtype: int64"
      ]
     },
     "execution_count": 19,
     "metadata": {},
     "output_type": "execute_result"
    }
   ],
   "source": [
    "data.case_number.value_counts()"
   ]
  },
  {
   "cell_type": "code",
   "execution_count": 20,
   "id": "d96da492",
   "metadata": {},
   "outputs": [],
   "source": [
    "#todo lo que venga con fechas anteriores a 1970 lo eliminamos. \n",
    "#No vamos a trabajar con fecha anteriores a los último 50 años\n",
    "def filtrar_fechas2(texto):\n",
    "    pattern = r'(\\d{4})\\.(\\d{2})\\.(\\d{2})'\n",
    "    match = re.search(pattern, texto)\n",
    "    if match:\n",
    "        year, month, day = match.groups()\n",
    "        if int(year) < 1970:\n",
    "            return np.nan\n",
    "        if month == '00':\n",
    "            month = '01'\n",
    "        if day == '00':\n",
    "            day = '01'\n",
    "        return f'{year}.{month}.{day}'\n",
    "    else:\n",
    "        return np.nan\n"
   ]
  },
  {
   "cell_type": "code",
   "execution_count": 21,
   "id": "88df1f35",
   "metadata": {},
   "outputs": [],
   "source": [
    "data.case_number = data.case_number.apply(filtrar_fechas2)"
   ]
  },
  {
   "cell_type": "code",
   "execution_count": 22,
   "id": "7ffb325e",
   "metadata": {},
   "outputs": [
    {
     "data": {
      "text/plain": [
       "1970.01.01    9\n",
       "1972.01.01    5\n",
       "2003.10.05    5\n",
       "1995.07.28    5\n",
       "2001.04.12    5\n",
       "             ..\n",
       "2007.12.09    1\n",
       "2007.12.07    1\n",
       "2007.11.18    1\n",
       "2007.11.08    1\n",
       "2003.10.14    1\n",
       "Name: case_number, Length: 2821, dtype: int64"
      ]
     },
     "execution_count": 22,
     "metadata": {},
     "output_type": "execute_result"
    }
   ],
   "source": [
    "data.case_number.value_counts()"
   ]
  },
  {
   "cell_type": "code",
   "execution_count": 23,
   "id": "1ad63a16",
   "metadata": {},
   "outputs": [],
   "source": [
    "data.case_number = pd.to_datetime(data.case_number,format='%Y-%m-%d')"
   ]
  },
  {
   "cell_type": "code",
   "execution_count": 24,
   "id": "86d0f2d2",
   "metadata": {},
   "outputs": [
    {
     "data": {
      "text/plain": [
       "0   2018-06-25\n",
       "1   2018-06-18\n",
       "2   2018-06-09\n",
       "3   2018-06-08\n",
       "4   2018-06-04\n",
       "Name: case_number, dtype: datetime64[ns]"
      ]
     },
     "execution_count": 24,
     "metadata": {},
     "output_type": "execute_result"
    }
   ],
   "source": [
    "data.case_number.head()"
   ]
  },
  {
   "cell_type": "markdown",
   "id": "0755650f",
   "metadata": {},
   "source": [
    "# Date"
   ]
  },
  {
   "cell_type": "code",
   "execution_count": 25,
   "id": "607a2a6e",
   "metadata": {},
   "outputs": [
    {
     "data": {
      "text/plain": [
       "1957                          11\n",
       "1942                           9\n",
       "1956                           8\n",
       "1958                           7\n",
       "1950                           7\n",
       "                              ..\n",
       "01-Dec-1994                    1\n",
       "Reported      10-Dec-1994      1\n",
       "11-Dec-1994                    1\n",
       "13-Dec-1994                    1\n",
       "1845-1853                      1\n",
       "Name: date, Length: 5433, dtype: int64"
      ]
     },
     "execution_count": 25,
     "metadata": {},
     "output_type": "execute_result"
    }
   ],
   "source": [
    "data.date.value_counts()"
   ]
  },
  {
   "cell_type": "code",
   "execution_count": 26,
   "id": "d3693769",
   "metadata": {},
   "outputs": [],
   "source": [
    "data.date = data.date.str.strip()\n",
    "data.date = data.date.str.lstrip('Reported ')"
   ]
  },
  {
   "cell_type": "code",
   "execution_count": 27,
   "id": "d819053c",
   "metadata": {},
   "outputs": [],
   "source": [
    "data.date = pd.to_datetime(data.date,errors='coerce',format='%Y-%m-%d')"
   ]
  },
  {
   "cell_type": "code",
   "execution_count": 28,
   "id": "5511d7c2",
   "metadata": {},
   "outputs": [
    {
     "data": {
      "text/plain": [
       "True     6020\n",
       "False     292\n",
       "Name: date, dtype: int64"
      ]
     },
     "execution_count": 28,
     "metadata": {},
     "output_type": "execute_result"
    }
   ],
   "source": [
    "data.date.isnull().value_counts()"
   ]
  },
  {
   "cell_type": "code",
   "execution_count": 29,
   "id": "d7cffa9c",
   "metadata": {},
   "outputs": [
    {
     "data": {
      "text/plain": [
       "1957-01-01    11\n",
       "1942-01-01     9\n",
       "1956-01-01     8\n",
       "1950-01-01     7\n",
       "1958-01-01     7\n",
       "              ..\n",
       "1918-01-01     1\n",
       "1919-01-01     1\n",
       "1925-01-01     1\n",
       "1932-01-01     1\n",
       "1723-01-01     1\n",
       "Name: date, Length: 133, dtype: int64"
      ]
     },
     "execution_count": 29,
     "metadata": {},
     "output_type": "execute_result"
    }
   ],
   "source": [
    "data.date.value_counts()"
   ]
  },
  {
   "cell_type": "code",
   "execution_count": 30,
   "id": "c27c377d",
   "metadata": {},
   "outputs": [
    {
     "data": {
      "text/html": [
       "<div>\n",
       "<style scoped>\n",
       "    .dataframe tbody tr th:only-of-type {\n",
       "        vertical-align: middle;\n",
       "    }\n",
       "\n",
       "    .dataframe tbody tr th {\n",
       "        vertical-align: top;\n",
       "    }\n",
       "\n",
       "    .dataframe thead th {\n",
       "        text-align: right;\n",
       "    }\n",
       "</style>\n",
       "<table border=\"1\" class=\"dataframe\">\n",
       "  <thead>\n",
       "    <tr style=\"text-align: right;\">\n",
       "      <th></th>\n",
       "      <th>case_number</th>\n",
       "      <th>date</th>\n",
       "    </tr>\n",
       "  </thead>\n",
       "  <tbody>\n",
       "    <tr>\n",
       "      <th>0</th>\n",
       "      <td>2018-06-25</td>\n",
       "      <td>NaT</td>\n",
       "    </tr>\n",
       "    <tr>\n",
       "      <th>1</th>\n",
       "      <td>2018-06-18</td>\n",
       "      <td>NaT</td>\n",
       "    </tr>\n",
       "    <tr>\n",
       "      <th>2</th>\n",
       "      <td>2018-06-09</td>\n",
       "      <td>NaT</td>\n",
       "    </tr>\n",
       "    <tr>\n",
       "      <th>3</th>\n",
       "      <td>2018-06-08</td>\n",
       "      <td>NaT</td>\n",
       "    </tr>\n",
       "    <tr>\n",
       "      <th>4</th>\n",
       "      <td>2018-06-04</td>\n",
       "      <td>NaT</td>\n",
       "    </tr>\n",
       "    <tr>\n",
       "      <th>5</th>\n",
       "      <td>2018-06-03</td>\n",
       "      <td>NaT</td>\n",
       "    </tr>\n",
       "    <tr>\n",
       "      <th>6</th>\n",
       "      <td>2018-06-03</td>\n",
       "      <td>NaT</td>\n",
       "    </tr>\n",
       "    <tr>\n",
       "      <th>7</th>\n",
       "      <td>2018-05-27</td>\n",
       "      <td>NaT</td>\n",
       "    </tr>\n",
       "    <tr>\n",
       "      <th>8</th>\n",
       "      <td>2018-05-26</td>\n",
       "      <td>NaT</td>\n",
       "    </tr>\n",
       "    <tr>\n",
       "      <th>9</th>\n",
       "      <td>2018-05-26</td>\n",
       "      <td>NaT</td>\n",
       "    </tr>\n",
       "    <tr>\n",
       "      <th>10</th>\n",
       "      <td>2018-05-24</td>\n",
       "      <td>NaT</td>\n",
       "    </tr>\n",
       "    <tr>\n",
       "      <th>11</th>\n",
       "      <td>2018-05-21</td>\n",
       "      <td>NaT</td>\n",
       "    </tr>\n",
       "    <tr>\n",
       "      <th>12</th>\n",
       "      <td>2018-05-13</td>\n",
       "      <td>NaT</td>\n",
       "    </tr>\n",
       "    <tr>\n",
       "      <th>13</th>\n",
       "      <td>2018-05-13</td>\n",
       "      <td>NaT</td>\n",
       "    </tr>\n",
       "    <tr>\n",
       "      <th>14</th>\n",
       "      <td>2018-05-01</td>\n",
       "      <td>NaT</td>\n",
       "    </tr>\n",
       "  </tbody>\n",
       "</table>\n",
       "</div>"
      ],
      "text/plain": [
       "   case_number date\n",
       "0   2018-06-25  NaT\n",
       "1   2018-06-18  NaT\n",
       "2   2018-06-09  NaT\n",
       "3   2018-06-08  NaT\n",
       "4   2018-06-04  NaT\n",
       "5   2018-06-03  NaT\n",
       "6   2018-06-03  NaT\n",
       "7   2018-05-27  NaT\n",
       "8   2018-05-26  NaT\n",
       "9   2018-05-26  NaT\n",
       "10  2018-05-24  NaT\n",
       "11  2018-05-21  NaT\n",
       "12  2018-05-13  NaT\n",
       "13  2018-05-13  NaT\n",
       "14  2018-05-01  NaT"
      ]
     },
     "execution_count": 30,
     "metadata": {},
     "output_type": "execute_result"
    }
   ],
   "source": [
    "data[['case_number','date']].head(15)"
   ]
  },
  {
   "cell_type": "code",
   "execution_count": 31,
   "id": "4bc3c7f1",
   "metadata": {},
   "outputs": [],
   "source": [
    "indice_nulos = data[data.case_number.isna()].index\n",
    "data.loc[indice_nulos,'case_number'] = data.loc[indice_nulos,'date']"
   ]
  },
  {
   "cell_type": "code",
   "execution_count": 32,
   "id": "d6c3d303",
   "metadata": {},
   "outputs": [
    {
     "data": {
      "text/plain": [
       "False    3650\n",
       "True     2662\n",
       "Name: case_number, dtype: int64"
      ]
     },
     "execution_count": 32,
     "metadata": {},
     "output_type": "execute_result"
    }
   ],
   "source": [
    "data.case_number.isnull().value_counts()"
   ]
  },
  {
   "cell_type": "code",
   "execution_count": 33,
   "id": "301fbe1b",
   "metadata": {},
   "outputs": [],
   "source": [
    "data.date = data.case_number\n",
    "data['case_number.1'] = data.case_number\n",
    "data['case_number.2'] = data.case_number"
   ]
  },
  {
   "cell_type": "markdown",
   "id": "aaadf73f",
   "metadata": {},
   "source": [
    "# Type"
   ]
  },
  {
   "cell_type": "code",
   "execution_count": 34,
   "id": "c43263c9",
   "metadata": {},
   "outputs": [
    {
     "data": {
      "text/plain": [
       "Unprovoked      4595\n",
       "Provoked         574\n",
       "Invalid          547\n",
       "Sea Disaster     239\n",
       "Boating          203\n",
       "Boat             137\n",
       "Questionable       2\n",
       "Boatomg            1\n",
       "Name: type, dtype: int64"
      ]
     },
     "execution_count": 34,
     "metadata": {},
     "output_type": "execute_result"
    }
   ],
   "source": [
    "data.type.value_counts()"
   ]
  },
  {
   "cell_type": "code",
   "execution_count": 35,
   "id": "7604cc7f",
   "metadata": {},
   "outputs": [],
   "source": [
    "data.type = data.type.str.replace('Boatomg', 'Boat')"
   ]
  },
  {
   "cell_type": "code",
   "execution_count": 36,
   "id": "e30ce9d5",
   "metadata": {},
   "outputs": [],
   "source": [
    "data.type = data.type.str.replace('Boating', 'Boat')"
   ]
  },
  {
   "cell_type": "code",
   "execution_count": 37,
   "id": "4e0bfa86",
   "metadata": {},
   "outputs": [],
   "source": [
    "data.type = data.type.str.replace('Questionable', 'Other')"
   ]
  },
  {
   "cell_type": "code",
   "execution_count": 38,
   "id": "7218b8cf",
   "metadata": {},
   "outputs": [],
   "source": [
    "data.type = data.type.str.replace('Invalid', 'Other')"
   ]
  },
  {
   "cell_type": "code",
   "execution_count": 90,
   "id": "d3f96f0b",
   "metadata": {},
   "outputs": [],
   "source": [
    "data.type = data.type.str.upper()"
   ]
  },
  {
   "cell_type": "code",
   "execution_count": 39,
   "id": "dfa8a3fd",
   "metadata": {},
   "outputs": [
    {
     "data": {
      "text/plain": [
       "Unprovoked      4595\n",
       "Provoked         574\n",
       "Other            549\n",
       "Boat             341\n",
       "Sea Disaster     239\n",
       "Name: type, dtype: int64"
      ]
     },
     "execution_count": 39,
     "metadata": {},
     "output_type": "execute_result"
    }
   ],
   "source": [
    "data.type.value_counts()"
   ]
  },
  {
   "cell_type": "markdown",
   "id": "89063caf",
   "metadata": {},
   "source": [
    "# Country"
   ]
  },
  {
   "cell_type": "code",
   "execution_count": 40,
   "id": "f19dae13",
   "metadata": {},
   "outputs": [
    {
     "data": {
      "text/plain": [
       "213"
      ]
     },
     "execution_count": 40,
     "metadata": {},
     "output_type": "execute_result"
    }
   ],
   "source": [
    "len(data.country.unique())"
   ]
  },
  {
   "cell_type": "code",
   "execution_count": 41,
   "id": "dd863d87",
   "metadata": {},
   "outputs": [
    {
     "data": {
      "text/plain": [
       "188"
      ]
     },
     "execution_count": 41,
     "metadata": {},
     "output_type": "execute_result"
    }
   ],
   "source": [
    "data.country = data.country.str.upper()\n",
    "data.country = data.country.str.replace(r'[(\\)\\-\\?]+', ' ')\n",
    "data.country = data.country.str.replace('CEYLON  ','')\n",
    "data.country = data.country.replace(['NORTH SEA', 'RED SEA / INDIAN OCEAN', 'BRITISH WEST INDIES', 'ASIA', 'COAST OF AFRICA', 'WEST INDIES', 'CENTRAL PACIFIC', 'RED SEA', 'MID ATLANTIC OCEAN', 'SOUTH PACIFIC OCEAN', 'BETWEEN PORTUGAL & INDIA', 'MEDITERRANEAN SEA'], np.nan)\n",
    "data.country = data.country.str.strip()\n",
    "len(data.country.unique())"
   ]
  },
  {
   "cell_type": "code",
   "execution_count": 42,
   "id": "82378471",
   "metadata": {},
   "outputs": [
    {
     "data": {
      "text/plain": [
       "USA                           2229\n",
       "AUSTRALIA                     1338\n",
       "SOUTH AFRICA                   579\n",
       "PAPUA NEW GUINEA               134\n",
       "NEW ZEALAND                    128\n",
       "                              ... \n",
       "MAYOTTE                          1\n",
       "GABON                            1\n",
       "ANDAMAN / NICOBAR ISLANDAS       1\n",
       "MALDIVE ISLANDS                  1\n",
       "ASIA                             1\n",
       "Name: country, Length: 187, dtype: int64"
      ]
     },
     "execution_count": 42,
     "metadata": {},
     "output_type": "execute_result"
    }
   ],
   "source": [
    "data.country.value_counts()"
   ]
  },
  {
   "cell_type": "markdown",
   "id": "d6d9128c",
   "metadata": {},
   "source": [
    "# Area"
   ]
  },
  {
   "cell_type": "code",
   "execution_count": 43,
   "id": "d0850f94",
   "metadata": {},
   "outputs": [
    {
     "data": {
      "text/plain": [
       "826"
      ]
     },
     "execution_count": 43,
     "metadata": {},
     "output_type": "execute_result"
    }
   ],
   "source": [
    "len(data.area.unique())"
   ]
  },
  {
   "cell_type": "code",
   "execution_count": 44,
   "id": "2b37cf99",
   "metadata": {},
   "outputs": [],
   "source": [
    "data.area = data.area.str.upper()\n",
    "data.area = data.area.str.strip()"
   ]
  },
  {
   "cell_type": "code",
   "execution_count": 45,
   "id": "87796ee4",
   "metadata": {},
   "outputs": [
    {
     "data": {
      "text/plain": [
       "FLORIDA                     1038\n",
       "NEW SOUTH WALES              486\n",
       "QUEENSLAND                   312\n",
       "HAWAII                       298\n",
       "CALIFORNIA                   290\n",
       "                            ... \n",
       "REGGIO CALABRIA PROVINCE       1\n",
       "GENOA PROVINCE                 1\n",
       "GANGES-BRAHMAPUTRA DELTA       1\n",
       "AULONG ISLAND                  1\n",
       "MOALA ISLAND                   1\n",
       "Name: area, Length: 801, dtype: int64"
      ]
     },
     "execution_count": 45,
     "metadata": {},
     "output_type": "execute_result"
    }
   ],
   "source": [
    "data.area.value_counts()"
   ]
  },
  {
   "cell_type": "markdown",
   "id": "d5949bea",
   "metadata": {},
   "source": [
    "# Year"
   ]
  },
  {
   "cell_type": "code",
   "execution_count": 46,
   "id": "cbe4e9d4",
   "metadata": {},
   "outputs": [
    {
     "data": {
      "text/plain": [
       "250"
      ]
     },
     "execution_count": 46,
     "metadata": {},
     "output_type": "execute_result"
    }
   ],
   "source": [
    "len(data.year.unique())"
   ]
  },
  {
   "cell_type": "code",
   "execution_count": 47,
   "id": "1c9da023",
   "metadata": {},
   "outputs": [
    {
     "data": {
      "text/plain": [
       "2015.0    143\n",
       "2017.0    136\n",
       "2016.0    130\n",
       "2011.0    128\n",
       "2014.0    127\n",
       "         ... \n",
       "1786.0      1\n",
       "1785.0      1\n",
       "1784.0      1\n",
       "1783.0      1\n",
       "1815.0      1\n",
       "Name: year, Length: 249, dtype: int64"
      ]
     },
     "execution_count": 47,
     "metadata": {},
     "output_type": "execute_result"
    }
   ],
   "source": [
    "data.year.value_counts()"
   ]
  },
  {
   "cell_type": "code",
   "execution_count": 48,
   "id": "9a51a229",
   "metadata": {},
   "outputs": [
    {
     "data": {
      "text/plain": [
       "False    6300\n",
       "True       12\n",
       "Name: year, dtype: int64"
      ]
     },
     "execution_count": 48,
     "metadata": {},
     "output_type": "execute_result"
    }
   ],
   "source": [
    "data.year.isnull().value_counts()"
   ]
  },
  {
   "cell_type": "markdown",
   "id": "c6a9c254",
   "metadata": {},
   "source": [
    "# Fatal"
   ]
  },
  {
   "cell_type": "code",
   "execution_count": 49,
   "id": "228d2824",
   "metadata": {},
   "outputs": [
    {
     "data": {
      "text/plain": [
       "N          4293\n",
       "Y          1388\n",
       "UNKNOWN      71\n",
       " N            7\n",
       "M             1\n",
       "2017          1\n",
       "N             1\n",
       "y             1\n",
       "Name: fatal_(y/n), dtype: int64"
      ]
     },
     "execution_count": 49,
     "metadata": {},
     "output_type": "execute_result"
    }
   ],
   "source": [
    "data['fatal_(y/n)'].value_counts()"
   ]
  },
  {
   "cell_type": "code",
   "execution_count": 50,
   "id": "adca67f9",
   "metadata": {},
   "outputs": [],
   "source": [
    "data['fatal_(y/n)'] = data['fatal_(y/n)'].str.strip()"
   ]
  },
  {
   "cell_type": "code",
   "execution_count": 51,
   "id": "7227e027",
   "metadata": {},
   "outputs": [
    {
     "data": {
      "text/plain": [
       "N          4301\n",
       "Y          1388\n",
       "UNKNOWN      71\n",
       "M             1\n",
       "2017          1\n",
       "y             1\n",
       "Name: fatal_(y/n), dtype: int64"
      ]
     },
     "execution_count": 51,
     "metadata": {},
     "output_type": "execute_result"
    }
   ],
   "source": [
    "data['fatal_(y/n)'].value_counts()"
   ]
  },
  {
   "cell_type": "code",
   "execution_count": 52,
   "id": "b599cd63",
   "metadata": {},
   "outputs": [],
   "source": [
    "data['fatal_(y/n)'].replace(['M','2017','UNKNOWN','y'], np.nan, inplace=True)"
   ]
  },
  {
   "cell_type": "code",
   "execution_count": 53,
   "id": "ba30e995",
   "metadata": {},
   "outputs": [],
   "source": [
    "data['fatal_(y/n)'].replace(['N'], 0, inplace=True)\n",
    "data['fatal_(y/n)'].replace(['Y'], 1, inplace=True)"
   ]
  },
  {
   "cell_type": "code",
   "execution_count": 54,
   "id": "16525745",
   "metadata": {},
   "outputs": [
    {
     "data": {
      "text/plain": [
       "0.0    4301\n",
       "1.0    1388\n",
       "Name: fatal_(y/n), dtype: int64"
      ]
     },
     "execution_count": 54,
     "metadata": {},
     "output_type": "execute_result"
    }
   ],
   "source": [
    "data['fatal_(y/n)'].value_counts()"
   ]
  },
  {
   "cell_type": "markdown",
   "id": "c92a6d13",
   "metadata": {},
   "source": [
    "# Sex"
   ]
  },
  {
   "cell_type": "code",
   "execution_count": 55,
   "id": "f76bf0b9",
   "metadata": {},
   "outputs": [
    {
     "data": {
      "text/plain": [
       "M      5094\n",
       "F       637\n",
       "M         2\n",
       "N         2\n",
       "lli       1\n",
       ".         1\n",
       "Name: sex, dtype: int64"
      ]
     },
     "execution_count": 55,
     "metadata": {},
     "output_type": "execute_result"
    }
   ],
   "source": [
    "data.sex.value_counts()"
   ]
  },
  {
   "cell_type": "code",
   "execution_count": 56,
   "id": "376ef62e",
   "metadata": {},
   "outputs": [
    {
     "data": {
      "text/plain": [
       "M    5096\n",
       "F     637\n",
       "Name: sex, dtype: int64"
      ]
     },
     "execution_count": 56,
     "metadata": {},
     "output_type": "execute_result"
    }
   ],
   "source": [
    "data.sex = data.sex.str.strip()\n",
    "data.sex.replace(['N','.','lli'],np.nan,inplace=True)\n",
    "data.sex.value_counts()"
   ]
  },
  {
   "cell_type": "markdown",
   "id": "93638d34",
   "metadata": {},
   "source": [
    "# Age"
   ]
  },
  {
   "cell_type": "code",
   "execution_count": 57,
   "id": "1f515fdc",
   "metadata": {},
   "outputs": [
    {
     "data": {
      "text/plain": [
       "17                154\n",
       "18                150\n",
       "19                142\n",
       "20                141\n",
       "15                139\n",
       "                 ... \n",
       "20?                 1\n",
       " 28                 1\n",
       "7      &    31      1\n",
       " 30                 1\n",
       "13 or 14            1\n",
       "Name: age, Length: 157, dtype: int64"
      ]
     },
     "execution_count": 57,
     "metadata": {},
     "output_type": "execute_result"
    }
   ],
   "source": [
    "data.age.value_counts()"
   ]
  },
  {
   "cell_type": "code",
   "execution_count": 58,
   "id": "9f2c7d1c",
   "metadata": {},
   "outputs": [
    {
     "data": {
      "text/plain": [
       "False    3471\n",
       "True     2841\n",
       "Name: age, dtype: int64"
      ]
     },
     "execution_count": 58,
     "metadata": {},
     "output_type": "execute_result"
    }
   ],
   "source": [
    "data.age.isnull().value_counts()"
   ]
  },
  {
   "cell_type": "code",
   "execution_count": 59,
   "id": "5ecaa388",
   "metadata": {},
   "outputs": [],
   "source": [
    "data.age = pd.to_numeric(data.age, errors='coerce')"
   ]
  },
  {
   "cell_type": "code",
   "execution_count": 60,
   "id": "6e801275",
   "metadata": {},
   "outputs": [
    {
     "data": {
      "text/plain": [
       "False    3369\n",
       "True     2943\n",
       "Name: age, dtype: int64"
      ]
     },
     "execution_count": 60,
     "metadata": {},
     "output_type": "execute_result"
    }
   ],
   "source": [
    "data.age.isnull().value_counts()"
   ]
  },
  {
   "cell_type": "markdown",
   "id": "3e019105",
   "metadata": {},
   "source": [
    "# Activity"
   ]
  },
  {
   "cell_type": "code",
   "execution_count": 61,
   "id": "72902c3e",
   "metadata": {},
   "outputs": [],
   "source": [
    "data.activity = data.activity.str.upper()\n",
    "data.activity = data.activity.str.strip()"
   ]
  },
  {
   "cell_type": "code",
   "execution_count": 62,
   "id": "4c8528a0",
   "metadata": {},
   "outputs": [
    {
     "data": {
      "text/plain": [
       "SURFING               976\n",
       "SWIMMING              916\n",
       "FISHING               444\n",
       "SPEARFISHING          340\n",
       "BATHING               165\n",
       "WADING                149\n",
       "DIVING                130\n",
       "STANDING              101\n",
       "SCUBA DIVING           91\n",
       "SNORKELING             89\n",
       "BODY BOARDING          65\n",
       "BODY SURFING           50\n",
       "BOOGIE BOARDING        45\n",
       "KAYAKING               35\n",
       "FELL OVERBOARD         33\n",
       "TREADING WATER         32\n",
       "PEARL DIVING           32\n",
       "FREE DIVING            30\n",
       "SURF SKIING            19\n",
       "WINDSURFING            19\n",
       "WALKING                17\n",
       "SHARK FISHING          16\n",
       "FLOATING               15\n",
       "ROWING                 14\n",
       "CANOEING               14\n",
       "KAYAK FISHING          14\n",
       "SEA DISASTER           14\n",
       "SURF-SKIING            12\n",
       "SURF FISHING           12\n",
       "FISHING FOR SHARKS     11\n",
       "Name: activity, dtype: int64"
      ]
     },
     "execution_count": 62,
     "metadata": {},
     "output_type": "execute_result"
    }
   ],
   "source": [
    "data.activity.value_counts().head(30)"
   ]
  },
  {
   "cell_type": "code",
   "execution_count": 63,
   "id": "902f6be8",
   "metadata": {},
   "outputs": [],
   "source": [
    "data.activity = data.activity.apply(lambda x: 'FISHING' if 'FISH' in str(x) else x)\n",
    "data.activity = data.activity.apply(lambda x: 'SURFING' if 'SURF' in str(x) else x)\n",
    "data.activity = data.activity.apply(lambda x: 'SURFING' if 'BODY' in str(x) else x)\n",
    "data.activity = data.activity.apply(lambda x: 'KAYAKING' if 'CANOE' in str(x) else x)\n",
    "data.activity = data.activity.apply(lambda x: 'SWIMMING' if 'SWIM' in str(x) else x)\n",
    "data.activity = data.activity.apply(lambda x: 'SCUBA DIVING' if 'DIVING' in str(x) else x)\n",
    "data.activity = data.activity.apply(lambda x: 'BOATING' if 'BOAT' in str(x) else x)\n",
    "data.activity = data.activity.apply(lambda x: 'BATHING' if 'TREADING WATER'  in str(x) else x)\n",
    "data.activity = data.activity.apply(lambda x: 'BOATING' if 'SAIL' in str(x) else x)\n",
    "data.activity = data.activity.apply(lambda x: 'PADDLE BOARDING' if 'PADDL'  in str(x) else x)\n",
    "data.activity = data.activity.apply(lambda x: 'SEA DISASTER' if 'DISASTER'  in str(x) else x)\n",
    "\n",
    "data.activity = data.activity.replace('BOOGIE BOARDING', 'SURFING')\n",
    "data.activity = data.activity.replace('ROWING', 'KAYAKING')\n",
    "data.activity = data.activity.replace('FELL OVERBOARD', 'FELL INTO THE WATER')"
   ]
  },
  {
   "cell_type": "code",
   "execution_count": 64,
   "id": "a78ccc06",
   "metadata": {},
   "outputs": [
    {
     "data": {
      "text/plain": [
       "SURFING         1347\n",
       "FISHING         1225\n",
       "SWIMMING        1091\n",
       "SCUBA DIVING     497\n",
       "BATHING          202\n",
       "Name: activity, dtype: int64"
      ]
     },
     "execution_count": 64,
     "metadata": {},
     "output_type": "execute_result"
    }
   ],
   "source": [
    "data.activity.value_counts().head()"
   ]
  },
  {
   "cell_type": "markdown",
   "id": "6143581d",
   "metadata": {},
   "source": [
    "# Species"
   ]
  },
  {
   "cell_type": "code",
   "execution_count": 65,
   "id": "a6b24e26",
   "metadata": {},
   "outputs": [],
   "source": [
    "data.species = data.species.str.strip()\n",
    "data.species = data.species.str.upper()"
   ]
  },
  {
   "cell_type": "code",
   "execution_count": 71,
   "id": "8cb7f233",
   "metadata": {},
   "outputs": [],
   "source": [
    "lista_de_especies = ['WHITE','TIGER','BULL','BLACKTIP','NURSE','BLUE','REEF','AKO','RAGGEDTOOTH','HAMMERHEAD','BRONZE','LEMON','ZAMBESI','MAKO','WHALE','WOBBEGONG','SAND','SPINNER','SEVENGILL','BASKING','DUSKY','ANGEL','CARPET','GALAPAGOS','SILKY','PORBEAGLE','GILL','DOG','GREY','SALMON','SANDBAR','GILL','COPPER','SHOVELNOSE','THRESHER', 'SILVERTIP']"
   ]
  },
  {
   "cell_type": "code",
   "execution_count": 72,
   "id": "5e1848d4",
   "metadata": {},
   "outputs": [],
   "source": [
    "def limpiar_species(s, lst):\n",
    "    # Verifica si alguna palabra en lst está en s\n",
    "    for word in lst:\n",
    "        if word in s:\n",
    "            return word + ' SHARK'\n",
    "    return 'UNIDENTIFIED'    "
   ]
  },
  {
   "cell_type": "code",
   "execution_count": 73,
   "id": "20bcf62d",
   "metadata": {},
   "outputs": [],
   "source": [
    "data.species = data.species.apply(lambda x: limpiar_species(str(x), lista_de_especies))"
   ]
  },
  {
   "cell_type": "code",
   "execution_count": 86,
   "id": "eaae6b25",
   "metadata": {},
   "outputs": [
    {
     "data": {
      "text/plain": [
       "UNIDENTIFIED      4405\n",
       "WHITE SHARK        664\n",
       "TIGER SHARK        283\n",
       "BULL SHARK         177\n",
       "BLACKTIP SHARK     101\n",
       "Name: species, dtype: int64"
      ]
     },
     "execution_count": 86,
     "metadata": {},
     "output_type": "execute_result"
    }
   ],
   "source": [
    "data.species.value_counts().head()"
   ]
  },
  {
   "cell_type": "markdown",
   "id": "fc6f4372",
   "metadata": {},
   "source": [
    "# Original order"
   ]
  },
  {
   "cell_type": "code",
   "execution_count": 92,
   "id": "87180038",
   "metadata": {},
   "outputs": [],
   "source": [
    "data.original_order = 0"
   ]
  },
  {
   "cell_type": "markdown",
   "id": "b17f4970",
   "metadata": {},
   "source": [
    "# Time"
   ]
  },
  {
   "cell_type": "code",
   "execution_count": 96,
   "id": "c27e4a29",
   "metadata": {},
   "outputs": [
    {
     "data": {
      "text/html": [
       "<div>\n",
       "<style scoped>\n",
       "    .dataframe tbody tr th:only-of-type {\n",
       "        vertical-align: middle;\n",
       "    }\n",
       "\n",
       "    .dataframe tbody tr th {\n",
       "        vertical-align: top;\n",
       "    }\n",
       "\n",
       "    .dataframe thead th {\n",
       "        text-align: right;\n",
       "    }\n",
       "</style>\n",
       "<table border=\"1\" class=\"dataframe\">\n",
       "  <thead>\n",
       "    <tr style=\"text-align: right;\">\n",
       "      <th></th>\n",
       "      <th>case_number</th>\n",
       "      <th>date</th>\n",
       "      <th>year</th>\n",
       "      <th>type</th>\n",
       "      <th>country</th>\n",
       "      <th>area</th>\n",
       "      <th>location</th>\n",
       "      <th>activity</th>\n",
       "      <th>name</th>\n",
       "      <th>sex</th>\n",
       "      <th>age</th>\n",
       "      <th>injury</th>\n",
       "      <th>fatal_(y/n)</th>\n",
       "      <th>time</th>\n",
       "      <th>species</th>\n",
       "      <th>investigator_or_source</th>\n",
       "      <th>pdf</th>\n",
       "      <th>href_formula</th>\n",
       "      <th>href</th>\n",
       "      <th>case_number.1</th>\n",
       "      <th>case_number.2</th>\n",
       "      <th>original_order</th>\n",
       "      <th>unnamed:_22</th>\n",
       "      <th>unnamed:_23</th>\n",
       "    </tr>\n",
       "  </thead>\n",
       "  <tbody>\n",
       "    <tr>\n",
       "      <th>0</th>\n",
       "      <td>2018-06-25</td>\n",
       "      <td>2018-06-25</td>\n",
       "      <td>2018.0</td>\n",
       "      <td>BOAT</td>\n",
       "      <td>USA</td>\n",
       "      <td>CALIFORNIA</td>\n",
       "      <td>Oceanside, San Diego County</td>\n",
       "      <td>PADDLE BOARDING</td>\n",
       "      <td>Julie Wolfe</td>\n",
       "      <td>F</td>\n",
       "      <td>57.0</td>\n",
       "      <td>No injury to occupant, outrigger canoe and pad...</td>\n",
       "      <td>0.0</td>\n",
       "      <td>18h00</td>\n",
       "      <td>WHITE SHARK</td>\n",
       "      <td>R. Collier, GSAF</td>\n",
       "      <td>2018.06.25-Wolfe.pdf</td>\n",
       "      <td>http://sharkattackfile.net/spreadsheets/pdf_di...</td>\n",
       "      <td>http://sharkattackfile.net/spreadsheets/pdf_di...</td>\n",
       "      <td>2018-06-25</td>\n",
       "      <td>2018-06-25</td>\n",
       "      <td>0</td>\n",
       "      <td>NaN</td>\n",
       "      <td>NaN</td>\n",
       "    </tr>\n",
       "    <tr>\n",
       "      <th>1</th>\n",
       "      <td>2018-06-18</td>\n",
       "      <td>2018-06-18</td>\n",
       "      <td>2018.0</td>\n",
       "      <td>UNPROVOKED</td>\n",
       "      <td>USA</td>\n",
       "      <td>GEORGIA</td>\n",
       "      <td>St. Simon Island, Glynn County</td>\n",
       "      <td>STANDING</td>\n",
       "      <td>Adyson McNeely</td>\n",
       "      <td>F</td>\n",
       "      <td>11.0</td>\n",
       "      <td>Minor injury to left thigh</td>\n",
       "      <td>0.0</td>\n",
       "      <td>14h00  -15h00</td>\n",
       "      <td>UNIDENTIFIED</td>\n",
       "      <td>K.McMurray, TrackingSharks.com</td>\n",
       "      <td>2018.06.18-McNeely.pdf</td>\n",
       "      <td>http://sharkattackfile.net/spreadsheets/pdf_di...</td>\n",
       "      <td>http://sharkattackfile.net/spreadsheets/pdf_di...</td>\n",
       "      <td>2018-06-18</td>\n",
       "      <td>2018-06-18</td>\n",
       "      <td>0</td>\n",
       "      <td>NaN</td>\n",
       "      <td>NaN</td>\n",
       "    </tr>\n",
       "    <tr>\n",
       "      <th>2</th>\n",
       "      <td>2018-06-09</td>\n",
       "      <td>2018-06-09</td>\n",
       "      <td>2018.0</td>\n",
       "      <td>OTHER</td>\n",
       "      <td>USA</td>\n",
       "      <td>HAWAII</td>\n",
       "      <td>Habush, Oahu</td>\n",
       "      <td>SURFING</td>\n",
       "      <td>John Denges</td>\n",
       "      <td>M</td>\n",
       "      <td>48.0</td>\n",
       "      <td>Injury to left lower leg from surfboard skeg</td>\n",
       "      <td>0.0</td>\n",
       "      <td>07h45</td>\n",
       "      <td>UNIDENTIFIED</td>\n",
       "      <td>K.McMurray, TrackingSharks.com</td>\n",
       "      <td>2018.06.09-Denges.pdf</td>\n",
       "      <td>http://sharkattackfile.net/spreadsheets/pdf_di...</td>\n",
       "      <td>http://sharkattackfile.net/spreadsheets/pdf_di...</td>\n",
       "      <td>2018-06-09</td>\n",
       "      <td>2018-06-09</td>\n",
       "      <td>0</td>\n",
       "      <td>NaN</td>\n",
       "      <td>NaN</td>\n",
       "    </tr>\n",
       "    <tr>\n",
       "      <th>3</th>\n",
       "      <td>2018-06-08</td>\n",
       "      <td>2018-06-08</td>\n",
       "      <td>2018.0</td>\n",
       "      <td>UNPROVOKED</td>\n",
       "      <td>AUSTRALIA</td>\n",
       "      <td>NEW SOUTH WALES</td>\n",
       "      <td>Arrawarra Headland</td>\n",
       "      <td>SURFING</td>\n",
       "      <td>male</td>\n",
       "      <td>M</td>\n",
       "      <td>NaN</td>\n",
       "      <td>Minor injury to lower leg</td>\n",
       "      <td>0.0</td>\n",
       "      <td>NaN</td>\n",
       "      <td>UNIDENTIFIED</td>\n",
       "      <td>B. Myatt, GSAF</td>\n",
       "      <td>2018.06.08-Arrawarra.pdf</td>\n",
       "      <td>http://sharkattackfile.net/spreadsheets/pdf_di...</td>\n",
       "      <td>http://sharkattackfile.net/spreadsheets/pdf_di...</td>\n",
       "      <td>2018-06-08</td>\n",
       "      <td>2018-06-08</td>\n",
       "      <td>0</td>\n",
       "      <td>NaN</td>\n",
       "      <td>NaN</td>\n",
       "    </tr>\n",
       "    <tr>\n",
       "      <th>4</th>\n",
       "      <td>2018-06-04</td>\n",
       "      <td>2018-06-04</td>\n",
       "      <td>2018.0</td>\n",
       "      <td>PROVOKED</td>\n",
       "      <td>MEXICO</td>\n",
       "      <td>COLIMA</td>\n",
       "      <td>La Ticla</td>\n",
       "      <td>SCUBA DIVING</td>\n",
       "      <td>Gustavo Ramos</td>\n",
       "      <td>M</td>\n",
       "      <td>NaN</td>\n",
       "      <td>Lacerations to leg &amp; hand shark PROVOKED INCIDENT</td>\n",
       "      <td>0.0</td>\n",
       "      <td>NaN</td>\n",
       "      <td>TIGER SHARK</td>\n",
       "      <td>A .Kipper</td>\n",
       "      <td>2018.06.04-Ramos.pdf</td>\n",
       "      <td>http://sharkattackfile.net/spreadsheets/pdf_di...</td>\n",
       "      <td>http://sharkattackfile.net/spreadsheets/pdf_di...</td>\n",
       "      <td>2018-06-04</td>\n",
       "      <td>2018-06-04</td>\n",
       "      <td>0</td>\n",
       "      <td>NaN</td>\n",
       "      <td>NaN</td>\n",
       "    </tr>\n",
       "    <tr>\n",
       "      <th>5</th>\n",
       "      <td>2018-06-03</td>\n",
       "      <td>2018-06-03</td>\n",
       "      <td>2018.0</td>\n",
       "      <td>UNPROVOKED</td>\n",
       "      <td>AUSTRALIA</td>\n",
       "      <td>NEW SOUTH WALES</td>\n",
       "      <td>Flat Rock, Ballina</td>\n",
       "      <td>SURFING</td>\n",
       "      <td>Chris</td>\n",
       "      <td>M</td>\n",
       "      <td>NaN</td>\n",
       "      <td>No injury, board bitten</td>\n",
       "      <td>0.0</td>\n",
       "      <td>NaN</td>\n",
       "      <td>UNIDENTIFIED</td>\n",
       "      <td>Daily Telegraph, 6/4/2018</td>\n",
       "      <td>2018.06.03.b-FlatRock.pdf</td>\n",
       "      <td>http://sharkattackfile.net/spreadsheets/pdf_di...</td>\n",
       "      <td>http://sharkattackfile.net/spreadsheets/pdf_di...</td>\n",
       "      <td>2018-06-03</td>\n",
       "      <td>2018-06-03</td>\n",
       "      <td>0</td>\n",
       "      <td>NaN</td>\n",
       "      <td>NaN</td>\n",
       "    </tr>\n",
       "    <tr>\n",
       "      <th>6</th>\n",
       "      <td>2018-06-03</td>\n",
       "      <td>2018-06-03</td>\n",
       "      <td>2018.0</td>\n",
       "      <td>UNPROVOKED</td>\n",
       "      <td>BRAZIL</td>\n",
       "      <td>PERNAMBUCO</td>\n",
       "      <td>Piedade Beach, Recife</td>\n",
       "      <td>SWIMMING</td>\n",
       "      <td>Jose Ernesto da Silva</td>\n",
       "      <td>M</td>\n",
       "      <td>18.0</td>\n",
       "      <td>FATAL</td>\n",
       "      <td>1.0</td>\n",
       "      <td>Late afternoon</td>\n",
       "      <td>TIGER SHARK</td>\n",
       "      <td>Diario de Pernambuco, 6/4/2018</td>\n",
       "      <td>2018.06.03.a-daSilva.pdf</td>\n",
       "      <td>http://sharkattackfile.net/spreadsheets/pdf_di...</td>\n",
       "      <td>http://sharkattackfile.net/spreadsheets/pdf_di...</td>\n",
       "      <td>2018-06-03</td>\n",
       "      <td>2018-06-03</td>\n",
       "      <td>0</td>\n",
       "      <td>NaN</td>\n",
       "      <td>NaN</td>\n",
       "    </tr>\n",
       "    <tr>\n",
       "      <th>7</th>\n",
       "      <td>2018-05-27</td>\n",
       "      <td>2018-05-27</td>\n",
       "      <td>2018.0</td>\n",
       "      <td>UNPROVOKED</td>\n",
       "      <td>USA</td>\n",
       "      <td>FLORIDA</td>\n",
       "      <td>Lighhouse Point Park, Ponce Inlet, Volusia County</td>\n",
       "      <td>FISHING</td>\n",
       "      <td>male</td>\n",
       "      <td>M</td>\n",
       "      <td>52.0</td>\n",
       "      <td>Minor injury to foot. PROVOKED INCIDENT</td>\n",
       "      <td>0.0</td>\n",
       "      <td>NaN</td>\n",
       "      <td>LEMON SHARK</td>\n",
       "      <td>K. McMurray, TrackingSharks.com</td>\n",
       "      <td>2018.05.27-Ponce.pdf</td>\n",
       "      <td>http://sharkattackfile.net/spreadsheets/pdf_di...</td>\n",
       "      <td>http://sharkattackfile.net/spreadsheets/pdf_di...</td>\n",
       "      <td>2018-05-27</td>\n",
       "      <td>2018-05-27</td>\n",
       "      <td>0</td>\n",
       "      <td>NaN</td>\n",
       "      <td>NaN</td>\n",
       "    </tr>\n",
       "    <tr>\n",
       "      <th>8</th>\n",
       "      <td>2018-05-26</td>\n",
       "      <td>2018-05-26</td>\n",
       "      <td>2018.0</td>\n",
       "      <td>UNPROVOKED</td>\n",
       "      <td>USA</td>\n",
       "      <td>FLORIDA</td>\n",
       "      <td>Cocoa Beach, Brevard  County</td>\n",
       "      <td>WALKING</td>\n",
       "      <td>Cody High</td>\n",
       "      <td>M</td>\n",
       "      <td>15.0</td>\n",
       "      <td>Lower left leg bitten</td>\n",
       "      <td>0.0</td>\n",
       "      <td>17h00</td>\n",
       "      <td>BULL SHARK</td>\n",
       "      <td>K.McMurray, TrackingSharks.com</td>\n",
       "      <td>2018.05.26.b-High.pdf</td>\n",
       "      <td>http://sharkattackfile.net/spreadsheets/pdf_di...</td>\n",
       "      <td>http://sharkattackfile.net/spreadsheets/pdf_di...</td>\n",
       "      <td>2018-05-26</td>\n",
       "      <td>2018-05-26</td>\n",
       "      <td>0</td>\n",
       "      <td>NaN</td>\n",
       "      <td>NaN</td>\n",
       "    </tr>\n",
       "    <tr>\n",
       "      <th>9</th>\n",
       "      <td>2018-05-26</td>\n",
       "      <td>2018-05-26</td>\n",
       "      <td>2018.0</td>\n",
       "      <td>UNPROVOKED</td>\n",
       "      <td>USA</td>\n",
       "      <td>FLORIDA</td>\n",
       "      <td>Daytona Beach, Volusia County</td>\n",
       "      <td>STANDING</td>\n",
       "      <td>male</td>\n",
       "      <td>M</td>\n",
       "      <td>12.0</td>\n",
       "      <td>Minor injury to foot</td>\n",
       "      <td>0.0</td>\n",
       "      <td>14h00</td>\n",
       "      <td>UNIDENTIFIED</td>\n",
       "      <td>K. McMurray, Tracking Sharks.com</td>\n",
       "      <td>2018.05.26.a-DaytonaBeach.pdf</td>\n",
       "      <td>http://sharkattackfile.net/spreadsheets/pdf_di...</td>\n",
       "      <td>http://sharkattackfile.net/spreadsheets/pdf_di...</td>\n",
       "      <td>2018-05-26</td>\n",
       "      <td>2018-05-26</td>\n",
       "      <td>0</td>\n",
       "      <td>NaN</td>\n",
       "      <td>NaN</td>\n",
       "    </tr>\n",
       "    <tr>\n",
       "      <th>10</th>\n",
       "      <td>2018-05-24</td>\n",
       "      <td>2018-05-24</td>\n",
       "      <td>2018.0</td>\n",
       "      <td>PROVOKED</td>\n",
       "      <td>AUSTRALIA</td>\n",
       "      <td>QUEENSLAND</td>\n",
       "      <td>Cairns Aquarium</td>\n",
       "      <td>FEEDING SHARKS</td>\n",
       "      <td>male</td>\n",
       "      <td>M</td>\n",
       "      <td>32.0</td>\n",
       "      <td>Minor bite to hand by captive shark. PROVOKED ...</td>\n",
       "      <td>0.0</td>\n",
       "      <td>Morning</td>\n",
       "      <td>REEF SHARK</td>\n",
       "      <td>ABC.net.au ,05/24/2018</td>\n",
       "      <td>2018.05.24-CairnsAquarium.pdf</td>\n",
       "      <td>http://sharkattackfile.net/spreadsheets/pdf_di...</td>\n",
       "      <td>http://sharkattackfile.net/spreadsheets/pdf_di...</td>\n",
       "      <td>2018-05-24</td>\n",
       "      <td>2018-05-24</td>\n",
       "      <td>0</td>\n",
       "      <td>NaN</td>\n",
       "      <td>NaN</td>\n",
       "    </tr>\n",
       "    <tr>\n",
       "      <th>11</th>\n",
       "      <td>2018-05-21</td>\n",
       "      <td>2018-05-21</td>\n",
       "      <td>2018.0</td>\n",
       "      <td>UNPROVOKED</td>\n",
       "      <td>USA</td>\n",
       "      <td>SOUTH CAROLINA</td>\n",
       "      <td>Isle of Palms,  Charleston County</td>\n",
       "      <td>SURFING</td>\n",
       "      <td>Trey de Boer</td>\n",
       "      <td>M</td>\n",
       "      <td>10.0</td>\n",
       "      <td>Injuries to lower right leg and foot</td>\n",
       "      <td>0.0</td>\n",
       "      <td>NaN</td>\n",
       "      <td>UNIDENTIFIED</td>\n",
       "      <td>C. Creswell, GSAF</td>\n",
       "      <td>2018.05.21-deBoer.pdf</td>\n",
       "      <td>http://sharkattackfile.net/spreadsheets/pdf_di...</td>\n",
       "      <td>http://sharkattackfile.net/spreadsheets/pdf_di...</td>\n",
       "      <td>2018-05-21</td>\n",
       "      <td>2018-05-21</td>\n",
       "      <td>0</td>\n",
       "      <td>NaN</td>\n",
       "      <td>NaN</td>\n",
       "    </tr>\n",
       "    <tr>\n",
       "      <th>12</th>\n",
       "      <td>2018-05-13</td>\n",
       "      <td>2018-05-13</td>\n",
       "      <td>2018.0</td>\n",
       "      <td>UNPROVOKED</td>\n",
       "      <td>USA</td>\n",
       "      <td>SOUTH CAROLINA</td>\n",
       "      <td>Hilton Head Island, Beaufort County</td>\n",
       "      <td>SWIMMING</td>\n",
       "      <td>Jei Turrell</td>\n",
       "      <td>M</td>\n",
       "      <td>10.0</td>\n",
       "      <td>Severe bite to right forearm</td>\n",
       "      <td>0.0</td>\n",
       "      <td>15h00</td>\n",
       "      <td>UNIDENTIFIED</td>\n",
       "      <td>C. Creswell, GSAF &amp; K. McMurray TrackingSharks...</td>\n",
       "      <td>2018.05.13.b-Turrell.pdf</td>\n",
       "      <td>http://sharkattackfile.net/spreadsheets/pdf_di...</td>\n",
       "      <td>http://sharkattackfile.net/spreadsheets/pdf_di...</td>\n",
       "      <td>2018-05-13</td>\n",
       "      <td>2018-05-13</td>\n",
       "      <td>0</td>\n",
       "      <td>NaN</td>\n",
       "      <td>NaN</td>\n",
       "    </tr>\n",
       "    <tr>\n",
       "      <th>13</th>\n",
       "      <td>2018-05-13</td>\n",
       "      <td>2018-05-13</td>\n",
       "      <td>2018.0</td>\n",
       "      <td>OTHER</td>\n",
       "      <td>ENGLAND</td>\n",
       "      <td>CORNWALL</td>\n",
       "      <td>Off Land's End</td>\n",
       "      <td>FISHING</td>\n",
       "      <td>Max Berryman</td>\n",
       "      <td>M</td>\n",
       "      <td>21.0</td>\n",
       "      <td>Injured by teeth of a dead porbeagle shark he ...</td>\n",
       "      <td>0.0</td>\n",
       "      <td>08h15</td>\n",
       "      <td>UNIDENTIFIED</td>\n",
       "      <td>K. McMurray, TrackingSharks.com</td>\n",
       "      <td>2018.05.13.a-Berryman.pdf</td>\n",
       "      <td>http://sharkattackfile.net/spreadsheets/pdf_di...</td>\n",
       "      <td>http://sharkattackfile.net/spreadsheets/pdf_di...</td>\n",
       "      <td>2018-05-13</td>\n",
       "      <td>2018-05-13</td>\n",
       "      <td>0</td>\n",
       "      <td>NaN</td>\n",
       "      <td>NaN</td>\n",
       "    </tr>\n",
       "    <tr>\n",
       "      <th>14</th>\n",
       "      <td>2018-05-01</td>\n",
       "      <td>2018-05-01</td>\n",
       "      <td>2018.0</td>\n",
       "      <td>PROVOKED</td>\n",
       "      <td>AUSTRALIA</td>\n",
       "      <td>WESTERM AUSTRALIA</td>\n",
       "      <td>Dugong Bay</td>\n",
       "      <td>FEEDING SHARKS</td>\n",
       "      <td>Melisa Brunning</td>\n",
       "      <td>F</td>\n",
       "      <td>34.0</td>\n",
       "      <td>Shallow lacerations to finger PROVOKED INCIDENT</td>\n",
       "      <td>0.0</td>\n",
       "      <td>NaN</td>\n",
       "      <td>NURSE SHARK</td>\n",
       "      <td>Perth Now, 6/30/2018</td>\n",
       "      <td>2018.05.00-Brunning.pdf</td>\n",
       "      <td>http://sharkattackfile.net/spreadsheets/pdf_di...</td>\n",
       "      <td>http://sharkattackfile.net/spreadsheets/pdf_di...</td>\n",
       "      <td>2018-05-01</td>\n",
       "      <td>2018-05-01</td>\n",
       "      <td>0</td>\n",
       "      <td>NaN</td>\n",
       "      <td>NaN</td>\n",
       "    </tr>\n",
       "    <tr>\n",
       "      <th>15</th>\n",
       "      <td>2018-05-12</td>\n",
       "      <td>2018-05-12</td>\n",
       "      <td>2018.0</td>\n",
       "      <td>UNPROVOKED</td>\n",
       "      <td>SOUTH AFRICA</td>\n",
       "      <td>EASTERN CAPE PROVINCE</td>\n",
       "      <td>Nahoon Beach, East London</td>\n",
       "      <td>SURFING</td>\n",
       "      <td>male</td>\n",
       "      <td>M</td>\n",
       "      <td>NaN</td>\n",
       "      <td>Minor injury, marks on board</td>\n",
       "      <td>0.0</td>\n",
       "      <td>11h00</td>\n",
       "      <td>UNIDENTIFIED</td>\n",
       "      <td>B.Jacob, Dispatch Live, 5/12/2018</td>\n",
       "      <td>2018.05.12-EastLondon.pdf</td>\n",
       "      <td>http://sharkattackfile.net/spreadsheets/pdf_di...</td>\n",
       "      <td>http://sharkattackfile.net/spreadsheets/pdf_di...</td>\n",
       "      <td>2018-05-12</td>\n",
       "      <td>2018-05-12</td>\n",
       "      <td>0</td>\n",
       "      <td>NaN</td>\n",
       "      <td>NaN</td>\n",
       "    </tr>\n",
       "    <tr>\n",
       "      <th>16</th>\n",
       "      <td>2018-05-09</td>\n",
       "      <td>2018-05-09</td>\n",
       "      <td>2018.0</td>\n",
       "      <td>OTHER</td>\n",
       "      <td>AUSTRALIA</td>\n",
       "      <td>NEW SOUTH WALES</td>\n",
       "      <td>Sharpes Beach, Ballina</td>\n",
       "      <td>SURFING</td>\n",
       "      <td>male</td>\n",
       "      <td>M</td>\n",
       "      <td>NaN</td>\n",
       "      <td>No injury, surfboard damaged</td>\n",
       "      <td>0.0</td>\n",
       "      <td>10h30</td>\n",
       "      <td>UNIDENTIFIED</td>\n",
       "      <td>B. Myatt, GSAF</td>\n",
       "      <td>2018.05.09-SharpesBeach.pdf</td>\n",
       "      <td>http://sharkattackfile.net/spreadsheets/pdf_di...</td>\n",
       "      <td>http://sharkattackfile.net/spreadsheets/pdf_di...</td>\n",
       "      <td>2018-05-09</td>\n",
       "      <td>2018-05-09</td>\n",
       "      <td>0</td>\n",
       "      <td>NaN</td>\n",
       "      <td>NaN</td>\n",
       "    </tr>\n",
       "    <tr>\n",
       "      <th>17</th>\n",
       "      <td>2018-04-30</td>\n",
       "      <td>2018-04-30</td>\n",
       "      <td>2018.0</td>\n",
       "      <td>UNPROVOKED</td>\n",
       "      <td>THAILAND</td>\n",
       "      <td>HUA HIN</td>\n",
       "      <td>Sai Noi Beach</td>\n",
       "      <td>SWIMMING</td>\n",
       "      <td>female</td>\n",
       "      <td>M</td>\n",
       "      <td>NaN</td>\n",
       "      <td>Minor injury to ankle</td>\n",
       "      <td>0.0</td>\n",
       "      <td>NaN</td>\n",
       "      <td>UNIDENTIFIED</td>\n",
       "      <td>K. McMurray, TrackingSharks.com</td>\n",
       "      <td>2018.04.30.R-Thailand.pdf</td>\n",
       "      <td>http://sharkattackfile.net/spreadsheets/pdf_di...</td>\n",
       "      <td>http://sharkattackfile.net/spreadsheets/pdf_di...</td>\n",
       "      <td>2018-04-30</td>\n",
       "      <td>2018-04-30</td>\n",
       "      <td>0</td>\n",
       "      <td>NaN</td>\n",
       "      <td>NaN</td>\n",
       "    </tr>\n",
       "    <tr>\n",
       "      <th>18</th>\n",
       "      <td>2018-04-28</td>\n",
       "      <td>2018-04-28</td>\n",
       "      <td>2018.0</td>\n",
       "      <td>UNPROVOKED</td>\n",
       "      <td>COSTA RICA</td>\n",
       "      <td>COCOS ISLAND</td>\n",
       "      <td>Manuelita</td>\n",
       "      <td>SCUBA DIVING</td>\n",
       "      <td>male</td>\n",
       "      <td>M</td>\n",
       "      <td>30.0</td>\n",
       "      <td>No injury, shark bit scuba gear</td>\n",
       "      <td>0.0</td>\n",
       "      <td>10h40</td>\n",
       "      <td>TIGER SHARK</td>\n",
       "      <td>Costa Rica Star. 4/28/2018</td>\n",
       "      <td>2018.04.28.b-CostaRica.pdf</td>\n",
       "      <td>http://sharkattackfile.net/spreadsheets/pdf_di...</td>\n",
       "      <td>http://sharkattackfile.net/spreadsheets/pdf_di...</td>\n",
       "      <td>2018-04-28</td>\n",
       "      <td>2018-04-28</td>\n",
       "      <td>0</td>\n",
       "      <td>NaN</td>\n",
       "      <td>NaN</td>\n",
       "    </tr>\n",
       "    <tr>\n",
       "      <th>19</th>\n",
       "      <td>2018-04-28</td>\n",
       "      <td>2018-04-28</td>\n",
       "      <td>2018.0</td>\n",
       "      <td>UNPROVOKED</td>\n",
       "      <td>AUSTRALIA</td>\n",
       "      <td>WESTERN AUSTRALIA</td>\n",
       "      <td>Gearys Beach</td>\n",
       "      <td>SURFING</td>\n",
       "      <td>Adam Murray</td>\n",
       "      <td>M</td>\n",
       "      <td>NaN</td>\n",
       "      <td>No injury, knocked off board by shark</td>\n",
       "      <td>0.0</td>\n",
       "      <td>16h50</td>\n",
       "      <td>UNIDENTIFIED</td>\n",
       "      <td>B. Myatt, GSAF</td>\n",
       "      <td>2018.04.28.a-Murray.pdf</td>\n",
       "      <td>http://sharkattackfile.net/spreadsheets/pdf_di...</td>\n",
       "      <td>http://sharkattackfile.net/spreadsheets/pdf_di...</td>\n",
       "      <td>2018-04-28</td>\n",
       "      <td>2018-04-28</td>\n",
       "      <td>0</td>\n",
       "      <td>NaN</td>\n",
       "      <td>NaN</td>\n",
       "    </tr>\n",
       "  </tbody>\n",
       "</table>\n",
       "</div>"
      ],
      "text/plain": [
       "   case_number       date    year        type       country  \\\n",
       "0   2018-06-25 2018-06-25  2018.0        BOAT           USA   \n",
       "1   2018-06-18 2018-06-18  2018.0  UNPROVOKED           USA   \n",
       "2   2018-06-09 2018-06-09  2018.0       OTHER           USA   \n",
       "3   2018-06-08 2018-06-08  2018.0  UNPROVOKED     AUSTRALIA   \n",
       "4   2018-06-04 2018-06-04  2018.0    PROVOKED        MEXICO   \n",
       "5   2018-06-03 2018-06-03  2018.0  UNPROVOKED     AUSTRALIA   \n",
       "6   2018-06-03 2018-06-03  2018.0  UNPROVOKED        BRAZIL   \n",
       "7   2018-05-27 2018-05-27  2018.0  UNPROVOKED           USA   \n",
       "8   2018-05-26 2018-05-26  2018.0  UNPROVOKED           USA   \n",
       "9   2018-05-26 2018-05-26  2018.0  UNPROVOKED           USA   \n",
       "10  2018-05-24 2018-05-24  2018.0    PROVOKED     AUSTRALIA   \n",
       "11  2018-05-21 2018-05-21  2018.0  UNPROVOKED           USA   \n",
       "12  2018-05-13 2018-05-13  2018.0  UNPROVOKED           USA   \n",
       "13  2018-05-13 2018-05-13  2018.0       OTHER       ENGLAND   \n",
       "14  2018-05-01 2018-05-01  2018.0    PROVOKED     AUSTRALIA   \n",
       "15  2018-05-12 2018-05-12  2018.0  UNPROVOKED  SOUTH AFRICA   \n",
       "16  2018-05-09 2018-05-09  2018.0       OTHER     AUSTRALIA   \n",
       "17  2018-04-30 2018-04-30  2018.0  UNPROVOKED      THAILAND   \n",
       "18  2018-04-28 2018-04-28  2018.0  UNPROVOKED    COSTA RICA   \n",
       "19  2018-04-28 2018-04-28  2018.0  UNPROVOKED     AUSTRALIA   \n",
       "\n",
       "                     area                                           location  \\\n",
       "0              CALIFORNIA                        Oceanside, San Diego County   \n",
       "1                 GEORGIA                     St. Simon Island, Glynn County   \n",
       "2                  HAWAII                                       Habush, Oahu   \n",
       "3         NEW SOUTH WALES                                 Arrawarra Headland   \n",
       "4                  COLIMA                                           La Ticla   \n",
       "5         NEW SOUTH WALES                                 Flat Rock, Ballina   \n",
       "6              PERNAMBUCO                              Piedade Beach, Recife   \n",
       "7                 FLORIDA  Lighhouse Point Park, Ponce Inlet, Volusia County   \n",
       "8                 FLORIDA                       Cocoa Beach, Brevard  County   \n",
       "9                 FLORIDA                      Daytona Beach, Volusia County   \n",
       "10             QUEENSLAND                                    Cairns Aquarium   \n",
       "11         SOUTH CAROLINA                  Isle of Palms,  Charleston County   \n",
       "12         SOUTH CAROLINA                Hilton Head Island, Beaufort County   \n",
       "13               CORNWALL                                     Off Land's End   \n",
       "14      WESTERM AUSTRALIA                                         Dugong Bay   \n",
       "15  EASTERN CAPE PROVINCE                          Nahoon Beach, East London   \n",
       "16        NEW SOUTH WALES                             Sharpes Beach, Ballina   \n",
       "17                HUA HIN                                      Sai Noi Beach   \n",
       "18           COCOS ISLAND                                          Manuelita   \n",
       "19      WESTERN AUSTRALIA                                       Gearys Beach   \n",
       "\n",
       "           activity                    name sex   age  \\\n",
       "0   PADDLE BOARDING             Julie Wolfe   F  57.0   \n",
       "1          STANDING         Adyson McNeely    F  11.0   \n",
       "2           SURFING             John Denges   M  48.0   \n",
       "3           SURFING                    male   M   NaN   \n",
       "4      SCUBA DIVING          Gustavo Ramos    M   NaN   \n",
       "5           SURFING                 Chris \n",
       "   M   NaN   \n",
       "6          SWIMMING  Jose Ernesto da Silva    M  18.0   \n",
       "7           FISHING                    male   M  52.0   \n",
       "8           WALKING               Cody High   M  15.0   \n",
       "9          STANDING                    male   M  12.0   \n",
       "10   FEEDING SHARKS                    male   M  32.0   \n",
       "11          SURFING            Trey de Boer   M  10.0   \n",
       "12         SWIMMING             Jei Turrell   M  10.0   \n",
       "13          FISHING            Max Berryman   M  21.0   \n",
       "14   FEEDING SHARKS         Melisa Brunning   F  34.0   \n",
       "15          SURFING                    male   M   NaN   \n",
       "16          SURFING                    male   M   NaN   \n",
       "17         SWIMMING                  female   M   NaN   \n",
       "18     SCUBA DIVING                    male   M  30.0   \n",
       "19          SURFING             Adam Murray   M   NaN   \n",
       "\n",
       "                                               injury  fatal_(y/n)  \\\n",
       "0   No injury to occupant, outrigger canoe and pad...          0.0   \n",
       "1                          Minor injury to left thigh          0.0   \n",
       "2        Injury to left lower leg from surfboard skeg          0.0   \n",
       "3                           Minor injury to lower leg          0.0   \n",
       "4   Lacerations to leg & hand shark PROVOKED INCIDENT          0.0   \n",
       "5                             No injury, board bitten          0.0   \n",
       "6                                               FATAL          1.0   \n",
       "7             Minor injury to foot. PROVOKED INCIDENT          0.0   \n",
       "8                               Lower left leg bitten          0.0   \n",
       "9                                Minor injury to foot          0.0   \n",
       "10  Minor bite to hand by captive shark. PROVOKED ...          0.0   \n",
       "11               Injuries to lower right leg and foot          0.0   \n",
       "12                       Severe bite to right forearm          0.0   \n",
       "13  Injured by teeth of a dead porbeagle shark he ...          0.0   \n",
       "14    Shallow lacerations to finger PROVOKED INCIDENT          0.0   \n",
       "15                       Minor injury, marks on board          0.0   \n",
       "16                       No injury, surfboard damaged          0.0   \n",
       "17                              Minor injury to ankle          0.0   \n",
       "18                    No injury, shark bit scuba gear          0.0   \n",
       "19              No injury, knocked off board by shark          0.0   \n",
       "\n",
       "              time       species  \\\n",
       "0            18h00   WHITE SHARK   \n",
       "1    14h00  -15h00  UNIDENTIFIED   \n",
       "2            07h45  UNIDENTIFIED   \n",
       "3              NaN  UNIDENTIFIED   \n",
       "4              NaN   TIGER SHARK   \n",
       "5              NaN  UNIDENTIFIED   \n",
       "6   Late afternoon   TIGER SHARK   \n",
       "7              NaN   LEMON SHARK   \n",
       "8            17h00    BULL SHARK   \n",
       "9            14h00  UNIDENTIFIED   \n",
       "10         Morning    REEF SHARK   \n",
       "11             NaN  UNIDENTIFIED   \n",
       "12           15h00  UNIDENTIFIED   \n",
       "13           08h15  UNIDENTIFIED   \n",
       "14             NaN   NURSE SHARK   \n",
       "15           11h00  UNIDENTIFIED   \n",
       "16           10h30  UNIDENTIFIED   \n",
       "17             NaN  UNIDENTIFIED   \n",
       "18           10h40   TIGER SHARK   \n",
       "19           16h50  UNIDENTIFIED   \n",
       "\n",
       "                               investigator_or_source  \\\n",
       "0                                    R. Collier, GSAF   \n",
       "1                      K.McMurray, TrackingSharks.com   \n",
       "2                      K.McMurray, TrackingSharks.com   \n",
       "3                                      B. Myatt, GSAF   \n",
       "4                                           A .Kipper   \n",
       "5                           Daily Telegraph, 6/4/2018   \n",
       "6                      Diario de Pernambuco, 6/4/2018   \n",
       "7                     K. McMurray, TrackingSharks.com   \n",
       "8                      K.McMurray, TrackingSharks.com   \n",
       "9                    K. McMurray, Tracking Sharks.com   \n",
       "10                             ABC.net.au ,05/24/2018   \n",
       "11                                  C. Creswell, GSAF   \n",
       "12  C. Creswell, GSAF & K. McMurray TrackingSharks...   \n",
       "13                    K. McMurray, TrackingSharks.com   \n",
       "14                               Perth Now, 6/30/2018   \n",
       "15                  B.Jacob, Dispatch Live, 5/12/2018   \n",
       "16                                     B. Myatt, GSAF   \n",
       "17                    K. McMurray, TrackingSharks.com   \n",
       "18                         Costa Rica Star. 4/28/2018   \n",
       "19                                     B. Myatt, GSAF   \n",
       "\n",
       "                              pdf  \\\n",
       "0            2018.06.25-Wolfe.pdf   \n",
       "1          2018.06.18-McNeely.pdf   \n",
       "2           2018.06.09-Denges.pdf   \n",
       "3        2018.06.08-Arrawarra.pdf   \n",
       "4            2018.06.04-Ramos.pdf   \n",
       "5       2018.06.03.b-FlatRock.pdf   \n",
       "6        2018.06.03.a-daSilva.pdf   \n",
       "7            2018.05.27-Ponce.pdf   \n",
       "8           2018.05.26.b-High.pdf   \n",
       "9   2018.05.26.a-DaytonaBeach.pdf   \n",
       "10  2018.05.24-CairnsAquarium.pdf   \n",
       "11          2018.05.21-deBoer.pdf   \n",
       "12       2018.05.13.b-Turrell.pdf   \n",
       "13      2018.05.13.a-Berryman.pdf   \n",
       "14        2018.05.00-Brunning.pdf   \n",
       "15      2018.05.12-EastLondon.pdf   \n",
       "16    2018.05.09-SharpesBeach.pdf   \n",
       "17      2018.04.30.R-Thailand.pdf   \n",
       "18     2018.04.28.b-CostaRica.pdf   \n",
       "19        2018.04.28.a-Murray.pdf   \n",
       "\n",
       "                                         href_formula  \\\n",
       "0   http://sharkattackfile.net/spreadsheets/pdf_di...   \n",
       "1   http://sharkattackfile.net/spreadsheets/pdf_di...   \n",
       "2   http://sharkattackfile.net/spreadsheets/pdf_di...   \n",
       "3   http://sharkattackfile.net/spreadsheets/pdf_di...   \n",
       "4   http://sharkattackfile.net/spreadsheets/pdf_di...   \n",
       "5   http://sharkattackfile.net/spreadsheets/pdf_di...   \n",
       "6   http://sharkattackfile.net/spreadsheets/pdf_di...   \n",
       "7   http://sharkattackfile.net/spreadsheets/pdf_di...   \n",
       "8   http://sharkattackfile.net/spreadsheets/pdf_di...   \n",
       "9   http://sharkattackfile.net/spreadsheets/pdf_di...   \n",
       "10  http://sharkattackfile.net/spreadsheets/pdf_di...   \n",
       "11  http://sharkattackfile.net/spreadsheets/pdf_di...   \n",
       "12  http://sharkattackfile.net/spreadsheets/pdf_di...   \n",
       "13  http://sharkattackfile.net/spreadsheets/pdf_di...   \n",
       "14  http://sharkattackfile.net/spreadsheets/pdf_di...   \n",
       "15  http://sharkattackfile.net/spreadsheets/pdf_di...   \n",
       "16  http://sharkattackfile.net/spreadsheets/pdf_di...   \n",
       "17  http://sharkattackfile.net/spreadsheets/pdf_di...   \n",
       "18  http://sharkattackfile.net/spreadsheets/pdf_di...   \n",
       "19  http://sharkattackfile.net/spreadsheets/pdf_di...   \n",
       "\n",
       "                                                 href case_number.1  \\\n",
       "0   http://sharkattackfile.net/spreadsheets/pdf_di...    2018-06-25   \n",
       "1   http://sharkattackfile.net/spreadsheets/pdf_di...    2018-06-18   \n",
       "2   http://sharkattackfile.net/spreadsheets/pdf_di...    2018-06-09   \n",
       "3   http://sharkattackfile.net/spreadsheets/pdf_di...    2018-06-08   \n",
       "4   http://sharkattackfile.net/spreadsheets/pdf_di...    2018-06-04   \n",
       "5   http://sharkattackfile.net/spreadsheets/pdf_di...    2018-06-03   \n",
       "6   http://sharkattackfile.net/spreadsheets/pdf_di...    2018-06-03   \n",
       "7   http://sharkattackfile.net/spreadsheets/pdf_di...    2018-05-27   \n",
       "8   http://sharkattackfile.net/spreadsheets/pdf_di...    2018-05-26   \n",
       "9   http://sharkattackfile.net/spreadsheets/pdf_di...    2018-05-26   \n",
       "10  http://sharkattackfile.net/spreadsheets/pdf_di...    2018-05-24   \n",
       "11  http://sharkattackfile.net/spreadsheets/pdf_di...    2018-05-21   \n",
       "12  http://sharkattackfile.net/spreadsheets/pdf_di...    2018-05-13   \n",
       "13  http://sharkattackfile.net/spreadsheets/pdf_di...    2018-05-13   \n",
       "14  http://sharkattackfile.net/spreadsheets/pdf_di...    2018-05-01   \n",
       "15  http://sharkattackfile.net/spreadsheets/pdf_di...    2018-05-12   \n",
       "16  http://sharkattackfile.net/spreadsheets/pdf_di...    2018-05-09   \n",
       "17  http://sharkattackfile.net/spreadsheets/pdf_di...    2018-04-30   \n",
       "18  http://sharkattackfile.net/spreadsheets/pdf_di...    2018-04-28   \n",
       "19  http://sharkattackfile.net/spreadsheets/pdf_di...    2018-04-28   \n",
       "\n",
       "   case_number.2  original_order unnamed:_22 unnamed:_23  \n",
       "0     2018-06-25               0         NaN         NaN  \n",
       "1     2018-06-18               0         NaN         NaN  \n",
       "2     2018-06-09               0         NaN         NaN  \n",
       "3     2018-06-08               0         NaN         NaN  \n",
       "4     2018-06-04               0         NaN         NaN  \n",
       "5     2018-06-03               0         NaN         NaN  \n",
       "6     2018-06-03               0         NaN         NaN  \n",
       "7     2018-05-27               0         NaN         NaN  \n",
       "8     2018-05-26               0         NaN         NaN  \n",
       "9     2018-05-26               0         NaN         NaN  \n",
       "10    2018-05-24               0         NaN         NaN  \n",
       "11    2018-05-21               0         NaN         NaN  \n",
       "12    2018-05-13               0         NaN         NaN  \n",
       "13    2018-05-13               0         NaN         NaN  \n",
       "14    2018-05-01               0         NaN         NaN  \n",
       "15    2018-05-12               0         NaN         NaN  \n",
       "16    2018-05-09               0         NaN         NaN  \n",
       "17    2018-04-30               0         NaN         NaN  \n",
       "18    2018-04-28               0         NaN         NaN  \n",
       "19    2018-04-28               0         NaN         NaN  "
      ]
     },
     "execution_count": 96,
     "metadata": {},
     "output_type": "execute_result"
    }
   ],
   "source": [
    "data.head(20)"
   ]
  },
  {
   "cell_type": "code",
   "execution_count": null,
   "id": "2e3030de",
   "metadata": {},
   "outputs": [],
   "source": []
  },
  {
   "cell_type": "code",
   "execution_count": null,
   "id": "3e7ad940",
   "metadata": {},
   "outputs": [],
   "source": []
  },
  {
   "cell_type": "code",
   "execution_count": null,
   "id": "5e3bdd78",
   "metadata": {},
   "outputs": [],
   "source": []
  },
  {
   "cell_type": "code",
   "execution_count": null,
   "id": "805361d4",
   "metadata": {},
   "outputs": [],
   "source": [
    "#datos=datos.fillna('UNKNOWN') eliminar valores nulos"
   ]
  },
  {
   "cell_type": "code",
   "execution_count": null,
   "id": "1b8cb8af",
   "metadata": {},
   "outputs": [],
   "source": []
  },
  {
   "cell_type": "code",
   "execution_count": null,
   "id": "b765518c",
   "metadata": {},
   "outputs": [],
   "source": []
  },
  {
   "cell_type": "code",
   "execution_count": null,
   "id": "9b2296f8",
   "metadata": {},
   "outputs": [],
   "source": []
  },
  {
   "cell_type": "code",
   "execution_count": null,
   "id": "7095df86",
   "metadata": {},
   "outputs": [],
   "source": []
  },
  {
   "cell_type": "code",
   "execution_count": null,
   "id": "c53db8d2",
   "metadata": {},
   "outputs": [],
   "source": []
  },
  {
   "cell_type": "code",
   "execution_count": null,
   "id": "25a89eb2",
   "metadata": {},
   "outputs": [],
   "source": []
  }
 ],
 "metadata": {
  "kernelspec": {
   "display_name": "Python 3 (ipykernel)",
   "language": "python",
   "name": "python3"
  },
  "language_info": {
   "codemirror_mode": {
    "name": "ipython",
    "version": 3
   },
   "file_extension": ".py",
   "mimetype": "text/x-python",
   "name": "python",
   "nbconvert_exporter": "python",
   "pygments_lexer": "ipython3",
   "version": "3.10.9"
  }
 },
 "nbformat": 4,
 "nbformat_minor": 5
}
