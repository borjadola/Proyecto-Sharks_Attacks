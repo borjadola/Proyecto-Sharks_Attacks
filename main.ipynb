{
 "cells": [
  {
   "cell_type": "code",
   "execution_count": 1,
   "id": "987b87e9",
   "metadata": {},
   "outputs": [],
   "source": [
    "import pandas as pd\n",
    "import numpy as np\n",
    "import warnings\n",
    "import zipfile\n",
    "import regex as re\n",
    "warnings.filterwarnings('ignore')"
   ]
  },
  {
   "cell_type": "code",
   "execution_count": 2,
   "id": "53d6d140",
   "metadata": {},
   "outputs": [],
   "source": [
    "zf = zipfile.ZipFile('/Users/borja/IronHack/Proyecto-Sharks_Attacks/data/Archive.zip')\n",
    "\n",
    "\n",
    "archivo = zf.open('attacks.csv')\n",
    "\n",
    "\n",
    "data_original = pd.read_csv(archivo, encoding='latin1')\n",
    "pd.set_option('display.max_columns', None)"
   ]
  },
  {
   "cell_type": "code",
   "execution_count": 3,
   "id": "993ed0b6",
   "metadata": {},
   "outputs": [
    {
     "data": {
      "text/html": [
       "<div>\n",
       "<style scoped>\n",
       "    .dataframe tbody tr th:only-of-type {\n",
       "        vertical-align: middle;\n",
       "    }\n",
       "\n",
       "    .dataframe tbody tr th {\n",
       "        vertical-align: top;\n",
       "    }\n",
       "\n",
       "    .dataframe thead th {\n",
       "        text-align: right;\n",
       "    }\n",
       "</style>\n",
       "<table border=\"1\" class=\"dataframe\">\n",
       "  <thead>\n",
       "    <tr style=\"text-align: right;\">\n",
       "      <th></th>\n",
       "      <th>Case Number</th>\n",
       "      <th>Date</th>\n",
       "      <th>Year</th>\n",
       "      <th>Type</th>\n",
       "      <th>Country</th>\n",
       "      <th>Area</th>\n",
       "      <th>Location</th>\n",
       "      <th>Activity</th>\n",
       "      <th>Name</th>\n",
       "      <th>Sex</th>\n",
       "      <th>Age</th>\n",
       "      <th>Injury</th>\n",
       "      <th>Fatal (Y/N)</th>\n",
       "      <th>Time</th>\n",
       "      <th>Species</th>\n",
       "      <th>Investigator or Source</th>\n",
       "      <th>pdf</th>\n",
       "      <th>href formula</th>\n",
       "      <th>href</th>\n",
       "      <th>Case Number.1</th>\n",
       "      <th>Case Number.2</th>\n",
       "      <th>original order</th>\n",
       "      <th>Unnamed: 22</th>\n",
       "      <th>Unnamed: 23</th>\n",
       "    </tr>\n",
       "  </thead>\n",
       "  <tbody>\n",
       "    <tr>\n",
       "      <th>0</th>\n",
       "      <td>2018.06.25</td>\n",
       "      <td>25-Jun-2018</td>\n",
       "      <td>2018.0</td>\n",
       "      <td>Boating</td>\n",
       "      <td>USA</td>\n",
       "      <td>California</td>\n",
       "      <td>Oceanside, San Diego County</td>\n",
       "      <td>Paddling</td>\n",
       "      <td>Julie Wolfe</td>\n",
       "      <td>F</td>\n",
       "      <td>57</td>\n",
       "      <td>No injury to occupant, outrigger canoe and pad...</td>\n",
       "      <td>N</td>\n",
       "      <td>18h00</td>\n",
       "      <td>White shark</td>\n",
       "      <td>R. Collier, GSAF</td>\n",
       "      <td>2018.06.25-Wolfe.pdf</td>\n",
       "      <td>http://sharkattackfile.net/spreadsheets/pdf_di...</td>\n",
       "      <td>http://sharkattackfile.net/spreadsheets/pdf_di...</td>\n",
       "      <td>2018.06.25</td>\n",
       "      <td>2018.06.25</td>\n",
       "      <td>6303.0</td>\n",
       "      <td>NaN</td>\n",
       "      <td>NaN</td>\n",
       "    </tr>\n",
       "    <tr>\n",
       "      <th>1</th>\n",
       "      <td>2018.06.18</td>\n",
       "      <td>18-Jun-2018</td>\n",
       "      <td>2018.0</td>\n",
       "      <td>Unprovoked</td>\n",
       "      <td>USA</td>\n",
       "      <td>Georgia</td>\n",
       "      <td>St. Simon Island, Glynn County</td>\n",
       "      <td>Standing</td>\n",
       "      <td>Adyson McNeely</td>\n",
       "      <td>F</td>\n",
       "      <td>11</td>\n",
       "      <td>Minor injury to left thigh</td>\n",
       "      <td>N</td>\n",
       "      <td>14h00  -15h00</td>\n",
       "      <td>NaN</td>\n",
       "      <td>K.McMurray, TrackingSharks.com</td>\n",
       "      <td>2018.06.18-McNeely.pdf</td>\n",
       "      <td>http://sharkattackfile.net/spreadsheets/pdf_di...</td>\n",
       "      <td>http://sharkattackfile.net/spreadsheets/pdf_di...</td>\n",
       "      <td>2018.06.18</td>\n",
       "      <td>2018.06.18</td>\n",
       "      <td>6302.0</td>\n",
       "      <td>NaN</td>\n",
       "      <td>NaN</td>\n",
       "    </tr>\n",
       "    <tr>\n",
       "      <th>2</th>\n",
       "      <td>2018.06.09</td>\n",
       "      <td>09-Jun-2018</td>\n",
       "      <td>2018.0</td>\n",
       "      <td>Invalid</td>\n",
       "      <td>USA</td>\n",
       "      <td>Hawaii</td>\n",
       "      <td>Habush, Oahu</td>\n",
       "      <td>Surfing</td>\n",
       "      <td>John Denges</td>\n",
       "      <td>M</td>\n",
       "      <td>48</td>\n",
       "      <td>Injury to left lower leg from surfboard skeg</td>\n",
       "      <td>N</td>\n",
       "      <td>07h45</td>\n",
       "      <td>NaN</td>\n",
       "      <td>K.McMurray, TrackingSharks.com</td>\n",
       "      <td>2018.06.09-Denges.pdf</td>\n",
       "      <td>http://sharkattackfile.net/spreadsheets/pdf_di...</td>\n",
       "      <td>http://sharkattackfile.net/spreadsheets/pdf_di...</td>\n",
       "      <td>2018.06.09</td>\n",
       "      <td>2018.06.09</td>\n",
       "      <td>6301.0</td>\n",
       "      <td>NaN</td>\n",
       "      <td>NaN</td>\n",
       "    </tr>\n",
       "    <tr>\n",
       "      <th>3</th>\n",
       "      <td>2018.06.08</td>\n",
       "      <td>08-Jun-2018</td>\n",
       "      <td>2018.0</td>\n",
       "      <td>Unprovoked</td>\n",
       "      <td>AUSTRALIA</td>\n",
       "      <td>New South Wales</td>\n",
       "      <td>Arrawarra Headland</td>\n",
       "      <td>Surfing</td>\n",
       "      <td>male</td>\n",
       "      <td>M</td>\n",
       "      <td>NaN</td>\n",
       "      <td>Minor injury to lower leg</td>\n",
       "      <td>N</td>\n",
       "      <td>NaN</td>\n",
       "      <td>2 m shark</td>\n",
       "      <td>B. Myatt, GSAF</td>\n",
       "      <td>2018.06.08-Arrawarra.pdf</td>\n",
       "      <td>http://sharkattackfile.net/spreadsheets/pdf_di...</td>\n",
       "      <td>http://sharkattackfile.net/spreadsheets/pdf_di...</td>\n",
       "      <td>2018.06.08</td>\n",
       "      <td>2018.06.08</td>\n",
       "      <td>6300.0</td>\n",
       "      <td>NaN</td>\n",
       "      <td>NaN</td>\n",
       "    </tr>\n",
       "    <tr>\n",
       "      <th>4</th>\n",
       "      <td>2018.06.04</td>\n",
       "      <td>04-Jun-2018</td>\n",
       "      <td>2018.0</td>\n",
       "      <td>Provoked</td>\n",
       "      <td>MEXICO</td>\n",
       "      <td>Colima</td>\n",
       "      <td>La Ticla</td>\n",
       "      <td>Free diving</td>\n",
       "      <td>Gustavo Ramos</td>\n",
       "      <td>M</td>\n",
       "      <td>NaN</td>\n",
       "      <td>Lacerations to leg &amp; hand shark PROVOKED INCIDENT</td>\n",
       "      <td>N</td>\n",
       "      <td>NaN</td>\n",
       "      <td>Tiger shark, 3m</td>\n",
       "      <td>A .Kipper</td>\n",
       "      <td>2018.06.04-Ramos.pdf</td>\n",
       "      <td>http://sharkattackfile.net/spreadsheets/pdf_di...</td>\n",
       "      <td>http://sharkattackfile.net/spreadsheets/pdf_di...</td>\n",
       "      <td>2018.06.04</td>\n",
       "      <td>2018.06.04</td>\n",
       "      <td>6299.0</td>\n",
       "      <td>NaN</td>\n",
       "      <td>NaN</td>\n",
       "    </tr>\n",
       "  </tbody>\n",
       "</table>\n",
       "</div>"
      ],
      "text/plain": [
       "  Case Number         Date    Year        Type    Country             Area  \\\n",
       "0  2018.06.25  25-Jun-2018  2018.0     Boating        USA       California   \n",
       "1  2018.06.18  18-Jun-2018  2018.0  Unprovoked        USA          Georgia   \n",
       "2  2018.06.09  09-Jun-2018  2018.0     Invalid        USA           Hawaii   \n",
       "3  2018.06.08  08-Jun-2018  2018.0  Unprovoked  AUSTRALIA  New South Wales   \n",
       "4  2018.06.04  04-Jun-2018  2018.0    Provoked     MEXICO           Colima   \n",
       "\n",
       "                         Location     Activity             Name Sex   Age  \\\n",
       "0     Oceanside, San Diego County     Paddling      Julie Wolfe    F   57   \n",
       "1  St. Simon Island, Glynn County     Standing  Adyson McNeely     F   11   \n",
       "2                    Habush, Oahu      Surfing      John Denges    M   48   \n",
       "3              Arrawarra Headland      Surfing             male    M  NaN   \n",
       "4                        La Ticla  Free diving   Gustavo Ramos     M  NaN   \n",
       "\n",
       "                                              Injury Fatal (Y/N)  \\\n",
       "0  No injury to occupant, outrigger canoe and pad...           N   \n",
       "1                         Minor injury to left thigh           N   \n",
       "2       Injury to left lower leg from surfboard skeg           N   \n",
       "3                          Minor injury to lower leg           N   \n",
       "4  Lacerations to leg & hand shark PROVOKED INCIDENT           N   \n",
       "\n",
       "            Time         Species           Investigator or Source  \\\n",
       "0          18h00      White shark                R. Collier, GSAF   \n",
       "1  14h00  -15h00              NaN  K.McMurray, TrackingSharks.com   \n",
       "2          07h45              NaN  K.McMurray, TrackingSharks.com   \n",
       "3            NaN        2 m shark                  B. Myatt, GSAF   \n",
       "4            NaN  Tiger shark, 3m                       A .Kipper   \n",
       "\n",
       "                        pdf  \\\n",
       "0      2018.06.25-Wolfe.pdf   \n",
       "1    2018.06.18-McNeely.pdf   \n",
       "2     2018.06.09-Denges.pdf   \n",
       "3  2018.06.08-Arrawarra.pdf   \n",
       "4      2018.06.04-Ramos.pdf   \n",
       "\n",
       "                                        href formula  \\\n",
       "0  http://sharkattackfile.net/spreadsheets/pdf_di...   \n",
       "1  http://sharkattackfile.net/spreadsheets/pdf_di...   \n",
       "2  http://sharkattackfile.net/spreadsheets/pdf_di...   \n",
       "3  http://sharkattackfile.net/spreadsheets/pdf_di...   \n",
       "4  http://sharkattackfile.net/spreadsheets/pdf_di...   \n",
       "\n",
       "                                                href Case Number.1  \\\n",
       "0  http://sharkattackfile.net/spreadsheets/pdf_di...    2018.06.25   \n",
       "1  http://sharkattackfile.net/spreadsheets/pdf_di...    2018.06.18   \n",
       "2  http://sharkattackfile.net/spreadsheets/pdf_di...    2018.06.09   \n",
       "3  http://sharkattackfile.net/spreadsheets/pdf_di...    2018.06.08   \n",
       "4  http://sharkattackfile.net/spreadsheets/pdf_di...    2018.06.04   \n",
       "\n",
       "  Case Number.2  original order Unnamed: 22 Unnamed: 23  \n",
       "0    2018.06.25          6303.0         NaN         NaN  \n",
       "1    2018.06.18          6302.0         NaN         NaN  \n",
       "2    2018.06.09          6301.0         NaN         NaN  \n",
       "3    2018.06.08          6300.0         NaN         NaN  \n",
       "4    2018.06.04          6299.0         NaN         NaN  "
      ]
     },
     "execution_count": 3,
     "metadata": {},
     "output_type": "execute_result"
    }
   ],
   "source": [
    "data_original.head()"
   ]
  },
  {
   "cell_type": "code",
   "execution_count": 4,
   "id": "5e8dcc81",
   "metadata": {},
   "outputs": [],
   "source": [
    "data = data_original.copy()"
   ]
  },
  {
   "cell_type": "code",
   "execution_count": 5,
   "id": "e4fd3a29",
   "metadata": {},
   "outputs": [
    {
     "data": {
      "text/plain": [
       "(25723, 24)"
      ]
     },
     "execution_count": 5,
     "metadata": {},
     "output_type": "execute_result"
    }
   ],
   "source": [
    "data.shape"
   ]
  },
  {
   "cell_type": "code",
   "execution_count": 6,
   "id": "405b6ca2",
   "metadata": {},
   "outputs": [
    {
     "name": "stdout",
     "output_type": "stream",
     "text": [
      "<class 'pandas.core.frame.DataFrame'>\n",
      "RangeIndex: 25723 entries, 0 to 25722\n",
      "Data columns (total 24 columns):\n",
      " #   Column                  Non-Null Count  Dtype  \n",
      "---  ------                  --------------  -----  \n",
      " 0   Case Number             8702 non-null   object \n",
      " 1   Date                    6302 non-null   object \n",
      " 2   Year                    6300 non-null   float64\n",
      " 3   Type                    6298 non-null   object \n",
      " 4   Country                 6252 non-null   object \n",
      " 5   Area                    5847 non-null   object \n",
      " 6   Location                5762 non-null   object \n",
      " 7   Activity                5758 non-null   object \n",
      " 8   Name                    6092 non-null   object \n",
      " 9   Sex                     5737 non-null   object \n",
      " 10  Age                     3471 non-null   object \n",
      " 11  Injury                  6274 non-null   object \n",
      " 12  Fatal (Y/N)             5763 non-null   object \n",
      " 13  Time                    2948 non-null   object \n",
      " 14  Species                 3464 non-null   object \n",
      " 15  Investigator or Source  6285 non-null   object \n",
      " 16  pdf                     6302 non-null   object \n",
      " 17  href formula            6301 non-null   object \n",
      " 18  href                    6302 non-null   object \n",
      " 19  Case Number.1           6302 non-null   object \n",
      " 20  Case Number.2           6302 non-null   object \n",
      " 21  original order          6309 non-null   float64\n",
      " 22  Unnamed: 22             1 non-null      object \n",
      " 23  Unnamed: 23             2 non-null      object \n",
      "dtypes: float64(2), object(22)\n",
      "memory usage: 22.8 MB\n"
     ]
    }
   ],
   "source": [
    "data.info(memory_usage='deep')"
   ]
  },
  {
   "cell_type": "code",
   "execution_count": 7,
   "id": "305ad9f1",
   "metadata": {},
   "outputs": [
    {
     "data": {
      "text/plain": [
       "19411"
      ]
     },
     "execution_count": 7,
     "metadata": {},
     "output_type": "execute_result"
    }
   ],
   "source": [
    "duplicados = data[data.duplicated()] #borramos las filas publicadas\n",
    "len(duplicados)"
   ]
  },
  {
   "cell_type": "code",
   "execution_count": 8,
   "id": "e3fcc04d",
   "metadata": {},
   "outputs": [
    {
     "data": {
      "text/plain": [
       "(6312, 24)"
      ]
     },
     "execution_count": 8,
     "metadata": {},
     "output_type": "execute_result"
    }
   ],
   "source": [
    "data = data.drop_duplicates() #tenemos un nuevo DF con 19.411 filas borradas\n",
    "data.shape"
   ]
  },
  {
   "cell_type": "code",
   "execution_count": 9,
   "id": "aca6db0c",
   "metadata": {},
   "outputs": [
    {
     "data": {
      "text/plain": [
       "Case Number                  2\n",
       "Date                        10\n",
       "Year                        12\n",
       "Type                        14\n",
       "Country                     60\n",
       "Area                       465\n",
       "Location                   550\n",
       "Activity                   554\n",
       "Name                       220\n",
       "Sex                        575\n",
       "Age                       2841\n",
       "Injury                      38\n",
       "Fatal (Y/N)                549\n",
       "Time                      3364\n",
       "Species                   2848\n",
       "Investigator or Source      27\n",
       "pdf                         10\n",
       "href formula                11\n",
       "href                        10\n",
       "Case Number.1               10\n",
       "Case Number.2               10\n",
       "original order               3\n",
       "Unnamed: 22               6311\n",
       "Unnamed: 23               6310\n",
       "dtype: int64"
      ]
     },
     "execution_count": 9,
     "metadata": {},
     "output_type": "execute_result"
    }
   ],
   "source": [
    "data.isna().sum()"
   ]
  },
  {
   "cell_type": "code",
   "execution_count": 10,
   "id": "123890a0",
   "metadata": {},
   "outputs": [],
   "source": [
    "data.reset_index(drop=True, inplace=True)\n",
    "filas_de_nulos = data.isna().mean(axis=1) > 0.6"
   ]
  },
  {
   "cell_type": "code",
   "execution_count": 11,
   "id": "50c1f96c",
   "metadata": {},
   "outputs": [
    {
     "data": {
      "text/plain": [
       "(10, 24)"
      ]
     },
     "execution_count": 11,
     "metadata": {},
     "output_type": "execute_result"
    }
   ],
   "source": [
    "data[filas_de_nulos].shape #solo hay 10 filas con nulos. no borramos por no ser significativo"
   ]
  },
  {
   "cell_type": "code",
   "execution_count": 12,
   "id": "30b12d50",
   "metadata": {},
   "outputs": [
    {
     "data": {
      "text/plain": [
       "Index(['Case Number', 'Date', 'Year', 'Type', 'Country', 'Area', 'Location',\n",
       "       'Activity', 'Name', 'Sex ', 'Age', 'Injury', 'Fatal (Y/N)', 'Time',\n",
       "       'Species ', 'Investigator or Source', 'pdf', 'href formula', 'href',\n",
       "       'Case Number.1', 'Case Number.2', 'original order', 'Unnamed: 22',\n",
       "       'Unnamed: 23'],\n",
       "      dtype='object')"
      ]
     },
     "execution_count": 12,
     "metadata": {},
     "output_type": "execute_result"
    }
   ],
   "source": [
    "data.columns"
   ]
  },
  {
   "cell_type": "code",
   "execution_count": 13,
   "id": "07ec9aa3",
   "metadata": {},
   "outputs": [],
   "source": [
    "data.columns = [c.lower().strip().replace(' ', '_') for c in data.columns]"
   ]
  },
  {
   "cell_type": "code",
   "execution_count": 14,
   "id": "299d5abb",
   "metadata": {},
   "outputs": [
    {
     "data": {
      "text/plain": [
       "Index(['case_number', 'date', 'year', 'type', 'country', 'area', 'location',\n",
       "       'activity', 'name', 'sex', 'age', 'injury', 'fatal_(y/n)', 'time',\n",
       "       'species', 'investigator_or_source', 'pdf', 'href_formula', 'href',\n",
       "       'case_number.1', 'case_number.2', 'original_order', 'unnamed:_22',\n",
       "       'unnamed:_23'],\n",
       "      dtype='object')"
      ]
     },
     "execution_count": 14,
     "metadata": {},
     "output_type": "execute_result"
    }
   ],
   "source": [
    "data.columns"
   ]
  },
  {
   "cell_type": "markdown",
   "id": "98eac438",
   "metadata": {},
   "source": [
    "# Case Number"
   ]
  },
  {
   "cell_type": "code",
   "execution_count": 15,
   "id": "cf9062f5",
   "metadata": {},
   "outputs": [
    {
     "data": {
      "text/plain": [
       "0               8\n",
       "1920.00.00.b    2\n",
       "1966.12.26      2\n",
       "2014.08.02      2\n",
       "1990.05.10      2\n",
       "               ..\n",
       "1999.09.05      1\n",
       "1999.09.10      1\n",
       "1999.09.16      1\n",
       "1999.09.18      1\n",
       "xx              1\n",
       "Name: case_number, Length: 6287, dtype: int64"
      ]
     },
     "execution_count": 15,
     "metadata": {},
     "output_type": "execute_result"
    }
   ],
   "source": [
    "data.case_number.value_counts()"
   ]
  },
  {
   "cell_type": "code",
   "execution_count": 16,
   "id": "e1f8a82f",
   "metadata": {},
   "outputs": [],
   "source": [
    "data.case_number = data.case_number.str.strip()"
   ]
  },
  {
   "cell_type": "code",
   "execution_count": 17,
   "id": "5b1cde2e",
   "metadata": {},
   "outputs": [],
   "source": [
    "def filtrar_fechas(texto):\n",
    "    # Definir el patrón de fecha: año.mes.día\n",
    "    texto = str(texto)\n",
    "    patron_fecha = r'\\b\\d{4}\\.\\d{2}\\.\\d{2}\\b'\n",
    "    \n",
    "    \n",
    "    \n",
    "    # Buscar todas las fechas que coincidan con el patrón en el texto\n",
    "    fechas = re.findall(patron_fecha, texto)\n",
    "\n",
    "    # Unir todas las fechas encontradas en una sola cadena de texto\n",
    "    fechas_string = ' '.join(fechas) \n",
    "\n",
    "    \n",
    "    return fechas_string"
   ]
  },
  {
   "cell_type": "code",
   "execution_count": 18,
   "id": "246c9f83",
   "metadata": {},
   "outputs": [],
   "source": [
    "data.case_number = data.case_number.apply(filtrar_fechas) #aplicamos la función anterior y corregimos fechas"
   ]
  },
  {
   "cell_type": "code",
   "execution_count": 19,
   "id": "5d83c181",
   "metadata": {},
   "outputs": [
    {
     "data": {
      "text/plain": [
       "              142\n",
       "1950.00.00     13\n",
       "1942.00.00     11\n",
       "1957.00.00     11\n",
       "1960.00.00     10\n",
       "             ... \n",
       "1995.06.23      1\n",
       "1995.06.24      1\n",
       "1995.06.30      1\n",
       "1995.07.00      1\n",
       "0005.00.00      1\n",
       "Name: case_number, Length: 5200, dtype: int64"
      ]
     },
     "execution_count": 19,
     "metadata": {},
     "output_type": "execute_result"
    }
   ],
   "source": [
    "data.case_number.value_counts()"
   ]
  },
  {
   "cell_type": "code",
   "execution_count": 20,
   "id": "d96da492",
   "metadata": {},
   "outputs": [],
   "source": [
    "#todo lo que venga con fechas anteriores a 1970 lo eliminamos. \n",
    "#No vamos a trabajar con fecha anteriores a los último 50 años\n",
    "def filtrar_fechas2(texto):\n",
    "    pattern = r'(\\d{4})\\.(\\d{2})\\.(\\d{2})'\n",
    "    match = re.search(pattern, texto)\n",
    "    if match:\n",
    "        year, month, day = match.groups()\n",
    "        if int(year) < 1920:\n",
    "            return np.nan\n",
    "        if month == '00':\n",
    "            month = '01'\n",
    "        if day == '00':\n",
    "            day = '01'\n",
    "        return f'{year}.{month}.{day}'\n",
    "    else:\n",
    "        return np.nan\n"
   ]
  },
  {
   "cell_type": "code",
   "execution_count": 21,
   "id": "88df1f35",
   "metadata": {},
   "outputs": [],
   "source": [
    "data.case_number = data.case_number.apply(filtrar_fechas2)"
   ]
  },
  {
   "cell_type": "code",
   "execution_count": 22,
   "id": "7ffb325e",
   "metadata": {},
   "outputs": [
    {
     "data": {
      "text/plain": [
       "1950.01.01    13\n",
       "1942.01.01    12\n",
       "1960.01.01    11\n",
       "1957.01.01    11\n",
       "1958.01.01     9\n",
       "              ..\n",
       "2000.10.02     1\n",
       "2000.09.29     1\n",
       "2000.09.25     1\n",
       "2000.09.24     1\n",
       "1989.11.12     1\n",
       "Name: case_number, Length: 4340, dtype: int64"
      ]
     },
     "execution_count": 22,
     "metadata": {},
     "output_type": "execute_result"
    }
   ],
   "source": [
    "data.case_number.value_counts()"
   ]
  },
  {
   "cell_type": "code",
   "execution_count": 23,
   "id": "1ad63a16",
   "metadata": {},
   "outputs": [],
   "source": [
    "data.case_number = pd.to_datetime(data.case_number,format='%Y-%m-%d')"
   ]
  },
  {
   "cell_type": "code",
   "execution_count": 24,
   "id": "86d0f2d2",
   "metadata": {},
   "outputs": [
    {
     "data": {
      "text/plain": [
       "0   2018-06-25\n",
       "1   2018-06-18\n",
       "2   2018-06-09\n",
       "3   2018-06-08\n",
       "4   2018-06-04\n",
       "Name: case_number, dtype: datetime64[ns]"
      ]
     },
     "execution_count": 24,
     "metadata": {},
     "output_type": "execute_result"
    }
   ],
   "source": [
    "data.case_number.head()"
   ]
  },
  {
   "cell_type": "markdown",
   "id": "0755650f",
   "metadata": {},
   "source": [
    "# Date"
   ]
  },
  {
   "cell_type": "code",
   "execution_count": 25,
   "id": "607a2a6e",
   "metadata": {},
   "outputs": [
    {
     "data": {
      "text/plain": [
       "1957                          11\n",
       "1942                           9\n",
       "1956                           8\n",
       "1958                           7\n",
       "1950                           7\n",
       "                              ..\n",
       "01-Dec-1994                    1\n",
       "Reported      10-Dec-1994      1\n",
       "11-Dec-1994                    1\n",
       "13-Dec-1994                    1\n",
       "1845-1853                      1\n",
       "Name: date, Length: 5433, dtype: int64"
      ]
     },
     "execution_count": 25,
     "metadata": {},
     "output_type": "execute_result"
    }
   ],
   "source": [
    "data.date.value_counts()"
   ]
  },
  {
   "cell_type": "code",
   "execution_count": 26,
   "id": "d3693769",
   "metadata": {},
   "outputs": [],
   "source": [
    "data.date = data.date.str.strip()\n",
    "data.date = data.date.str.lstrip('Reported ')"
   ]
  },
  {
   "cell_type": "code",
   "execution_count": 27,
   "id": "d819053c",
   "metadata": {},
   "outputs": [],
   "source": [
    "data.date = pd.to_datetime(data.date,errors='coerce',format='%Y-%m-%d')"
   ]
  },
  {
   "cell_type": "code",
   "execution_count": 28,
   "id": "5511d7c2",
   "metadata": {},
   "outputs": [
    {
     "data": {
      "text/plain": [
       "True     6020\n",
       "False     292\n",
       "Name: date, dtype: int64"
      ]
     },
     "execution_count": 28,
     "metadata": {},
     "output_type": "execute_result"
    }
   ],
   "source": [
    "data.date.isnull().value_counts()"
   ]
  },
  {
   "cell_type": "code",
   "execution_count": 29,
   "id": "d7cffa9c",
   "metadata": {},
   "outputs": [
    {
     "data": {
      "text/plain": [
       "1957-01-01    11\n",
       "1942-01-01     9\n",
       "1956-01-01     8\n",
       "1950-01-01     7\n",
       "1958-01-01     7\n",
       "              ..\n",
       "1918-01-01     1\n",
       "1919-01-01     1\n",
       "1925-01-01     1\n",
       "1932-01-01     1\n",
       "1723-01-01     1\n",
       "Name: date, Length: 133, dtype: int64"
      ]
     },
     "execution_count": 29,
     "metadata": {},
     "output_type": "execute_result"
    }
   ],
   "source": [
    "data.date.value_counts()"
   ]
  },
  {
   "cell_type": "code",
   "execution_count": 30,
   "id": "c27c377d",
   "metadata": {},
   "outputs": [
    {
     "data": {
      "text/html": [
       "<div>\n",
       "<style scoped>\n",
       "    .dataframe tbody tr th:only-of-type {\n",
       "        vertical-align: middle;\n",
       "    }\n",
       "\n",
       "    .dataframe tbody tr th {\n",
       "        vertical-align: top;\n",
       "    }\n",
       "\n",
       "    .dataframe thead th {\n",
       "        text-align: right;\n",
       "    }\n",
       "</style>\n",
       "<table border=\"1\" class=\"dataframe\">\n",
       "  <thead>\n",
       "    <tr style=\"text-align: right;\">\n",
       "      <th></th>\n",
       "      <th>case_number</th>\n",
       "      <th>date</th>\n",
       "    </tr>\n",
       "  </thead>\n",
       "  <tbody>\n",
       "    <tr>\n",
       "      <th>0</th>\n",
       "      <td>2018-06-25</td>\n",
       "      <td>NaT</td>\n",
       "    </tr>\n",
       "    <tr>\n",
       "      <th>1</th>\n",
       "      <td>2018-06-18</td>\n",
       "      <td>NaT</td>\n",
       "    </tr>\n",
       "    <tr>\n",
       "      <th>2</th>\n",
       "      <td>2018-06-09</td>\n",
       "      <td>NaT</td>\n",
       "    </tr>\n",
       "    <tr>\n",
       "      <th>3</th>\n",
       "      <td>2018-06-08</td>\n",
       "      <td>NaT</td>\n",
       "    </tr>\n",
       "    <tr>\n",
       "      <th>4</th>\n",
       "      <td>2018-06-04</td>\n",
       "      <td>NaT</td>\n",
       "    </tr>\n",
       "    <tr>\n",
       "      <th>5</th>\n",
       "      <td>2018-06-03</td>\n",
       "      <td>NaT</td>\n",
       "    </tr>\n",
       "    <tr>\n",
       "      <th>6</th>\n",
       "      <td>2018-06-03</td>\n",
       "      <td>NaT</td>\n",
       "    </tr>\n",
       "    <tr>\n",
       "      <th>7</th>\n",
       "      <td>2018-05-27</td>\n",
       "      <td>NaT</td>\n",
       "    </tr>\n",
       "    <tr>\n",
       "      <th>8</th>\n",
       "      <td>2018-05-26</td>\n",
       "      <td>NaT</td>\n",
       "    </tr>\n",
       "    <tr>\n",
       "      <th>9</th>\n",
       "      <td>2018-05-26</td>\n",
       "      <td>NaT</td>\n",
       "    </tr>\n",
       "    <tr>\n",
       "      <th>10</th>\n",
       "      <td>2018-05-24</td>\n",
       "      <td>NaT</td>\n",
       "    </tr>\n",
       "    <tr>\n",
       "      <th>11</th>\n",
       "      <td>2018-05-21</td>\n",
       "      <td>NaT</td>\n",
       "    </tr>\n",
       "    <tr>\n",
       "      <th>12</th>\n",
       "      <td>2018-05-13</td>\n",
       "      <td>NaT</td>\n",
       "    </tr>\n",
       "    <tr>\n",
       "      <th>13</th>\n",
       "      <td>2018-05-13</td>\n",
       "      <td>NaT</td>\n",
       "    </tr>\n",
       "    <tr>\n",
       "      <th>14</th>\n",
       "      <td>2018-05-01</td>\n",
       "      <td>NaT</td>\n",
       "    </tr>\n",
       "  </tbody>\n",
       "</table>\n",
       "</div>"
      ],
      "text/plain": [
       "   case_number date\n",
       "0   2018-06-25  NaT\n",
       "1   2018-06-18  NaT\n",
       "2   2018-06-09  NaT\n",
       "3   2018-06-08  NaT\n",
       "4   2018-06-04  NaT\n",
       "5   2018-06-03  NaT\n",
       "6   2018-06-03  NaT\n",
       "7   2018-05-27  NaT\n",
       "8   2018-05-26  NaT\n",
       "9   2018-05-26  NaT\n",
       "10  2018-05-24  NaT\n",
       "11  2018-05-21  NaT\n",
       "12  2018-05-13  NaT\n",
       "13  2018-05-13  NaT\n",
       "14  2018-05-01  NaT"
      ]
     },
     "execution_count": 30,
     "metadata": {},
     "output_type": "execute_result"
    }
   ],
   "source": [
    "data[['case_number','date']].head(15)"
   ]
  },
  {
   "cell_type": "code",
   "execution_count": 31,
   "id": "4bc3c7f1",
   "metadata": {},
   "outputs": [],
   "source": [
    "indice_nulos = data[data.case_number.isna()].index\n",
    "data.loc[indice_nulos,'case_number'] = data.loc[indice_nulos,'date']"
   ]
  },
  {
   "cell_type": "code",
   "execution_count": 32,
   "id": "d6c3d303",
   "metadata": {},
   "outputs": [
    {
     "data": {
      "text/plain": [
       "False    5348\n",
       "True      964\n",
       "Name: case_number, dtype: int64"
      ]
     },
     "execution_count": 32,
     "metadata": {},
     "output_type": "execute_result"
    }
   ],
   "source": [
    "data.case_number.isnull().value_counts()"
   ]
  },
  {
   "cell_type": "code",
   "execution_count": 33,
   "id": "301fbe1b",
   "metadata": {},
   "outputs": [],
   "source": [
    "data.date = data.case_number\n",
    "data['case_number.1'] = data.case_number\n",
    "data['case_number.2'] = data.case_number"
   ]
  },
  {
   "cell_type": "markdown",
   "id": "aaadf73f",
   "metadata": {},
   "source": [
    "# Type"
   ]
  },
  {
   "cell_type": "code",
   "execution_count": 34,
   "id": "c43263c9",
   "metadata": {},
   "outputs": [
    {
     "data": {
      "text/plain": [
       "Unprovoked      4595\n",
       "Provoked         574\n",
       "Invalid          547\n",
       "Sea Disaster     239\n",
       "Boating          203\n",
       "Boat             137\n",
       "Questionable       2\n",
       "Boatomg            1\n",
       "Name: type, dtype: int64"
      ]
     },
     "execution_count": 34,
     "metadata": {},
     "output_type": "execute_result"
    }
   ],
   "source": [
    "data.type.value_counts()"
   ]
  },
  {
   "cell_type": "code",
   "execution_count": 35,
   "id": "7604cc7f",
   "metadata": {},
   "outputs": [],
   "source": [
    "data.type = data.type.str.replace('Boatomg', 'Boat')"
   ]
  },
  {
   "cell_type": "code",
   "execution_count": 36,
   "id": "e30ce9d5",
   "metadata": {},
   "outputs": [],
   "source": [
    "data.type = data.type.str.replace('Boating', 'Boat')"
   ]
  },
  {
   "cell_type": "code",
   "execution_count": 37,
   "id": "4e0bfa86",
   "metadata": {},
   "outputs": [],
   "source": [
    "data.type = data.type.str.replace('Questionable', 'Other')"
   ]
  },
  {
   "cell_type": "code",
   "execution_count": 38,
   "id": "7218b8cf",
   "metadata": {},
   "outputs": [],
   "source": [
    "data.type = data.type.str.replace('Invalid', 'Other')"
   ]
  },
  {
   "cell_type": "code",
   "execution_count": 39,
   "id": "d3f96f0b",
   "metadata": {},
   "outputs": [],
   "source": [
    "data.type = data.type.str.upper()"
   ]
  },
  {
   "cell_type": "code",
   "execution_count": 40,
   "id": "dfa8a3fd",
   "metadata": {},
   "outputs": [
    {
     "data": {
      "text/plain": [
       "UNPROVOKED      4595\n",
       "PROVOKED         574\n",
       "OTHER            549\n",
       "BOAT             341\n",
       "SEA DISASTER     239\n",
       "Name: type, dtype: int64"
      ]
     },
     "execution_count": 40,
     "metadata": {},
     "output_type": "execute_result"
    }
   ],
   "source": [
    "data.type.value_counts()"
   ]
  },
  {
   "cell_type": "markdown",
   "id": "89063caf",
   "metadata": {},
   "source": [
    "# Country"
   ]
  },
  {
   "cell_type": "code",
   "execution_count": 41,
   "id": "f19dae13",
   "metadata": {},
   "outputs": [
    {
     "data": {
      "text/plain": [
       "213"
      ]
     },
     "execution_count": 41,
     "metadata": {},
     "output_type": "execute_result"
    }
   ],
   "source": [
    "len(data.country.unique())"
   ]
  },
  {
   "cell_type": "code",
   "execution_count": 42,
   "id": "dd863d87",
   "metadata": {},
   "outputs": [
    {
     "data": {
      "text/plain": [
       "188"
      ]
     },
     "execution_count": 42,
     "metadata": {},
     "output_type": "execute_result"
    }
   ],
   "source": [
    "data.country = data.country.str.upper()\n",
    "data.country = data.country.str.replace(r'[(\\)\\-\\?]+', ' ')\n",
    "data.country = data.country.str.replace('CEYLON  ','')\n",
    "data.country = data.country.replace(['ASIA','NORTH SEA', 'RED SEA / INDIAN OCEAN', 'BRITISH WEST INDIES', 'ASIA', 'COAST OF AFRICA', 'WEST INDIES', 'CENTRAL PACIFIC', 'RED SEA', 'MID ATLANTIC OCEAN', 'SOUTH PACIFIC OCEAN', 'BETWEEN PORTUGAL & INDIA', 'MEDITERRANEAN SEA'], np.nan)\n",
    "data.country = data.country.str.strip()\n",
    "len(data.country.unique())"
   ]
  },
  {
   "cell_type": "code",
   "execution_count": 43,
   "id": "82378471",
   "metadata": {},
   "outputs": [
    {
     "data": {
      "text/plain": [
       "USA                           2229\n",
       "AUSTRALIA                     1338\n",
       "SOUTH AFRICA                   579\n",
       "PAPUA NEW GUINEA               134\n",
       "NEW ZEALAND                    128\n",
       "                              ... \n",
       "MAYOTTE                          1\n",
       "GABON                            1\n",
       "ANDAMAN / NICOBAR ISLANDAS       1\n",
       "MALDIVE ISLANDS                  1\n",
       "ASIA                             1\n",
       "Name: country, Length: 187, dtype: int64"
      ]
     },
     "execution_count": 43,
     "metadata": {},
     "output_type": "execute_result"
    }
   ],
   "source": [
    "data.country.value_counts()"
   ]
  },
  {
   "cell_type": "markdown",
   "id": "d6d9128c",
   "metadata": {},
   "source": [
    "# Area"
   ]
  },
  {
   "cell_type": "code",
   "execution_count": 44,
   "id": "d0850f94",
   "metadata": {},
   "outputs": [
    {
     "data": {
      "text/plain": [
       "826"
      ]
     },
     "execution_count": 44,
     "metadata": {},
     "output_type": "execute_result"
    }
   ],
   "source": [
    "len(data.area.unique())"
   ]
  },
  {
   "cell_type": "code",
   "execution_count": 45,
   "id": "2b37cf99",
   "metadata": {},
   "outputs": [],
   "source": [
    "data.area = data.area.str.upper()\n",
    "data.area = data.area.str.strip()"
   ]
  },
  {
   "cell_type": "code",
   "execution_count": 46,
   "id": "87796ee4",
   "metadata": {},
   "outputs": [
    {
     "data": {
      "text/plain": [
       "FLORIDA                     1038\n",
       "NEW SOUTH WALES              486\n",
       "QUEENSLAND                   312\n",
       "HAWAII                       298\n",
       "CALIFORNIA                   290\n",
       "                            ... \n",
       "REGGIO CALABRIA PROVINCE       1\n",
       "GENOA PROVINCE                 1\n",
       "GANGES-BRAHMAPUTRA DELTA       1\n",
       "AULONG ISLAND                  1\n",
       "MOALA ISLAND                   1\n",
       "Name: area, Length: 801, dtype: int64"
      ]
     },
     "execution_count": 46,
     "metadata": {},
     "output_type": "execute_result"
    }
   ],
   "source": [
    "data.area.value_counts()"
   ]
  },
  {
   "cell_type": "markdown",
   "id": "d5949bea",
   "metadata": {},
   "source": [
    "# Year"
   ]
  },
  {
   "cell_type": "code",
   "execution_count": 47,
   "id": "cbe4e9d4",
   "metadata": {},
   "outputs": [
    {
     "data": {
      "text/plain": [
       "250"
      ]
     },
     "execution_count": 47,
     "metadata": {},
     "output_type": "execute_result"
    }
   ],
   "source": [
    "len(data.year.unique())"
   ]
  },
  {
   "cell_type": "code",
   "execution_count": 48,
   "id": "1c9da023",
   "metadata": {},
   "outputs": [
    {
     "data": {
      "text/plain": [
       "2015.0    143\n",
       "2017.0    136\n",
       "2016.0    130\n",
       "2011.0    128\n",
       "2014.0    127\n",
       "         ... \n",
       "1786.0      1\n",
       "1785.0      1\n",
       "1784.0      1\n",
       "1783.0      1\n",
       "1815.0      1\n",
       "Name: year, Length: 249, dtype: int64"
      ]
     },
     "execution_count": 48,
     "metadata": {},
     "output_type": "execute_result"
    }
   ],
   "source": [
    "data.year.value_counts()"
   ]
  },
  {
   "cell_type": "code",
   "execution_count": 49,
   "id": "9a51a229",
   "metadata": {},
   "outputs": [
    {
     "data": {
      "text/plain": [
       "False    6300\n",
       "True       12\n",
       "Name: year, dtype: int64"
      ]
     },
     "execution_count": 49,
     "metadata": {},
     "output_type": "execute_result"
    }
   ],
   "source": [
    "data.year.isnull().value_counts()"
   ]
  },
  {
   "cell_type": "markdown",
   "id": "c6a9c254",
   "metadata": {},
   "source": [
    "# Fatal"
   ]
  },
  {
   "cell_type": "code",
   "execution_count": 50,
   "id": "228d2824",
   "metadata": {},
   "outputs": [
    {
     "data": {
      "text/plain": [
       "N          4293\n",
       "Y          1388\n",
       "UNKNOWN      71\n",
       " N            7\n",
       "M             1\n",
       "2017          1\n",
       "N             1\n",
       "y             1\n",
       "Name: fatal_(y/n), dtype: int64"
      ]
     },
     "execution_count": 50,
     "metadata": {},
     "output_type": "execute_result"
    }
   ],
   "source": [
    "data['fatal_(y/n)'].value_counts()"
   ]
  },
  {
   "cell_type": "code",
   "execution_count": 51,
   "id": "adca67f9",
   "metadata": {},
   "outputs": [],
   "source": [
    "data['fatal_(y/n)'] = data['fatal_(y/n)'].str.strip()"
   ]
  },
  {
   "cell_type": "code",
   "execution_count": 52,
   "id": "7227e027",
   "metadata": {},
   "outputs": [
    {
     "data": {
      "text/plain": [
       "N          4301\n",
       "Y          1388\n",
       "UNKNOWN      71\n",
       "M             1\n",
       "2017          1\n",
       "y             1\n",
       "Name: fatal_(y/n), dtype: int64"
      ]
     },
     "execution_count": 52,
     "metadata": {},
     "output_type": "execute_result"
    }
   ],
   "source": [
    "data['fatal_(y/n)'].value_counts()"
   ]
  },
  {
   "cell_type": "code",
   "execution_count": 53,
   "id": "b599cd63",
   "metadata": {},
   "outputs": [],
   "source": [
    "data['fatal_(y/n)'].replace(['M','2017','UNKNOWN','y'], np.nan, inplace=True)"
   ]
  },
  {
   "cell_type": "code",
   "execution_count": 54,
   "id": "ba30e995",
   "metadata": {},
   "outputs": [],
   "source": [
    "data['fatal_(y/n)'].replace(['N'], 0, inplace=True)\n",
    "data['fatal_(y/n)'].replace(['Y'], 1, inplace=True)"
   ]
  },
  {
   "cell_type": "code",
   "execution_count": 55,
   "id": "16525745",
   "metadata": {},
   "outputs": [
    {
     "data": {
      "text/plain": [
       "0.0    4301\n",
       "1.0    1388\n",
       "Name: fatal_(y/n), dtype: int64"
      ]
     },
     "execution_count": 55,
     "metadata": {},
     "output_type": "execute_result"
    }
   ],
   "source": [
    "data['fatal_(y/n)'].value_counts()"
   ]
  },
  {
   "cell_type": "markdown",
   "id": "c92a6d13",
   "metadata": {},
   "source": [
    "# Sex"
   ]
  },
  {
   "cell_type": "code",
   "execution_count": 56,
   "id": "f76bf0b9",
   "metadata": {},
   "outputs": [
    {
     "data": {
      "text/plain": [
       "M      5094\n",
       "F       637\n",
       "M         2\n",
       "N         2\n",
       "lli       1\n",
       ".         1\n",
       "Name: sex, dtype: int64"
      ]
     },
     "execution_count": 56,
     "metadata": {},
     "output_type": "execute_result"
    }
   ],
   "source": [
    "data.sex.value_counts()"
   ]
  },
  {
   "cell_type": "code",
   "execution_count": 57,
   "id": "376ef62e",
   "metadata": {},
   "outputs": [
    {
     "data": {
      "text/plain": [
       "M    5096\n",
       "F     637\n",
       "Name: sex, dtype: int64"
      ]
     },
     "execution_count": 57,
     "metadata": {},
     "output_type": "execute_result"
    }
   ],
   "source": [
    "data.sex = data.sex.str.strip()\n",
    "data.sex.replace(['N','.','lli'],np.nan,inplace=True)\n",
    "data.sex.value_counts()"
   ]
  },
  {
   "cell_type": "markdown",
   "id": "93638d34",
   "metadata": {},
   "source": [
    "# Age"
   ]
  },
  {
   "cell_type": "code",
   "execution_count": 58,
   "id": "1f515fdc",
   "metadata": {},
   "outputs": [
    {
     "data": {
      "text/plain": [
       "17                154\n",
       "18                150\n",
       "19                142\n",
       "20                141\n",
       "15                139\n",
       "                 ... \n",
       "20?                 1\n",
       " 28                 1\n",
       "7      &    31      1\n",
       " 30                 1\n",
       "13 or 14            1\n",
       "Name: age, Length: 157, dtype: int64"
      ]
     },
     "execution_count": 58,
     "metadata": {},
     "output_type": "execute_result"
    }
   ],
   "source": [
    "data.age.value_counts()"
   ]
  },
  {
   "cell_type": "code",
   "execution_count": 59,
   "id": "9f2c7d1c",
   "metadata": {},
   "outputs": [
    {
     "data": {
      "text/plain": [
       "False    3471\n",
       "True     2841\n",
       "Name: age, dtype: int64"
      ]
     },
     "execution_count": 59,
     "metadata": {},
     "output_type": "execute_result"
    }
   ],
   "source": [
    "data.age.isnull().value_counts()"
   ]
  },
  {
   "cell_type": "code",
   "execution_count": 60,
   "id": "5ecaa388",
   "metadata": {},
   "outputs": [],
   "source": [
    "data.age = pd.to_numeric(data.age, errors='coerce')"
   ]
  },
  {
   "cell_type": "code",
   "execution_count": 61,
   "id": "6e801275",
   "metadata": {},
   "outputs": [
    {
     "data": {
      "text/plain": [
       "False    3369\n",
       "True     2943\n",
       "Name: age, dtype: int64"
      ]
     },
     "execution_count": 61,
     "metadata": {},
     "output_type": "execute_result"
    }
   ],
   "source": [
    "data.age.isnull().value_counts()"
   ]
  },
  {
   "cell_type": "markdown",
   "id": "3e019105",
   "metadata": {},
   "source": [
    "# Activity"
   ]
  },
  {
   "cell_type": "code",
   "execution_count": 62,
   "id": "72902c3e",
   "metadata": {},
   "outputs": [],
   "source": [
    "data.activity = data.activity.str.upper()\n",
    "data.activity = data.activity.str.strip()"
   ]
  },
  {
   "cell_type": "code",
   "execution_count": 63,
   "id": "4c8528a0",
   "metadata": {},
   "outputs": [
    {
     "data": {
      "text/plain": [
       "SURFING               976\n",
       "SWIMMING              916\n",
       "FISHING               444\n",
       "SPEARFISHING          340\n",
       "BATHING               165\n",
       "WADING                149\n",
       "DIVING                130\n",
       "STANDING              101\n",
       "SCUBA DIVING           91\n",
       "SNORKELING             89\n",
       "BODY BOARDING          65\n",
       "BODY SURFING           50\n",
       "BOOGIE BOARDING        45\n",
       "KAYAKING               35\n",
       "FELL OVERBOARD         33\n",
       "TREADING WATER         32\n",
       "PEARL DIVING           32\n",
       "FREE DIVING            30\n",
       "SURF SKIING            19\n",
       "WINDSURFING            19\n",
       "WALKING                17\n",
       "SHARK FISHING          16\n",
       "FLOATING               15\n",
       "ROWING                 14\n",
       "CANOEING               14\n",
       "KAYAK FISHING          14\n",
       "SEA DISASTER           14\n",
       "SURF-SKIING            12\n",
       "SURF FISHING           12\n",
       "FISHING FOR SHARKS     11\n",
       "Name: activity, dtype: int64"
      ]
     },
     "execution_count": 63,
     "metadata": {},
     "output_type": "execute_result"
    }
   ],
   "source": [
    "data.activity.value_counts().head(30)"
   ]
  },
  {
   "cell_type": "code",
   "execution_count": 64,
   "id": "902f6be8",
   "metadata": {},
   "outputs": [],
   "source": [
    "data.activity = data.activity.apply(lambda x: 'FISHING' if 'FISH' in str(x) else x)\n",
    "data.activity = data.activity.apply(lambda x: 'SURFING' if 'SURF' in str(x) else x)\n",
    "data.activity = data.activity.apply(lambda x: 'SURFING' if 'BODY' in str(x) else x)\n",
    "data.activity = data.activity.apply(lambda x: 'KAYAKING' if 'CANOE' in str(x) else x)\n",
    "data.activity = data.activity.apply(lambda x: 'SWIMMING' if 'SWIM' in str(x) else x)\n",
    "data.activity = data.activity.apply(lambda x: 'SCUBA DIVING' if 'DIVING' in str(x) else x)\n",
    "data.activity = data.activity.apply(lambda x: 'BOATING' if 'BOAT' in str(x) else x)\n",
    "data.activity = data.activity.apply(lambda x: 'BATHING' if 'TREADING WATER'  in str(x) else x)\n",
    "data.activity = data.activity.apply(lambda x: 'BOATING' if 'SAIL' in str(x) else x)\n",
    "data.activity = data.activity.apply(lambda x: 'PADDLE BOARDING' if 'PADDL'  in str(x) else x)\n",
    "data.activity = data.activity.apply(lambda x: 'SEA DISASTER' if 'DISASTER'  in str(x) else x)\n",
    "\n",
    "data.activity = data.activity.replace('BOOGIE BOARDING', 'SURFING')\n",
    "data.activity = data.activity.replace('ROWING', 'KAYAKING')\n",
    "data.activity = data.activity.replace('FELL OVERBOARD', 'FELL INTO THE WATER')"
   ]
  },
  {
   "cell_type": "code",
   "execution_count": 65,
   "id": "a78ccc06",
   "metadata": {},
   "outputs": [
    {
     "data": {
      "text/plain": [
       "SURFING         1347\n",
       "FISHING         1225\n",
       "SWIMMING        1091\n",
       "SCUBA DIVING     497\n",
       "BATHING          202\n",
       "Name: activity, dtype: int64"
      ]
     },
     "execution_count": 65,
     "metadata": {},
     "output_type": "execute_result"
    }
   ],
   "source": [
    "data.activity.value_counts().head()"
   ]
  },
  {
   "cell_type": "markdown",
   "id": "6143581d",
   "metadata": {},
   "source": [
    "# Species"
   ]
  },
  {
   "cell_type": "code",
   "execution_count": 66,
   "id": "a6b24e26",
   "metadata": {},
   "outputs": [],
   "source": [
    "data.species = data.species.str.strip()\n",
    "data.species = data.species.str.upper()"
   ]
  },
  {
   "cell_type": "code",
   "execution_count": 67,
   "id": "8cb7f233",
   "metadata": {},
   "outputs": [],
   "source": [
    "lista_de_especies = ['WHITE','TIGER','BULL','BLACKTIP','NURSE','BLUE','REEF','AKO','RAGGEDTOOTH','HAMMERHEAD','BRONZE','LEMON','ZAMBESI','MAKO','WHALE','WOBBEGONG','SAND','SPINNER','SEVENGILL','BASKING','DUSKY','ANGEL','CARPET','GALAPAGOS','SILKY','PORBEAGLE','GILL','DOG','GREY','SALMON','SANDBAR','GILL','COPPER','SHOVELNOSE','THRESHER', 'SILVERTIP']"
   ]
  },
  {
   "cell_type": "code",
   "execution_count": 68,
   "id": "5e1848d4",
   "metadata": {},
   "outputs": [],
   "source": [
    "def limpiar_species(s, lst):\n",
    "    \n",
    "    if pd.isnull(s): \n",
    "        return s\n",
    "    \n",
    "    # Verifica si alguna palabra en lst está en s\n",
    "    for word in lst:\n",
    "        if word in s:\n",
    "            return word + ' SHARK'\n",
    "    return 'UNIDENTIFIED'    "
   ]
  },
  {
   "cell_type": "code",
   "execution_count": 69,
   "id": "20bcf62d",
   "metadata": {},
   "outputs": [],
   "source": [
    "data.species = data.species.apply(lambda x: limpiar_species(str(x), lista_de_especies))"
   ]
  },
  {
   "cell_type": "code",
   "execution_count": 70,
   "id": "eaae6b25",
   "metadata": {},
   "outputs": [
    {
     "data": {
      "text/plain": [
       "UNIDENTIFIED      4398\n",
       "WHITE SHARK        667\n",
       "TIGER SHARK        283\n",
       "BULL SHARK         178\n",
       "BLACKTIP SHARK     101\n",
       "Name: species, dtype: int64"
      ]
     },
     "execution_count": 70,
     "metadata": {},
     "output_type": "execute_result"
    }
   ],
   "source": [
    "data.species.value_counts().head()"
   ]
  },
  {
   "cell_type": "markdown",
   "id": "fc6f4372",
   "metadata": {},
   "source": [
    "# Original order"
   ]
  },
  {
   "cell_type": "code",
   "execution_count": 71,
   "id": "87180038",
   "metadata": {},
   "outputs": [],
   "source": [
    "data.original_order = 0"
   ]
  },
  {
   "cell_type": "markdown",
   "id": "b17f4970",
   "metadata": {},
   "source": [
    "# Time"
   ]
  },
  {
   "cell_type": "code",
   "execution_count": 72,
   "id": "c27e4a29",
   "metadata": {},
   "outputs": [
    {
     "data": {
      "text/plain": [
       "Afternoon      187\n",
       "11h00          128\n",
       "Morning        121\n",
       "12h00          109\n",
       "15h00          108\n",
       "              ... \n",
       "14h37            1\n",
       "10h07            1\n",
       "13h53            1\n",
       "13h23            1\n",
       "19h00-20h00      1\n",
       "Name: time, Length: 366, dtype: int64"
      ]
     },
     "execution_count": 72,
     "metadata": {},
     "output_type": "execute_result"
    }
   ],
   "source": [
    "data.time.value_counts()"
   ]
  },
  {
   "cell_type": "code",
   "execution_count": 73,
   "id": "2e3030de",
   "metadata": {},
   "outputs": [],
   "source": [
    "data.time = data.time.str.lower()\n",
    "data.time = data.time.str.strip()"
   ]
  },
  {
   "cell_type": "code",
   "execution_count": 74,
   "id": "3e7ad940",
   "metadata": {},
   "outputs": [
    {
     "data": {
      "text/plain": [
       "a.m.                             12\n",
       "mid-morning                       1\n",
       "30 minutes after 1992.07.08.a     1\n",
       "02h45                             1\n",
       "03h30                             2\n",
       "19h55                             1\n",
       "19h05                             1\n",
       "18h15-18h30                       1\n",
       "15h01                             1\n",
       "19h10                             1\n",
       "15h35                             5\n",
       "after 04h00                       1\n",
       "13h14                             1\n",
       "15h40                             4\n",
       "17h10                             4\n",
       "0830                              1\n",
       "\"just before 11h00\"               1\n",
       "12h35                             1\n",
       "am                                2\n",
       "07h19                             2\n",
       "Name: time, dtype: int64"
      ]
     },
     "execution_count": 74,
     "metadata": {},
     "output_type": "execute_result"
    }
   ],
   "source": [
    "data.time.value_counts().sample(20)\n"
   ]
  },
  {
   "cell_type": "code",
   "execution_count": 75,
   "id": "76d93fbd",
   "metadata": {},
   "outputs": [],
   "source": [
    "data.time = data.time.apply(lambda x: 'EVENING' if 'even' in str(x) else x)\n",
    "data.time = data.time.apply(lambda x: 'EVENING' if 'night' in str(x) else x)\n",
    "data.time = data.time.apply(lambda x: 'AFTERNOON' if 'aftern' in str(x) else x)\n",
    "data.time = data.time.str.replace('morning', 'DAY MORNING')"
   ]
  },
  {
   "cell_type": "code",
   "execution_count": 76,
   "id": "1313cf4e",
   "metadata": {},
   "outputs": [
    {
     "data": {
      "text/plain": [
       "AFTERNOON      234\n",
       "11h00          128\n",
       "DAY MORNING    122\n",
       "12h00          109\n",
       "EVENING        108\n",
       "15h00          108\n",
       "16h00          101\n",
       "14h00           98\n",
       "16h30           74\n",
       "14h30           73\n",
       "17h00           73\n",
       "13h00           72\n",
       "17h30           70\n",
       "18h00           69\n",
       "15h30           66\n",
       "11h30           62\n",
       "13h30           60\n",
       "10h00           59\n",
       "09h00           50\n",
       "10h30           49\n",
       "Name: time, dtype: int64"
      ]
     },
     "execution_count": 76,
     "metadata": {},
     "output_type": "execute_result"
    }
   ],
   "source": [
    "data.time.value_counts().head(20)"
   ]
  },
  {
   "cell_type": "code",
   "execution_count": 77,
   "id": "5ff2ad81",
   "metadata": {},
   "outputs": [],
   "source": [
    "def time_period(s):\n",
    "    \n",
    "    if pd.isnull(s): \n",
    "        return s\n",
    "    \n",
    "    match = re.search('(\\d{2})h', s)\n",
    "    if match:\n",
    "        hour = int(match.group(1))\n",
    "        if 6 <= hour <= 11:\n",
    "            return \"DAY MORNING\"\n",
    "        elif 12 <= hour <= 17:\n",
    "            return \"AFTERNOON\"\n",
    "        elif 18 <= hour <= 23:\n",
    "            return \"EVENING\"\n",
    "        elif 0 <= hour <= 5:\n",
    "            return \"NIGHT MORNING\"\n",
    "    return s"
   ]
  },
  {
   "cell_type": "code",
   "execution_count": 78,
   "id": "1a7658c2",
   "metadata": {},
   "outputs": [],
   "source": [
    "data.time = data.time.apply(time_period)"
   ]
  },
  {
   "cell_type": "code",
   "execution_count": 79,
   "id": "680b9882",
   "metadata": {},
   "outputs": [
    {
     "data": {
      "text/plain": [
       "AFTERNOON            1551\n",
       "DAY MORNING           898\n",
       "EVENING               340\n",
       "NIGHT MORNING          41\n",
       "dusk                   16\n",
       "p.m.                   12\n",
       "a.m.                   12\n",
       "early DAY MORNING      12\n",
       "midday                 10\n",
       "                        5\n",
       "--                      5\n",
       "sunset                  4\n",
       "just before noon        2\n",
       "1600                    2\n",
       "dawn                    2\n",
       "am                      2\n",
       "after noon              2\n",
       "after dusk              2\n",
       "dark                    2\n",
       "just before dawn        1\n",
       "Name: time, dtype: int64"
      ]
     },
     "execution_count": 79,
     "metadata": {},
     "output_type": "execute_result"
    }
   ],
   "source": [
    "data.time.value_counts().head(20)"
   ]
  },
  {
   "cell_type": "code",
   "execution_count": 80,
   "id": "c6882806",
   "metadata": {},
   "outputs": [],
   "source": [
    "data.time.replace(['8:04 EVENING','pm','.*dusk.*','.*dark.*','.*night.*'],'EVENING',regex=True,inplace=True) #método Regex para buscar palabra que contengas esos caracteres.\n",
    "data.time.replace(['1500','15j45','1600','1300','p.m.','.*midday.*','.*sunset.*','.*lunchtime.*','.*noon.*','.*daytime.*'],'AFTERNOON',regex=True,inplace=True)#el .* significa cualquier caracter que se repita 0 o más veces\n",
    "data.time.replace(['\"after lunch\"','0830','9h00','.*dawn.*','.*daybreak.*','.*morning.*','.*DAY MORNING.*'],'DAY MORNING',regex=True,inplace=True)\n",
    "data.time.replace(['a.m.','am','0500','06j00'],'NIGHT MORNING',inplace=True)"
   ]
  },
  {
   "cell_type": "code",
   "execution_count": 81,
   "id": "3e6eb13a",
   "metadata": {},
   "outputs": [
    {
     "data": {
      "text/plain": [
       "3364"
      ]
     },
     "execution_count": 81,
     "metadata": {},
     "output_type": "execute_result"
    }
   ],
   "source": [
    "data.time.isnull().sum()"
   ]
  },
  {
   "cell_type": "code",
   "execution_count": 82,
   "id": "22336926",
   "metadata": {},
   "outputs": [],
   "source": [
    "lista_de_tiempo = ['AFTERNOON', 'DAY MORNING', 'EVENING', 'NIGHT MORNING']\n",
    "\n",
    "def limpiar_tiempo(s, lst):\n",
    "    \n",
    "    if pd.isnull(s):\n",
    "        return np.nan\n",
    "    \n",
    "    # Verifica si alguna palabra en lst está en s\n",
    "    for word in lst:\n",
    "        if word in s:\n",
    "            return word\n",
    "    return 'UNIDENTIFIED' "
   ]
  },
  {
   "cell_type": "code",
   "execution_count": 83,
   "id": "5271c196",
   "metadata": {},
   "outputs": [],
   "source": [
    "data.time = data.time.apply(lambda x: limpiar_tiempo(str(x), lista_de_tiempo))"
   ]
  },
  {
   "cell_type": "code",
   "execution_count": 84,
   "id": "ee9b9569",
   "metadata": {},
   "outputs": [
    {
     "data": {
      "text/plain": [
       "UNIDENTIFIED     3380\n",
       "AFTERNOON        1591\n",
       "DAY MORNING       921\n",
       "EVENING           363\n",
       "NIGHT MORNING      57\n",
       "Name: time, dtype: int64"
      ]
     },
     "execution_count": 84,
     "metadata": {},
     "output_type": "execute_result"
    }
   ],
   "source": [
    "data.time.value_counts()"
   ]
  },
  {
   "cell_type": "code",
   "execution_count": 85,
   "id": "8faa3026",
   "metadata": {},
   "outputs": [
    {
     "data": {
      "text/html": [
       "<div>\n",
       "<style scoped>\n",
       "    .dataframe tbody tr th:only-of-type {\n",
       "        vertical-align: middle;\n",
       "    }\n",
       "\n",
       "    .dataframe tbody tr th {\n",
       "        vertical-align: top;\n",
       "    }\n",
       "\n",
       "    .dataframe thead th {\n",
       "        text-align: right;\n",
       "    }\n",
       "</style>\n",
       "<table border=\"1\" class=\"dataframe\">\n",
       "  <thead>\n",
       "    <tr style=\"text-align: right;\">\n",
       "      <th></th>\n",
       "      <th>case_number</th>\n",
       "      <th>date</th>\n",
       "      <th>year</th>\n",
       "      <th>type</th>\n",
       "      <th>country</th>\n",
       "      <th>area</th>\n",
       "      <th>location</th>\n",
       "      <th>activity</th>\n",
       "      <th>name</th>\n",
       "      <th>sex</th>\n",
       "      <th>age</th>\n",
       "      <th>injury</th>\n",
       "      <th>fatal_(y/n)</th>\n",
       "      <th>time</th>\n",
       "      <th>species</th>\n",
       "      <th>investigator_or_source</th>\n",
       "      <th>pdf</th>\n",
       "      <th>href_formula</th>\n",
       "      <th>href</th>\n",
       "      <th>case_number.1</th>\n",
       "      <th>case_number.2</th>\n",
       "      <th>original_order</th>\n",
       "      <th>unnamed:_22</th>\n",
       "      <th>unnamed:_23</th>\n",
       "    </tr>\n",
       "  </thead>\n",
       "  <tbody>\n",
       "    <tr>\n",
       "      <th>6292</th>\n",
       "      <td>NaT</td>\n",
       "      <td>NaT</td>\n",
       "      <td>0.0</td>\n",
       "      <td>UNPROVOKED</td>\n",
       "      <td>USA</td>\n",
       "      <td>HAWAII</td>\n",
       "      <td>Puna</td>\n",
       "      <td>NaN</td>\n",
       "      <td>A \"chiefess\"</td>\n",
       "      <td>F</td>\n",
       "      <td>NaN</td>\n",
       "      <td>Ankle bitten</td>\n",
       "      <td>0.0</td>\n",
       "      <td>UNIDENTIFIED</td>\n",
       "      <td>UNIDENTIFIED</td>\n",
       "      <td>Captain W. Young</td>\n",
       "      <td>ND-0010-Puna Hawaii.pdf</td>\n",
       "      <td>http://sharkattackfile.net/spreadsheets/pdf_di...</td>\n",
       "      <td>http://sharkattackfile.net/spreadsheets/pdf_di...</td>\n",
       "      <td>NaT</td>\n",
       "      <td>NaT</td>\n",
       "      <td>0</td>\n",
       "      <td>NaN</td>\n",
       "      <td>NaN</td>\n",
       "    </tr>\n",
       "    <tr>\n",
       "      <th>6293</th>\n",
       "      <td>NaT</td>\n",
       "      <td>NaT</td>\n",
       "      <td>0.0</td>\n",
       "      <td>UNPROVOKED</td>\n",
       "      <td>AUSTRALIA</td>\n",
       "      <td>NaN</td>\n",
       "      <td>NaN</td>\n",
       "      <td>FISHING</td>\n",
       "      <td>boy</td>\n",
       "      <td>M</td>\n",
       "      <td>NaN</td>\n",
       "      <td>FATAL, knocked overboard by tail of shark &amp; ca...</td>\n",
       "      <td>1.0</td>\n",
       "      <td>UNIDENTIFIED</td>\n",
       "      <td>BLUE SHARK</td>\n",
       "      <td>NY Sun, 9/9/1906, referring to account by Loui...</td>\n",
       "      <td>ND-0009-boy-Australia.pdf</td>\n",
       "      <td>http://sharkattackfile.net/spreadsheets/pdf_di...</td>\n",
       "      <td>http://sharkattackfile.net/spreadsheets/pdf_di...</td>\n",
       "      <td>NaT</td>\n",
       "      <td>NaT</td>\n",
       "      <td>0</td>\n",
       "      <td>NaN</td>\n",
       "      <td>NaN</td>\n",
       "    </tr>\n",
       "    <tr>\n",
       "      <th>6294</th>\n",
       "      <td>NaT</td>\n",
       "      <td>NaT</td>\n",
       "      <td>0.0</td>\n",
       "      <td>UNPROVOKED</td>\n",
       "      <td>AUSTRALIA</td>\n",
       "      <td>NaN</td>\n",
       "      <td>NaN</td>\n",
       "      <td>FISHING</td>\n",
       "      <td>fisherman</td>\n",
       "      <td>M</td>\n",
       "      <td>NaN</td>\n",
       "      <td>FATAL</td>\n",
       "      <td>1.0</td>\n",
       "      <td>UNIDENTIFIED</td>\n",
       "      <td>BLUE SHARK</td>\n",
       "      <td>NY Sun, 9/9/1906, referring to account by Loui...</td>\n",
       "      <td>ND-0008-Fisherman2-Australia.pdf</td>\n",
       "      <td>http://sharkattackfile.net/spreadsheets/pdf_di...</td>\n",
       "      <td>http://sharkattackfile.net/spreadsheets/pdf_di...</td>\n",
       "      <td>NaT</td>\n",
       "      <td>NaT</td>\n",
       "      <td>0</td>\n",
       "      <td>NaN</td>\n",
       "      <td>NaN</td>\n",
       "    </tr>\n",
       "    <tr>\n",
       "      <th>6295</th>\n",
       "      <td>NaT</td>\n",
       "      <td>NaT</td>\n",
       "      <td>0.0</td>\n",
       "      <td>UNPROVOKED</td>\n",
       "      <td>AUSTRALIA</td>\n",
       "      <td>NaN</td>\n",
       "      <td>NaN</td>\n",
       "      <td>FISHING</td>\n",
       "      <td>fisherman</td>\n",
       "      <td>M</td>\n",
       "      <td>NaN</td>\n",
       "      <td>FATAL</td>\n",
       "      <td>1.0</td>\n",
       "      <td>UNIDENTIFIED</td>\n",
       "      <td>BLUE SHARK</td>\n",
       "      <td>NY Sun, 9/9/1906, referring to account by Loui...</td>\n",
       "      <td>ND-0007 - Fisherman-Australia.pdf</td>\n",
       "      <td>http://sharkattackfile.net/spreadsheets/pdf_di...</td>\n",
       "      <td>http://sharkattackfile.net/spreadsheets/pdf_di...</td>\n",
       "      <td>NaT</td>\n",
       "      <td>NaT</td>\n",
       "      <td>0</td>\n",
       "      <td>NaN</td>\n",
       "      <td>NaN</td>\n",
       "    </tr>\n",
       "    <tr>\n",
       "      <th>6296</th>\n",
       "      <td>NaT</td>\n",
       "      <td>NaT</td>\n",
       "      <td>0.0</td>\n",
       "      <td>UNPROVOKED</td>\n",
       "      <td>AUSTRALIA</td>\n",
       "      <td>NEW SOUTH WALES</td>\n",
       "      <td></td>\n",
       "      <td>SWIMMING</td>\n",
       "      <td>Arab boy</td>\n",
       "      <td>M</td>\n",
       "      <td>NaN</td>\n",
       "      <td>FATAL</td>\n",
       "      <td>1.0</td>\n",
       "      <td>UNIDENTIFIED</td>\n",
       "      <td>NURSE SHARK</td>\n",
       "      <td>L. Becke in New York Sun, 9/9/1906; L. Schultz...</td>\n",
       "      <td>ND-0006-ArabBoy-Prymount.pdf</td>\n",
       "      <td>http://sharkattackfile.net/spreadsheets/pdf_di...</td>\n",
       "      <td>http://sharkattackfile.net/spreadsheets/pdf_di...</td>\n",
       "      <td>NaT</td>\n",
       "      <td>NaT</td>\n",
       "      <td>0</td>\n",
       "      <td>NaN</td>\n",
       "      <td>NaN</td>\n",
       "    </tr>\n",
       "    <tr>\n",
       "      <th>6297</th>\n",
       "      <td>NaT</td>\n",
       "      <td>NaT</td>\n",
       "      <td>0.0</td>\n",
       "      <td>UNPROVOKED</td>\n",
       "      <td>AUSTRALIA</td>\n",
       "      <td>WESTERN AUSTRALIA</td>\n",
       "      <td>Roebuck Bay</td>\n",
       "      <td>SCUBA DIVING</td>\n",
       "      <td>male</td>\n",
       "      <td>M</td>\n",
       "      <td>NaN</td>\n",
       "      <td>FATAL</td>\n",
       "      <td>1.0</td>\n",
       "      <td>UNIDENTIFIED</td>\n",
       "      <td>UNIDENTIFIED</td>\n",
       "      <td>H. Taunton; N. Bartlett,  p. 234</td>\n",
       "      <td>ND-0005-RoebuckBay.pdf</td>\n",
       "      <td>http://sharkattackfile.net/spreadsheets/pdf_di...</td>\n",
       "      <td>http://sharkattackfile.net/spreadsheets/pdf_di...</td>\n",
       "      <td>NaT</td>\n",
       "      <td>NaT</td>\n",
       "      <td>0</td>\n",
       "      <td>NaN</td>\n",
       "      <td>NaN</td>\n",
       "    </tr>\n",
       "    <tr>\n",
       "      <th>6298</th>\n",
       "      <td>NaT</td>\n",
       "      <td>NaT</td>\n",
       "      <td>0.0</td>\n",
       "      <td>UNPROVOKED</td>\n",
       "      <td>AUSTRALIA</td>\n",
       "      <td>WESTERN AUSTRALIA</td>\n",
       "      <td>NaN</td>\n",
       "      <td>SCUBA DIVING</td>\n",
       "      <td>Ahmun</td>\n",
       "      <td>M</td>\n",
       "      <td>NaN</td>\n",
       "      <td>FATAL</td>\n",
       "      <td>1.0</td>\n",
       "      <td>UNIDENTIFIED</td>\n",
       "      <td>UNIDENTIFIED</td>\n",
       "      <td>H. Taunton; N. Bartlett,  pp. 233-234</td>\n",
       "      <td>ND-0004-Ahmun.pdf</td>\n",
       "      <td>http://sharkattackfile.net/spreadsheets/pdf_di...</td>\n",
       "      <td>http://sharkattackfile.net/spreadsheets/pdf_di...</td>\n",
       "      <td>NaT</td>\n",
       "      <td>NaT</td>\n",
       "      <td>0</td>\n",
       "      <td>NaN</td>\n",
       "      <td>NaN</td>\n",
       "    </tr>\n",
       "    <tr>\n",
       "      <th>6299</th>\n",
       "      <td>NaT</td>\n",
       "      <td>NaT</td>\n",
       "      <td>0.0</td>\n",
       "      <td>UNPROVOKED</td>\n",
       "      <td>USA</td>\n",
       "      <td>NORTH CAROLINA</td>\n",
       "      <td>Ocracoke Inlet</td>\n",
       "      <td>SWIMMING</td>\n",
       "      <td>Coast Guard personnel</td>\n",
       "      <td>M</td>\n",
       "      <td>NaN</td>\n",
       "      <td>FATAL</td>\n",
       "      <td>1.0</td>\n",
       "      <td>UNIDENTIFIED</td>\n",
       "      <td>UNIDENTIFIED</td>\n",
       "      <td>F. Schwartz, p.23; C. Creswell, GSAF</td>\n",
       "      <td>ND-0003-Ocracoke_1900-1905.pdf</td>\n",
       "      <td>http://sharkattackfile.net/spreadsheets/pdf_di...</td>\n",
       "      <td>http://sharkattackfile.net/spreadsheets/pdf_di...</td>\n",
       "      <td>NaT</td>\n",
       "      <td>NaT</td>\n",
       "      <td>0</td>\n",
       "      <td>NaN</td>\n",
       "      <td>NaN</td>\n",
       "    </tr>\n",
       "    <tr>\n",
       "      <th>6300</th>\n",
       "      <td>NaT</td>\n",
       "      <td>NaT</td>\n",
       "      <td>0.0</td>\n",
       "      <td>UNPROVOKED</td>\n",
       "      <td>PANAMA</td>\n",
       "      <td>NaN</td>\n",
       "      <td>Panama Bay 8ºN, 79ºW</td>\n",
       "      <td>NaN</td>\n",
       "      <td>Jules Patterson</td>\n",
       "      <td>M</td>\n",
       "      <td>NaN</td>\n",
       "      <td>FATAL</td>\n",
       "      <td>1.0</td>\n",
       "      <td>UNIDENTIFIED</td>\n",
       "      <td>UNIDENTIFIED</td>\n",
       "      <td>The Sun, 10/20/1938</td>\n",
       "      <td>ND-0002-JulesPatterson.pdf</td>\n",
       "      <td>http://sharkattackfile.net/spreadsheets/pdf_di...</td>\n",
       "      <td>http://sharkattackfile.net/spreadsheets/pdf_di...</td>\n",
       "      <td>NaT</td>\n",
       "      <td>NaT</td>\n",
       "      <td>0</td>\n",
       "      <td>NaN</td>\n",
       "      <td>NaN</td>\n",
       "    </tr>\n",
       "    <tr>\n",
       "      <th>6301</th>\n",
       "      <td>NaT</td>\n",
       "      <td>NaT</td>\n",
       "      <td>0.0</td>\n",
       "      <td>UNPROVOKED</td>\n",
       "      <td>SRI LANKA</td>\n",
       "      <td>EASTERN PROVINCE</td>\n",
       "      <td>Below the English fort, Trincomalee</td>\n",
       "      <td>SWIMMING</td>\n",
       "      <td>male</td>\n",
       "      <td>M</td>\n",
       "      <td>15.0</td>\n",
       "      <td>FATAL. \"Shark bit him in half, carrying away t...</td>\n",
       "      <td>1.0</td>\n",
       "      <td>UNIDENTIFIED</td>\n",
       "      <td>UNIDENTIFIED</td>\n",
       "      <td>S.W. Baker</td>\n",
       "      <td>ND-0001-Ceylon.pdf</td>\n",
       "      <td>http://sharkattackfile.net/spreadsheets/pdf_di...</td>\n",
       "      <td>http://sharkattackfile.net/spreadsheets/pdf_di...</td>\n",
       "      <td>NaT</td>\n",
       "      <td>NaT</td>\n",
       "      <td>0</td>\n",
       "      <td>NaN</td>\n",
       "      <td>NaN</td>\n",
       "    </tr>\n",
       "    <tr>\n",
       "      <th>6302</th>\n",
       "      <td>NaT</td>\n",
       "      <td>NaT</td>\n",
       "      <td>NaN</td>\n",
       "      <td>NaN</td>\n",
       "      <td>NaN</td>\n",
       "      <td>NaN</td>\n",
       "      <td>NaN</td>\n",
       "      <td>NaN</td>\n",
       "      <td>NaN</td>\n",
       "      <td>NaN</td>\n",
       "      <td>NaN</td>\n",
       "      <td>NaN</td>\n",
       "      <td>NaN</td>\n",
       "      <td>UNIDENTIFIED</td>\n",
       "      <td>UNIDENTIFIED</td>\n",
       "      <td>NaN</td>\n",
       "      <td>NaN</td>\n",
       "      <td>NaN</td>\n",
       "      <td>NaN</td>\n",
       "      <td>NaT</td>\n",
       "      <td>NaT</td>\n",
       "      <td>0</td>\n",
       "      <td>NaN</td>\n",
       "      <td>NaN</td>\n",
       "    </tr>\n",
       "    <tr>\n",
       "      <th>6303</th>\n",
       "      <td>NaT</td>\n",
       "      <td>NaT</td>\n",
       "      <td>NaN</td>\n",
       "      <td>NaN</td>\n",
       "      <td>NaN</td>\n",
       "      <td>NaN</td>\n",
       "      <td>NaN</td>\n",
       "      <td>NaN</td>\n",
       "      <td>NaN</td>\n",
       "      <td>NaN</td>\n",
       "      <td>NaN</td>\n",
       "      <td>NaN</td>\n",
       "      <td>NaN</td>\n",
       "      <td>UNIDENTIFIED</td>\n",
       "      <td>UNIDENTIFIED</td>\n",
       "      <td>NaN</td>\n",
       "      <td>NaN</td>\n",
       "      <td>NaN</td>\n",
       "      <td>NaN</td>\n",
       "      <td>NaT</td>\n",
       "      <td>NaT</td>\n",
       "      <td>0</td>\n",
       "      <td>NaN</td>\n",
       "      <td>NaN</td>\n",
       "    </tr>\n",
       "    <tr>\n",
       "      <th>6304</th>\n",
       "      <td>NaT</td>\n",
       "      <td>NaT</td>\n",
       "      <td>NaN</td>\n",
       "      <td>NaN</td>\n",
       "      <td>NaN</td>\n",
       "      <td>NaN</td>\n",
       "      <td>NaN</td>\n",
       "      <td>NaN</td>\n",
       "      <td>NaN</td>\n",
       "      <td>NaN</td>\n",
       "      <td>NaN</td>\n",
       "      <td>NaN</td>\n",
       "      <td>NaN</td>\n",
       "      <td>UNIDENTIFIED</td>\n",
       "      <td>UNIDENTIFIED</td>\n",
       "      <td>NaN</td>\n",
       "      <td>NaN</td>\n",
       "      <td>NaN</td>\n",
       "      <td>NaN</td>\n",
       "      <td>NaT</td>\n",
       "      <td>NaT</td>\n",
       "      <td>0</td>\n",
       "      <td>NaN</td>\n",
       "      <td>NaN</td>\n",
       "    </tr>\n",
       "    <tr>\n",
       "      <th>6305</th>\n",
       "      <td>NaT</td>\n",
       "      <td>NaT</td>\n",
       "      <td>NaN</td>\n",
       "      <td>NaN</td>\n",
       "      <td>NaN</td>\n",
       "      <td>NaN</td>\n",
       "      <td>NaN</td>\n",
       "      <td>NaN</td>\n",
       "      <td>NaN</td>\n",
       "      <td>NaN</td>\n",
       "      <td>NaN</td>\n",
       "      <td>NaN</td>\n",
       "      <td>NaN</td>\n",
       "      <td>UNIDENTIFIED</td>\n",
       "      <td>UNIDENTIFIED</td>\n",
       "      <td>NaN</td>\n",
       "      <td>NaN</td>\n",
       "      <td>NaN</td>\n",
       "      <td>NaN</td>\n",
       "      <td>NaT</td>\n",
       "      <td>NaT</td>\n",
       "      <td>0</td>\n",
       "      <td>NaN</td>\n",
       "      <td>NaN</td>\n",
       "    </tr>\n",
       "    <tr>\n",
       "      <th>6306</th>\n",
       "      <td>NaT</td>\n",
       "      <td>NaT</td>\n",
       "      <td>NaN</td>\n",
       "      <td>NaN</td>\n",
       "      <td>NaN</td>\n",
       "      <td>NaN</td>\n",
       "      <td>NaN</td>\n",
       "      <td>NaN</td>\n",
       "      <td>NaN</td>\n",
       "      <td>NaN</td>\n",
       "      <td>NaN</td>\n",
       "      <td>NaN</td>\n",
       "      <td>NaN</td>\n",
       "      <td>UNIDENTIFIED</td>\n",
       "      <td>UNIDENTIFIED</td>\n",
       "      <td>NaN</td>\n",
       "      <td>NaN</td>\n",
       "      <td>NaN</td>\n",
       "      <td>NaN</td>\n",
       "      <td>NaT</td>\n",
       "      <td>NaT</td>\n",
       "      <td>0</td>\n",
       "      <td>NaN</td>\n",
       "      <td>NaN</td>\n",
       "    </tr>\n",
       "    <tr>\n",
       "      <th>6307</th>\n",
       "      <td>NaT</td>\n",
       "      <td>NaT</td>\n",
       "      <td>NaN</td>\n",
       "      <td>NaN</td>\n",
       "      <td>NaN</td>\n",
       "      <td>NaN</td>\n",
       "      <td>NaN</td>\n",
       "      <td>NaN</td>\n",
       "      <td>NaN</td>\n",
       "      <td>NaN</td>\n",
       "      <td>NaN</td>\n",
       "      <td>NaN</td>\n",
       "      <td>NaN</td>\n",
       "      <td>UNIDENTIFIED</td>\n",
       "      <td>UNIDENTIFIED</td>\n",
       "      <td>NaN</td>\n",
       "      <td>NaN</td>\n",
       "      <td>NaN</td>\n",
       "      <td>NaN</td>\n",
       "      <td>NaT</td>\n",
       "      <td>NaT</td>\n",
       "      <td>0</td>\n",
       "      <td>NaN</td>\n",
       "      <td>NaN</td>\n",
       "    </tr>\n",
       "    <tr>\n",
       "      <th>6308</th>\n",
       "      <td>NaT</td>\n",
       "      <td>NaT</td>\n",
       "      <td>NaN</td>\n",
       "      <td>NaN</td>\n",
       "      <td>NaN</td>\n",
       "      <td>NaN</td>\n",
       "      <td>NaN</td>\n",
       "      <td>NaN</td>\n",
       "      <td>NaN</td>\n",
       "      <td>NaN</td>\n",
       "      <td>NaN</td>\n",
       "      <td>NaN</td>\n",
       "      <td>NaN</td>\n",
       "      <td>UNIDENTIFIED</td>\n",
       "      <td>UNIDENTIFIED</td>\n",
       "      <td>NaN</td>\n",
       "      <td>NaN</td>\n",
       "      <td>NaN</td>\n",
       "      <td>NaN</td>\n",
       "      <td>NaT</td>\n",
       "      <td>NaT</td>\n",
       "      <td>0</td>\n",
       "      <td>NaN</td>\n",
       "      <td>NaN</td>\n",
       "    </tr>\n",
       "    <tr>\n",
       "      <th>6309</th>\n",
       "      <td>NaT</td>\n",
       "      <td>NaT</td>\n",
       "      <td>NaN</td>\n",
       "      <td>NaN</td>\n",
       "      <td>NaN</td>\n",
       "      <td>NaN</td>\n",
       "      <td>NaN</td>\n",
       "      <td>NaN</td>\n",
       "      <td>NaN</td>\n",
       "      <td>NaN</td>\n",
       "      <td>NaN</td>\n",
       "      <td>NaN</td>\n",
       "      <td>NaN</td>\n",
       "      <td>UNIDENTIFIED</td>\n",
       "      <td>UNIDENTIFIED</td>\n",
       "      <td>NaN</td>\n",
       "      <td>NaN</td>\n",
       "      <td>NaN</td>\n",
       "      <td>NaN</td>\n",
       "      <td>NaT</td>\n",
       "      <td>NaT</td>\n",
       "      <td>0</td>\n",
       "      <td>NaN</td>\n",
       "      <td>NaN</td>\n",
       "    </tr>\n",
       "    <tr>\n",
       "      <th>6310</th>\n",
       "      <td>NaT</td>\n",
       "      <td>NaT</td>\n",
       "      <td>NaN</td>\n",
       "      <td>NaN</td>\n",
       "      <td>NaN</td>\n",
       "      <td>NaN</td>\n",
       "      <td>NaN</td>\n",
       "      <td>NaN</td>\n",
       "      <td>NaN</td>\n",
       "      <td>NaN</td>\n",
       "      <td>NaN</td>\n",
       "      <td>NaN</td>\n",
       "      <td>NaN</td>\n",
       "      <td>UNIDENTIFIED</td>\n",
       "      <td>UNIDENTIFIED</td>\n",
       "      <td>NaN</td>\n",
       "      <td>NaN</td>\n",
       "      <td>NaN</td>\n",
       "      <td>NaN</td>\n",
       "      <td>NaT</td>\n",
       "      <td>NaT</td>\n",
       "      <td>0</td>\n",
       "      <td>NaN</td>\n",
       "      <td>NaN</td>\n",
       "    </tr>\n",
       "    <tr>\n",
       "      <th>6311</th>\n",
       "      <td>NaT</td>\n",
       "      <td>NaT</td>\n",
       "      <td>NaN</td>\n",
       "      <td>NaN</td>\n",
       "      <td>NaN</td>\n",
       "      <td>NaN</td>\n",
       "      <td>NaN</td>\n",
       "      <td>NaN</td>\n",
       "      <td>NaN</td>\n",
       "      <td>NaN</td>\n",
       "      <td>NaN</td>\n",
       "      <td>NaN</td>\n",
       "      <td>NaN</td>\n",
       "      <td>UNIDENTIFIED</td>\n",
       "      <td>UNIDENTIFIED</td>\n",
       "      <td>NaN</td>\n",
       "      <td>NaN</td>\n",
       "      <td>NaN</td>\n",
       "      <td>NaN</td>\n",
       "      <td>NaT</td>\n",
       "      <td>NaT</td>\n",
       "      <td>0</td>\n",
       "      <td>NaN</td>\n",
       "      <td>NaN</td>\n",
       "    </tr>\n",
       "  </tbody>\n",
       "</table>\n",
       "</div>"
      ],
      "text/plain": [
       "     case_number date  year        type    country               area  \\\n",
       "6292         NaT  NaT   0.0  UNPROVOKED        USA             HAWAII   \n",
       "6293         NaT  NaT   0.0  UNPROVOKED  AUSTRALIA                NaN   \n",
       "6294         NaT  NaT   0.0  UNPROVOKED  AUSTRALIA                NaN   \n",
       "6295         NaT  NaT   0.0  UNPROVOKED  AUSTRALIA                NaN   \n",
       "6296         NaT  NaT   0.0  UNPROVOKED  AUSTRALIA    NEW SOUTH WALES   \n",
       "6297         NaT  NaT   0.0  UNPROVOKED  AUSTRALIA  WESTERN AUSTRALIA   \n",
       "6298         NaT  NaT   0.0  UNPROVOKED  AUSTRALIA  WESTERN AUSTRALIA   \n",
       "6299         NaT  NaT   0.0  UNPROVOKED        USA     NORTH CAROLINA   \n",
       "6300         NaT  NaT   0.0  UNPROVOKED     PANAMA                NaN   \n",
       "6301         NaT  NaT   0.0  UNPROVOKED  SRI LANKA   EASTERN PROVINCE   \n",
       "6302         NaT  NaT   NaN         NaN        NaN                NaN   \n",
       "6303         NaT  NaT   NaN         NaN        NaN                NaN   \n",
       "6304         NaT  NaT   NaN         NaN        NaN                NaN   \n",
       "6305         NaT  NaT   NaN         NaN        NaN                NaN   \n",
       "6306         NaT  NaT   NaN         NaN        NaN                NaN   \n",
       "6307         NaT  NaT   NaN         NaN        NaN                NaN   \n",
       "6308         NaT  NaT   NaN         NaN        NaN                NaN   \n",
       "6309         NaT  NaT   NaN         NaN        NaN                NaN   \n",
       "6310         NaT  NaT   NaN         NaN        NaN                NaN   \n",
       "6311         NaT  NaT   NaN         NaN        NaN                NaN   \n",
       "\n",
       "                                 location      activity  \\\n",
       "6292                                 Puna           NaN   \n",
       "6293                                  NaN       FISHING   \n",
       "6294                                  NaN       FISHING   \n",
       "6295                                  NaN       FISHING   \n",
       "6296                                           SWIMMING   \n",
       "6297                          Roebuck Bay  SCUBA DIVING   \n",
       "6298                                  NaN  SCUBA DIVING   \n",
       "6299                       Ocracoke Inlet      SWIMMING   \n",
       "6300                 Panama Bay 8ºN, 79ºW           NaN   \n",
       "6301  Below the English fort, Trincomalee      SWIMMING   \n",
       "6302                                  NaN           NaN   \n",
       "6303                                  NaN           NaN   \n",
       "6304                                  NaN           NaN   \n",
       "6305                                  NaN           NaN   \n",
       "6306                                  NaN           NaN   \n",
       "6307                                  NaN           NaN   \n",
       "6308                                  NaN           NaN   \n",
       "6309                                  NaN           NaN   \n",
       "6310                                  NaN           NaN   \n",
       "6311                                  NaN           NaN   \n",
       "\n",
       "                       name  sex   age  \\\n",
       "6292           A \"chiefess\"    F   NaN   \n",
       "6293                    boy    M   NaN   \n",
       "6294              fisherman    M   NaN   \n",
       "6295              fisherman    M   NaN   \n",
       "6296               Arab boy    M   NaN   \n",
       "6297                   male    M   NaN   \n",
       "6298                  Ahmun    M   NaN   \n",
       "6299  Coast Guard personnel    M   NaN   \n",
       "6300        Jules Patterson    M   NaN   \n",
       "6301                   male    M  15.0   \n",
       "6302                    NaN  NaN   NaN   \n",
       "6303                    NaN  NaN   NaN   \n",
       "6304                    NaN  NaN   NaN   \n",
       "6305                    NaN  NaN   NaN   \n",
       "6306                    NaN  NaN   NaN   \n",
       "6307                    NaN  NaN   NaN   \n",
       "6308                    NaN  NaN   NaN   \n",
       "6309                    NaN  NaN   NaN   \n",
       "6310                    NaN  NaN   NaN   \n",
       "6311                    NaN  NaN   NaN   \n",
       "\n",
       "                                                 injury  fatal_(y/n)  \\\n",
       "6292                                       Ankle bitten          0.0   \n",
       "6293  FATAL, knocked overboard by tail of shark & ca...          1.0   \n",
       "6294                                              FATAL          1.0   \n",
       "6295                                              FATAL          1.0   \n",
       "6296                                              FATAL          1.0   \n",
       "6297                                              FATAL          1.0   \n",
       "6298                                              FATAL          1.0   \n",
       "6299                                              FATAL          1.0   \n",
       "6300                                              FATAL          1.0   \n",
       "6301  FATAL. \"Shark bit him in half, carrying away t...          1.0   \n",
       "6302                                                NaN          NaN   \n",
       "6303                                                NaN          NaN   \n",
       "6304                                                NaN          NaN   \n",
       "6305                                                NaN          NaN   \n",
       "6306                                                NaN          NaN   \n",
       "6307                                                NaN          NaN   \n",
       "6308                                                NaN          NaN   \n",
       "6309                                                NaN          NaN   \n",
       "6310                                                NaN          NaN   \n",
       "6311                                                NaN          NaN   \n",
       "\n",
       "              time       species  \\\n",
       "6292  UNIDENTIFIED  UNIDENTIFIED   \n",
       "6293  UNIDENTIFIED    BLUE SHARK   \n",
       "6294  UNIDENTIFIED    BLUE SHARK   \n",
       "6295  UNIDENTIFIED    BLUE SHARK   \n",
       "6296  UNIDENTIFIED   NURSE SHARK   \n",
       "6297  UNIDENTIFIED  UNIDENTIFIED   \n",
       "6298  UNIDENTIFIED  UNIDENTIFIED   \n",
       "6299  UNIDENTIFIED  UNIDENTIFIED   \n",
       "6300  UNIDENTIFIED  UNIDENTIFIED   \n",
       "6301  UNIDENTIFIED  UNIDENTIFIED   \n",
       "6302  UNIDENTIFIED  UNIDENTIFIED   \n",
       "6303  UNIDENTIFIED  UNIDENTIFIED   \n",
       "6304  UNIDENTIFIED  UNIDENTIFIED   \n",
       "6305  UNIDENTIFIED  UNIDENTIFIED   \n",
       "6306  UNIDENTIFIED  UNIDENTIFIED   \n",
       "6307  UNIDENTIFIED  UNIDENTIFIED   \n",
       "6308  UNIDENTIFIED  UNIDENTIFIED   \n",
       "6309  UNIDENTIFIED  UNIDENTIFIED   \n",
       "6310  UNIDENTIFIED  UNIDENTIFIED   \n",
       "6311  UNIDENTIFIED  UNIDENTIFIED   \n",
       "\n",
       "                                 investigator_or_source  \\\n",
       "6292                                   Captain W. Young   \n",
       "6293  NY Sun, 9/9/1906, referring to account by Loui...   \n",
       "6294  NY Sun, 9/9/1906, referring to account by Loui...   \n",
       "6295  NY Sun, 9/9/1906, referring to account by Loui...   \n",
       "6296  L. Becke in New York Sun, 9/9/1906; L. Schultz...   \n",
       "6297                   H. Taunton; N. Bartlett,  p. 234   \n",
       "6298              H. Taunton; N. Bartlett,  pp. 233-234   \n",
       "6299               F. Schwartz, p.23; C. Creswell, GSAF   \n",
       "6300                                The Sun, 10/20/1938   \n",
       "6301                                         S.W. Baker   \n",
       "6302                                                NaN   \n",
       "6303                                                NaN   \n",
       "6304                                                NaN   \n",
       "6305                                                NaN   \n",
       "6306                                                NaN   \n",
       "6307                                                NaN   \n",
       "6308                                                NaN   \n",
       "6309                                                NaN   \n",
       "6310                                                NaN   \n",
       "6311                                                NaN   \n",
       "\n",
       "                                    pdf  \\\n",
       "6292            ND-0010-Puna Hawaii.pdf   \n",
       "6293          ND-0009-boy-Australia.pdf   \n",
       "6294   ND-0008-Fisherman2-Australia.pdf   \n",
       "6295  ND-0007 - Fisherman-Australia.pdf   \n",
       "6296       ND-0006-ArabBoy-Prymount.pdf   \n",
       "6297             ND-0005-RoebuckBay.pdf   \n",
       "6298                  ND-0004-Ahmun.pdf   \n",
       "6299     ND-0003-Ocracoke_1900-1905.pdf   \n",
       "6300         ND-0002-JulesPatterson.pdf   \n",
       "6301                 ND-0001-Ceylon.pdf   \n",
       "6302                                NaN   \n",
       "6303                                NaN   \n",
       "6304                                NaN   \n",
       "6305                                NaN   \n",
       "6306                                NaN   \n",
       "6307                                NaN   \n",
       "6308                                NaN   \n",
       "6309                                NaN   \n",
       "6310                                NaN   \n",
       "6311                                NaN   \n",
       "\n",
       "                                           href_formula  \\\n",
       "6292  http://sharkattackfile.net/spreadsheets/pdf_di...   \n",
       "6293  http://sharkattackfile.net/spreadsheets/pdf_di...   \n",
       "6294  http://sharkattackfile.net/spreadsheets/pdf_di...   \n",
       "6295  http://sharkattackfile.net/spreadsheets/pdf_di...   \n",
       "6296  http://sharkattackfile.net/spreadsheets/pdf_di...   \n",
       "6297  http://sharkattackfile.net/spreadsheets/pdf_di...   \n",
       "6298  http://sharkattackfile.net/spreadsheets/pdf_di...   \n",
       "6299  http://sharkattackfile.net/spreadsheets/pdf_di...   \n",
       "6300  http://sharkattackfile.net/spreadsheets/pdf_di...   \n",
       "6301  http://sharkattackfile.net/spreadsheets/pdf_di...   \n",
       "6302                                                NaN   \n",
       "6303                                                NaN   \n",
       "6304                                                NaN   \n",
       "6305                                                NaN   \n",
       "6306                                                NaN   \n",
       "6307                                                NaN   \n",
       "6308                                                NaN   \n",
       "6309                                                NaN   \n",
       "6310                                                NaN   \n",
       "6311                                                NaN   \n",
       "\n",
       "                                                   href case_number.1  \\\n",
       "6292  http://sharkattackfile.net/spreadsheets/pdf_di...           NaT   \n",
       "6293  http://sharkattackfile.net/spreadsheets/pdf_di...           NaT   \n",
       "6294  http://sharkattackfile.net/spreadsheets/pdf_di...           NaT   \n",
       "6295  http://sharkattackfile.net/spreadsheets/pdf_di...           NaT   \n",
       "6296  http://sharkattackfile.net/spreadsheets/pdf_di...           NaT   \n",
       "6297  http://sharkattackfile.net/spreadsheets/pdf_di...           NaT   \n",
       "6298  http://sharkattackfile.net/spreadsheets/pdf_di...           NaT   \n",
       "6299  http://sharkattackfile.net/spreadsheets/pdf_di...           NaT   \n",
       "6300  http://sharkattackfile.net/spreadsheets/pdf_di...           NaT   \n",
       "6301  http://sharkattackfile.net/spreadsheets/pdf_di...           NaT   \n",
       "6302                                                NaN           NaT   \n",
       "6303                                                NaN           NaT   \n",
       "6304                                                NaN           NaT   \n",
       "6305                                                NaN           NaT   \n",
       "6306                                                NaN           NaT   \n",
       "6307                                                NaN           NaT   \n",
       "6308                                                NaN           NaT   \n",
       "6309                                                NaN           NaT   \n",
       "6310                                                NaN           NaT   \n",
       "6311                                                NaN           NaT   \n",
       "\n",
       "     case_number.2  original_order unnamed:_22 unnamed:_23  \n",
       "6292           NaT               0         NaN         NaN  \n",
       "6293           NaT               0         NaN         NaN  \n",
       "6294           NaT               0         NaN         NaN  \n",
       "6295           NaT               0         NaN         NaN  \n",
       "6296           NaT               0         NaN         NaN  \n",
       "6297           NaT               0         NaN         NaN  \n",
       "6298           NaT               0         NaN         NaN  \n",
       "6299           NaT               0         NaN         NaN  \n",
       "6300           NaT               0         NaN         NaN  \n",
       "6301           NaT               0         NaN         NaN  \n",
       "6302           NaT               0         NaN         NaN  \n",
       "6303           NaT               0         NaN         NaN  \n",
       "6304           NaT               0         NaN         NaN  \n",
       "6305           NaT               0         NaN         NaN  \n",
       "6306           NaT               0         NaN         NaN  \n",
       "6307           NaT               0         NaN         NaN  \n",
       "6308           NaT               0         NaN         NaN  \n",
       "6309           NaT               0         NaN         NaN  \n",
       "6310           NaT               0         NaN         NaN  \n",
       "6311           NaT               0         NaN         NaN  "
      ]
     },
     "execution_count": 85,
     "metadata": {},
     "output_type": "execute_result"
    }
   ],
   "source": [
    "data.tail(20)"
   ]
  },
  {
   "cell_type": "code",
   "execution_count": 86,
   "id": "cddb3619",
   "metadata": {},
   "outputs": [
    {
     "data": {
      "text/plain": [
       "9"
      ]
     },
     "execution_count": 86,
     "metadata": {},
     "output_type": "execute_result"
    }
   ],
   "source": [
    "len(data[data.duplicated()]) #borramos las filas publicadas"
   ]
  },
  {
   "cell_type": "code",
   "execution_count": 87,
   "id": "ad65707e",
   "metadata": {},
   "outputs": [],
   "source": [
    "data = data.drop_duplicates()"
   ]
  },
  {
   "cell_type": "code",
   "execution_count": 88,
   "id": "ee8d008b",
   "metadata": {},
   "outputs": [
    {
     "data": {
      "text/plain": [
       "(6303, 24)"
      ]
     },
     "execution_count": 88,
     "metadata": {},
     "output_type": "execute_result"
    }
   ],
   "source": [
    "data.shape"
   ]
  },
  {
   "cell_type": "code",
   "execution_count": 90,
   "id": "9b2296f8",
   "metadata": {},
   "outputs": [],
   "source": [
    "data.reset_index(drop=True, inplace=True)"
   ]
  },
  {
   "cell_type": "code",
   "execution_count": 92,
   "id": "805361d4",
   "metadata": {},
   "outputs": [],
   "source": [
    "data =data.fillna('UNIDENTIFIED') #eliminar valores nulos"
   ]
  },
  {
   "cell_type": "code",
   "execution_count": 93,
   "id": "1b8cb8af",
   "metadata": {},
   "outputs": [
    {
     "data": {
      "text/html": [
       "<div>\n",
       "<style scoped>\n",
       "    .dataframe tbody tr th:only-of-type {\n",
       "        vertical-align: middle;\n",
       "    }\n",
       "\n",
       "    .dataframe tbody tr th {\n",
       "        vertical-align: top;\n",
       "    }\n",
       "\n",
       "    .dataframe thead th {\n",
       "        text-align: right;\n",
       "    }\n",
       "</style>\n",
       "<table border=\"1\" class=\"dataframe\">\n",
       "  <thead>\n",
       "    <tr style=\"text-align: right;\">\n",
       "      <th></th>\n",
       "      <th>case_number</th>\n",
       "      <th>date</th>\n",
       "      <th>year</th>\n",
       "      <th>type</th>\n",
       "      <th>country</th>\n",
       "      <th>area</th>\n",
       "      <th>location</th>\n",
       "      <th>activity</th>\n",
       "      <th>name</th>\n",
       "      <th>sex</th>\n",
       "      <th>age</th>\n",
       "      <th>injury</th>\n",
       "      <th>fatal_(y/n)</th>\n",
       "      <th>time</th>\n",
       "      <th>species</th>\n",
       "      <th>investigator_or_source</th>\n",
       "      <th>pdf</th>\n",
       "      <th>href_formula</th>\n",
       "      <th>href</th>\n",
       "      <th>case_number.1</th>\n",
       "      <th>case_number.2</th>\n",
       "      <th>original_order</th>\n",
       "      <th>unnamed:_22</th>\n",
       "      <th>unnamed:_23</th>\n",
       "    </tr>\n",
       "  </thead>\n",
       "  <tbody>\n",
       "    <tr>\n",
       "      <th>79</th>\n",
       "      <td>2017-09-24 00:00:00</td>\n",
       "      <td>2017-09-24 00:00:00</td>\n",
       "      <td>2017.0</td>\n",
       "      <td>OTHER</td>\n",
       "      <td>USA</td>\n",
       "      <td>NEW YORK</td>\n",
       "      <td>Rockaway</td>\n",
       "      <td>SURFING</td>\n",
       "      <td>Michah Behrend</td>\n",
       "      <td>M</td>\n",
       "      <td>33.0</td>\n",
       "      <td>Lacerations to right ankle, foot &amp; toe</td>\n",
       "      <td>UNIDENTIFIED</td>\n",
       "      <td>AFTERNOON</td>\n",
       "      <td>UNIDENTIFIED</td>\n",
       "      <td>S. Curatolo-Wageman, GSAF</td>\n",
       "      <td>2017.09.24.b-Behrend.pdf</td>\n",
       "      <td>http://sharkattackfile.net/spreadsheets/pdf_di...</td>\n",
       "      <td>http://sharkattackfile.net/spreadsheets/pdf_di...</td>\n",
       "      <td>2017-09-24 00:00:00</td>\n",
       "      <td>2017-09-24 00:00:00</td>\n",
       "      <td>0</td>\n",
       "      <td>UNIDENTIFIED</td>\n",
       "      <td>UNIDENTIFIED</td>\n",
       "    </tr>\n",
       "    <tr>\n",
       "      <th>1886</th>\n",
       "      <td>2002-01-04 00:00:00</td>\n",
       "      <td>2002-01-04 00:00:00</td>\n",
       "      <td>2002.0</td>\n",
       "      <td>UNPROVOKED</td>\n",
       "      <td>SOUTH AFRICA</td>\n",
       "      <td>KWAZULU-NATAL</td>\n",
       "      <td>Durban Harbor</td>\n",
       "      <td>FISHING</td>\n",
       "      <td>Imraan Sheik</td>\n",
       "      <td>M</td>\n",
       "      <td>16.0</td>\n",
       "      <td>Leg bitten &amp; surgically amputated</td>\n",
       "      <td>0.0</td>\n",
       "      <td>NIGHT MORNING</td>\n",
       "      <td>ZAMBESI SHARK</td>\n",
       "      <td>G. Gifford, GSAF</td>\n",
       "      <td>2002.01.04-Sheik.pdf</td>\n",
       "      <td>http://sharkattackfile.net/spreadsheets/pdf_di...</td>\n",
       "      <td>http://sharkattackfile.net/spreadsheets/pdf_di...</td>\n",
       "      <td>2002-01-04 00:00:00</td>\n",
       "      <td>2002-01-04 00:00:00</td>\n",
       "      <td>0</td>\n",
       "      <td>UNIDENTIFIED</td>\n",
       "      <td>UNIDENTIFIED</td>\n",
       "    </tr>\n",
       "    <tr>\n",
       "      <th>5108</th>\n",
       "      <td>1928-04-06 00:00:00</td>\n",
       "      <td>1928-04-06 00:00:00</td>\n",
       "      <td>1928.0</td>\n",
       "      <td>UNPROVOKED</td>\n",
       "      <td>AUSTRALIA</td>\n",
       "      <td>QUEENSLAND</td>\n",
       "      <td>Graceville</td>\n",
       "      <td>BATHING</td>\n",
       "      <td>Noel Arthy</td>\n",
       "      <td>M</td>\n",
       "      <td>15.0</td>\n",
       "      <td>Lacerations to right leg</td>\n",
       "      <td>0.0</td>\n",
       "      <td>DAY MORNING</td>\n",
       "      <td>UNIDENTIFIED</td>\n",
       "      <td>Brisbane Courier, 5/8/1928</td>\n",
       "      <td>1928.04.06-Arthy.pdf</td>\n",
       "      <td>http://sharkattackfile.net/spreadsheets/pdf_di...</td>\n",
       "      <td>http://sharkattackfile.net/spreadsheets/pdf_di...</td>\n",
       "      <td>1928-04-06 00:00:00</td>\n",
       "      <td>1928-04-06 00:00:00</td>\n",
       "      <td>0</td>\n",
       "      <td>UNIDENTIFIED</td>\n",
       "      <td>UNIDENTIFIED</td>\n",
       "    </tr>\n",
       "    <tr>\n",
       "      <th>4759</th>\n",
       "      <td>1940-12-20 00:00:00</td>\n",
       "      <td>1940-12-20 00:00:00</td>\n",
       "      <td>1940.0</td>\n",
       "      <td>UNPROVOKED</td>\n",
       "      <td>SOUTH AFRICA</td>\n",
       "      <td>KWAZULU-NATAL</td>\n",
       "      <td>Inyoni Rocks, South Coast</td>\n",
       "      <td>SWIMMING</td>\n",
       "      <td>Desmond Chandley</td>\n",
       "      <td>M</td>\n",
       "      <td>17.0</td>\n",
       "      <td>FATAL, multiple injuries to legs &amp; buttocks</td>\n",
       "      <td>1.0</td>\n",
       "      <td>DAY MORNING</td>\n",
       "      <td>UNIDENTIFIED</td>\n",
       "      <td>R. Kahn, M. Levine, GSAF</td>\n",
       "      <td>1940.12.20-Chandley.pdf</td>\n",
       "      <td>http://sharkattackfile.net/spreadsheets/pdf_di...</td>\n",
       "      <td>http://sharkattackfile.net/spreadsheets/pdf_di...</td>\n",
       "      <td>1940-12-20 00:00:00</td>\n",
       "      <td>1940-12-20 00:00:00</td>\n",
       "      <td>0</td>\n",
       "      <td>UNIDENTIFIED</td>\n",
       "      <td>UNIDENTIFIED</td>\n",
       "    </tr>\n",
       "    <tr>\n",
       "      <th>6137</th>\n",
       "      <td>UNIDENTIFIED</td>\n",
       "      <td>UNIDENTIFIED</td>\n",
       "      <td>1787.0</td>\n",
       "      <td>UNPROVOKED</td>\n",
       "      <td>UNIDENTIFIED</td>\n",
       "      <td>ST HELENA</td>\n",
       "      <td>Landing Place</td>\n",
       "      <td>SWIMMING</td>\n",
       "      <td>Private Isaac Hicksled</td>\n",
       "      <td>M</td>\n",
       "      <td>UNIDENTIFIED</td>\n",
       "      <td>FATAL</td>\n",
       "      <td>1.0</td>\n",
       "      <td>UNIDENTIFIED</td>\n",
       "      <td>UNIDENTIFIED</td>\n",
       "      <td>H.R. Janisch (1885), Extracts from the St. Hel...</td>\n",
       "      <td>1787.07.05-Hicksled.pdf</td>\n",
       "      <td>http://sharkattackfile.net/spreadsheets/pdf_di...</td>\n",
       "      <td>http://sharkattackfile.net/spreadsheets/pdf_di...</td>\n",
       "      <td>UNIDENTIFIED</td>\n",
       "      <td>UNIDENTIFIED</td>\n",
       "      <td>0</td>\n",
       "      <td>UNIDENTIFIED</td>\n",
       "      <td>UNIDENTIFIED</td>\n",
       "    </tr>\n",
       "    <tr>\n",
       "      <th>2628</th>\n",
       "      <td>1990-08-19 00:00:00</td>\n",
       "      <td>1990-08-19 00:00:00</td>\n",
       "      <td>1990.0</td>\n",
       "      <td>UNPROVOKED</td>\n",
       "      <td>USA</td>\n",
       "      <td>TEXAS</td>\n",
       "      <td>Near Port Aransas, Nueces County</td>\n",
       "      <td>FISHING</td>\n",
       "      <td>Jimmy Allen</td>\n",
       "      <td>M</td>\n",
       "      <td>18.0</td>\n",
       "      <td>Minor injury</td>\n",
       "      <td>0.0</td>\n",
       "      <td>AFTERNOON</td>\n",
       "      <td>UNIDENTIFIED</td>\n",
       "      <td>Dallas Morning News, 8//22/1990</td>\n",
       "      <td>1990.08.19.a-b-Allen.pdf</td>\n",
       "      <td>http://sharkattackfile.net/spreadsheets/pdf_di...</td>\n",
       "      <td>http://sharkattackfile.net/spreadsheets/pdf_di...</td>\n",
       "      <td>1990-08-19 00:00:00</td>\n",
       "      <td>1990-08-19 00:00:00</td>\n",
       "      <td>0</td>\n",
       "      <td>UNIDENTIFIED</td>\n",
       "      <td>UNIDENTIFIED</td>\n",
       "    </tr>\n",
       "    <tr>\n",
       "      <th>1899</th>\n",
       "      <td>2001-09-18 00:00:00</td>\n",
       "      <td>2001-09-18 00:00:00</td>\n",
       "      <td>2001.0</td>\n",
       "      <td>UNPROVOKED</td>\n",
       "      <td>USA</td>\n",
       "      <td>FLORIDA</td>\n",
       "      <td>New Smyrna Beach, Volusia County</td>\n",
       "      <td>SURFING</td>\n",
       "      <td>Blaise Mosler</td>\n",
       "      <td>M</td>\n",
       "      <td>14.0</td>\n",
       "      <td>1\" to 2\" cuts on right ankle &amp; foot</td>\n",
       "      <td>0.0</td>\n",
       "      <td>AFTERNOON</td>\n",
       "      <td>UNIDENTIFIED</td>\n",
       "      <td>Orlando Sentinel, 9/20/2001, p.D2; S. Frederic...</td>\n",
       "      <td>2001.09.18-Mosler.pdf</td>\n",
       "      <td>http://sharkattackfile.net/spreadsheets/pdf_di...</td>\n",
       "      <td>http://sharkattackfile.net/spreadsheets/pdf_di...</td>\n",
       "      <td>2001-09-18 00:00:00</td>\n",
       "      <td>2001-09-18 00:00:00</td>\n",
       "      <td>0</td>\n",
       "      <td>UNIDENTIFIED</td>\n",
       "      <td>UNIDENTIFIED</td>\n",
       "    </tr>\n",
       "    <tr>\n",
       "      <th>1369</th>\n",
       "      <td>2007-06-25 00:00:00</td>\n",
       "      <td>2007-06-25 00:00:00</td>\n",
       "      <td>2007.0</td>\n",
       "      <td>UNPROVOKED</td>\n",
       "      <td>USA</td>\n",
       "      <td>FLORIDA</td>\n",
       "      <td>New Smyrna Beach, Volusia County</td>\n",
       "      <td>SURFING</td>\n",
       "      <td>Justin Lewis</td>\n",
       "      <td>M</td>\n",
       "      <td>20.0</td>\n",
       "      <td>6 to 8 puncture wounds to right hand</td>\n",
       "      <td>0.0</td>\n",
       "      <td>AFTERNOON</td>\n",
       "      <td>UNIDENTIFIED</td>\n",
       "      <td>S. Petersohn, GSAF</td>\n",
       "      <td>2007.06.25-JustinLewis.pdf</td>\n",
       "      <td>http://sharkattackfile.net/spreadsheets/pdf_di...</td>\n",
       "      <td>http://sharkattackfile.net/spreadsheets/pdf_di...</td>\n",
       "      <td>2007-06-25 00:00:00</td>\n",
       "      <td>2007-06-25 00:00:00</td>\n",
       "      <td>0</td>\n",
       "      <td>UNIDENTIFIED</td>\n",
       "      <td>UNIDENTIFIED</td>\n",
       "    </tr>\n",
       "    <tr>\n",
       "      <th>3435</th>\n",
       "      <td>1969-05-14 00:00:00</td>\n",
       "      <td>1969-05-14 00:00:00</td>\n",
       "      <td>1969.0</td>\n",
       "      <td>UNPROVOKED</td>\n",
       "      <td>AUSTRALIA</td>\n",
       "      <td>QUEENSLAND</td>\n",
       "      <td>Broomfield Reef</td>\n",
       "      <td>UNIDENTIFIED</td>\n",
       "      <td>J. Gillies</td>\n",
       "      <td>UNIDENTIFIED</td>\n",
       "      <td>UNIDENTIFIED</td>\n",
       "      <td>Survived</td>\n",
       "      <td>0.0</td>\n",
       "      <td>UNIDENTIFIED</td>\n",
       "      <td>UNIDENTIFIED</td>\n",
       "      <td>J. Green, p.36</td>\n",
       "      <td>1969.05.14-Gillies.pdf</td>\n",
       "      <td>http://sharkattackfile.net/spreadsheets/pdf_di...</td>\n",
       "      <td>http://sharkattackfile.net/spreadsheets/pdf_di...</td>\n",
       "      <td>1969-05-14 00:00:00</td>\n",
       "      <td>1969-05-14 00:00:00</td>\n",
       "      <td>0</td>\n",
       "      <td>UNIDENTIFIED</td>\n",
       "      <td>UNIDENTIFIED</td>\n",
       "    </tr>\n",
       "    <tr>\n",
       "      <th>145</th>\n",
       "      <td>2017-05-03 00:00:00</td>\n",
       "      <td>2017-05-03 00:00:00</td>\n",
       "      <td>2017.0</td>\n",
       "      <td>OTHER</td>\n",
       "      <td>USA</td>\n",
       "      <td>CALIFORNIA</td>\n",
       "      <td>Sunset Beach, Orange County</td>\n",
       "      <td>SURFING</td>\n",
       "      <td>Sophia Raab</td>\n",
       "      <td>F</td>\n",
       "      <td>18.0</td>\n",
       "      <td>Laceration to thigh, likely caused by surfboar...</td>\n",
       "      <td>UNIDENTIFIED</td>\n",
       "      <td>AFTERNOON</td>\n",
       "      <td>UNIDENTIFIED</td>\n",
       "      <td>R. Collier, GSAF</td>\n",
       "      <td>2017.05.03-Raab.pdf</td>\n",
       "      <td>http://sharkattackfile.net/spreadsheets/pdf_di...</td>\n",
       "      <td>http://sharkattackfile.net/spreadsheets/pdf_di...</td>\n",
       "      <td>2017-05-03 00:00:00</td>\n",
       "      <td>2017-05-03 00:00:00</td>\n",
       "      <td>0</td>\n",
       "      <td>UNIDENTIFIED</td>\n",
       "      <td>UNIDENTIFIED</td>\n",
       "    </tr>\n",
       "    <tr>\n",
       "      <th>984</th>\n",
       "      <td>2010-09-27 00:00:00</td>\n",
       "      <td>2010-09-27 00:00:00</td>\n",
       "      <td>2010.0</td>\n",
       "      <td>UNPROVOKED</td>\n",
       "      <td>USA</td>\n",
       "      <td>OREGON</td>\n",
       "      <td>Winchester Bay</td>\n",
       "      <td>SURFING</td>\n",
       "      <td>David Lowden</td>\n",
       "      <td>M</td>\n",
       "      <td>29.0</td>\n",
       "      <td>No injury, surfboard rammed</td>\n",
       "      <td>0.0</td>\n",
       "      <td>AFTERNOON</td>\n",
       "      <td>WHITE SHARK</td>\n",
       "      <td>R. Collier</td>\n",
       "      <td>2010.09.27-Lowden-COLLIER.pdf</td>\n",
       "      <td>http://sharkattackfile.net/spreadsheets/pdf_di...</td>\n",
       "      <td>http://sharkattackfile.net/spreadsheets/pdf_di...</td>\n",
       "      <td>2010-09-27 00:00:00</td>\n",
       "      <td>2010-09-27 00:00:00</td>\n",
       "      <td>0</td>\n",
       "      <td>UNIDENTIFIED</td>\n",
       "      <td>UNIDENTIFIED</td>\n",
       "    </tr>\n",
       "    <tr>\n",
       "      <th>1473</th>\n",
       "      <td>2006-06-15 00:00:00</td>\n",
       "      <td>2006-06-15 00:00:00</td>\n",
       "      <td>2006.0</td>\n",
       "      <td>UNPROVOKED</td>\n",
       "      <td>USA</td>\n",
       "      <td>FLORIDA</td>\n",
       "      <td>New Smyrna Beach, Volusia County</td>\n",
       "      <td>SURFING</td>\n",
       "      <td>Mike Milea</td>\n",
       "      <td>M</td>\n",
       "      <td>24.0</td>\n",
       "      <td>Four 1-inch puncture wounds on left foot</td>\n",
       "      <td>0.0</td>\n",
       "      <td>AFTERNOON</td>\n",
       "      <td>UNIDENTIFIED</td>\n",
       "      <td>S. Petersohn, GSAF</td>\n",
       "      <td>2006.06.15-Milea.pdf</td>\n",
       "      <td>http://sharkattackfile.net/spreadsheets/pdf_di...</td>\n",
       "      <td>http://sharkattackfile.net/spreadsheets/pdf_di...</td>\n",
       "      <td>2006-06-15 00:00:00</td>\n",
       "      <td>2006-06-15 00:00:00</td>\n",
       "      <td>0</td>\n",
       "      <td>UNIDENTIFIED</td>\n",
       "      <td>UNIDENTIFIED</td>\n",
       "    </tr>\n",
       "    <tr>\n",
       "      <th>4297</th>\n",
       "      <td>1955-04-12 00:00:00</td>\n",
       "      <td>1955-04-12 00:00:00</td>\n",
       "      <td>1955.0</td>\n",
       "      <td>UNPROVOKED</td>\n",
       "      <td>PAPUA NEW GUINEA</td>\n",
       "      <td>UNIDENTIFIED</td>\n",
       "      <td>Abau</td>\n",
       "      <td>FISHING</td>\n",
       "      <td>Kula</td>\n",
       "      <td>M</td>\n",
       "      <td>UNIDENTIFIED</td>\n",
       "      <td>No injury. Shark took string of fish then stru...</td>\n",
       "      <td>0.0</td>\n",
       "      <td>UNIDENTIFIED</td>\n",
       "      <td>UNIDENTIFIED</td>\n",
       "      <td>South Pacific Post, 4/20/1955</td>\n",
       "      <td>1955.04.12-Kula.pdf</td>\n",
       "      <td>http://sharkattackfile.net/spreadsheets/pdf_di...</td>\n",
       "      <td>http://sharkattackfile.net/spreadsheets/pdf_di...</td>\n",
       "      <td>1955-04-12 00:00:00</td>\n",
       "      <td>1955-04-12 00:00:00</td>\n",
       "      <td>0</td>\n",
       "      <td>UNIDENTIFIED</td>\n",
       "      <td>UNIDENTIFIED</td>\n",
       "    </tr>\n",
       "    <tr>\n",
       "      <th>4207</th>\n",
       "      <td>1957-02-05 00:00:00</td>\n",
       "      <td>1957-02-05 00:00:00</td>\n",
       "      <td>1957.0</td>\n",
       "      <td>UNPROVOKED</td>\n",
       "      <td>USA</td>\n",
       "      <td>FLORIDA</td>\n",
       "      <td>South Beach, Fort Pierce, St Lucie County</td>\n",
       "      <td>FLOATING</td>\n",
       "      <td>David Carson</td>\n",
       "      <td>M</td>\n",
       "      <td>UNIDENTIFIED</td>\n",
       "      <td>Foot bitten</td>\n",
       "      <td>0.0</td>\n",
       "      <td>AFTERNOON</td>\n",
       "      <td>UNIDENTIFIED</td>\n",
       "      <td>R.F. Hutton; V.M. Coppleson (1958), p.255</td>\n",
       "      <td>1957.02.05-Carson.pdf</td>\n",
       "      <td>http://sharkattackfile.net/spreadsheets/pdf_di...</td>\n",
       "      <td>http://sharkattackfile.net/spreadsheets/pdf_di...</td>\n",
       "      <td>1957-02-05 00:00:00</td>\n",
       "      <td>1957-02-05 00:00:00</td>\n",
       "      <td>0</td>\n",
       "      <td>UNIDENTIFIED</td>\n",
       "      <td>UNIDENTIFIED</td>\n",
       "    </tr>\n",
       "    <tr>\n",
       "      <th>2706</th>\n",
       "      <td>1988-10-24 00:00:00</td>\n",
       "      <td>1988-10-24 00:00:00</td>\n",
       "      <td>1988.0</td>\n",
       "      <td>SEA DISASTER</td>\n",
       "      <td>PHILIPPINES</td>\n",
       "      <td>VISCAYAN SEA</td>\n",
       "      <td>UNIDENTIFIED</td>\n",
       "      <td>THE MV DONA MARILYN SANK IN TYPHOON UNSANG WIT...</td>\n",
       "      <td>UNIDENTIFIED</td>\n",
       "      <td>UNIDENTIFIED</td>\n",
       "      <td>UNIDENTIFIED</td>\n",
       "      <td>According to survivors, many people were taken...</td>\n",
       "      <td>1.0</td>\n",
       "      <td>UNIDENTIFIED</td>\n",
       "      <td>UNIDENTIFIED</td>\n",
       "      <td>Straits Times, 11/5/1988</td>\n",
       "      <td>1988.10.24-DonaMarilyn.pdf</td>\n",
       "      <td>http://sharkattackfile.net/spreadsheets/pdf_di...</td>\n",
       "      <td>http://sharkattackfile.net/spreadsheets/pdf_di...</td>\n",
       "      <td>1988-10-24 00:00:00</td>\n",
       "      <td>1988-10-24 00:00:00</td>\n",
       "      <td>0</td>\n",
       "      <td>UNIDENTIFIED</td>\n",
       "      <td>UNIDENTIFIED</td>\n",
       "    </tr>\n",
       "    <tr>\n",
       "      <th>3347</th>\n",
       "      <td>1971-12-23 00:00:00</td>\n",
       "      <td>1971-12-23 00:00:00</td>\n",
       "      <td>1971.0</td>\n",
       "      <td>UNPROVOKED</td>\n",
       "      <td>AUSTRALIA</td>\n",
       "      <td>NEW SOUTH WALES</td>\n",
       "      <td>Smokey Cape</td>\n",
       "      <td>UNIDENTIFIED</td>\n",
       "      <td>G. Byron</td>\n",
       "      <td>UNIDENTIFIED</td>\n",
       "      <td>22.0</td>\n",
       "      <td>Survived</td>\n",
       "      <td>0.0</td>\n",
       "      <td>UNIDENTIFIED</td>\n",
       "      <td>UNIDENTIFIED</td>\n",
       "      <td>J. Green, p.36</td>\n",
       "      <td>1971.12.23-Byron.pdf</td>\n",
       "      <td>http://sharkattackfile.net/spreadsheets/pdf_di...</td>\n",
       "      <td>http://sharkattackfile.net/spreadsheets/pdf_di...</td>\n",
       "      <td>1971-12-23 00:00:00</td>\n",
       "      <td>1971-12-23 00:00:00</td>\n",
       "      <td>0</td>\n",
       "      <td>UNIDENTIFIED</td>\n",
       "      <td>UNIDENTIFIED</td>\n",
       "    </tr>\n",
       "    <tr>\n",
       "      <th>1452</th>\n",
       "      <td>2006-07-29 00:00:00</td>\n",
       "      <td>2006-07-29 00:00:00</td>\n",
       "      <td>2006.0</td>\n",
       "      <td>UNPROVOKED</td>\n",
       "      <td>USA</td>\n",
       "      <td>FLORIDA</td>\n",
       "      <td>Playalinda Beach, Canaveral National Seashore,...</td>\n",
       "      <td>SURFING</td>\n",
       "      <td>Matt Wishengrad</td>\n",
       "      <td>M</td>\n",
       "      <td>15.0</td>\n",
       "      <td>Foot bitten</td>\n",
       "      <td>0.0</td>\n",
       "      <td>UNIDENTIFIED</td>\n",
       "      <td>UNIDENTIFIED</td>\n",
       "      <td>WFTV.com</td>\n",
       "      <td>2006.07.29.a-Wishengrad.pdf</td>\n",
       "      <td>http://sharkattackfile.net/spreadsheets/pdf_di...</td>\n",
       "      <td>http://sharkattackfile.net/spreadsheets/pdf_di...</td>\n",
       "      <td>2006-07-29 00:00:00</td>\n",
       "      <td>2006-07-29 00:00:00</td>\n",
       "      <td>0</td>\n",
       "      <td>UNIDENTIFIED</td>\n",
       "      <td>UNIDENTIFIED</td>\n",
       "    </tr>\n",
       "    <tr>\n",
       "      <th>2316</th>\n",
       "      <td>1996-02-10 00:00:00</td>\n",
       "      <td>1996-02-10 00:00:00</td>\n",
       "      <td>1996.0</td>\n",
       "      <td>UNPROVOKED</td>\n",
       "      <td>PAPUA NEW GUINEA</td>\n",
       "      <td>MADANG PROVINCE</td>\n",
       "      <td>Madang</td>\n",
       "      <td>UNIDENTIFIED</td>\n",
       "      <td>College student</td>\n",
       "      <td>UNIDENTIFIED</td>\n",
       "      <td>UNIDENTIFIED</td>\n",
       "      <td>Thigh</td>\n",
       "      <td>0.0</td>\n",
       "      <td>UNIDENTIFIED</td>\n",
       "      <td>UNIDENTIFIED</td>\n",
       "      <td>Sunday Mail (QLD), 2/11/1996, p.28</td>\n",
       "      <td>1996.02.10.b-CollegeStuden.pdf</td>\n",
       "      <td>http://sharkattackfile.net/spreadsheets/pdf_di...</td>\n",
       "      <td>http://sharkattackfile.net/spreadsheets/pdf_di...</td>\n",
       "      <td>1996-02-10 00:00:00</td>\n",
       "      <td>1996-02-10 00:00:00</td>\n",
       "      <td>0</td>\n",
       "      <td>UNIDENTIFIED</td>\n",
       "      <td>UNIDENTIFIED</td>\n",
       "    </tr>\n",
       "    <tr>\n",
       "      <th>16</th>\n",
       "      <td>2018-05-09 00:00:00</td>\n",
       "      <td>2018-05-09 00:00:00</td>\n",
       "      <td>2018.0</td>\n",
       "      <td>OTHER</td>\n",
       "      <td>AUSTRALIA</td>\n",
       "      <td>NEW SOUTH WALES</td>\n",
       "      <td>Sharpes Beach, Ballina</td>\n",
       "      <td>SURFING</td>\n",
       "      <td>male</td>\n",
       "      <td>M</td>\n",
       "      <td>UNIDENTIFIED</td>\n",
       "      <td>No injury, surfboard damaged</td>\n",
       "      <td>0.0</td>\n",
       "      <td>DAY MORNING</td>\n",
       "      <td>UNIDENTIFIED</td>\n",
       "      <td>B. Myatt, GSAF</td>\n",
       "      <td>2018.05.09-SharpesBeach.pdf</td>\n",
       "      <td>http://sharkattackfile.net/spreadsheets/pdf_di...</td>\n",
       "      <td>http://sharkattackfile.net/spreadsheets/pdf_di...</td>\n",
       "      <td>2018-05-09 00:00:00</td>\n",
       "      <td>2018-05-09 00:00:00</td>\n",
       "      <td>0</td>\n",
       "      <td>UNIDENTIFIED</td>\n",
       "      <td>UNIDENTIFIED</td>\n",
       "    </tr>\n",
       "    <tr>\n",
       "      <th>1231</th>\n",
       "      <td>2008-07-24 00:00:00</td>\n",
       "      <td>2008-07-24 00:00:00</td>\n",
       "      <td>2008.0</td>\n",
       "      <td>UNPROVOKED</td>\n",
       "      <td>USA</td>\n",
       "      <td>NORTH CAROLINA</td>\n",
       "      <td>Topsail Island, Pender County</td>\n",
       "      <td>WADING</td>\n",
       "      <td>Madeline Sinsley</td>\n",
       "      <td>F</td>\n",
       "      <td>8.0</td>\n",
       "      <td>Lacerations to dorsum of right foot</td>\n",
       "      <td>0.0</td>\n",
       "      <td>AFTERNOON</td>\n",
       "      <td>UNIDENTIFIED</td>\n",
       "      <td>C. Creswell, GSAF</td>\n",
       "      <td>2008.07.24.a-Sinsley.pdf</td>\n",
       "      <td>http://sharkattackfile.net/spreadsheets/pdf_di...</td>\n",
       "      <td>http://sharkattackfile.net/spreadsheets/pdf_di...</td>\n",
       "      <td>2008-07-24 00:00:00</td>\n",
       "      <td>2008-07-24 00:00:00</td>\n",
       "      <td>0</td>\n",
       "      <td>UNIDENTIFIED</td>\n",
       "      <td>UNIDENTIFIED</td>\n",
       "    </tr>\n",
       "  </tbody>\n",
       "</table>\n",
       "</div>"
      ],
      "text/plain": [
       "              case_number                 date    year          type  \\\n",
       "79    2017-09-24 00:00:00  2017-09-24 00:00:00  2017.0         OTHER   \n",
       "1886  2002-01-04 00:00:00  2002-01-04 00:00:00  2002.0    UNPROVOKED   \n",
       "5108  1928-04-06 00:00:00  1928-04-06 00:00:00  1928.0    UNPROVOKED   \n",
       "4759  1940-12-20 00:00:00  1940-12-20 00:00:00  1940.0    UNPROVOKED   \n",
       "6137         UNIDENTIFIED         UNIDENTIFIED  1787.0    UNPROVOKED   \n",
       "2628  1990-08-19 00:00:00  1990-08-19 00:00:00  1990.0    UNPROVOKED   \n",
       "1899  2001-09-18 00:00:00  2001-09-18 00:00:00  2001.0    UNPROVOKED   \n",
       "1369  2007-06-25 00:00:00  2007-06-25 00:00:00  2007.0    UNPROVOKED   \n",
       "3435  1969-05-14 00:00:00  1969-05-14 00:00:00  1969.0    UNPROVOKED   \n",
       "145   2017-05-03 00:00:00  2017-05-03 00:00:00  2017.0         OTHER   \n",
       "984   2010-09-27 00:00:00  2010-09-27 00:00:00  2010.0    UNPROVOKED   \n",
       "1473  2006-06-15 00:00:00  2006-06-15 00:00:00  2006.0    UNPROVOKED   \n",
       "4297  1955-04-12 00:00:00  1955-04-12 00:00:00  1955.0    UNPROVOKED   \n",
       "4207  1957-02-05 00:00:00  1957-02-05 00:00:00  1957.0    UNPROVOKED   \n",
       "2706  1988-10-24 00:00:00  1988-10-24 00:00:00  1988.0  SEA DISASTER   \n",
       "3347  1971-12-23 00:00:00  1971-12-23 00:00:00  1971.0    UNPROVOKED   \n",
       "1452  2006-07-29 00:00:00  2006-07-29 00:00:00  2006.0    UNPROVOKED   \n",
       "2316  1996-02-10 00:00:00  1996-02-10 00:00:00  1996.0    UNPROVOKED   \n",
       "16    2018-05-09 00:00:00  2018-05-09 00:00:00  2018.0         OTHER   \n",
       "1231  2008-07-24 00:00:00  2008-07-24 00:00:00  2008.0    UNPROVOKED   \n",
       "\n",
       "               country             area  \\\n",
       "79                 USA         NEW YORK   \n",
       "1886      SOUTH AFRICA    KWAZULU-NATAL   \n",
       "5108         AUSTRALIA       QUEENSLAND   \n",
       "4759      SOUTH AFRICA    KWAZULU-NATAL   \n",
       "6137      UNIDENTIFIED        ST HELENA   \n",
       "2628               USA            TEXAS   \n",
       "1899               USA          FLORIDA   \n",
       "1369               USA          FLORIDA   \n",
       "3435         AUSTRALIA       QUEENSLAND   \n",
       "145                USA       CALIFORNIA   \n",
       "984                USA           OREGON   \n",
       "1473               USA          FLORIDA   \n",
       "4297  PAPUA NEW GUINEA     UNIDENTIFIED   \n",
       "4207               USA          FLORIDA   \n",
       "2706       PHILIPPINES     VISCAYAN SEA   \n",
       "3347         AUSTRALIA  NEW SOUTH WALES   \n",
       "1452               USA          FLORIDA   \n",
       "2316  PAPUA NEW GUINEA  MADANG PROVINCE   \n",
       "16           AUSTRALIA  NEW SOUTH WALES   \n",
       "1231               USA   NORTH CAROLINA   \n",
       "\n",
       "                                               location  \\\n",
       "79                                             Rockaway   \n",
       "1886                                      Durban Harbor   \n",
       "5108                                         Graceville   \n",
       "4759                          Inyoni Rocks, South Coast   \n",
       "6137                                      Landing Place   \n",
       "2628                   Near Port Aransas, Nueces County   \n",
       "1899                   New Smyrna Beach, Volusia County   \n",
       "1369                   New Smyrna Beach, Volusia County   \n",
       "3435                                    Broomfield Reef   \n",
       "145                         Sunset Beach, Orange County   \n",
       "984                                      Winchester Bay   \n",
       "1473                   New Smyrna Beach, Volusia County   \n",
       "4297                                               Abau   \n",
       "4207          South Beach, Fort Pierce, St Lucie County   \n",
       "2706                                       UNIDENTIFIED   \n",
       "3347                                        Smokey Cape   \n",
       "1452  Playalinda Beach, Canaveral National Seashore,...   \n",
       "2316                                             Madang   \n",
       "16                               Sharpes Beach, Ballina   \n",
       "1231                      Topsail Island, Pender County   \n",
       "\n",
       "                                               activity  \\\n",
       "79                                              SURFING   \n",
       "1886                                            FISHING   \n",
       "5108                                            BATHING   \n",
       "4759                                           SWIMMING   \n",
       "6137                                           SWIMMING   \n",
       "2628                                            FISHING   \n",
       "1899                                            SURFING   \n",
       "1369                                            SURFING   \n",
       "3435                                       UNIDENTIFIED   \n",
       "145                                             SURFING   \n",
       "984                                             SURFING   \n",
       "1473                                            SURFING   \n",
       "4297                                            FISHING   \n",
       "4207                                           FLOATING   \n",
       "2706  THE MV DONA MARILYN SANK IN TYPHOON UNSANG WIT...   \n",
       "3347                                       UNIDENTIFIED   \n",
       "1452                                            SURFING   \n",
       "2316                                       UNIDENTIFIED   \n",
       "16                                              SURFING   \n",
       "1231                                             WADING   \n",
       "\n",
       "                        name           sex           age  \\\n",
       "79            Michah Behrend             M          33.0   \n",
       "1886            Imraan Sheik             M          16.0   \n",
       "5108              Noel Arthy             M          15.0   \n",
       "4759        Desmond Chandley             M          17.0   \n",
       "6137  Private Isaac Hicksled             M  UNIDENTIFIED   \n",
       "2628             Jimmy Allen             M          18.0   \n",
       "1899           Blaise Mosler             M          14.0   \n",
       "1369            Justin Lewis             M          20.0   \n",
       "3435              J. Gillies  UNIDENTIFIED  UNIDENTIFIED   \n",
       "145              Sophia Raab             F          18.0   \n",
       "984             David Lowden             M          29.0   \n",
       "1473              Mike Milea             M          24.0   \n",
       "4297                    Kula             M  UNIDENTIFIED   \n",
       "4207            David Carson             M  UNIDENTIFIED   \n",
       "2706            UNIDENTIFIED  UNIDENTIFIED  UNIDENTIFIED   \n",
       "3347                G. Byron  UNIDENTIFIED          22.0   \n",
       "1452         Matt Wishengrad             M          15.0   \n",
       "2316         College student  UNIDENTIFIED  UNIDENTIFIED   \n",
       "16                      male             M  UNIDENTIFIED   \n",
       "1231       Madeline Sinsley              F           8.0   \n",
       "\n",
       "                                                 injury   fatal_(y/n)  \\\n",
       "79               Lacerations to right ankle, foot & toe  UNIDENTIFIED   \n",
       "1886                  Leg bitten & surgically amputated           0.0   \n",
       "5108                          Lacerations to right leg            0.0   \n",
       "4759       FATAL, multiple injuries to legs & buttocks            1.0   \n",
       "6137                                              FATAL           1.0   \n",
       "2628                                       Minor injury           0.0   \n",
       "1899                1\" to 2\" cuts on right ankle & foot           0.0   \n",
       "1369               6 to 8 puncture wounds to right hand           0.0   \n",
       "3435                                           Survived           0.0   \n",
       "145   Laceration to thigh, likely caused by surfboar...  UNIDENTIFIED   \n",
       "984                         No injury, surfboard rammed           0.0   \n",
       "1473          Four 1-inch puncture wounds on left foot            0.0   \n",
       "4297  No injury. Shark took string of fish then stru...           0.0   \n",
       "4207                                        Foot bitten           0.0   \n",
       "2706  According to survivors, many people were taken...           1.0   \n",
       "3347                                           Survived           0.0   \n",
       "1452                                        Foot bitten           0.0   \n",
       "2316                                              Thigh           0.0   \n",
       "16                         No injury, surfboard damaged           0.0   \n",
       "1231               Lacerations to dorsum of right foot            0.0   \n",
       "\n",
       "               time        species  \\\n",
       "79        AFTERNOON   UNIDENTIFIED   \n",
       "1886  NIGHT MORNING  ZAMBESI SHARK   \n",
       "5108    DAY MORNING   UNIDENTIFIED   \n",
       "4759    DAY MORNING   UNIDENTIFIED   \n",
       "6137   UNIDENTIFIED   UNIDENTIFIED   \n",
       "2628      AFTERNOON   UNIDENTIFIED   \n",
       "1899      AFTERNOON   UNIDENTIFIED   \n",
       "1369      AFTERNOON   UNIDENTIFIED   \n",
       "3435   UNIDENTIFIED   UNIDENTIFIED   \n",
       "145       AFTERNOON   UNIDENTIFIED   \n",
       "984       AFTERNOON    WHITE SHARK   \n",
       "1473      AFTERNOON   UNIDENTIFIED   \n",
       "4297   UNIDENTIFIED   UNIDENTIFIED   \n",
       "4207      AFTERNOON   UNIDENTIFIED   \n",
       "2706   UNIDENTIFIED   UNIDENTIFIED   \n",
       "3347   UNIDENTIFIED   UNIDENTIFIED   \n",
       "1452   UNIDENTIFIED   UNIDENTIFIED   \n",
       "2316   UNIDENTIFIED   UNIDENTIFIED   \n",
       "16      DAY MORNING   UNIDENTIFIED   \n",
       "1231      AFTERNOON   UNIDENTIFIED   \n",
       "\n",
       "                                 investigator_or_source  \\\n",
       "79                            S. Curatolo-Wageman, GSAF   \n",
       "1886                                   G. Gifford, GSAF   \n",
       "5108                         Brisbane Courier, 5/8/1928   \n",
       "4759                           R. Kahn, M. Levine, GSAF   \n",
       "6137  H.R. Janisch (1885), Extracts from the St. Hel...   \n",
       "2628                    Dallas Morning News, 8//22/1990   \n",
       "1899  Orlando Sentinel, 9/20/2001, p.D2; S. Frederic...   \n",
       "1369                                 S. Petersohn, GSAF   \n",
       "3435                                     J. Green, p.36   \n",
       "145                                    R. Collier, GSAF   \n",
       "984                                          R. Collier   \n",
       "1473                                 S. Petersohn, GSAF   \n",
       "4297                      South Pacific Post, 4/20/1955   \n",
       "4207          R.F. Hutton; V.M. Coppleson (1958), p.255   \n",
       "2706                           Straits Times, 11/5/1988   \n",
       "3347                                     J. Green, p.36   \n",
       "1452                                           WFTV.com   \n",
       "2316                 Sunday Mail (QLD), 2/11/1996, p.28   \n",
       "16                                       B. Myatt, GSAF   \n",
       "1231                                  C. Creswell, GSAF   \n",
       "\n",
       "                                 pdf  \\\n",
       "79          2017.09.24.b-Behrend.pdf   \n",
       "1886            2002.01.04-Sheik.pdf   \n",
       "5108            1928.04.06-Arthy.pdf   \n",
       "4759         1940.12.20-Chandley.pdf   \n",
       "6137         1787.07.05-Hicksled.pdf   \n",
       "2628        1990.08.19.a-b-Allen.pdf   \n",
       "1899           2001.09.18-Mosler.pdf   \n",
       "1369      2007.06.25-JustinLewis.pdf   \n",
       "3435          1969.05.14-Gillies.pdf   \n",
       "145              2017.05.03-Raab.pdf   \n",
       "984    2010.09.27-Lowden-COLLIER.pdf   \n",
       "1473            2006.06.15-Milea.pdf   \n",
       "4297             1955.04.12-Kula.pdf   \n",
       "4207           1957.02.05-Carson.pdf   \n",
       "2706      1988.10.24-DonaMarilyn.pdf   \n",
       "3347            1971.12.23-Byron.pdf   \n",
       "1452     2006.07.29.a-Wishengrad.pdf   \n",
       "2316  1996.02.10.b-CollegeStuden.pdf   \n",
       "16       2018.05.09-SharpesBeach.pdf   \n",
       "1231        2008.07.24.a-Sinsley.pdf   \n",
       "\n",
       "                                           href_formula  \\\n",
       "79    http://sharkattackfile.net/spreadsheets/pdf_di...   \n",
       "1886  http://sharkattackfile.net/spreadsheets/pdf_di...   \n",
       "5108  http://sharkattackfile.net/spreadsheets/pdf_di...   \n",
       "4759  http://sharkattackfile.net/spreadsheets/pdf_di...   \n",
       "6137  http://sharkattackfile.net/spreadsheets/pdf_di...   \n",
       "2628  http://sharkattackfile.net/spreadsheets/pdf_di...   \n",
       "1899  http://sharkattackfile.net/spreadsheets/pdf_di...   \n",
       "1369  http://sharkattackfile.net/spreadsheets/pdf_di...   \n",
       "3435  http://sharkattackfile.net/spreadsheets/pdf_di...   \n",
       "145   http://sharkattackfile.net/spreadsheets/pdf_di...   \n",
       "984   http://sharkattackfile.net/spreadsheets/pdf_di...   \n",
       "1473  http://sharkattackfile.net/spreadsheets/pdf_di...   \n",
       "4297  http://sharkattackfile.net/spreadsheets/pdf_di...   \n",
       "4207  http://sharkattackfile.net/spreadsheets/pdf_di...   \n",
       "2706  http://sharkattackfile.net/spreadsheets/pdf_di...   \n",
       "3347  http://sharkattackfile.net/spreadsheets/pdf_di...   \n",
       "1452  http://sharkattackfile.net/spreadsheets/pdf_di...   \n",
       "2316  http://sharkattackfile.net/spreadsheets/pdf_di...   \n",
       "16    http://sharkattackfile.net/spreadsheets/pdf_di...   \n",
       "1231  http://sharkattackfile.net/spreadsheets/pdf_di...   \n",
       "\n",
       "                                                   href        case_number.1  \\\n",
       "79    http://sharkattackfile.net/spreadsheets/pdf_di...  2017-09-24 00:00:00   \n",
       "1886  http://sharkattackfile.net/spreadsheets/pdf_di...  2002-01-04 00:00:00   \n",
       "5108  http://sharkattackfile.net/spreadsheets/pdf_di...  1928-04-06 00:00:00   \n",
       "4759  http://sharkattackfile.net/spreadsheets/pdf_di...  1940-12-20 00:00:00   \n",
       "6137  http://sharkattackfile.net/spreadsheets/pdf_di...         UNIDENTIFIED   \n",
       "2628  http://sharkattackfile.net/spreadsheets/pdf_di...  1990-08-19 00:00:00   \n",
       "1899  http://sharkattackfile.net/spreadsheets/pdf_di...  2001-09-18 00:00:00   \n",
       "1369  http://sharkattackfile.net/spreadsheets/pdf_di...  2007-06-25 00:00:00   \n",
       "3435  http://sharkattackfile.net/spreadsheets/pdf_di...  1969-05-14 00:00:00   \n",
       "145   http://sharkattackfile.net/spreadsheets/pdf_di...  2017-05-03 00:00:00   \n",
       "984   http://sharkattackfile.net/spreadsheets/pdf_di...  2010-09-27 00:00:00   \n",
       "1473  http://sharkattackfile.net/spreadsheets/pdf_di...  2006-06-15 00:00:00   \n",
       "4297  http://sharkattackfile.net/spreadsheets/pdf_di...  1955-04-12 00:00:00   \n",
       "4207  http://sharkattackfile.net/spreadsheets/pdf_di...  1957-02-05 00:00:00   \n",
       "2706  http://sharkattackfile.net/spreadsheets/pdf_di...  1988-10-24 00:00:00   \n",
       "3347  http://sharkattackfile.net/spreadsheets/pdf_di...  1971-12-23 00:00:00   \n",
       "1452  http://sharkattackfile.net/spreadsheets/pdf_di...  2006-07-29 00:00:00   \n",
       "2316  http://sharkattackfile.net/spreadsheets/pdf_di...  1996-02-10 00:00:00   \n",
       "16    http://sharkattackfile.net/spreadsheets/pdf_di...  2018-05-09 00:00:00   \n",
       "1231  http://sharkattackfile.net/spreadsheets/pdf_di...  2008-07-24 00:00:00   \n",
       "\n",
       "            case_number.2  original_order   unnamed:_22   unnamed:_23  \n",
       "79    2017-09-24 00:00:00               0  UNIDENTIFIED  UNIDENTIFIED  \n",
       "1886  2002-01-04 00:00:00               0  UNIDENTIFIED  UNIDENTIFIED  \n",
       "5108  1928-04-06 00:00:00               0  UNIDENTIFIED  UNIDENTIFIED  \n",
       "4759  1940-12-20 00:00:00               0  UNIDENTIFIED  UNIDENTIFIED  \n",
       "6137         UNIDENTIFIED               0  UNIDENTIFIED  UNIDENTIFIED  \n",
       "2628  1990-08-19 00:00:00               0  UNIDENTIFIED  UNIDENTIFIED  \n",
       "1899  2001-09-18 00:00:00               0  UNIDENTIFIED  UNIDENTIFIED  \n",
       "1369  2007-06-25 00:00:00               0  UNIDENTIFIED  UNIDENTIFIED  \n",
       "3435  1969-05-14 00:00:00               0  UNIDENTIFIED  UNIDENTIFIED  \n",
       "145   2017-05-03 00:00:00               0  UNIDENTIFIED  UNIDENTIFIED  \n",
       "984   2010-09-27 00:00:00               0  UNIDENTIFIED  UNIDENTIFIED  \n",
       "1473  2006-06-15 00:00:00               0  UNIDENTIFIED  UNIDENTIFIED  \n",
       "4297  1955-04-12 00:00:00               0  UNIDENTIFIED  UNIDENTIFIED  \n",
       "4207  1957-02-05 00:00:00               0  UNIDENTIFIED  UNIDENTIFIED  \n",
       "2706  1988-10-24 00:00:00               0  UNIDENTIFIED  UNIDENTIFIED  \n",
       "3347  1971-12-23 00:00:00               0  UNIDENTIFIED  UNIDENTIFIED  \n",
       "1452  2006-07-29 00:00:00               0  UNIDENTIFIED  UNIDENTIFIED  \n",
       "2316  1996-02-10 00:00:00               0  UNIDENTIFIED  UNIDENTIFIED  \n",
       "16    2018-05-09 00:00:00               0  UNIDENTIFIED  UNIDENTIFIED  \n",
       "1231  2008-07-24 00:00:00               0  UNIDENTIFIED  UNIDENTIFIED  "
      ]
     },
     "execution_count": 93,
     "metadata": {},
     "output_type": "execute_result"
    }
   ],
   "source": [
    "data.sample(20)"
   ]
  },
  {
   "cell_type": "code",
   "execution_count": null,
   "id": "7095df86",
   "metadata": {},
   "outputs": [],
   "source": []
  },
  {
   "cell_type": "code",
   "execution_count": null,
   "id": "c53db8d2",
   "metadata": {},
   "outputs": [],
   "source": []
  },
  {
   "cell_type": "code",
   "execution_count": null,
   "id": "25a89eb2",
   "metadata": {},
   "outputs": [],
   "source": []
  }
 ],
 "metadata": {
  "kernelspec": {
   "display_name": "Python 3 (ipykernel)",
   "language": "python",
   "name": "python3"
  },
  "language_info": {
   "codemirror_mode": {
    "name": "ipython",
    "version": 3
   },
   "file_extension": ".py",
   "mimetype": "text/x-python",
   "name": "python",
   "nbconvert_exporter": "python",
   "pygments_lexer": "ipython3",
   "version": "3.10.9"
  }
 },
 "nbformat": 4,
 "nbformat_minor": 5
}
