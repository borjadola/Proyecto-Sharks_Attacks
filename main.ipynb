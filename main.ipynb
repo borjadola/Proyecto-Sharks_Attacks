{
 "cells": [
  {
   "cell_type": "code",
   "execution_count": 1,
   "id": "987b87e9",
   "metadata": {},
   "outputs": [],
   "source": [
    "import pandas as pd\n",
    "import numpy as np\n",
    "import warnings\n",
    "import zipfile\n",
    "import regex as re\n",
    "warnings.filterwarnings('ignore')"
   ]
  },
  {
   "cell_type": "code",
   "execution_count": 2,
   "id": "53d6d140",
   "metadata": {},
   "outputs": [],
   "source": [
    "zf = zipfile.ZipFile('/Users/borja/IronHack/Proyecto-Sharks_Attacks/data/Archive.zip')\n",
    "\n",
    "\n",
    "archivo = zf.open('attacks.csv')\n",
    "\n",
    "\n",
    "data_original = pd.read_csv(archivo, encoding='latin1')\n",
    "pd.set_option('display.max_columns', None)"
   ]
  },
  {
   "cell_type": "code",
   "execution_count": 3,
   "id": "993ed0b6",
   "metadata": {},
   "outputs": [
    {
     "data": {
      "text/html": [
       "<div>\n",
       "<style scoped>\n",
       "    .dataframe tbody tr th:only-of-type {\n",
       "        vertical-align: middle;\n",
       "    }\n",
       "\n",
       "    .dataframe tbody tr th {\n",
       "        vertical-align: top;\n",
       "    }\n",
       "\n",
       "    .dataframe thead th {\n",
       "        text-align: right;\n",
       "    }\n",
       "</style>\n",
       "<table border=\"1\" class=\"dataframe\">\n",
       "  <thead>\n",
       "    <tr style=\"text-align: right;\">\n",
       "      <th></th>\n",
       "      <th>Case Number</th>\n",
       "      <th>Date</th>\n",
       "      <th>Year</th>\n",
       "      <th>Type</th>\n",
       "      <th>Country</th>\n",
       "      <th>Area</th>\n",
       "      <th>Location</th>\n",
       "      <th>Activity</th>\n",
       "      <th>Name</th>\n",
       "      <th>Sex</th>\n",
       "      <th>Age</th>\n",
       "      <th>Injury</th>\n",
       "      <th>Fatal (Y/N)</th>\n",
       "      <th>Time</th>\n",
       "      <th>Species</th>\n",
       "      <th>Investigator or Source</th>\n",
       "      <th>pdf</th>\n",
       "      <th>href formula</th>\n",
       "      <th>href</th>\n",
       "      <th>Case Number.1</th>\n",
       "      <th>Case Number.2</th>\n",
       "      <th>original order</th>\n",
       "      <th>Unnamed: 22</th>\n",
       "      <th>Unnamed: 23</th>\n",
       "    </tr>\n",
       "  </thead>\n",
       "  <tbody>\n",
       "    <tr>\n",
       "      <th>0</th>\n",
       "      <td>2018.06.25</td>\n",
       "      <td>25-Jun-2018</td>\n",
       "      <td>2018.0</td>\n",
       "      <td>Boating</td>\n",
       "      <td>USA</td>\n",
       "      <td>California</td>\n",
       "      <td>Oceanside, San Diego County</td>\n",
       "      <td>Paddling</td>\n",
       "      <td>Julie Wolfe</td>\n",
       "      <td>F</td>\n",
       "      <td>57</td>\n",
       "      <td>No injury to occupant, outrigger canoe and pad...</td>\n",
       "      <td>N</td>\n",
       "      <td>18h00</td>\n",
       "      <td>White shark</td>\n",
       "      <td>R. Collier, GSAF</td>\n",
       "      <td>2018.06.25-Wolfe.pdf</td>\n",
       "      <td>http://sharkattackfile.net/spreadsheets/pdf_di...</td>\n",
       "      <td>http://sharkattackfile.net/spreadsheets/pdf_di...</td>\n",
       "      <td>2018.06.25</td>\n",
       "      <td>2018.06.25</td>\n",
       "      <td>6303.0</td>\n",
       "      <td>NaN</td>\n",
       "      <td>NaN</td>\n",
       "    </tr>\n",
       "    <tr>\n",
       "      <th>1</th>\n",
       "      <td>2018.06.18</td>\n",
       "      <td>18-Jun-2018</td>\n",
       "      <td>2018.0</td>\n",
       "      <td>Unprovoked</td>\n",
       "      <td>USA</td>\n",
       "      <td>Georgia</td>\n",
       "      <td>St. Simon Island, Glynn County</td>\n",
       "      <td>Standing</td>\n",
       "      <td>Adyson McNeely</td>\n",
       "      <td>F</td>\n",
       "      <td>11</td>\n",
       "      <td>Minor injury to left thigh</td>\n",
       "      <td>N</td>\n",
       "      <td>14h00  -15h00</td>\n",
       "      <td>NaN</td>\n",
       "      <td>K.McMurray, TrackingSharks.com</td>\n",
       "      <td>2018.06.18-McNeely.pdf</td>\n",
       "      <td>http://sharkattackfile.net/spreadsheets/pdf_di...</td>\n",
       "      <td>http://sharkattackfile.net/spreadsheets/pdf_di...</td>\n",
       "      <td>2018.06.18</td>\n",
       "      <td>2018.06.18</td>\n",
       "      <td>6302.0</td>\n",
       "      <td>NaN</td>\n",
       "      <td>NaN</td>\n",
       "    </tr>\n",
       "    <tr>\n",
       "      <th>2</th>\n",
       "      <td>2018.06.09</td>\n",
       "      <td>09-Jun-2018</td>\n",
       "      <td>2018.0</td>\n",
       "      <td>Invalid</td>\n",
       "      <td>USA</td>\n",
       "      <td>Hawaii</td>\n",
       "      <td>Habush, Oahu</td>\n",
       "      <td>Surfing</td>\n",
       "      <td>John Denges</td>\n",
       "      <td>M</td>\n",
       "      <td>48</td>\n",
       "      <td>Injury to left lower leg from surfboard skeg</td>\n",
       "      <td>N</td>\n",
       "      <td>07h45</td>\n",
       "      <td>NaN</td>\n",
       "      <td>K.McMurray, TrackingSharks.com</td>\n",
       "      <td>2018.06.09-Denges.pdf</td>\n",
       "      <td>http://sharkattackfile.net/spreadsheets/pdf_di...</td>\n",
       "      <td>http://sharkattackfile.net/spreadsheets/pdf_di...</td>\n",
       "      <td>2018.06.09</td>\n",
       "      <td>2018.06.09</td>\n",
       "      <td>6301.0</td>\n",
       "      <td>NaN</td>\n",
       "      <td>NaN</td>\n",
       "    </tr>\n",
       "    <tr>\n",
       "      <th>3</th>\n",
       "      <td>2018.06.08</td>\n",
       "      <td>08-Jun-2018</td>\n",
       "      <td>2018.0</td>\n",
       "      <td>Unprovoked</td>\n",
       "      <td>AUSTRALIA</td>\n",
       "      <td>New South Wales</td>\n",
       "      <td>Arrawarra Headland</td>\n",
       "      <td>Surfing</td>\n",
       "      <td>male</td>\n",
       "      <td>M</td>\n",
       "      <td>NaN</td>\n",
       "      <td>Minor injury to lower leg</td>\n",
       "      <td>N</td>\n",
       "      <td>NaN</td>\n",
       "      <td>2 m shark</td>\n",
       "      <td>B. Myatt, GSAF</td>\n",
       "      <td>2018.06.08-Arrawarra.pdf</td>\n",
       "      <td>http://sharkattackfile.net/spreadsheets/pdf_di...</td>\n",
       "      <td>http://sharkattackfile.net/spreadsheets/pdf_di...</td>\n",
       "      <td>2018.06.08</td>\n",
       "      <td>2018.06.08</td>\n",
       "      <td>6300.0</td>\n",
       "      <td>NaN</td>\n",
       "      <td>NaN</td>\n",
       "    </tr>\n",
       "    <tr>\n",
       "      <th>4</th>\n",
       "      <td>2018.06.04</td>\n",
       "      <td>04-Jun-2018</td>\n",
       "      <td>2018.0</td>\n",
       "      <td>Provoked</td>\n",
       "      <td>MEXICO</td>\n",
       "      <td>Colima</td>\n",
       "      <td>La Ticla</td>\n",
       "      <td>Free diving</td>\n",
       "      <td>Gustavo Ramos</td>\n",
       "      <td>M</td>\n",
       "      <td>NaN</td>\n",
       "      <td>Lacerations to leg &amp; hand shark PROVOKED INCIDENT</td>\n",
       "      <td>N</td>\n",
       "      <td>NaN</td>\n",
       "      <td>Tiger shark, 3m</td>\n",
       "      <td>A .Kipper</td>\n",
       "      <td>2018.06.04-Ramos.pdf</td>\n",
       "      <td>http://sharkattackfile.net/spreadsheets/pdf_di...</td>\n",
       "      <td>http://sharkattackfile.net/spreadsheets/pdf_di...</td>\n",
       "      <td>2018.06.04</td>\n",
       "      <td>2018.06.04</td>\n",
       "      <td>6299.0</td>\n",
       "      <td>NaN</td>\n",
       "      <td>NaN</td>\n",
       "    </tr>\n",
       "  </tbody>\n",
       "</table>\n",
       "</div>"
      ],
      "text/plain": [
       "  Case Number         Date    Year        Type    Country             Area  \\\n",
       "0  2018.06.25  25-Jun-2018  2018.0     Boating        USA       California   \n",
       "1  2018.06.18  18-Jun-2018  2018.0  Unprovoked        USA          Georgia   \n",
       "2  2018.06.09  09-Jun-2018  2018.0     Invalid        USA           Hawaii   \n",
       "3  2018.06.08  08-Jun-2018  2018.0  Unprovoked  AUSTRALIA  New South Wales   \n",
       "4  2018.06.04  04-Jun-2018  2018.0    Provoked     MEXICO           Colima   \n",
       "\n",
       "                         Location     Activity             Name Sex   Age  \\\n",
       "0     Oceanside, San Diego County     Paddling      Julie Wolfe    F   57   \n",
       "1  St. Simon Island, Glynn County     Standing  Adyson McNeely     F   11   \n",
       "2                    Habush, Oahu      Surfing      John Denges    M   48   \n",
       "3              Arrawarra Headland      Surfing             male    M  NaN   \n",
       "4                        La Ticla  Free diving   Gustavo Ramos     M  NaN   \n",
       "\n",
       "                                              Injury Fatal (Y/N)  \\\n",
       "0  No injury to occupant, outrigger canoe and pad...           N   \n",
       "1                         Minor injury to left thigh           N   \n",
       "2       Injury to left lower leg from surfboard skeg           N   \n",
       "3                          Minor injury to lower leg           N   \n",
       "4  Lacerations to leg & hand shark PROVOKED INCIDENT           N   \n",
       "\n",
       "            Time         Species           Investigator or Source  \\\n",
       "0          18h00      White shark                R. Collier, GSAF   \n",
       "1  14h00  -15h00              NaN  K.McMurray, TrackingSharks.com   \n",
       "2          07h45              NaN  K.McMurray, TrackingSharks.com   \n",
       "3            NaN        2 m shark                  B. Myatt, GSAF   \n",
       "4            NaN  Tiger shark, 3m                       A .Kipper   \n",
       "\n",
       "                        pdf  \\\n",
       "0      2018.06.25-Wolfe.pdf   \n",
       "1    2018.06.18-McNeely.pdf   \n",
       "2     2018.06.09-Denges.pdf   \n",
       "3  2018.06.08-Arrawarra.pdf   \n",
       "4      2018.06.04-Ramos.pdf   \n",
       "\n",
       "                                        href formula  \\\n",
       "0  http://sharkattackfile.net/spreadsheets/pdf_di...   \n",
       "1  http://sharkattackfile.net/spreadsheets/pdf_di...   \n",
       "2  http://sharkattackfile.net/spreadsheets/pdf_di...   \n",
       "3  http://sharkattackfile.net/spreadsheets/pdf_di...   \n",
       "4  http://sharkattackfile.net/spreadsheets/pdf_di...   \n",
       "\n",
       "                                                href Case Number.1  \\\n",
       "0  http://sharkattackfile.net/spreadsheets/pdf_di...    2018.06.25   \n",
       "1  http://sharkattackfile.net/spreadsheets/pdf_di...    2018.06.18   \n",
       "2  http://sharkattackfile.net/spreadsheets/pdf_di...    2018.06.09   \n",
       "3  http://sharkattackfile.net/spreadsheets/pdf_di...    2018.06.08   \n",
       "4  http://sharkattackfile.net/spreadsheets/pdf_di...    2018.06.04   \n",
       "\n",
       "  Case Number.2  original order Unnamed: 22 Unnamed: 23  \n",
       "0    2018.06.25          6303.0         NaN         NaN  \n",
       "1    2018.06.18          6302.0         NaN         NaN  \n",
       "2    2018.06.09          6301.0         NaN         NaN  \n",
       "3    2018.06.08          6300.0         NaN         NaN  \n",
       "4    2018.06.04          6299.0         NaN         NaN  "
      ]
     },
     "execution_count": 3,
     "metadata": {},
     "output_type": "execute_result"
    }
   ],
   "source": [
    "data_original.head()"
   ]
  },
  {
   "cell_type": "code",
   "execution_count": 4,
   "id": "5e8dcc81",
   "metadata": {},
   "outputs": [],
   "source": [
    "data = data_original.copy()"
   ]
  },
  {
   "cell_type": "code",
   "execution_count": 5,
   "id": "e4fd3a29",
   "metadata": {},
   "outputs": [
    {
     "data": {
      "text/plain": [
       "(25723, 24)"
      ]
     },
     "execution_count": 5,
     "metadata": {},
     "output_type": "execute_result"
    }
   ],
   "source": [
    "data.shape"
   ]
  },
  {
   "cell_type": "code",
   "execution_count": 6,
   "id": "405b6ca2",
   "metadata": {},
   "outputs": [
    {
     "name": "stdout",
     "output_type": "stream",
     "text": [
      "<class 'pandas.core.frame.DataFrame'>\n",
      "RangeIndex: 25723 entries, 0 to 25722\n",
      "Data columns (total 24 columns):\n",
      " #   Column                  Non-Null Count  Dtype  \n",
      "---  ------                  --------------  -----  \n",
      " 0   Case Number             8702 non-null   object \n",
      " 1   Date                    6302 non-null   object \n",
      " 2   Year                    6300 non-null   float64\n",
      " 3   Type                    6298 non-null   object \n",
      " 4   Country                 6252 non-null   object \n",
      " 5   Area                    5847 non-null   object \n",
      " 6   Location                5762 non-null   object \n",
      " 7   Activity                5758 non-null   object \n",
      " 8   Name                    6092 non-null   object \n",
      " 9   Sex                     5737 non-null   object \n",
      " 10  Age                     3471 non-null   object \n",
      " 11  Injury                  6274 non-null   object \n",
      " 12  Fatal (Y/N)             5763 non-null   object \n",
      " 13  Time                    2948 non-null   object \n",
      " 14  Species                 3464 non-null   object \n",
      " 15  Investigator or Source  6285 non-null   object \n",
      " 16  pdf                     6302 non-null   object \n",
      " 17  href formula            6301 non-null   object \n",
      " 18  href                    6302 non-null   object \n",
      " 19  Case Number.1           6302 non-null   object \n",
      " 20  Case Number.2           6302 non-null   object \n",
      " 21  original order          6309 non-null   float64\n",
      " 22  Unnamed: 22             1 non-null      object \n",
      " 23  Unnamed: 23             2 non-null      object \n",
      "dtypes: float64(2), object(22)\n",
      "memory usage: 22.8 MB\n"
     ]
    }
   ],
   "source": [
    "data.info(memory_usage='deep')"
   ]
  },
  {
   "cell_type": "code",
   "execution_count": 7,
   "id": "305ad9f1",
   "metadata": {},
   "outputs": [
    {
     "data": {
      "text/plain": [
       "19411"
      ]
     },
     "execution_count": 7,
     "metadata": {},
     "output_type": "execute_result"
    }
   ],
   "source": [
    "duplicados = data[data.duplicated()] #borramos las filas publicadas\n",
    "len(duplicados)"
   ]
  },
  {
   "cell_type": "code",
   "execution_count": 8,
   "id": "e3fcc04d",
   "metadata": {},
   "outputs": [
    {
     "data": {
      "text/plain": [
       "(6312, 24)"
      ]
     },
     "execution_count": 8,
     "metadata": {},
     "output_type": "execute_result"
    }
   ],
   "source": [
    "data = data.drop_duplicates() #tenemos un nuevo DF con 19.411 filas borradas\n",
    "data.shape"
   ]
  },
  {
   "cell_type": "code",
   "execution_count": 9,
   "id": "aca6db0c",
   "metadata": {},
   "outputs": [
    {
     "data": {
      "text/plain": [
       "Case Number                  2\n",
       "Date                        10\n",
       "Year                        12\n",
       "Type                        14\n",
       "Country                     60\n",
       "Area                       465\n",
       "Location                   550\n",
       "Activity                   554\n",
       "Name                       220\n",
       "Sex                        575\n",
       "Age                       2841\n",
       "Injury                      38\n",
       "Fatal (Y/N)                549\n",
       "Time                      3364\n",
       "Species                   2848\n",
       "Investigator or Source      27\n",
       "pdf                         10\n",
       "href formula                11\n",
       "href                        10\n",
       "Case Number.1               10\n",
       "Case Number.2               10\n",
       "original order               3\n",
       "Unnamed: 22               6311\n",
       "Unnamed: 23               6310\n",
       "dtype: int64"
      ]
     },
     "execution_count": 9,
     "metadata": {},
     "output_type": "execute_result"
    }
   ],
   "source": [
    "data.isna().sum()"
   ]
  },
  {
   "cell_type": "code",
   "execution_count": 10,
   "id": "123890a0",
   "metadata": {},
   "outputs": [],
   "source": [
    "data.reset_index(drop=True, inplace=True)\n",
    "filas_de_nulos = data.isna().mean(axis=1) > 0.6"
   ]
  },
  {
   "cell_type": "code",
   "execution_count": 11,
   "id": "50c1f96c",
   "metadata": {},
   "outputs": [
    {
     "data": {
      "text/plain": [
       "(10, 24)"
      ]
     },
     "execution_count": 11,
     "metadata": {},
     "output_type": "execute_result"
    }
   ],
   "source": [
    "data[filas_de_nulos].shape #solo hay 10 filas con nulos. no borramos por no ser significativo"
   ]
  },
  {
   "cell_type": "code",
   "execution_count": 12,
   "id": "30b12d50",
   "metadata": {},
   "outputs": [
    {
     "data": {
      "text/plain": [
       "Index(['Case Number', 'Date', 'Year', 'Type', 'Country', 'Area', 'Location',\n",
       "       'Activity', 'Name', 'Sex ', 'Age', 'Injury', 'Fatal (Y/N)', 'Time',\n",
       "       'Species ', 'Investigator or Source', 'pdf', 'href formula', 'href',\n",
       "       'Case Number.1', 'Case Number.2', 'original order', 'Unnamed: 22',\n",
       "       'Unnamed: 23'],\n",
       "      dtype='object')"
      ]
     },
     "execution_count": 12,
     "metadata": {},
     "output_type": "execute_result"
    }
   ],
   "source": [
    "data.columns"
   ]
  },
  {
   "cell_type": "code",
   "execution_count": 13,
   "id": "07ec9aa3",
   "metadata": {},
   "outputs": [],
   "source": [
    "data.columns = [c.lower().strip().replace(' ', '_') for c in data.columns]"
   ]
  },
  {
   "cell_type": "code",
   "execution_count": 14,
   "id": "299d5abb",
   "metadata": {},
   "outputs": [
    {
     "data": {
      "text/plain": [
       "Index(['case_number', 'date', 'year', 'type', 'country', 'area', 'location',\n",
       "       'activity', 'name', 'sex', 'age', 'injury', 'fatal_(y/n)', 'time',\n",
       "       'species', 'investigator_or_source', 'pdf', 'href_formula', 'href',\n",
       "       'case_number.1', 'case_number.2', 'original_order', 'unnamed:_22',\n",
       "       'unnamed:_23'],\n",
       "      dtype='object')"
      ]
     },
     "execution_count": 14,
     "metadata": {},
     "output_type": "execute_result"
    }
   ],
   "source": [
    "data.columns"
   ]
  },
  {
   "cell_type": "markdown",
   "id": "98eac438",
   "metadata": {},
   "source": [
    "# Case Number"
   ]
  },
  {
   "cell_type": "code",
   "execution_count": 15,
   "id": "cf9062f5",
   "metadata": {},
   "outputs": [
    {
     "data": {
      "text/plain": [
       "0               8\n",
       "1920.00.00.b    2\n",
       "1966.12.26      2\n",
       "2014.08.02      2\n",
       "1990.05.10      2\n",
       "               ..\n",
       "1999.09.05      1\n",
       "1999.09.10      1\n",
       "1999.09.16      1\n",
       "1999.09.18      1\n",
       "xx              1\n",
       "Name: case_number, Length: 6287, dtype: int64"
      ]
     },
     "execution_count": 15,
     "metadata": {},
     "output_type": "execute_result"
    }
   ],
   "source": [
    "data.case_number.value_counts()"
   ]
  },
  {
   "cell_type": "code",
   "execution_count": 16,
   "id": "e1f8a82f",
   "metadata": {},
   "outputs": [],
   "source": [
    "data.case_number = data.case_number.str.strip()"
   ]
  },
  {
   "cell_type": "code",
   "execution_count": 17,
   "id": "5b1cde2e",
   "metadata": {},
   "outputs": [],
   "source": [
    "def filtrar_fechas(texto):\n",
    "    # Definir el patrón de fecha: año.mes.día\n",
    "    texto = str(texto)\n",
    "    patron_fecha = r'\\b\\d{4}\\.\\d{2}\\.\\d{2}\\b'\n",
    "    \n",
    "    \n",
    "    \n",
    "    # Buscar todas las fechas que coincidan con el patrón en el texto\n",
    "    fechas = re.findall(patron_fecha, texto)\n",
    "\n",
    "    # Unir todas las fechas encontradas en una sola cadena de texto\n",
    "    fechas_string = ' '.join(fechas) \n",
    "\n",
    "    \n",
    "    return fechas_string"
   ]
  },
  {
   "cell_type": "code",
   "execution_count": 18,
   "id": "246c9f83",
   "metadata": {},
   "outputs": [],
   "source": [
    "data.case_number = data.case_number.apply(filtrar_fechas) #aplicamos la función anterior y corregimos fechas"
   ]
  },
  {
   "cell_type": "code",
   "execution_count": 19,
   "id": "5d83c181",
   "metadata": {},
   "outputs": [
    {
     "data": {
      "text/plain": [
       "              142\n",
       "1950.00.00     13\n",
       "1942.00.00     11\n",
       "1957.00.00     11\n",
       "1960.00.00     10\n",
       "             ... \n",
       "1995.06.23      1\n",
       "1995.06.24      1\n",
       "1995.06.30      1\n",
       "1995.07.00      1\n",
       "0005.00.00      1\n",
       "Name: case_number, Length: 5200, dtype: int64"
      ]
     },
     "execution_count": 19,
     "metadata": {},
     "output_type": "execute_result"
    }
   ],
   "source": [
    "data.case_number.value_counts()"
   ]
  },
  {
   "cell_type": "code",
   "execution_count": 20,
   "id": "d96da492",
   "metadata": {},
   "outputs": [],
   "source": [
    "#todo lo que venga con fechas anteriores a 1970 lo eliminamos. \n",
    "#No vamos a trabajar con fecha anteriores a los último 50 años\n",
    "def filtrar_fechas2(texto):\n",
    "    pattern = r'(\\d{4})\\.(\\d{2})\\.(\\d{2})'\n",
    "    match = re.search(pattern, texto)\n",
    "    if match:\n",
    "        year, month, day = match.groups()\n",
    "        if int(year) < 1970:\n",
    "            return np.nan\n",
    "        if month == '00':\n",
    "            month = '01'\n",
    "        if day == '00':\n",
    "            day = '01'\n",
    "        return f'{year}.{month}.{day}'\n",
    "    else:\n",
    "        return np.nan\n"
   ]
  },
  {
   "cell_type": "code",
   "execution_count": 21,
   "id": "88df1f35",
   "metadata": {},
   "outputs": [],
   "source": [
    "data.case_number = data.case_number.apply(filtrar_fechas2)"
   ]
  },
  {
   "cell_type": "code",
   "execution_count": 22,
   "id": "7ffb325e",
   "metadata": {},
   "outputs": [
    {
     "data": {
      "text/plain": [
       "1970.01.01    9\n",
       "1972.01.01    5\n",
       "2003.10.05    5\n",
       "1995.07.28    5\n",
       "2001.04.12    5\n",
       "             ..\n",
       "2007.12.09    1\n",
       "2007.12.07    1\n",
       "2007.11.18    1\n",
       "2007.11.08    1\n",
       "2003.10.14    1\n",
       "Name: case_number, Length: 2821, dtype: int64"
      ]
     },
     "execution_count": 22,
     "metadata": {},
     "output_type": "execute_result"
    }
   ],
   "source": [
    "data.case_number.value_counts()"
   ]
  },
  {
   "cell_type": "code",
   "execution_count": 23,
   "id": "1ad63a16",
   "metadata": {},
   "outputs": [],
   "source": [
    "data.case_number = pd.to_datetime(data.case_number,format='%Y-%m-%d')"
   ]
  },
  {
   "cell_type": "code",
   "execution_count": 24,
   "id": "86d0f2d2",
   "metadata": {},
   "outputs": [
    {
     "data": {
      "text/plain": [
       "0   2018-06-25\n",
       "1   2018-06-18\n",
       "2   2018-06-09\n",
       "3   2018-06-08\n",
       "4   2018-06-04\n",
       "Name: case_number, dtype: datetime64[ns]"
      ]
     },
     "execution_count": 24,
     "metadata": {},
     "output_type": "execute_result"
    }
   ],
   "source": [
    "data.case_number.head()"
   ]
  },
  {
   "cell_type": "markdown",
   "id": "0755650f",
   "metadata": {},
   "source": [
    "# Date"
   ]
  },
  {
   "cell_type": "code",
   "execution_count": 25,
   "id": "607a2a6e",
   "metadata": {},
   "outputs": [
    {
     "data": {
      "text/plain": [
       "1957                          11\n",
       "1942                           9\n",
       "1956                           8\n",
       "1958                           7\n",
       "1950                           7\n",
       "                              ..\n",
       "01-Dec-1994                    1\n",
       "Reported      10-Dec-1994      1\n",
       "11-Dec-1994                    1\n",
       "13-Dec-1994                    1\n",
       "1845-1853                      1\n",
       "Name: date, Length: 5433, dtype: int64"
      ]
     },
     "execution_count": 25,
     "metadata": {},
     "output_type": "execute_result"
    }
   ],
   "source": [
    "data.date.value_counts()"
   ]
  },
  {
   "cell_type": "code",
   "execution_count": 26,
   "id": "d3693769",
   "metadata": {},
   "outputs": [],
   "source": [
    "data.date = data.date.str.strip()\n",
    "data.date = data.date.str.lstrip('Reported ')"
   ]
  },
  {
   "cell_type": "code",
   "execution_count": 27,
   "id": "d819053c",
   "metadata": {},
   "outputs": [],
   "source": [
    "data.date = pd.to_datetime(data.date,errors='coerce',format='%Y-%m-%d')"
   ]
  },
  {
   "cell_type": "code",
   "execution_count": 28,
   "id": "5511d7c2",
   "metadata": {},
   "outputs": [
    {
     "data": {
      "text/plain": [
       "True     6020\n",
       "False     292\n",
       "Name: date, dtype: int64"
      ]
     },
     "execution_count": 28,
     "metadata": {},
     "output_type": "execute_result"
    }
   ],
   "source": [
    "data.date.isnull().value_counts()"
   ]
  },
  {
   "cell_type": "code",
   "execution_count": 29,
   "id": "d7cffa9c",
   "metadata": {},
   "outputs": [
    {
     "data": {
      "text/plain": [
       "1957-01-01    11\n",
       "1942-01-01     9\n",
       "1956-01-01     8\n",
       "1950-01-01     7\n",
       "1958-01-01     7\n",
       "              ..\n",
       "1918-01-01     1\n",
       "1919-01-01     1\n",
       "1925-01-01     1\n",
       "1932-01-01     1\n",
       "1723-01-01     1\n",
       "Name: date, Length: 133, dtype: int64"
      ]
     },
     "execution_count": 29,
     "metadata": {},
     "output_type": "execute_result"
    }
   ],
   "source": [
    "data.date.value_counts()"
   ]
  },
  {
   "cell_type": "code",
   "execution_count": 30,
   "id": "c27c377d",
   "metadata": {},
   "outputs": [
    {
     "data": {
      "text/html": [
       "<div>\n",
       "<style scoped>\n",
       "    .dataframe tbody tr th:only-of-type {\n",
       "        vertical-align: middle;\n",
       "    }\n",
       "\n",
       "    .dataframe tbody tr th {\n",
       "        vertical-align: top;\n",
       "    }\n",
       "\n",
       "    .dataframe thead th {\n",
       "        text-align: right;\n",
       "    }\n",
       "</style>\n",
       "<table border=\"1\" class=\"dataframe\">\n",
       "  <thead>\n",
       "    <tr style=\"text-align: right;\">\n",
       "      <th></th>\n",
       "      <th>case_number</th>\n",
       "      <th>date</th>\n",
       "    </tr>\n",
       "  </thead>\n",
       "  <tbody>\n",
       "    <tr>\n",
       "      <th>0</th>\n",
       "      <td>2018-06-25</td>\n",
       "      <td>NaT</td>\n",
       "    </tr>\n",
       "    <tr>\n",
       "      <th>1</th>\n",
       "      <td>2018-06-18</td>\n",
       "      <td>NaT</td>\n",
       "    </tr>\n",
       "    <tr>\n",
       "      <th>2</th>\n",
       "      <td>2018-06-09</td>\n",
       "      <td>NaT</td>\n",
       "    </tr>\n",
       "    <tr>\n",
       "      <th>3</th>\n",
       "      <td>2018-06-08</td>\n",
       "      <td>NaT</td>\n",
       "    </tr>\n",
       "    <tr>\n",
       "      <th>4</th>\n",
       "      <td>2018-06-04</td>\n",
       "      <td>NaT</td>\n",
       "    </tr>\n",
       "    <tr>\n",
       "      <th>5</th>\n",
       "      <td>2018-06-03</td>\n",
       "      <td>NaT</td>\n",
       "    </tr>\n",
       "    <tr>\n",
       "      <th>6</th>\n",
       "      <td>2018-06-03</td>\n",
       "      <td>NaT</td>\n",
       "    </tr>\n",
       "    <tr>\n",
       "      <th>7</th>\n",
       "      <td>2018-05-27</td>\n",
       "      <td>NaT</td>\n",
       "    </tr>\n",
       "    <tr>\n",
       "      <th>8</th>\n",
       "      <td>2018-05-26</td>\n",
       "      <td>NaT</td>\n",
       "    </tr>\n",
       "    <tr>\n",
       "      <th>9</th>\n",
       "      <td>2018-05-26</td>\n",
       "      <td>NaT</td>\n",
       "    </tr>\n",
       "    <tr>\n",
       "      <th>10</th>\n",
       "      <td>2018-05-24</td>\n",
       "      <td>NaT</td>\n",
       "    </tr>\n",
       "    <tr>\n",
       "      <th>11</th>\n",
       "      <td>2018-05-21</td>\n",
       "      <td>NaT</td>\n",
       "    </tr>\n",
       "    <tr>\n",
       "      <th>12</th>\n",
       "      <td>2018-05-13</td>\n",
       "      <td>NaT</td>\n",
       "    </tr>\n",
       "    <tr>\n",
       "      <th>13</th>\n",
       "      <td>2018-05-13</td>\n",
       "      <td>NaT</td>\n",
       "    </tr>\n",
       "    <tr>\n",
       "      <th>14</th>\n",
       "      <td>2018-05-01</td>\n",
       "      <td>NaT</td>\n",
       "    </tr>\n",
       "  </tbody>\n",
       "</table>\n",
       "</div>"
      ],
      "text/plain": [
       "   case_number date\n",
       "0   2018-06-25  NaT\n",
       "1   2018-06-18  NaT\n",
       "2   2018-06-09  NaT\n",
       "3   2018-06-08  NaT\n",
       "4   2018-06-04  NaT\n",
       "5   2018-06-03  NaT\n",
       "6   2018-06-03  NaT\n",
       "7   2018-05-27  NaT\n",
       "8   2018-05-26  NaT\n",
       "9   2018-05-26  NaT\n",
       "10  2018-05-24  NaT\n",
       "11  2018-05-21  NaT\n",
       "12  2018-05-13  NaT\n",
       "13  2018-05-13  NaT\n",
       "14  2018-05-01  NaT"
      ]
     },
     "execution_count": 30,
     "metadata": {},
     "output_type": "execute_result"
    }
   ],
   "source": [
    "data[['case_number','date']].head(15)"
   ]
  },
  {
   "cell_type": "code",
   "execution_count": 31,
   "id": "4bc3c7f1",
   "metadata": {},
   "outputs": [],
   "source": [
    "indice_nulos = data[data.case_number.isna()].index\n",
    "data.loc[indice_nulos,'case_number'] = data.loc[indice_nulos,'date']"
   ]
  },
  {
   "cell_type": "code",
   "execution_count": 32,
   "id": "d6c3d303",
   "metadata": {},
   "outputs": [
    {
     "data": {
      "text/plain": [
       "False    3650\n",
       "True     2662\n",
       "Name: case_number, dtype: int64"
      ]
     },
     "execution_count": 32,
     "metadata": {},
     "output_type": "execute_result"
    }
   ],
   "source": [
    "data.case_number.isnull().value_counts()"
   ]
  },
  {
   "cell_type": "code",
   "execution_count": 33,
   "id": "301fbe1b",
   "metadata": {},
   "outputs": [],
   "source": [
    "data.date = data.case_number\n",
    "data['case_number.1'] = data.case_number\n",
    "data['case_number.2'] = data.case_number"
   ]
  },
  {
   "cell_type": "markdown",
   "id": "aaadf73f",
   "metadata": {},
   "source": [
    "# Type"
   ]
  },
  {
   "cell_type": "code",
   "execution_count": 34,
   "id": "c43263c9",
   "metadata": {},
   "outputs": [
    {
     "data": {
      "text/plain": [
       "Unprovoked      4595\n",
       "Provoked         574\n",
       "Invalid          547\n",
       "Sea Disaster     239\n",
       "Boating          203\n",
       "Boat             137\n",
       "Questionable       2\n",
       "Boatomg            1\n",
       "Name: type, dtype: int64"
      ]
     },
     "execution_count": 34,
     "metadata": {},
     "output_type": "execute_result"
    }
   ],
   "source": [
    "data.type.value_counts()"
   ]
  },
  {
   "cell_type": "code",
   "execution_count": 35,
   "id": "7604cc7f",
   "metadata": {},
   "outputs": [],
   "source": [
    "data.type = data.type.str.replace('Boatomg', 'Boat')"
   ]
  },
  {
   "cell_type": "code",
   "execution_count": 36,
   "id": "e30ce9d5",
   "metadata": {},
   "outputs": [],
   "source": [
    "data.type = data.type.str.replace('Boating', 'Boat')"
   ]
  },
  {
   "cell_type": "code",
   "execution_count": 37,
   "id": "4e0bfa86",
   "metadata": {},
   "outputs": [],
   "source": [
    "data.type = data.type.str.replace('Questionable', 'Other')"
   ]
  },
  {
   "cell_type": "code",
   "execution_count": 38,
   "id": "7218b8cf",
   "metadata": {},
   "outputs": [],
   "source": [
    "data.type = data.type.str.replace('Invalid', 'Other')"
   ]
  },
  {
   "cell_type": "code",
   "execution_count": 39,
   "id": "d3f96f0b",
   "metadata": {},
   "outputs": [],
   "source": [
    "data.type = data.type.str.upper()"
   ]
  },
  {
   "cell_type": "code",
   "execution_count": 40,
   "id": "dfa8a3fd",
   "metadata": {},
   "outputs": [
    {
     "data": {
      "text/plain": [
       "UNPROVOKED      4595\n",
       "PROVOKED         574\n",
       "OTHER            549\n",
       "BOAT             341\n",
       "SEA DISASTER     239\n",
       "Name: type, dtype: int64"
      ]
     },
     "execution_count": 40,
     "metadata": {},
     "output_type": "execute_result"
    }
   ],
   "source": [
    "data.type.value_counts()"
   ]
  },
  {
   "cell_type": "markdown",
   "id": "89063caf",
   "metadata": {},
   "source": [
    "# Country"
   ]
  },
  {
   "cell_type": "code",
   "execution_count": 41,
   "id": "f19dae13",
   "metadata": {},
   "outputs": [
    {
     "data": {
      "text/plain": [
       "213"
      ]
     },
     "execution_count": 41,
     "metadata": {},
     "output_type": "execute_result"
    }
   ],
   "source": [
    "len(data.country.unique())"
   ]
  },
  {
   "cell_type": "code",
   "execution_count": 42,
   "id": "dd863d87",
   "metadata": {},
   "outputs": [
    {
     "data": {
      "text/plain": [
       "188"
      ]
     },
     "execution_count": 42,
     "metadata": {},
     "output_type": "execute_result"
    }
   ],
   "source": [
    "data.country = data.country.str.upper()\n",
    "data.country = data.country.str.replace(r'[(\\)\\-\\?]+', ' ')\n",
    "data.country = data.country.str.replace('CEYLON  ','')\n",
    "data.country = data.country.replace(['NORTH SEA', 'RED SEA / INDIAN OCEAN', 'BRITISH WEST INDIES', 'ASIA', 'COAST OF AFRICA', 'WEST INDIES', 'CENTRAL PACIFIC', 'RED SEA', 'MID ATLANTIC OCEAN', 'SOUTH PACIFIC OCEAN', 'BETWEEN PORTUGAL & INDIA', 'MEDITERRANEAN SEA'], np.nan)\n",
    "data.country = data.country.str.strip()\n",
    "len(data.country.unique())"
   ]
  },
  {
   "cell_type": "code",
   "execution_count": 43,
   "id": "82378471",
   "metadata": {},
   "outputs": [
    {
     "data": {
      "text/plain": [
       "USA                           2229\n",
       "AUSTRALIA                     1338\n",
       "SOUTH AFRICA                   579\n",
       "PAPUA NEW GUINEA               134\n",
       "NEW ZEALAND                    128\n",
       "                              ... \n",
       "MAYOTTE                          1\n",
       "GABON                            1\n",
       "ANDAMAN / NICOBAR ISLANDAS       1\n",
       "MALDIVE ISLANDS                  1\n",
       "ASIA                             1\n",
       "Name: country, Length: 187, dtype: int64"
      ]
     },
     "execution_count": 43,
     "metadata": {},
     "output_type": "execute_result"
    }
   ],
   "source": [
    "data.country.value_counts()"
   ]
  },
  {
   "cell_type": "markdown",
   "id": "d6d9128c",
   "metadata": {},
   "source": [
    "# Area"
   ]
  },
  {
   "cell_type": "code",
   "execution_count": 44,
   "id": "d0850f94",
   "metadata": {},
   "outputs": [
    {
     "data": {
      "text/plain": [
       "826"
      ]
     },
     "execution_count": 44,
     "metadata": {},
     "output_type": "execute_result"
    }
   ],
   "source": [
    "len(data.area.unique())"
   ]
  },
  {
   "cell_type": "code",
   "execution_count": 45,
   "id": "2b37cf99",
   "metadata": {},
   "outputs": [],
   "source": [
    "data.area = data.area.str.upper()\n",
    "data.area = data.area.str.strip()"
   ]
  },
  {
   "cell_type": "code",
   "execution_count": 46,
   "id": "87796ee4",
   "metadata": {},
   "outputs": [
    {
     "data": {
      "text/plain": [
       "FLORIDA                     1038\n",
       "NEW SOUTH WALES              486\n",
       "QUEENSLAND                   312\n",
       "HAWAII                       298\n",
       "CALIFORNIA                   290\n",
       "                            ... \n",
       "REGGIO CALABRIA PROVINCE       1\n",
       "GENOA PROVINCE                 1\n",
       "GANGES-BRAHMAPUTRA DELTA       1\n",
       "AULONG ISLAND                  1\n",
       "MOALA ISLAND                   1\n",
       "Name: area, Length: 801, dtype: int64"
      ]
     },
     "execution_count": 46,
     "metadata": {},
     "output_type": "execute_result"
    }
   ],
   "source": [
    "data.area.value_counts()"
   ]
  },
  {
   "cell_type": "markdown",
   "id": "d5949bea",
   "metadata": {},
   "source": [
    "# Year"
   ]
  },
  {
   "cell_type": "code",
   "execution_count": 47,
   "id": "cbe4e9d4",
   "metadata": {},
   "outputs": [
    {
     "data": {
      "text/plain": [
       "250"
      ]
     },
     "execution_count": 47,
     "metadata": {},
     "output_type": "execute_result"
    }
   ],
   "source": [
    "len(data.year.unique())"
   ]
  },
  {
   "cell_type": "code",
   "execution_count": 48,
   "id": "1c9da023",
   "metadata": {},
   "outputs": [
    {
     "data": {
      "text/plain": [
       "2015.0    143\n",
       "2017.0    136\n",
       "2016.0    130\n",
       "2011.0    128\n",
       "2014.0    127\n",
       "         ... \n",
       "1786.0      1\n",
       "1785.0      1\n",
       "1784.0      1\n",
       "1783.0      1\n",
       "1815.0      1\n",
       "Name: year, Length: 249, dtype: int64"
      ]
     },
     "execution_count": 48,
     "metadata": {},
     "output_type": "execute_result"
    }
   ],
   "source": [
    "data.year.value_counts()"
   ]
  },
  {
   "cell_type": "code",
   "execution_count": 49,
   "id": "9a51a229",
   "metadata": {},
   "outputs": [
    {
     "data": {
      "text/plain": [
       "False    6300\n",
       "True       12\n",
       "Name: year, dtype: int64"
      ]
     },
     "execution_count": 49,
     "metadata": {},
     "output_type": "execute_result"
    }
   ],
   "source": [
    "data.year.isnull().value_counts()"
   ]
  },
  {
   "cell_type": "markdown",
   "id": "c6a9c254",
   "metadata": {},
   "source": [
    "# Fatal"
   ]
  },
  {
   "cell_type": "code",
   "execution_count": 50,
   "id": "228d2824",
   "metadata": {},
   "outputs": [
    {
     "data": {
      "text/plain": [
       "N          4293\n",
       "Y          1388\n",
       "UNKNOWN      71\n",
       " N            7\n",
       "M             1\n",
       "2017          1\n",
       "N             1\n",
       "y             1\n",
       "Name: fatal_(y/n), dtype: int64"
      ]
     },
     "execution_count": 50,
     "metadata": {},
     "output_type": "execute_result"
    }
   ],
   "source": [
    "data['fatal_(y/n)'].value_counts()"
   ]
  },
  {
   "cell_type": "code",
   "execution_count": 51,
   "id": "adca67f9",
   "metadata": {},
   "outputs": [],
   "source": [
    "data['fatal_(y/n)'] = data['fatal_(y/n)'].str.strip()"
   ]
  },
  {
   "cell_type": "code",
   "execution_count": 52,
   "id": "7227e027",
   "metadata": {},
   "outputs": [
    {
     "data": {
      "text/plain": [
       "N          4301\n",
       "Y          1388\n",
       "UNKNOWN      71\n",
       "M             1\n",
       "2017          1\n",
       "y             1\n",
       "Name: fatal_(y/n), dtype: int64"
      ]
     },
     "execution_count": 52,
     "metadata": {},
     "output_type": "execute_result"
    }
   ],
   "source": [
    "data['fatal_(y/n)'].value_counts()"
   ]
  },
  {
   "cell_type": "code",
   "execution_count": 53,
   "id": "b599cd63",
   "metadata": {},
   "outputs": [],
   "source": [
    "data['fatal_(y/n)'].replace(['M','2017','UNKNOWN','y'], np.nan, inplace=True)"
   ]
  },
  {
   "cell_type": "code",
   "execution_count": 54,
   "id": "ba30e995",
   "metadata": {},
   "outputs": [],
   "source": [
    "data['fatal_(y/n)'].replace(['N'], 0, inplace=True)\n",
    "data['fatal_(y/n)'].replace(['Y'], 1, inplace=True)"
   ]
  },
  {
   "cell_type": "code",
   "execution_count": 55,
   "id": "16525745",
   "metadata": {},
   "outputs": [
    {
     "data": {
      "text/plain": [
       "0.0    4301\n",
       "1.0    1388\n",
       "Name: fatal_(y/n), dtype: int64"
      ]
     },
     "execution_count": 55,
     "metadata": {},
     "output_type": "execute_result"
    }
   ],
   "source": [
    "data['fatal_(y/n)'].value_counts()"
   ]
  },
  {
   "cell_type": "markdown",
   "id": "c92a6d13",
   "metadata": {},
   "source": [
    "# Sex"
   ]
  },
  {
   "cell_type": "code",
   "execution_count": 56,
   "id": "f76bf0b9",
   "metadata": {},
   "outputs": [
    {
     "data": {
      "text/plain": [
       "M      5094\n",
       "F       637\n",
       "M         2\n",
       "N         2\n",
       "lli       1\n",
       ".         1\n",
       "Name: sex, dtype: int64"
      ]
     },
     "execution_count": 56,
     "metadata": {},
     "output_type": "execute_result"
    }
   ],
   "source": [
    "data.sex.value_counts()"
   ]
  },
  {
   "cell_type": "code",
   "execution_count": 57,
   "id": "376ef62e",
   "metadata": {},
   "outputs": [
    {
     "data": {
      "text/plain": [
       "M    5096\n",
       "F     637\n",
       "Name: sex, dtype: int64"
      ]
     },
     "execution_count": 57,
     "metadata": {},
     "output_type": "execute_result"
    }
   ],
   "source": [
    "data.sex = data.sex.str.strip()\n",
    "data.sex.replace(['N','.','lli'],np.nan,inplace=True)\n",
    "data.sex.value_counts()"
   ]
  },
  {
   "cell_type": "markdown",
   "id": "93638d34",
   "metadata": {},
   "source": [
    "# Age"
   ]
  },
  {
   "cell_type": "code",
   "execution_count": 58,
   "id": "1f515fdc",
   "metadata": {},
   "outputs": [
    {
     "data": {
      "text/plain": [
       "17                154\n",
       "18                150\n",
       "19                142\n",
       "20                141\n",
       "15                139\n",
       "                 ... \n",
       "20?                 1\n",
       " 28                 1\n",
       "7      &    31      1\n",
       " 30                 1\n",
       "13 or 14            1\n",
       "Name: age, Length: 157, dtype: int64"
      ]
     },
     "execution_count": 58,
     "metadata": {},
     "output_type": "execute_result"
    }
   ],
   "source": [
    "data.age.value_counts()"
   ]
  },
  {
   "cell_type": "code",
   "execution_count": 59,
   "id": "9f2c7d1c",
   "metadata": {},
   "outputs": [
    {
     "data": {
      "text/plain": [
       "False    3471\n",
       "True     2841\n",
       "Name: age, dtype: int64"
      ]
     },
     "execution_count": 59,
     "metadata": {},
     "output_type": "execute_result"
    }
   ],
   "source": [
    "data.age.isnull().value_counts()"
   ]
  },
  {
   "cell_type": "code",
   "execution_count": 60,
   "id": "5ecaa388",
   "metadata": {},
   "outputs": [],
   "source": [
    "data.age = pd.to_numeric(data.age, errors='coerce')"
   ]
  },
  {
   "cell_type": "code",
   "execution_count": 61,
   "id": "6e801275",
   "metadata": {},
   "outputs": [
    {
     "data": {
      "text/plain": [
       "False    3369\n",
       "True     2943\n",
       "Name: age, dtype: int64"
      ]
     },
     "execution_count": 61,
     "metadata": {},
     "output_type": "execute_result"
    }
   ],
   "source": [
    "data.age.isnull().value_counts()"
   ]
  },
  {
   "cell_type": "markdown",
   "id": "3e019105",
   "metadata": {},
   "source": [
    "# Activity"
   ]
  },
  {
   "cell_type": "code",
   "execution_count": 62,
   "id": "72902c3e",
   "metadata": {},
   "outputs": [],
   "source": [
    "data.activity = data.activity.str.upper()\n",
    "data.activity = data.activity.str.strip()"
   ]
  },
  {
   "cell_type": "code",
   "execution_count": 63,
   "id": "4c8528a0",
   "metadata": {},
   "outputs": [
    {
     "data": {
      "text/plain": [
       "SURFING               976\n",
       "SWIMMING              916\n",
       "FISHING               444\n",
       "SPEARFISHING          340\n",
       "BATHING               165\n",
       "WADING                149\n",
       "DIVING                130\n",
       "STANDING              101\n",
       "SCUBA DIVING           91\n",
       "SNORKELING             89\n",
       "BODY BOARDING          65\n",
       "BODY SURFING           50\n",
       "BOOGIE BOARDING        45\n",
       "KAYAKING               35\n",
       "FELL OVERBOARD         33\n",
       "TREADING WATER         32\n",
       "PEARL DIVING           32\n",
       "FREE DIVING            30\n",
       "SURF SKIING            19\n",
       "WINDSURFING            19\n",
       "WALKING                17\n",
       "SHARK FISHING          16\n",
       "FLOATING               15\n",
       "ROWING                 14\n",
       "CANOEING               14\n",
       "KAYAK FISHING          14\n",
       "SEA DISASTER           14\n",
       "SURF-SKIING            12\n",
       "SURF FISHING           12\n",
       "FISHING FOR SHARKS     11\n",
       "Name: activity, dtype: int64"
      ]
     },
     "execution_count": 63,
     "metadata": {},
     "output_type": "execute_result"
    }
   ],
   "source": [
    "data.activity.value_counts().head(30)"
   ]
  },
  {
   "cell_type": "code",
   "execution_count": 64,
   "id": "902f6be8",
   "metadata": {},
   "outputs": [],
   "source": [
    "data.activity = data.activity.apply(lambda x: 'FISHING' if 'FISH' in str(x) else x)\n",
    "data.activity = data.activity.apply(lambda x: 'SURFING' if 'SURF' in str(x) else x)\n",
    "data.activity = data.activity.apply(lambda x: 'SURFING' if 'BODY' in str(x) else x)\n",
    "data.activity = data.activity.apply(lambda x: 'KAYAKING' if 'CANOE' in str(x) else x)\n",
    "data.activity = data.activity.apply(lambda x: 'SWIMMING' if 'SWIM' in str(x) else x)\n",
    "data.activity = data.activity.apply(lambda x: 'SCUBA DIVING' if 'DIVING' in str(x) else x)\n",
    "data.activity = data.activity.apply(lambda x: 'BOATING' if 'BOAT' in str(x) else x)\n",
    "data.activity = data.activity.apply(lambda x: 'BATHING' if 'TREADING WATER'  in str(x) else x)\n",
    "data.activity = data.activity.apply(lambda x: 'BOATING' if 'SAIL' in str(x) else x)\n",
    "data.activity = data.activity.apply(lambda x: 'PADDLE BOARDING' if 'PADDL'  in str(x) else x)\n",
    "data.activity = data.activity.apply(lambda x: 'SEA DISASTER' if 'DISASTER'  in str(x) else x)\n",
    "\n",
    "data.activity = data.activity.replace('BOOGIE BOARDING', 'SURFING')\n",
    "data.activity = data.activity.replace('ROWING', 'KAYAKING')\n",
    "data.activity = data.activity.replace('FELL OVERBOARD', 'FELL INTO THE WATER')"
   ]
  },
  {
   "cell_type": "code",
   "execution_count": 65,
   "id": "a78ccc06",
   "metadata": {},
   "outputs": [
    {
     "data": {
      "text/plain": [
       "SURFING         1347\n",
       "FISHING         1225\n",
       "SWIMMING        1091\n",
       "SCUBA DIVING     497\n",
       "BATHING          202\n",
       "Name: activity, dtype: int64"
      ]
     },
     "execution_count": 65,
     "metadata": {},
     "output_type": "execute_result"
    }
   ],
   "source": [
    "data.activity.value_counts().head()"
   ]
  },
  {
   "cell_type": "markdown",
   "id": "6143581d",
   "metadata": {},
   "source": [
    "# Species"
   ]
  },
  {
   "cell_type": "code",
   "execution_count": 66,
   "id": "a6b24e26",
   "metadata": {},
   "outputs": [],
   "source": [
    "data.species = data.species.str.strip()\n",
    "data.species = data.species.str.upper()"
   ]
  },
  {
   "cell_type": "code",
   "execution_count": 67,
   "id": "8cb7f233",
   "metadata": {},
   "outputs": [],
   "source": [
    "lista_de_especies = ['WHITE','TIGER','BULL','BLACKTIP','NURSE','BLUE','REEF','AKO','RAGGEDTOOTH','HAMMERHEAD','BRONZE','LEMON','ZAMBESI','MAKO','WHALE','WOBBEGONG','SAND','SPINNER','SEVENGILL','BASKING','DUSKY','ANGEL','CARPET','GALAPAGOS','SILKY','PORBEAGLE','GILL','DOG','GREY','SALMON','SANDBAR','GILL','COPPER','SHOVELNOSE','THRESHER', 'SILVERTIP']"
   ]
  },
  {
   "cell_type": "code",
   "execution_count": 68,
   "id": "5e1848d4",
   "metadata": {},
   "outputs": [],
   "source": [
    "def limpiar_species(s, lst):\n",
    "    \n",
    "    if pd.isnull(s): \n",
    "        return s\n",
    "    \n",
    "    # Verifica si alguna palabra en lst está en s\n",
    "    for word in lst:\n",
    "        if word in s:\n",
    "            return word + ' SHARK'\n",
    "    return 'UNIDENTIFIED'    "
   ]
  },
  {
   "cell_type": "code",
   "execution_count": 69,
   "id": "20bcf62d",
   "metadata": {},
   "outputs": [],
   "source": [
    "data.species = data.species.apply(lambda x: limpiar_species(str(x), lista_de_especies))"
   ]
  },
  {
   "cell_type": "code",
   "execution_count": 70,
   "id": "eaae6b25",
   "metadata": {},
   "outputs": [
    {
     "data": {
      "text/plain": [
       "UNIDENTIFIED      4398\n",
       "WHITE SHARK        667\n",
       "TIGER SHARK        283\n",
       "BULL SHARK         178\n",
       "BLACKTIP SHARK     101\n",
       "Name: species, dtype: int64"
      ]
     },
     "execution_count": 70,
     "metadata": {},
     "output_type": "execute_result"
    }
   ],
   "source": [
    "data.species.value_counts().head()"
   ]
  },
  {
   "cell_type": "markdown",
   "id": "fc6f4372",
   "metadata": {},
   "source": [
    "# Original order"
   ]
  },
  {
   "cell_type": "code",
   "execution_count": 71,
   "id": "87180038",
   "metadata": {},
   "outputs": [],
   "source": [
    "data.original_order = 0"
   ]
  },
  {
   "cell_type": "markdown",
   "id": "b17f4970",
   "metadata": {},
   "source": [
    "# Time"
   ]
  },
  {
   "cell_type": "code",
   "execution_count": 72,
   "id": "c27e4a29",
   "metadata": {},
   "outputs": [
    {
     "data": {
      "text/plain": [
       "Afternoon      187\n",
       "11h00          128\n",
       "Morning        121\n",
       "12h00          109\n",
       "15h00          108\n",
       "              ... \n",
       "14h37            1\n",
       "10h07            1\n",
       "13h53            1\n",
       "13h23            1\n",
       "19h00-20h00      1\n",
       "Name: time, Length: 366, dtype: int64"
      ]
     },
     "execution_count": 72,
     "metadata": {},
     "output_type": "execute_result"
    }
   ],
   "source": [
    "data.time.value_counts()"
   ]
  },
  {
   "cell_type": "code",
   "execution_count": 73,
   "id": "2e3030de",
   "metadata": {},
   "outputs": [],
   "source": [
    "data.time = data.time.str.lower()\n",
    "data.time = data.time.str.strip()"
   ]
  },
  {
   "cell_type": "code",
   "execution_count": 74,
   "id": "3e7ad940",
   "metadata": {},
   "outputs": [
    {
     "data": {
      "text/plain": [
       "14h50              5\n",
       "07h08              1\n",
       "18h20              2\n",
       "12h10              2\n",
       "19h28              1\n",
       "23h30              3\n",
       "15h25              1\n",
       "13h24              1\n",
       "13h00             72\n",
       "16h40              5\n",
       "17h00 sunset       1\n",
       "19h00 / 20h00      1\n",
       "noon               1\n",
       "10h16              1\n",
       "10h22              1\n",
       "13h30             60\n",
       "20h45 (sunset)     1\n",
       "12h39              1\n",
       "06h45              7\n",
       "15h44              1\n",
       "Name: time, dtype: int64"
      ]
     },
     "execution_count": 74,
     "metadata": {},
     "output_type": "execute_result"
    }
   ],
   "source": [
    "data.time.value_counts().sample(20)\n"
   ]
  },
  {
   "cell_type": "code",
   "execution_count": 75,
   "id": "5ac6fb62",
   "metadata": {},
   "outputs": [],
   "source": [
    "data.time = data.time.apply(lambda x: 'EVENING' if 'even' in str(x) else x)\n",
    "data.time = data.time.apply(lambda x: 'EVENING' if 'night' in str(x) else x)\n",
    "data.time = data.time.apply(lambda x: 'AFTERNOON' if 'aftern' in str(x) else x)\n",
    "data.time = data.time.str.replace('morning', 'DAY MORNING')"
   ]
  },
  {
   "cell_type": "code",
   "execution_count": 76,
   "id": "f9bea688",
   "metadata": {},
   "outputs": [
    {
     "data": {
      "text/plain": [
       "AFTERNOON      234\n",
       "11h00          128\n",
       "DAY MORNING    122\n",
       "12h00          109\n",
       "EVENING        108\n",
       "15h00          108\n",
       "16h00          101\n",
       "14h00           98\n",
       "16h30           74\n",
       "14h30           73\n",
       "17h00           73\n",
       "13h00           72\n",
       "17h30           70\n",
       "18h00           69\n",
       "15h30           66\n",
       "11h30           62\n",
       "13h30           60\n",
       "10h00           59\n",
       "09h00           50\n",
       "10h30           49\n",
       "Name: time, dtype: int64"
      ]
     },
     "execution_count": 76,
     "metadata": {},
     "output_type": "execute_result"
    }
   ],
   "source": [
    "data.time.value_counts().head(20)"
   ]
  },
  {
   "cell_type": "code",
   "execution_count": 77,
   "id": "bc63520e",
   "metadata": {},
   "outputs": [],
   "source": [
    "def time_period(s):\n",
    "    \n",
    "    if pd.isnull(s): \n",
    "        return s\n",
    "    \n",
    "    match = re.search('(\\d{2})h', s)\n",
    "    if match:\n",
    "        hour = int(match.group(1))\n",
    "        if 6 <= hour <= 11:\n",
    "            return \"DAY MORNING\"\n",
    "        elif 12 <= hour <= 17:\n",
    "            return \"AFTERNOON\"\n",
    "        elif 18 <= hour <= 23:\n",
    "            return \"EVENING\"\n",
    "        elif 0 <= hour <= 5:\n",
    "            return \"NIGHT MORNING\"\n",
    "    return s"
   ]
  },
  {
   "cell_type": "code",
   "execution_count": 78,
   "id": "ed32d6d1",
   "metadata": {},
   "outputs": [],
   "source": [
    "data.time = data.time.apply(time_period)"
   ]
  },
  {
   "cell_type": "code",
   "execution_count": 79,
   "id": "257c645d",
   "metadata": {},
   "outputs": [
    {
     "data": {
      "text/plain": [
       "AFTERNOON            1551\n",
       "DAY MORNING           898\n",
       "EVENING               340\n",
       "NIGHT MORNING          41\n",
       "dusk                   16\n",
       "p.m.                   12\n",
       "a.m.                   12\n",
       "early DAY MORNING      12\n",
       "midday                 10\n",
       "                        5\n",
       "--                      5\n",
       "sunset                  4\n",
       "just before noon        2\n",
       "1600                    2\n",
       "dawn                    2\n",
       "am                      2\n",
       "after noon              2\n",
       "after dusk              2\n",
       "dark                    2\n",
       "just before dawn        1\n",
       "Name: time, dtype: int64"
      ]
     },
     "execution_count": 79,
     "metadata": {},
     "output_type": "execute_result"
    }
   ],
   "source": [
    "data.time.value_counts().head(20)"
   ]
  },
  {
   "cell_type": "code",
   "execution_count": 80,
   "id": "2cd48c74",
   "metadata": {},
   "outputs": [],
   "source": [
    "data.time.replace(['8:04 EVENING','pm','.*dusk.*','.*dark.*','.*night.*'],'EVENING',regex=True,inplace=True) #método Regex para buscar palabra que contengas esos caracteres.\n",
    "data.time.replace(['1500','15j45','1600','1300','p.m.','.*midday.*','.*sunset.*','.*lunchtime.*','.*noon.*','.*daytime.*'],'AFTERNOON',regex=True,inplace=True)#el .* significa cualquier caracter que se repita 0 o más veces\n",
    "data.time.replace(['\"after lunch\"','0830','9h00','.*dawn.*','.*daybreak.*','.*morning.*','.*DAY MORNING.*'],'DAY MORNING',regex=True,inplace=True)\n",
    "data.time.replace(['a.m.','am','0500','06j00'],'NIGHT MORNING',inplace=True)"
   ]
  },
  {
   "cell_type": "code",
   "execution_count": 81,
   "id": "210b6e17",
   "metadata": {},
   "outputs": [
    {
     "data": {
      "text/plain": [
       "3364"
      ]
     },
     "execution_count": 81,
     "metadata": {},
     "output_type": "execute_result"
    }
   ],
   "source": [
    "data.time.isnull().sum()"
   ]
  },
  {
   "cell_type": "code",
   "execution_count": 82,
   "id": "8e7b4a63",
   "metadata": {},
   "outputs": [],
   "source": [
    "lista_de_tiempo = ['AFTERNOON', 'DAY MORNING', 'EVENING', 'NIGHT MORNING']\n",
    "\n",
    "def limpiar_tiempo(s, lst):\n",
    "    \n",
    "    if pd.isnull(s):\n",
    "        return np.nan\n",
    "    \n",
    "    # Verifica si alguna palabra en lst está en s\n",
    "    for word in lst:\n",
    "        if word in s:\n",
    "            return word\n",
    "    return 'UNIDENTIFIED' "
   ]
  },
  {
   "cell_type": "code",
   "execution_count": 83,
   "id": "da5df214",
   "metadata": {},
   "outputs": [],
   "source": [
    "data.time = data.time.apply(lambda x: limpiar_tiempo(str(x), lista_de_tiempo))"
   ]
  },
  {
   "cell_type": "code",
   "execution_count": 84,
   "id": "962cbe97",
   "metadata": {},
   "outputs": [
    {
     "data": {
      "text/plain": [
       "UNIDENTIFIED     3380\n",
       "AFTERNOON        1591\n",
       "DAY MORNING       921\n",
       "EVENING           363\n",
       "NIGHT MORNING      57\n",
       "Name: time, dtype: int64"
      ]
     },
     "execution_count": 84,
     "metadata": {},
     "output_type": "execute_result"
    }
   ],
   "source": [
    "data.time.value_counts()"
   ]
  },
  {
   "cell_type": "code",
   "execution_count": 85,
   "id": "86ec692f",
   "metadata": {},
   "outputs": [
    {
     "data": {
      "text/html": [
       "<div>\n",
       "<style scoped>\n",
       "    .dataframe tbody tr th:only-of-type {\n",
       "        vertical-align: middle;\n",
       "    }\n",
       "\n",
       "    .dataframe tbody tr th {\n",
       "        vertical-align: top;\n",
       "    }\n",
       "\n",
       "    .dataframe thead th {\n",
       "        text-align: right;\n",
       "    }\n",
       "</style>\n",
       "<table border=\"1\" class=\"dataframe\">\n",
       "  <thead>\n",
       "    <tr style=\"text-align: right;\">\n",
       "      <th></th>\n",
       "      <th>case_number</th>\n",
       "      <th>date</th>\n",
       "      <th>year</th>\n",
       "      <th>type</th>\n",
       "      <th>country</th>\n",
       "      <th>area</th>\n",
       "      <th>location</th>\n",
       "      <th>activity</th>\n",
       "      <th>name</th>\n",
       "      <th>sex</th>\n",
       "      <th>age</th>\n",
       "      <th>injury</th>\n",
       "      <th>fatal_(y/n)</th>\n",
       "      <th>time</th>\n",
       "      <th>species</th>\n",
       "      <th>investigator_or_source</th>\n",
       "      <th>pdf</th>\n",
       "      <th>href_formula</th>\n",
       "      <th>href</th>\n",
       "      <th>case_number.1</th>\n",
       "      <th>case_number.2</th>\n",
       "      <th>original_order</th>\n",
       "      <th>unnamed:_22</th>\n",
       "      <th>unnamed:_23</th>\n",
       "    </tr>\n",
       "  </thead>\n",
       "  <tbody>\n",
       "    <tr>\n",
       "      <th>6307</th>\n",
       "      <td>NaT</td>\n",
       "      <td>NaT</td>\n",
       "      <td>NaN</td>\n",
       "      <td>NaN</td>\n",
       "      <td>NaN</td>\n",
       "      <td>NaN</td>\n",
       "      <td>NaN</td>\n",
       "      <td>NaN</td>\n",
       "      <td>NaN</td>\n",
       "      <td>NaN</td>\n",
       "      <td>NaN</td>\n",
       "      <td>NaN</td>\n",
       "      <td>NaN</td>\n",
       "      <td>UNIDENTIFIED</td>\n",
       "      <td>UNIDENTIFIED</td>\n",
       "      <td>NaN</td>\n",
       "      <td>NaN</td>\n",
       "      <td>NaN</td>\n",
       "      <td>NaN</td>\n",
       "      <td>NaT</td>\n",
       "      <td>NaT</td>\n",
       "      <td>0</td>\n",
       "      <td>NaN</td>\n",
       "      <td>NaN</td>\n",
       "    </tr>\n",
       "    <tr>\n",
       "      <th>6308</th>\n",
       "      <td>NaT</td>\n",
       "      <td>NaT</td>\n",
       "      <td>NaN</td>\n",
       "      <td>NaN</td>\n",
       "      <td>NaN</td>\n",
       "      <td>NaN</td>\n",
       "      <td>NaN</td>\n",
       "      <td>NaN</td>\n",
       "      <td>NaN</td>\n",
       "      <td>NaN</td>\n",
       "      <td>NaN</td>\n",
       "      <td>NaN</td>\n",
       "      <td>NaN</td>\n",
       "      <td>UNIDENTIFIED</td>\n",
       "      <td>UNIDENTIFIED</td>\n",
       "      <td>NaN</td>\n",
       "      <td>NaN</td>\n",
       "      <td>NaN</td>\n",
       "      <td>NaN</td>\n",
       "      <td>NaT</td>\n",
       "      <td>NaT</td>\n",
       "      <td>0</td>\n",
       "      <td>NaN</td>\n",
       "      <td>NaN</td>\n",
       "    </tr>\n",
       "    <tr>\n",
       "      <th>6309</th>\n",
       "      <td>NaT</td>\n",
       "      <td>NaT</td>\n",
       "      <td>NaN</td>\n",
       "      <td>NaN</td>\n",
       "      <td>NaN</td>\n",
       "      <td>NaN</td>\n",
       "      <td>NaN</td>\n",
       "      <td>NaN</td>\n",
       "      <td>NaN</td>\n",
       "      <td>NaN</td>\n",
       "      <td>NaN</td>\n",
       "      <td>NaN</td>\n",
       "      <td>NaN</td>\n",
       "      <td>UNIDENTIFIED</td>\n",
       "      <td>UNIDENTIFIED</td>\n",
       "      <td>NaN</td>\n",
       "      <td>NaN</td>\n",
       "      <td>NaN</td>\n",
       "      <td>NaN</td>\n",
       "      <td>NaT</td>\n",
       "      <td>NaT</td>\n",
       "      <td>0</td>\n",
       "      <td>NaN</td>\n",
       "      <td>NaN</td>\n",
       "    </tr>\n",
       "    <tr>\n",
       "      <th>6310</th>\n",
       "      <td>NaT</td>\n",
       "      <td>NaT</td>\n",
       "      <td>NaN</td>\n",
       "      <td>NaN</td>\n",
       "      <td>NaN</td>\n",
       "      <td>NaN</td>\n",
       "      <td>NaN</td>\n",
       "      <td>NaN</td>\n",
       "      <td>NaN</td>\n",
       "      <td>NaN</td>\n",
       "      <td>NaN</td>\n",
       "      <td>NaN</td>\n",
       "      <td>NaN</td>\n",
       "      <td>UNIDENTIFIED</td>\n",
       "      <td>UNIDENTIFIED</td>\n",
       "      <td>NaN</td>\n",
       "      <td>NaN</td>\n",
       "      <td>NaN</td>\n",
       "      <td>NaN</td>\n",
       "      <td>NaT</td>\n",
       "      <td>NaT</td>\n",
       "      <td>0</td>\n",
       "      <td>NaN</td>\n",
       "      <td>NaN</td>\n",
       "    </tr>\n",
       "    <tr>\n",
       "      <th>6311</th>\n",
       "      <td>NaT</td>\n",
       "      <td>NaT</td>\n",
       "      <td>NaN</td>\n",
       "      <td>NaN</td>\n",
       "      <td>NaN</td>\n",
       "      <td>NaN</td>\n",
       "      <td>NaN</td>\n",
       "      <td>NaN</td>\n",
       "      <td>NaN</td>\n",
       "      <td>NaN</td>\n",
       "      <td>NaN</td>\n",
       "      <td>NaN</td>\n",
       "      <td>NaN</td>\n",
       "      <td>UNIDENTIFIED</td>\n",
       "      <td>UNIDENTIFIED</td>\n",
       "      <td>NaN</td>\n",
       "      <td>NaN</td>\n",
       "      <td>NaN</td>\n",
       "      <td>NaN</td>\n",
       "      <td>NaT</td>\n",
       "      <td>NaT</td>\n",
       "      <td>0</td>\n",
       "      <td>NaN</td>\n",
       "      <td>NaN</td>\n",
       "    </tr>\n",
       "  </tbody>\n",
       "</table>\n",
       "</div>"
      ],
      "text/plain": [
       "     case_number date  year type country area location activity name  sex  \\\n",
       "6307         NaT  NaT   NaN  NaN     NaN  NaN      NaN      NaN  NaN  NaN   \n",
       "6308         NaT  NaT   NaN  NaN     NaN  NaN      NaN      NaN  NaN  NaN   \n",
       "6309         NaT  NaT   NaN  NaN     NaN  NaN      NaN      NaN  NaN  NaN   \n",
       "6310         NaT  NaT   NaN  NaN     NaN  NaN      NaN      NaN  NaN  NaN   \n",
       "6311         NaT  NaT   NaN  NaN     NaN  NaN      NaN      NaN  NaN  NaN   \n",
       "\n",
       "      age injury  fatal_(y/n)          time       species  \\\n",
       "6307  NaN    NaN          NaN  UNIDENTIFIED  UNIDENTIFIED   \n",
       "6308  NaN    NaN          NaN  UNIDENTIFIED  UNIDENTIFIED   \n",
       "6309  NaN    NaN          NaN  UNIDENTIFIED  UNIDENTIFIED   \n",
       "6310  NaN    NaN          NaN  UNIDENTIFIED  UNIDENTIFIED   \n",
       "6311  NaN    NaN          NaN  UNIDENTIFIED  UNIDENTIFIED   \n",
       "\n",
       "     investigator_or_source  pdf href_formula href case_number.1  \\\n",
       "6307                    NaN  NaN          NaN  NaN           NaT   \n",
       "6308                    NaN  NaN          NaN  NaN           NaT   \n",
       "6309                    NaN  NaN          NaN  NaN           NaT   \n",
       "6310                    NaN  NaN          NaN  NaN           NaT   \n",
       "6311                    NaN  NaN          NaN  NaN           NaT   \n",
       "\n",
       "     case_number.2  original_order unnamed:_22 unnamed:_23  \n",
       "6307           NaT               0         NaN         NaN  \n",
       "6308           NaT               0         NaN         NaN  \n",
       "6309           NaT               0         NaN         NaN  \n",
       "6310           NaT               0         NaN         NaN  \n",
       "6311           NaT               0         NaN         NaN  "
      ]
     },
     "execution_count": 85,
     "metadata": {},
     "output_type": "execute_result"
    }
   ],
   "source": [
    "data.tail()"
   ]
  },
  {
   "cell_type": "code",
   "execution_count": null,
   "id": "8f5be8b3",
   "metadata": {},
   "outputs": [],
   "source": []
  },
  {
   "cell_type": "code",
   "execution_count": null,
   "id": "03dcf378",
   "metadata": {},
   "outputs": [],
   "source": []
  },
  {
   "cell_type": "code",
   "execution_count": null,
   "id": "e2e5e2bf",
   "metadata": {},
   "outputs": [],
   "source": []
  },
  {
   "cell_type": "code",
   "execution_count": 86,
   "id": "805361d4",
   "metadata": {},
   "outputs": [],
   "source": [
    "#datos=datos.fillna('UNKNOWN') eliminar valores nulos"
   ]
  },
  {
   "cell_type": "code",
   "execution_count": null,
   "id": "1b8cb8af",
   "metadata": {},
   "outputs": [],
   "source": []
  },
  {
   "cell_type": "code",
   "execution_count": null,
   "id": "b765518c",
   "metadata": {},
   "outputs": [],
   "source": []
  },
  {
   "cell_type": "code",
   "execution_count": null,
   "id": "9b2296f8",
   "metadata": {},
   "outputs": [],
   "source": []
  },
  {
   "cell_type": "code",
   "execution_count": null,
   "id": "7095df86",
   "metadata": {},
   "outputs": [],
   "source": []
  },
  {
   "cell_type": "code",
   "execution_count": null,
   "id": "c53db8d2",
   "metadata": {},
   "outputs": [],
   "source": []
  },
  {
   "cell_type": "code",
   "execution_count": null,
   "id": "25a89eb2",
   "metadata": {},
   "outputs": [],
   "source": []
  }
 ],
 "metadata": {
  "kernelspec": {
   "display_name": "Python 3 (ipykernel)",
   "language": "python",
   "name": "python3"
  },
  "language_info": {
   "codemirror_mode": {
    "name": "ipython",
    "version": 3
   },
   "file_extension": ".py",
   "mimetype": "text/x-python",
   "name": "python",
   "nbconvert_exporter": "python",
   "pygments_lexer": "ipython3",
   "version": "3.10.9"
  }
 },
 "nbformat": 4,
 "nbformat_minor": 5
}
