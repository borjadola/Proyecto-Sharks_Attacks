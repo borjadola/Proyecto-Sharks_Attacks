{
 "cells": [
  {
   "cell_type": "code",
   "execution_count": 1,
   "id": "987b87e9",
   "metadata": {},
   "outputs": [],
   "source": [
    "import pandas as pd\n",
    "import numpy as np\n",
    "import warnings\n",
    "import zipfile\n",
    "import regex as re\n",
    "warnings.filterwarnings('ignore')"
   ]
  },
  {
   "cell_type": "code",
   "execution_count": 2,
   "id": "53d6d140",
   "metadata": {},
   "outputs": [],
   "source": [
    "zf = zipfile.ZipFile('/Users/borja/IronHack/Proyecto-Sharks_Attacks/data/Archive.zip')\n",
    "\n",
    "\n",
    "archivo = zf.open('attacks.csv')\n",
    "\n",
    "\n",
    "data_original = pd.read_csv(archivo, encoding='latin1')\n",
    "pd.set_option('display.max_columns', None)"
   ]
  },
  {
   "cell_type": "code",
   "execution_count": 3,
   "id": "993ed0b6",
   "metadata": {},
   "outputs": [
    {
     "data": {
      "text/html": [
       "<div>\n",
       "<style scoped>\n",
       "    .dataframe tbody tr th:only-of-type {\n",
       "        vertical-align: middle;\n",
       "    }\n",
       "\n",
       "    .dataframe tbody tr th {\n",
       "        vertical-align: top;\n",
       "    }\n",
       "\n",
       "    .dataframe thead th {\n",
       "        text-align: right;\n",
       "    }\n",
       "</style>\n",
       "<table border=\"1\" class=\"dataframe\">\n",
       "  <thead>\n",
       "    <tr style=\"text-align: right;\">\n",
       "      <th></th>\n",
       "      <th>Case Number</th>\n",
       "      <th>Date</th>\n",
       "      <th>Year</th>\n",
       "      <th>Type</th>\n",
       "      <th>Country</th>\n",
       "      <th>Area</th>\n",
       "      <th>Location</th>\n",
       "      <th>Activity</th>\n",
       "      <th>Name</th>\n",
       "      <th>Sex</th>\n",
       "      <th>Age</th>\n",
       "      <th>Injury</th>\n",
       "      <th>Fatal (Y/N)</th>\n",
       "      <th>Time</th>\n",
       "      <th>Species</th>\n",
       "      <th>Investigator or Source</th>\n",
       "      <th>pdf</th>\n",
       "      <th>href formula</th>\n",
       "      <th>href</th>\n",
       "      <th>Case Number.1</th>\n",
       "      <th>Case Number.2</th>\n",
       "      <th>original order</th>\n",
       "      <th>Unnamed: 22</th>\n",
       "      <th>Unnamed: 23</th>\n",
       "    </tr>\n",
       "  </thead>\n",
       "  <tbody>\n",
       "    <tr>\n",
       "      <th>0</th>\n",
       "      <td>2018.06.25</td>\n",
       "      <td>25-Jun-2018</td>\n",
       "      <td>2018.0</td>\n",
       "      <td>Boating</td>\n",
       "      <td>USA</td>\n",
       "      <td>California</td>\n",
       "      <td>Oceanside, San Diego County</td>\n",
       "      <td>Paddling</td>\n",
       "      <td>Julie Wolfe</td>\n",
       "      <td>F</td>\n",
       "      <td>57</td>\n",
       "      <td>No injury to occupant, outrigger canoe and pad...</td>\n",
       "      <td>N</td>\n",
       "      <td>18h00</td>\n",
       "      <td>White shark</td>\n",
       "      <td>R. Collier, GSAF</td>\n",
       "      <td>2018.06.25-Wolfe.pdf</td>\n",
       "      <td>http://sharkattackfile.net/spreadsheets/pdf_di...</td>\n",
       "      <td>http://sharkattackfile.net/spreadsheets/pdf_di...</td>\n",
       "      <td>2018.06.25</td>\n",
       "      <td>2018.06.25</td>\n",
       "      <td>6303.0</td>\n",
       "      <td>NaN</td>\n",
       "      <td>NaN</td>\n",
       "    </tr>\n",
       "    <tr>\n",
       "      <th>1</th>\n",
       "      <td>2018.06.18</td>\n",
       "      <td>18-Jun-2018</td>\n",
       "      <td>2018.0</td>\n",
       "      <td>Unprovoked</td>\n",
       "      <td>USA</td>\n",
       "      <td>Georgia</td>\n",
       "      <td>St. Simon Island, Glynn County</td>\n",
       "      <td>Standing</td>\n",
       "      <td>Adyson McNeely</td>\n",
       "      <td>F</td>\n",
       "      <td>11</td>\n",
       "      <td>Minor injury to left thigh</td>\n",
       "      <td>N</td>\n",
       "      <td>14h00  -15h00</td>\n",
       "      <td>NaN</td>\n",
       "      <td>K.McMurray, TrackingSharks.com</td>\n",
       "      <td>2018.06.18-McNeely.pdf</td>\n",
       "      <td>http://sharkattackfile.net/spreadsheets/pdf_di...</td>\n",
       "      <td>http://sharkattackfile.net/spreadsheets/pdf_di...</td>\n",
       "      <td>2018.06.18</td>\n",
       "      <td>2018.06.18</td>\n",
       "      <td>6302.0</td>\n",
       "      <td>NaN</td>\n",
       "      <td>NaN</td>\n",
       "    </tr>\n",
       "    <tr>\n",
       "      <th>2</th>\n",
       "      <td>2018.06.09</td>\n",
       "      <td>09-Jun-2018</td>\n",
       "      <td>2018.0</td>\n",
       "      <td>Invalid</td>\n",
       "      <td>USA</td>\n",
       "      <td>Hawaii</td>\n",
       "      <td>Habush, Oahu</td>\n",
       "      <td>Surfing</td>\n",
       "      <td>John Denges</td>\n",
       "      <td>M</td>\n",
       "      <td>48</td>\n",
       "      <td>Injury to left lower leg from surfboard skeg</td>\n",
       "      <td>N</td>\n",
       "      <td>07h45</td>\n",
       "      <td>NaN</td>\n",
       "      <td>K.McMurray, TrackingSharks.com</td>\n",
       "      <td>2018.06.09-Denges.pdf</td>\n",
       "      <td>http://sharkattackfile.net/spreadsheets/pdf_di...</td>\n",
       "      <td>http://sharkattackfile.net/spreadsheets/pdf_di...</td>\n",
       "      <td>2018.06.09</td>\n",
       "      <td>2018.06.09</td>\n",
       "      <td>6301.0</td>\n",
       "      <td>NaN</td>\n",
       "      <td>NaN</td>\n",
       "    </tr>\n",
       "    <tr>\n",
       "      <th>3</th>\n",
       "      <td>2018.06.08</td>\n",
       "      <td>08-Jun-2018</td>\n",
       "      <td>2018.0</td>\n",
       "      <td>Unprovoked</td>\n",
       "      <td>AUSTRALIA</td>\n",
       "      <td>New South Wales</td>\n",
       "      <td>Arrawarra Headland</td>\n",
       "      <td>Surfing</td>\n",
       "      <td>male</td>\n",
       "      <td>M</td>\n",
       "      <td>NaN</td>\n",
       "      <td>Minor injury to lower leg</td>\n",
       "      <td>N</td>\n",
       "      <td>NaN</td>\n",
       "      <td>2 m shark</td>\n",
       "      <td>B. Myatt, GSAF</td>\n",
       "      <td>2018.06.08-Arrawarra.pdf</td>\n",
       "      <td>http://sharkattackfile.net/spreadsheets/pdf_di...</td>\n",
       "      <td>http://sharkattackfile.net/spreadsheets/pdf_di...</td>\n",
       "      <td>2018.06.08</td>\n",
       "      <td>2018.06.08</td>\n",
       "      <td>6300.0</td>\n",
       "      <td>NaN</td>\n",
       "      <td>NaN</td>\n",
       "    </tr>\n",
       "    <tr>\n",
       "      <th>4</th>\n",
       "      <td>2018.06.04</td>\n",
       "      <td>04-Jun-2018</td>\n",
       "      <td>2018.0</td>\n",
       "      <td>Provoked</td>\n",
       "      <td>MEXICO</td>\n",
       "      <td>Colima</td>\n",
       "      <td>La Ticla</td>\n",
       "      <td>Free diving</td>\n",
       "      <td>Gustavo Ramos</td>\n",
       "      <td>M</td>\n",
       "      <td>NaN</td>\n",
       "      <td>Lacerations to leg &amp; hand shark PROVOKED INCIDENT</td>\n",
       "      <td>N</td>\n",
       "      <td>NaN</td>\n",
       "      <td>Tiger shark, 3m</td>\n",
       "      <td>A .Kipper</td>\n",
       "      <td>2018.06.04-Ramos.pdf</td>\n",
       "      <td>http://sharkattackfile.net/spreadsheets/pdf_di...</td>\n",
       "      <td>http://sharkattackfile.net/spreadsheets/pdf_di...</td>\n",
       "      <td>2018.06.04</td>\n",
       "      <td>2018.06.04</td>\n",
       "      <td>6299.0</td>\n",
       "      <td>NaN</td>\n",
       "      <td>NaN</td>\n",
       "    </tr>\n",
       "  </tbody>\n",
       "</table>\n",
       "</div>"
      ],
      "text/plain": [
       "  Case Number         Date    Year        Type    Country             Area  \\\n",
       "0  2018.06.25  25-Jun-2018  2018.0     Boating        USA       California   \n",
       "1  2018.06.18  18-Jun-2018  2018.0  Unprovoked        USA          Georgia   \n",
       "2  2018.06.09  09-Jun-2018  2018.0     Invalid        USA           Hawaii   \n",
       "3  2018.06.08  08-Jun-2018  2018.0  Unprovoked  AUSTRALIA  New South Wales   \n",
       "4  2018.06.04  04-Jun-2018  2018.0    Provoked     MEXICO           Colima   \n",
       "\n",
       "                         Location     Activity             Name Sex   Age  \\\n",
       "0     Oceanside, San Diego County     Paddling      Julie Wolfe    F   57   \n",
       "1  St. Simon Island, Glynn County     Standing  Adyson McNeely     F   11   \n",
       "2                    Habush, Oahu      Surfing      John Denges    M   48   \n",
       "3              Arrawarra Headland      Surfing             male    M  NaN   \n",
       "4                        La Ticla  Free diving   Gustavo Ramos     M  NaN   \n",
       "\n",
       "                                              Injury Fatal (Y/N)  \\\n",
       "0  No injury to occupant, outrigger canoe and pad...           N   \n",
       "1                         Minor injury to left thigh           N   \n",
       "2       Injury to left lower leg from surfboard skeg           N   \n",
       "3                          Minor injury to lower leg           N   \n",
       "4  Lacerations to leg & hand shark PROVOKED INCIDENT           N   \n",
       "\n",
       "            Time         Species           Investigator or Source  \\\n",
       "0          18h00      White shark                R. Collier, GSAF   \n",
       "1  14h00  -15h00              NaN  K.McMurray, TrackingSharks.com   \n",
       "2          07h45              NaN  K.McMurray, TrackingSharks.com   \n",
       "3            NaN        2 m shark                  B. Myatt, GSAF   \n",
       "4            NaN  Tiger shark, 3m                       A .Kipper   \n",
       "\n",
       "                        pdf  \\\n",
       "0      2018.06.25-Wolfe.pdf   \n",
       "1    2018.06.18-McNeely.pdf   \n",
       "2     2018.06.09-Denges.pdf   \n",
       "3  2018.06.08-Arrawarra.pdf   \n",
       "4      2018.06.04-Ramos.pdf   \n",
       "\n",
       "                                        href formula  \\\n",
       "0  http://sharkattackfile.net/spreadsheets/pdf_di...   \n",
       "1  http://sharkattackfile.net/spreadsheets/pdf_di...   \n",
       "2  http://sharkattackfile.net/spreadsheets/pdf_di...   \n",
       "3  http://sharkattackfile.net/spreadsheets/pdf_di...   \n",
       "4  http://sharkattackfile.net/spreadsheets/pdf_di...   \n",
       "\n",
       "                                                href Case Number.1  \\\n",
       "0  http://sharkattackfile.net/spreadsheets/pdf_di...    2018.06.25   \n",
       "1  http://sharkattackfile.net/spreadsheets/pdf_di...    2018.06.18   \n",
       "2  http://sharkattackfile.net/spreadsheets/pdf_di...    2018.06.09   \n",
       "3  http://sharkattackfile.net/spreadsheets/pdf_di...    2018.06.08   \n",
       "4  http://sharkattackfile.net/spreadsheets/pdf_di...    2018.06.04   \n",
       "\n",
       "  Case Number.2  original order Unnamed: 22 Unnamed: 23  \n",
       "0    2018.06.25          6303.0         NaN         NaN  \n",
       "1    2018.06.18          6302.0         NaN         NaN  \n",
       "2    2018.06.09          6301.0         NaN         NaN  \n",
       "3    2018.06.08          6300.0         NaN         NaN  \n",
       "4    2018.06.04          6299.0         NaN         NaN  "
      ]
     },
     "execution_count": 3,
     "metadata": {},
     "output_type": "execute_result"
    }
   ],
   "source": [
    "data_original.head()"
   ]
  },
  {
   "cell_type": "code",
   "execution_count": 4,
   "id": "5e8dcc81",
   "metadata": {},
   "outputs": [],
   "source": [
    "data = data_original.copy()"
   ]
  },
  {
   "cell_type": "code",
   "execution_count": 5,
   "id": "e4fd3a29",
   "metadata": {},
   "outputs": [
    {
     "data": {
      "text/plain": [
       "(25723, 24)"
      ]
     },
     "execution_count": 5,
     "metadata": {},
     "output_type": "execute_result"
    }
   ],
   "source": [
    "data.shape"
   ]
  },
  {
   "cell_type": "code",
   "execution_count": 6,
   "id": "405b6ca2",
   "metadata": {},
   "outputs": [
    {
     "name": "stdout",
     "output_type": "stream",
     "text": [
      "<class 'pandas.core.frame.DataFrame'>\n",
      "RangeIndex: 25723 entries, 0 to 25722\n",
      "Data columns (total 24 columns):\n",
      " #   Column                  Non-Null Count  Dtype  \n",
      "---  ------                  --------------  -----  \n",
      " 0   Case Number             8702 non-null   object \n",
      " 1   Date                    6302 non-null   object \n",
      " 2   Year                    6300 non-null   float64\n",
      " 3   Type                    6298 non-null   object \n",
      " 4   Country                 6252 non-null   object \n",
      " 5   Area                    5847 non-null   object \n",
      " 6   Location                5762 non-null   object \n",
      " 7   Activity                5758 non-null   object \n",
      " 8   Name                    6092 non-null   object \n",
      " 9   Sex                     5737 non-null   object \n",
      " 10  Age                     3471 non-null   object \n",
      " 11  Injury                  6274 non-null   object \n",
      " 12  Fatal (Y/N)             5763 non-null   object \n",
      " 13  Time                    2948 non-null   object \n",
      " 14  Species                 3464 non-null   object \n",
      " 15  Investigator or Source  6285 non-null   object \n",
      " 16  pdf                     6302 non-null   object \n",
      " 17  href formula            6301 non-null   object \n",
      " 18  href                    6302 non-null   object \n",
      " 19  Case Number.1           6302 non-null   object \n",
      " 20  Case Number.2           6302 non-null   object \n",
      " 21  original order          6309 non-null   float64\n",
      " 22  Unnamed: 22             1 non-null      object \n",
      " 23  Unnamed: 23             2 non-null      object \n",
      "dtypes: float64(2), object(22)\n",
      "memory usage: 22.8 MB\n"
     ]
    }
   ],
   "source": [
    "data.info(memory_usage='deep')"
   ]
  },
  {
   "cell_type": "code",
   "execution_count": 7,
   "id": "305ad9f1",
   "metadata": {},
   "outputs": [
    {
     "data": {
      "text/plain": [
       "19411"
      ]
     },
     "execution_count": 7,
     "metadata": {},
     "output_type": "execute_result"
    }
   ],
   "source": [
    "duplicados = data[data.duplicated()] #borramos las filas publicadas\n",
    "len(duplicados)"
   ]
  },
  {
   "cell_type": "code",
   "execution_count": 8,
   "id": "e3fcc04d",
   "metadata": {},
   "outputs": [
    {
     "data": {
      "text/plain": [
       "(6312, 24)"
      ]
     },
     "execution_count": 8,
     "metadata": {},
     "output_type": "execute_result"
    }
   ],
   "source": [
    "data = data.drop_duplicates() #tenemos un nuevo DF con 19.411 filas borradas\n",
    "data.shape"
   ]
  },
  {
   "cell_type": "code",
   "execution_count": 9,
   "id": "aca6db0c",
   "metadata": {},
   "outputs": [
    {
     "data": {
      "text/plain": [
       "Case Number                  2\n",
       "Date                        10\n",
       "Year                        12\n",
       "Type                        14\n",
       "Country                     60\n",
       "Area                       465\n",
       "Location                   550\n",
       "Activity                   554\n",
       "Name                       220\n",
       "Sex                        575\n",
       "Age                       2841\n",
       "Injury                      38\n",
       "Fatal (Y/N)                549\n",
       "Time                      3364\n",
       "Species                   2848\n",
       "Investigator or Source      27\n",
       "pdf                         10\n",
       "href formula                11\n",
       "href                        10\n",
       "Case Number.1               10\n",
       "Case Number.2               10\n",
       "original order               3\n",
       "Unnamed: 22               6311\n",
       "Unnamed: 23               6310\n",
       "dtype: int64"
      ]
     },
     "execution_count": 9,
     "metadata": {},
     "output_type": "execute_result"
    }
   ],
   "source": [
    "data.isna().sum()"
   ]
  },
  {
   "cell_type": "code",
   "execution_count": 10,
   "id": "123890a0",
   "metadata": {},
   "outputs": [],
   "source": [
    "data.reset_index(drop=True, inplace=True)\n",
    "filas_de_nulos = data.isna().mean(axis=1) > 0.6"
   ]
  },
  {
   "cell_type": "code",
   "execution_count": 11,
   "id": "50c1f96c",
   "metadata": {},
   "outputs": [
    {
     "data": {
      "text/plain": [
       "(10, 24)"
      ]
     },
     "execution_count": 11,
     "metadata": {},
     "output_type": "execute_result"
    }
   ],
   "source": [
    "data[filas_de_nulos].shape #solo hay 10 filas con nulos. no borramos por no ser significativo"
   ]
  },
  {
   "cell_type": "code",
   "execution_count": 12,
   "id": "30b12d50",
   "metadata": {},
   "outputs": [
    {
     "data": {
      "text/plain": [
       "Index(['Case Number', 'Date', 'Year', 'Type', 'Country', 'Area', 'Location',\n",
       "       'Activity', 'Name', 'Sex ', 'Age', 'Injury', 'Fatal (Y/N)', 'Time',\n",
       "       'Species ', 'Investigator or Source', 'pdf', 'href formula', 'href',\n",
       "       'Case Number.1', 'Case Number.2', 'original order', 'Unnamed: 22',\n",
       "       'Unnamed: 23'],\n",
       "      dtype='object')"
      ]
     },
     "execution_count": 12,
     "metadata": {},
     "output_type": "execute_result"
    }
   ],
   "source": [
    "data.columns"
   ]
  },
  {
   "cell_type": "code",
   "execution_count": 13,
   "id": "07ec9aa3",
   "metadata": {},
   "outputs": [],
   "source": [
    "data.columns = [c.lower().strip().replace(' ', '_') for c in data.columns]"
   ]
  },
  {
   "cell_type": "code",
   "execution_count": 14,
   "id": "6a96e50a",
   "metadata": {},
   "outputs": [
    {
     "data": {
      "text/plain": [
       "Index(['case_number', 'date', 'year', 'type', 'country', 'area', 'location',\n",
       "       'activity', 'name', 'sex', 'age', 'injury', 'fatal_(y/n)', 'time',\n",
       "       'species', 'investigator_or_source', 'pdf', 'href_formula', 'href',\n",
       "       'case_number.1', 'case_number.2', 'original_order', 'unnamed:_22',\n",
       "       'unnamed:_23'],\n",
       "      dtype='object')"
      ]
     },
     "execution_count": 14,
     "metadata": {},
     "output_type": "execute_result"
    }
   ],
   "source": [
    "data.columns"
   ]
  },
  {
   "cell_type": "markdown",
   "id": "dbc118ce",
   "metadata": {},
   "source": [
    "# Case Number"
   ]
  },
  {
   "cell_type": "code",
   "execution_count": 15,
   "id": "cf9062f5",
   "metadata": {},
   "outputs": [
    {
     "data": {
      "text/plain": [
       "0               8\n",
       "1920.00.00.b    2\n",
       "1966.12.26      2\n",
       "2014.08.02      2\n",
       "1990.05.10      2\n",
       "               ..\n",
       "1999.09.05      1\n",
       "1999.09.10      1\n",
       "1999.09.16      1\n",
       "1999.09.18      1\n",
       "xx              1\n",
       "Name: case_number, Length: 6287, dtype: int64"
      ]
     },
     "execution_count": 15,
     "metadata": {},
     "output_type": "execute_result"
    }
   ],
   "source": [
    "data.case_number.value_counts()"
   ]
  },
  {
   "cell_type": "code",
   "execution_count": 16,
   "id": "6d595031",
   "metadata": {},
   "outputs": [],
   "source": [
    "data.case_number = data.case_number.str.strip()"
   ]
  },
  {
   "cell_type": "code",
   "execution_count": 17,
   "id": "5b1cde2e",
   "metadata": {},
   "outputs": [],
   "source": [
    "def filtrar_fechas(texto):\n",
    "    # Definir el patrón de fecha: año.mes.día\n",
    "    texto = str(texto)\n",
    "    patron_fecha = r'\\b\\d{4}\\.\\d{2}\\.\\d{2}\\b'\n",
    "    \n",
    "    \n",
    "    \n",
    "    # Buscar todas las fechas que coincidan con el patrón en el texto\n",
    "    fechas = re.findall(patron_fecha, texto)\n",
    "\n",
    "    # Unir todas las fechas encontradas en una sola cadena de texto\n",
    "    fechas_string = ' '.join(fechas) \n",
    "\n",
    "    \n",
    "    return fechas_string"
   ]
  },
  {
   "cell_type": "code",
   "execution_count": 18,
   "id": "246c9f83",
   "metadata": {},
   "outputs": [],
   "source": [
    "data.case_number = data.case_number.apply(filtrar_fechas) #aplicamos la función anterior y corregimos fechas"
   ]
  },
  {
   "cell_type": "code",
   "execution_count": 19,
   "id": "5784b49f",
   "metadata": {},
   "outputs": [
    {
     "data": {
      "text/plain": [
       "              142\n",
       "1950.00.00     13\n",
       "1942.00.00     11\n",
       "1957.00.00     11\n",
       "1960.00.00     10\n",
       "             ... \n",
       "1995.06.23      1\n",
       "1995.06.24      1\n",
       "1995.06.30      1\n",
       "1995.07.00      1\n",
       "0005.00.00      1\n",
       "Name: case_number, Length: 5200, dtype: int64"
      ]
     },
     "execution_count": 19,
     "metadata": {},
     "output_type": "execute_result"
    }
   ],
   "source": [
    "data.case_number.value_counts()"
   ]
  },
  {
   "cell_type": "code",
   "execution_count": 20,
   "id": "b177590d",
   "metadata": {},
   "outputs": [],
   "source": [
    "#todo lo que venga con fechas anteriores a 1970 lo eliminamos. \n",
    "#No vamos a trabajar con fecha anteriores a los último 50 años\n",
    "def filtrar_fechas2(texto):\n",
    "    pattern = r'(\\d{4})\\.(\\d{2})\\.(\\d{2})'\n",
    "    match = re.search(pattern, texto)\n",
    "    if match:\n",
    "        year, month, day = match.groups()\n",
    "        if int(year) < 1970:\n",
    "            return np.nan\n",
    "        if month == '00':\n",
    "            month = '01'\n",
    "        if day == '00':\n",
    "            day = '01'\n",
    "        return f'{year}.{month}.{day}'\n",
    "    else:\n",
    "        return np.nan\n"
   ]
  },
  {
   "cell_type": "code",
   "execution_count": 21,
   "id": "967a02cd",
   "metadata": {},
   "outputs": [],
   "source": [
    "data.case_number = data.case_number.apply(filtrar_fechas2)"
   ]
  },
  {
   "cell_type": "code",
   "execution_count": 22,
   "id": "5c57d27a",
   "metadata": {},
   "outputs": [
    {
     "data": {
      "text/plain": [
       "1970.01.01    9\n",
       "1972.01.01    5\n",
       "2003.10.05    5\n",
       "1995.07.28    5\n",
       "2001.04.12    5\n",
       "             ..\n",
       "2007.12.09    1\n",
       "2007.12.07    1\n",
       "2007.11.18    1\n",
       "2007.11.08    1\n",
       "2003.10.14    1\n",
       "Name: case_number, Length: 2821, dtype: int64"
      ]
     },
     "execution_count": 22,
     "metadata": {},
     "output_type": "execute_result"
    }
   ],
   "source": [
    "data.case_number.value_counts()"
   ]
  },
  {
   "cell_type": "code",
   "execution_count": 23,
   "id": "1ad63a16",
   "metadata": {},
   "outputs": [],
   "source": [
    "data.case_number = pd.to_datetime(data.case_number,format='%Y-%m-%d')"
   ]
  },
  {
   "cell_type": "code",
   "execution_count": 24,
   "id": "db2939f3",
   "metadata": {},
   "outputs": [
    {
     "data": {
      "text/plain": [
       "0   2018-06-25\n",
       "1   2018-06-18\n",
       "2   2018-06-09\n",
       "3   2018-06-08\n",
       "4   2018-06-04\n",
       "Name: case_number, dtype: datetime64[ns]"
      ]
     },
     "execution_count": 24,
     "metadata": {},
     "output_type": "execute_result"
    }
   ],
   "source": [
    "data.case_number.head()"
   ]
  },
  {
   "cell_type": "markdown",
   "id": "0cb664ac",
   "metadata": {},
   "source": [
    "# Date"
   ]
  },
  {
   "cell_type": "code",
   "execution_count": 25,
   "id": "68d4118c",
   "metadata": {},
   "outputs": [
    {
     "data": {
      "text/plain": [
       "1957                          11\n",
       "1942                           9\n",
       "1956                           8\n",
       "1958                           7\n",
       "1950                           7\n",
       "                              ..\n",
       "01-Dec-1994                    1\n",
       "Reported      10-Dec-1994      1\n",
       "11-Dec-1994                    1\n",
       "13-Dec-1994                    1\n",
       "1845-1853                      1\n",
       "Name: date, Length: 5433, dtype: int64"
      ]
     },
     "execution_count": 25,
     "metadata": {},
     "output_type": "execute_result"
    }
   ],
   "source": [
    "data.date.value_counts()"
   ]
  },
  {
   "cell_type": "code",
   "execution_count": 26,
   "id": "492a97c9",
   "metadata": {},
   "outputs": [],
   "source": [
    "data.date = data.date.str.strip()\n",
    "data.date = data.date.str.lstrip('Reported ')"
   ]
  },
  {
   "cell_type": "code",
   "execution_count": 27,
   "id": "d9a5b6b7",
   "metadata": {},
   "outputs": [],
   "source": [
    "def verificar_formato(fecha):\n",
    "    fecha = str(fecha)\n",
    "    pattern = re.compile(r'\\b\\d{2}-[a-zA-Z]{3}-\\d{4}\\b')\n",
    "    if pattern.fullmatch(fecha):\n",
    "        return fecha\n",
    "    else:\n",
    "        return np.nan"
   ]
  },
  {
   "cell_type": "code",
   "execution_count": 28,
   "id": "f3a6cb6b",
   "metadata": {},
   "outputs": [],
   "source": [
    "data.date = data.date.apply(verificar_formato)"
   ]
  },
  {
   "cell_type": "code",
   "execution_count": 29,
   "id": "fe37e423",
   "metadata": {},
   "outputs": [],
   "source": [
    "data.date = pd.to_datetime(data.date)"
   ]
  },
  {
   "cell_type": "code",
   "execution_count": 30,
   "id": "73743bad",
   "metadata": {},
   "outputs": [
    {
     "data": {
      "text/plain": [
       "1995-07-28    5\n",
       "2003-10-05    5\n",
       "2001-04-12    5\n",
       "2017-04-29    4\n",
       "2008-06-26    4\n",
       "             ..\n",
       "1997-10-24    1\n",
       "1997-10-21    1\n",
       "1997-10-11    1\n",
       "1997-10-04    1\n",
       "1703-03-26    1\n",
       "Name: date, Length: 4665, dtype: int64"
      ]
     },
     "execution_count": 30,
     "metadata": {},
     "output_type": "execute_result"
    }
   ],
   "source": [
    "data.date.value_counts()"
   ]
  },
  {
   "cell_type": "code",
   "execution_count": 31,
   "id": "04b668e0",
   "metadata": {},
   "outputs": [
    {
     "data": {
      "text/html": [
       "<div>\n",
       "<style scoped>\n",
       "    .dataframe tbody tr th:only-of-type {\n",
       "        vertical-align: middle;\n",
       "    }\n",
       "\n",
       "    .dataframe tbody tr th {\n",
       "        vertical-align: top;\n",
       "    }\n",
       "\n",
       "    .dataframe thead th {\n",
       "        text-align: right;\n",
       "    }\n",
       "</style>\n",
       "<table border=\"1\" class=\"dataframe\">\n",
       "  <thead>\n",
       "    <tr style=\"text-align: right;\">\n",
       "      <th></th>\n",
       "      <th>case_number</th>\n",
       "      <th>date</th>\n",
       "    </tr>\n",
       "  </thead>\n",
       "  <tbody>\n",
       "    <tr>\n",
       "      <th>0</th>\n",
       "      <td>2018-06-25</td>\n",
       "      <td>2018-06-25</td>\n",
       "    </tr>\n",
       "    <tr>\n",
       "      <th>1</th>\n",
       "      <td>2018-06-18</td>\n",
       "      <td>2018-06-18</td>\n",
       "    </tr>\n",
       "    <tr>\n",
       "      <th>2</th>\n",
       "      <td>2018-06-09</td>\n",
       "      <td>2018-06-09</td>\n",
       "    </tr>\n",
       "    <tr>\n",
       "      <th>3</th>\n",
       "      <td>2018-06-08</td>\n",
       "      <td>2018-06-08</td>\n",
       "    </tr>\n",
       "    <tr>\n",
       "      <th>4</th>\n",
       "      <td>2018-06-04</td>\n",
       "      <td>2018-06-04</td>\n",
       "    </tr>\n",
       "    <tr>\n",
       "      <th>5</th>\n",
       "      <td>2018-06-03</td>\n",
       "      <td>2018-06-03</td>\n",
       "    </tr>\n",
       "    <tr>\n",
       "      <th>6</th>\n",
       "      <td>2018-06-03</td>\n",
       "      <td>2018-06-03</td>\n",
       "    </tr>\n",
       "    <tr>\n",
       "      <th>7</th>\n",
       "      <td>2018-05-27</td>\n",
       "      <td>2018-05-27</td>\n",
       "    </tr>\n",
       "    <tr>\n",
       "      <th>8</th>\n",
       "      <td>2018-05-26</td>\n",
       "      <td>2018-05-26</td>\n",
       "    </tr>\n",
       "    <tr>\n",
       "      <th>9</th>\n",
       "      <td>2018-05-26</td>\n",
       "      <td>2018-05-26</td>\n",
       "    </tr>\n",
       "    <tr>\n",
       "      <th>10</th>\n",
       "      <td>2018-05-24</td>\n",
       "      <td>2018-05-24</td>\n",
       "    </tr>\n",
       "    <tr>\n",
       "      <th>11</th>\n",
       "      <td>2018-05-21</td>\n",
       "      <td>2018-05-21</td>\n",
       "    </tr>\n",
       "    <tr>\n",
       "      <th>12</th>\n",
       "      <td>2018-05-13</td>\n",
       "      <td>2018-05-13</td>\n",
       "    </tr>\n",
       "    <tr>\n",
       "      <th>13</th>\n",
       "      <td>2018-05-13</td>\n",
       "      <td>2018-05-13</td>\n",
       "    </tr>\n",
       "    <tr>\n",
       "      <th>14</th>\n",
       "      <td>2018-05-01</td>\n",
       "      <td>NaT</td>\n",
       "    </tr>\n",
       "  </tbody>\n",
       "</table>\n",
       "</div>"
      ],
      "text/plain": [
       "   case_number       date\n",
       "0   2018-06-25 2018-06-25\n",
       "1   2018-06-18 2018-06-18\n",
       "2   2018-06-09 2018-06-09\n",
       "3   2018-06-08 2018-06-08\n",
       "4   2018-06-04 2018-06-04\n",
       "5   2018-06-03 2018-06-03\n",
       "6   2018-06-03 2018-06-03\n",
       "7   2018-05-27 2018-05-27\n",
       "8   2018-05-26 2018-05-26\n",
       "9   2018-05-26 2018-05-26\n",
       "10  2018-05-24 2018-05-24\n",
       "11  2018-05-21 2018-05-21\n",
       "12  2018-05-13 2018-05-13\n",
       "13  2018-05-13 2018-05-13\n",
       "14  2018-05-01        NaT"
      ]
     },
     "execution_count": 31,
     "metadata": {},
     "output_type": "execute_result"
    }
   ],
   "source": [
    "data[['case_number','date']].head(15)"
   ]
  },
  {
   "cell_type": "code",
   "execution_count": 32,
   "id": "4bc3c7f1",
   "metadata": {},
   "outputs": [],
   "source": [
    "indice_nulos = data[data.date.isna()].index\n",
    "data.loc[indice_nulos,'date'] = data.loc[indice_nulos,'case_number']"
   ]
  },
  {
   "cell_type": "code",
   "execution_count": 33,
   "id": "f33b1f44",
   "metadata": {},
   "outputs": [
    {
     "data": {
      "text/html": [
       "<div>\n",
       "<style scoped>\n",
       "    .dataframe tbody tr th:only-of-type {\n",
       "        vertical-align: middle;\n",
       "    }\n",
       "\n",
       "    .dataframe tbody tr th {\n",
       "        vertical-align: top;\n",
       "    }\n",
       "\n",
       "    .dataframe thead th {\n",
       "        text-align: right;\n",
       "    }\n",
       "</style>\n",
       "<table border=\"1\" class=\"dataframe\">\n",
       "  <thead>\n",
       "    <tr style=\"text-align: right;\">\n",
       "      <th></th>\n",
       "      <th>case_number</th>\n",
       "      <th>date</th>\n",
       "    </tr>\n",
       "  </thead>\n",
       "  <tbody>\n",
       "    <tr>\n",
       "      <th>0</th>\n",
       "      <td>2018-06-25</td>\n",
       "      <td>2018-06-25</td>\n",
       "    </tr>\n",
       "    <tr>\n",
       "      <th>1</th>\n",
       "      <td>2018-06-18</td>\n",
       "      <td>2018-06-18</td>\n",
       "    </tr>\n",
       "    <tr>\n",
       "      <th>2</th>\n",
       "      <td>2018-06-09</td>\n",
       "      <td>2018-06-09</td>\n",
       "    </tr>\n",
       "    <tr>\n",
       "      <th>3</th>\n",
       "      <td>2018-06-08</td>\n",
       "      <td>2018-06-08</td>\n",
       "    </tr>\n",
       "    <tr>\n",
       "      <th>4</th>\n",
       "      <td>2018-06-04</td>\n",
       "      <td>2018-06-04</td>\n",
       "    </tr>\n",
       "    <tr>\n",
       "      <th>5</th>\n",
       "      <td>2018-06-03</td>\n",
       "      <td>2018-06-03</td>\n",
       "    </tr>\n",
       "    <tr>\n",
       "      <th>6</th>\n",
       "      <td>2018-06-03</td>\n",
       "      <td>2018-06-03</td>\n",
       "    </tr>\n",
       "    <tr>\n",
       "      <th>7</th>\n",
       "      <td>2018-05-27</td>\n",
       "      <td>2018-05-27</td>\n",
       "    </tr>\n",
       "    <tr>\n",
       "      <th>8</th>\n",
       "      <td>2018-05-26</td>\n",
       "      <td>2018-05-26</td>\n",
       "    </tr>\n",
       "    <tr>\n",
       "      <th>9</th>\n",
       "      <td>2018-05-26</td>\n",
       "      <td>2018-05-26</td>\n",
       "    </tr>\n",
       "    <tr>\n",
       "      <th>10</th>\n",
       "      <td>2018-05-24</td>\n",
       "      <td>2018-05-24</td>\n",
       "    </tr>\n",
       "    <tr>\n",
       "      <th>11</th>\n",
       "      <td>2018-05-21</td>\n",
       "      <td>2018-05-21</td>\n",
       "    </tr>\n",
       "    <tr>\n",
       "      <th>12</th>\n",
       "      <td>2018-05-13</td>\n",
       "      <td>2018-05-13</td>\n",
       "    </tr>\n",
       "    <tr>\n",
       "      <th>13</th>\n",
       "      <td>2018-05-13</td>\n",
       "      <td>2018-05-13</td>\n",
       "    </tr>\n",
       "    <tr>\n",
       "      <th>14</th>\n",
       "      <td>2018-05-01</td>\n",
       "      <td>2018-05-01</td>\n",
       "    </tr>\n",
       "    <tr>\n",
       "      <th>15</th>\n",
       "      <td>2018-05-12</td>\n",
       "      <td>2018-05-12</td>\n",
       "    </tr>\n",
       "    <tr>\n",
       "      <th>16</th>\n",
       "      <td>2018-05-09</td>\n",
       "      <td>2018-05-09</td>\n",
       "    </tr>\n",
       "    <tr>\n",
       "      <th>17</th>\n",
       "      <td>2018-04-30</td>\n",
       "      <td>2018-04-30</td>\n",
       "    </tr>\n",
       "    <tr>\n",
       "      <th>18</th>\n",
       "      <td>2018-04-28</td>\n",
       "      <td>2018-04-28</td>\n",
       "    </tr>\n",
       "    <tr>\n",
       "      <th>19</th>\n",
       "      <td>2018-04-28</td>\n",
       "      <td>2018-04-28</td>\n",
       "    </tr>\n",
       "    <tr>\n",
       "      <th>20</th>\n",
       "      <td>2018-04-25</td>\n",
       "      <td>2018-04-25</td>\n",
       "    </tr>\n",
       "    <tr>\n",
       "      <th>21</th>\n",
       "      <td>2018-04-25</td>\n",
       "      <td>2018-04-25</td>\n",
       "    </tr>\n",
       "    <tr>\n",
       "      <th>22</th>\n",
       "      <td>2018-04-24</td>\n",
       "      <td>2018-04-24</td>\n",
       "    </tr>\n",
       "    <tr>\n",
       "      <th>23</th>\n",
       "      <td>2018-04-23</td>\n",
       "      <td>2018-04-23</td>\n",
       "    </tr>\n",
       "    <tr>\n",
       "      <th>24</th>\n",
       "      <td>2018-04-22</td>\n",
       "      <td>2018-04-22</td>\n",
       "    </tr>\n",
       "    <tr>\n",
       "      <th>25</th>\n",
       "      <td>2018-04-19</td>\n",
       "      <td>2018-04-19</td>\n",
       "    </tr>\n",
       "    <tr>\n",
       "      <th>26</th>\n",
       "      <td>2018-04-15</td>\n",
       "      <td>2018-04-15</td>\n",
       "    </tr>\n",
       "    <tr>\n",
       "      <th>27</th>\n",
       "      <td>2018-04-15</td>\n",
       "      <td>2018-04-15</td>\n",
       "    </tr>\n",
       "    <tr>\n",
       "      <th>28</th>\n",
       "      <td>2018-04-15</td>\n",
       "      <td>2018-04-15</td>\n",
       "    </tr>\n",
       "    <tr>\n",
       "      <th>29</th>\n",
       "      <td>2018-04-15</td>\n",
       "      <td>2018-04-15</td>\n",
       "    </tr>\n",
       "  </tbody>\n",
       "</table>\n",
       "</div>"
      ],
      "text/plain": [
       "   case_number       date\n",
       "0   2018-06-25 2018-06-25\n",
       "1   2018-06-18 2018-06-18\n",
       "2   2018-06-09 2018-06-09\n",
       "3   2018-06-08 2018-06-08\n",
       "4   2018-06-04 2018-06-04\n",
       "5   2018-06-03 2018-06-03\n",
       "6   2018-06-03 2018-06-03\n",
       "7   2018-05-27 2018-05-27\n",
       "8   2018-05-26 2018-05-26\n",
       "9   2018-05-26 2018-05-26\n",
       "10  2018-05-24 2018-05-24\n",
       "11  2018-05-21 2018-05-21\n",
       "12  2018-05-13 2018-05-13\n",
       "13  2018-05-13 2018-05-13\n",
       "14  2018-05-01 2018-05-01\n",
       "15  2018-05-12 2018-05-12\n",
       "16  2018-05-09 2018-05-09\n",
       "17  2018-04-30 2018-04-30\n",
       "18  2018-04-28 2018-04-28\n",
       "19  2018-04-28 2018-04-28\n",
       "20  2018-04-25 2018-04-25\n",
       "21  2018-04-25 2018-04-25\n",
       "22  2018-04-24 2018-04-24\n",
       "23  2018-04-23 2018-04-23\n",
       "24  2018-04-22 2018-04-22\n",
       "25  2018-04-19 2018-04-19\n",
       "26  2018-04-15 2018-04-15\n",
       "27  2018-04-15 2018-04-15\n",
       "28  2018-04-15 2018-04-15\n",
       "29  2018-04-15 2018-04-15"
      ]
     },
     "execution_count": 33,
     "metadata": {},
     "output_type": "execute_result"
    }
   ],
   "source": [
    "data[['case_number','date']].head(15)"
   ]
  },
  {
   "cell_type": "code",
   "execution_count": 34,
   "id": "91a061b5",
   "metadata": {},
   "outputs": [],
   "source": [
    "data.date = data.case_number\n",
    "data.date = data['case_number.1']\n",
    "data.date = data['case_number.2']"
   ]
  },
  {
   "cell_type": "code",
   "execution_count": 35,
   "id": "632d77a7",
   "metadata": {},
   "outputs": [],
   "source": [
    "data = data.set_index(['date', 'case_number', 'case_number.1', 'case_number.2'])"
   ]
  },
  {
   "cell_type": "code",
   "execution_count": 36,
   "id": "1dfa6003",
   "metadata": {},
   "outputs": [
    {
     "data": {
      "text/html": [
       "<div>\n",
       "<style scoped>\n",
       "    .dataframe tbody tr th:only-of-type {\n",
       "        vertical-align: middle;\n",
       "    }\n",
       "\n",
       "    .dataframe tbody tr th {\n",
       "        vertical-align: top;\n",
       "    }\n",
       "\n",
       "    .dataframe thead th {\n",
       "        text-align: right;\n",
       "    }\n",
       "</style>\n",
       "<table border=\"1\" class=\"dataframe\">\n",
       "  <thead>\n",
       "    <tr style=\"text-align: right;\">\n",
       "      <th></th>\n",
       "      <th></th>\n",
       "      <th></th>\n",
       "      <th></th>\n",
       "      <th>year</th>\n",
       "      <th>type</th>\n",
       "      <th>country</th>\n",
       "      <th>area</th>\n",
       "      <th>location</th>\n",
       "      <th>activity</th>\n",
       "      <th>name</th>\n",
       "      <th>sex</th>\n",
       "      <th>age</th>\n",
       "      <th>injury</th>\n",
       "      <th>fatal_(y/n)</th>\n",
       "      <th>time</th>\n",
       "      <th>species</th>\n",
       "      <th>investigator_or_source</th>\n",
       "      <th>pdf</th>\n",
       "      <th>href_formula</th>\n",
       "      <th>href</th>\n",
       "      <th>original_order</th>\n",
       "      <th>unnamed:_22</th>\n",
       "      <th>unnamed:_23</th>\n",
       "    </tr>\n",
       "    <tr>\n",
       "      <th>date</th>\n",
       "      <th>case_number</th>\n",
       "      <th>case_number.1</th>\n",
       "      <th>case_number.2</th>\n",
       "      <th></th>\n",
       "      <th></th>\n",
       "      <th></th>\n",
       "      <th></th>\n",
       "      <th></th>\n",
       "      <th></th>\n",
       "      <th></th>\n",
       "      <th></th>\n",
       "      <th></th>\n",
       "      <th></th>\n",
       "      <th></th>\n",
       "      <th></th>\n",
       "      <th></th>\n",
       "      <th></th>\n",
       "      <th></th>\n",
       "      <th></th>\n",
       "      <th></th>\n",
       "      <th></th>\n",
       "      <th></th>\n",
       "      <th></th>\n",
       "    </tr>\n",
       "  </thead>\n",
       "  <tbody>\n",
       "    <tr>\n",
       "      <th>2018.06.25</th>\n",
       "      <th>2018-06-25</th>\n",
       "      <th>2018.06.25</th>\n",
       "      <th>2018.06.25</th>\n",
       "      <td>2018.0</td>\n",
       "      <td>Boating</td>\n",
       "      <td>USA</td>\n",
       "      <td>California</td>\n",
       "      <td>Oceanside, San Diego County</td>\n",
       "      <td>Paddling</td>\n",
       "      <td>Julie Wolfe</td>\n",
       "      <td>F</td>\n",
       "      <td>57</td>\n",
       "      <td>No injury to occupant, outrigger canoe and pad...</td>\n",
       "      <td>N</td>\n",
       "      <td>18h00</td>\n",
       "      <td>White shark</td>\n",
       "      <td>R. Collier, GSAF</td>\n",
       "      <td>2018.06.25-Wolfe.pdf</td>\n",
       "      <td>http://sharkattackfile.net/spreadsheets/pdf_di...</td>\n",
       "      <td>http://sharkattackfile.net/spreadsheets/pdf_di...</td>\n",
       "      <td>6303.0</td>\n",
       "      <td>NaN</td>\n",
       "      <td>NaN</td>\n",
       "    </tr>\n",
       "    <tr>\n",
       "      <th>2018.06.18</th>\n",
       "      <th>2018-06-18</th>\n",
       "      <th>2018.06.18</th>\n",
       "      <th>2018.06.18</th>\n",
       "      <td>2018.0</td>\n",
       "      <td>Unprovoked</td>\n",
       "      <td>USA</td>\n",
       "      <td>Georgia</td>\n",
       "      <td>St. Simon Island, Glynn County</td>\n",
       "      <td>Standing</td>\n",
       "      <td>Adyson McNeely</td>\n",
       "      <td>F</td>\n",
       "      <td>11</td>\n",
       "      <td>Minor injury to left thigh</td>\n",
       "      <td>N</td>\n",
       "      <td>14h00  -15h00</td>\n",
       "      <td>NaN</td>\n",
       "      <td>K.McMurray, TrackingSharks.com</td>\n",
       "      <td>2018.06.18-McNeely.pdf</td>\n",
       "      <td>http://sharkattackfile.net/spreadsheets/pdf_di...</td>\n",
       "      <td>http://sharkattackfile.net/spreadsheets/pdf_di...</td>\n",
       "      <td>6302.0</td>\n",
       "      <td>NaN</td>\n",
       "      <td>NaN</td>\n",
       "    </tr>\n",
       "    <tr>\n",
       "      <th>2018.06.09</th>\n",
       "      <th>2018-06-09</th>\n",
       "      <th>2018.06.09</th>\n",
       "      <th>2018.06.09</th>\n",
       "      <td>2018.0</td>\n",
       "      <td>Invalid</td>\n",
       "      <td>USA</td>\n",
       "      <td>Hawaii</td>\n",
       "      <td>Habush, Oahu</td>\n",
       "      <td>Surfing</td>\n",
       "      <td>John Denges</td>\n",
       "      <td>M</td>\n",
       "      <td>48</td>\n",
       "      <td>Injury to left lower leg from surfboard skeg</td>\n",
       "      <td>N</td>\n",
       "      <td>07h45</td>\n",
       "      <td>NaN</td>\n",
       "      <td>K.McMurray, TrackingSharks.com</td>\n",
       "      <td>2018.06.09-Denges.pdf</td>\n",
       "      <td>http://sharkattackfile.net/spreadsheets/pdf_di...</td>\n",
       "      <td>http://sharkattackfile.net/spreadsheets/pdf_di...</td>\n",
       "      <td>6301.0</td>\n",
       "      <td>NaN</td>\n",
       "      <td>NaN</td>\n",
       "    </tr>\n",
       "    <tr>\n",
       "      <th>2018.06.08</th>\n",
       "      <th>2018-06-08</th>\n",
       "      <th>2018.06.08</th>\n",
       "      <th>2018.06.08</th>\n",
       "      <td>2018.0</td>\n",
       "      <td>Unprovoked</td>\n",
       "      <td>AUSTRALIA</td>\n",
       "      <td>New South Wales</td>\n",
       "      <td>Arrawarra Headland</td>\n",
       "      <td>Surfing</td>\n",
       "      <td>male</td>\n",
       "      <td>M</td>\n",
       "      <td>NaN</td>\n",
       "      <td>Minor injury to lower leg</td>\n",
       "      <td>N</td>\n",
       "      <td>NaN</td>\n",
       "      <td>2 m shark</td>\n",
       "      <td>B. Myatt, GSAF</td>\n",
       "      <td>2018.06.08-Arrawarra.pdf</td>\n",
       "      <td>http://sharkattackfile.net/spreadsheets/pdf_di...</td>\n",
       "      <td>http://sharkattackfile.net/spreadsheets/pdf_di...</td>\n",
       "      <td>6300.0</td>\n",
       "      <td>NaN</td>\n",
       "      <td>NaN</td>\n",
       "    </tr>\n",
       "    <tr>\n",
       "      <th>2018.06.04</th>\n",
       "      <th>2018-06-04</th>\n",
       "      <th>2018.06.04</th>\n",
       "      <th>2018.06.04</th>\n",
       "      <td>2018.0</td>\n",
       "      <td>Provoked</td>\n",
       "      <td>MEXICO</td>\n",
       "      <td>Colima</td>\n",
       "      <td>La Ticla</td>\n",
       "      <td>Free diving</td>\n",
       "      <td>Gustavo Ramos</td>\n",
       "      <td>M</td>\n",
       "      <td>NaN</td>\n",
       "      <td>Lacerations to leg &amp; hand shark PROVOKED INCIDENT</td>\n",
       "      <td>N</td>\n",
       "      <td>NaN</td>\n",
       "      <td>Tiger shark, 3m</td>\n",
       "      <td>A .Kipper</td>\n",
       "      <td>2018.06.04-Ramos.pdf</td>\n",
       "      <td>http://sharkattackfile.net/spreadsheets/pdf_di...</td>\n",
       "      <td>http://sharkattackfile.net/spreadsheets/pdf_di...</td>\n",
       "      <td>6299.0</td>\n",
       "      <td>NaN</td>\n",
       "      <td>NaN</td>\n",
       "    </tr>\n",
       "  </tbody>\n",
       "</table>\n",
       "</div>"
      ],
      "text/plain": [
       "                                                      year        type  \\\n",
       "date       case_number case_number.1 case_number.2                       \n",
       "2018.06.25 2018-06-25  2018.06.25    2018.06.25     2018.0     Boating   \n",
       "2018.06.18 2018-06-18  2018.06.18    2018.06.18     2018.0  Unprovoked   \n",
       "2018.06.09 2018-06-09  2018.06.09    2018.06.09     2018.0     Invalid   \n",
       "2018.06.08 2018-06-08  2018.06.08    2018.06.08     2018.0  Unprovoked   \n",
       "2018.06.04 2018-06-04  2018.06.04    2018.06.04     2018.0    Provoked   \n",
       "\n",
       "                                                      country  \\\n",
       "date       case_number case_number.1 case_number.2              \n",
       "2018.06.25 2018-06-25  2018.06.25    2018.06.25           USA   \n",
       "2018.06.18 2018-06-18  2018.06.18    2018.06.18           USA   \n",
       "2018.06.09 2018-06-09  2018.06.09    2018.06.09           USA   \n",
       "2018.06.08 2018-06-08  2018.06.08    2018.06.08     AUSTRALIA   \n",
       "2018.06.04 2018-06-04  2018.06.04    2018.06.04        MEXICO   \n",
       "\n",
       "                                                               area  \\\n",
       "date       case_number case_number.1 case_number.2                    \n",
       "2018.06.25 2018-06-25  2018.06.25    2018.06.25          California   \n",
       "2018.06.18 2018-06-18  2018.06.18    2018.06.18             Georgia   \n",
       "2018.06.09 2018-06-09  2018.06.09    2018.06.09              Hawaii   \n",
       "2018.06.08 2018-06-08  2018.06.08    2018.06.08     New South Wales   \n",
       "2018.06.04 2018-06-04  2018.06.04    2018.06.04              Colima   \n",
       "\n",
       "                                                                          location  \\\n",
       "date       case_number case_number.1 case_number.2                                   \n",
       "2018.06.25 2018-06-25  2018.06.25    2018.06.25        Oceanside, San Diego County   \n",
       "2018.06.18 2018-06-18  2018.06.18    2018.06.18     St. Simon Island, Glynn County   \n",
       "2018.06.09 2018-06-09  2018.06.09    2018.06.09                       Habush, Oahu   \n",
       "2018.06.08 2018-06-08  2018.06.08    2018.06.08                 Arrawarra Headland   \n",
       "2018.06.04 2018-06-04  2018.06.04    2018.06.04                           La Ticla   \n",
       "\n",
       "                                                       activity  \\\n",
       "date       case_number case_number.1 case_number.2                \n",
       "2018.06.25 2018-06-25  2018.06.25    2018.06.25        Paddling   \n",
       "2018.06.18 2018-06-18  2018.06.18    2018.06.18        Standing   \n",
       "2018.06.09 2018-06-09  2018.06.09    2018.06.09         Surfing   \n",
       "2018.06.08 2018-06-08  2018.06.08    2018.06.08         Surfing   \n",
       "2018.06.04 2018-06-04  2018.06.04    2018.06.04     Free diving   \n",
       "\n",
       "                                                               name sex  age  \\\n",
       "date       case_number case_number.1 case_number.2                             \n",
       "2018.06.25 2018-06-25  2018.06.25    2018.06.25         Julie Wolfe   F   57   \n",
       "2018.06.18 2018-06-18  2018.06.18    2018.06.18     Adyson McNeely    F   11   \n",
       "2018.06.09 2018-06-09  2018.06.09    2018.06.09         John Denges   M   48   \n",
       "2018.06.08 2018-06-08  2018.06.08    2018.06.08                male   M  NaN   \n",
       "2018.06.04 2018-06-04  2018.06.04    2018.06.04      Gustavo Ramos    M  NaN   \n",
       "\n",
       "                                                                                               injury  \\\n",
       "date       case_number case_number.1 case_number.2                                                      \n",
       "2018.06.25 2018-06-25  2018.06.25    2018.06.25     No injury to occupant, outrigger canoe and pad...   \n",
       "2018.06.18 2018-06-18  2018.06.18    2018.06.18                            Minor injury to left thigh   \n",
       "2018.06.09 2018-06-09  2018.06.09    2018.06.09          Injury to left lower leg from surfboard skeg   \n",
       "2018.06.08 2018-06-08  2018.06.08    2018.06.08                             Minor injury to lower leg   \n",
       "2018.06.04 2018-06-04  2018.06.04    2018.06.04     Lacerations to leg & hand shark PROVOKED INCIDENT   \n",
       "\n",
       "                                                   fatal_(y/n)           time  \\\n",
       "date       case_number case_number.1 case_number.2                              \n",
       "2018.06.25 2018-06-25  2018.06.25    2018.06.25              N          18h00   \n",
       "2018.06.18 2018-06-18  2018.06.18    2018.06.18              N  14h00  -15h00   \n",
       "2018.06.09 2018-06-09  2018.06.09    2018.06.09              N          07h45   \n",
       "2018.06.08 2018-06-08  2018.06.08    2018.06.08              N            NaN   \n",
       "2018.06.04 2018-06-04  2018.06.04    2018.06.04              N            NaN   \n",
       "\n",
       "                                                            species  \\\n",
       "date       case_number case_number.1 case_number.2                    \n",
       "2018.06.25 2018-06-25  2018.06.25    2018.06.25         White shark   \n",
       "2018.06.18 2018-06-18  2018.06.18    2018.06.18                 NaN   \n",
       "2018.06.09 2018-06-09  2018.06.09    2018.06.09                 NaN   \n",
       "2018.06.08 2018-06-08  2018.06.08    2018.06.08           2 m shark   \n",
       "2018.06.04 2018-06-04  2018.06.04    2018.06.04     Tiger shark, 3m   \n",
       "\n",
       "                                                            investigator_or_source  \\\n",
       "date       case_number case_number.1 case_number.2                                   \n",
       "2018.06.25 2018-06-25  2018.06.25    2018.06.25                   R. Collier, GSAF   \n",
       "2018.06.18 2018-06-18  2018.06.18    2018.06.18     K.McMurray, TrackingSharks.com   \n",
       "2018.06.09 2018-06-09  2018.06.09    2018.06.09     K.McMurray, TrackingSharks.com   \n",
       "2018.06.08 2018-06-08  2018.06.08    2018.06.08                     B. Myatt, GSAF   \n",
       "2018.06.04 2018-06-04  2018.06.04    2018.06.04                          A .Kipper   \n",
       "\n",
       "                                                                         pdf  \\\n",
       "date       case_number case_number.1 case_number.2                             \n",
       "2018.06.25 2018-06-25  2018.06.25    2018.06.25         2018.06.25-Wolfe.pdf   \n",
       "2018.06.18 2018-06-18  2018.06.18    2018.06.18       2018.06.18-McNeely.pdf   \n",
       "2018.06.09 2018-06-09  2018.06.09    2018.06.09        2018.06.09-Denges.pdf   \n",
       "2018.06.08 2018-06-08  2018.06.08    2018.06.08     2018.06.08-Arrawarra.pdf   \n",
       "2018.06.04 2018-06-04  2018.06.04    2018.06.04         2018.06.04-Ramos.pdf   \n",
       "\n",
       "                                                                                         href_formula  \\\n",
       "date       case_number case_number.1 case_number.2                                                      \n",
       "2018.06.25 2018-06-25  2018.06.25    2018.06.25     http://sharkattackfile.net/spreadsheets/pdf_di...   \n",
       "2018.06.18 2018-06-18  2018.06.18    2018.06.18     http://sharkattackfile.net/spreadsheets/pdf_di...   \n",
       "2018.06.09 2018-06-09  2018.06.09    2018.06.09     http://sharkattackfile.net/spreadsheets/pdf_di...   \n",
       "2018.06.08 2018-06-08  2018.06.08    2018.06.08     http://sharkattackfile.net/spreadsheets/pdf_di...   \n",
       "2018.06.04 2018-06-04  2018.06.04    2018.06.04     http://sharkattackfile.net/spreadsheets/pdf_di...   \n",
       "\n",
       "                                                                                                 href  \\\n",
       "date       case_number case_number.1 case_number.2                                                      \n",
       "2018.06.25 2018-06-25  2018.06.25    2018.06.25     http://sharkattackfile.net/spreadsheets/pdf_di...   \n",
       "2018.06.18 2018-06-18  2018.06.18    2018.06.18     http://sharkattackfile.net/spreadsheets/pdf_di...   \n",
       "2018.06.09 2018-06-09  2018.06.09    2018.06.09     http://sharkattackfile.net/spreadsheets/pdf_di...   \n",
       "2018.06.08 2018-06-08  2018.06.08    2018.06.08     http://sharkattackfile.net/spreadsheets/pdf_di...   \n",
       "2018.06.04 2018-06-04  2018.06.04    2018.06.04     http://sharkattackfile.net/spreadsheets/pdf_di...   \n",
       "\n",
       "                                                    original_order  \\\n",
       "date       case_number case_number.1 case_number.2                   \n",
       "2018.06.25 2018-06-25  2018.06.25    2018.06.25             6303.0   \n",
       "2018.06.18 2018-06-18  2018.06.18    2018.06.18             6302.0   \n",
       "2018.06.09 2018-06-09  2018.06.09    2018.06.09             6301.0   \n",
       "2018.06.08 2018-06-08  2018.06.08    2018.06.08             6300.0   \n",
       "2018.06.04 2018-06-04  2018.06.04    2018.06.04             6299.0   \n",
       "\n",
       "                                                   unnamed:_22 unnamed:_23  \n",
       "date       case_number case_number.1 case_number.2                          \n",
       "2018.06.25 2018-06-25  2018.06.25    2018.06.25            NaN         NaN  \n",
       "2018.06.18 2018-06-18  2018.06.18    2018.06.18            NaN         NaN  \n",
       "2018.06.09 2018-06-09  2018.06.09    2018.06.09            NaN         NaN  \n",
       "2018.06.08 2018-06-08  2018.06.08    2018.06.08            NaN         NaN  \n",
       "2018.06.04 2018-06-04  2018.06.04    2018.06.04            NaN         NaN  "
      ]
     },
     "execution_count": 36,
     "metadata": {},
     "output_type": "execute_result"
    }
   ],
   "source": [
    "data.head()"
   ]
  },
  {
   "cell_type": "markdown",
   "id": "aaadf73f",
   "metadata": {},
   "source": [
    "# Type"
   ]
  },
  {
   "cell_type": "code",
   "execution_count": 37,
   "id": "c43263c9",
   "metadata": {},
   "outputs": [
    {
     "data": {
      "text/plain": [
       "Unprovoked      4595\n",
       "Provoked         574\n",
       "Invalid          547\n",
       "Sea Disaster     239\n",
       "Boating          203\n",
       "Boat             137\n",
       "Questionable       2\n",
       "Boatomg            1\n",
       "Name: type, dtype: int64"
      ]
     },
     "execution_count": 37,
     "metadata": {},
     "output_type": "execute_result"
    }
   ],
   "source": [
    "data.type.value_counts()"
   ]
  },
  {
   "cell_type": "code",
   "execution_count": 38,
   "id": "7604cc7f",
   "metadata": {},
   "outputs": [],
   "source": [
    "data.type = data.type.str.replace('Boatomg', 'Boat')"
   ]
  },
  {
   "cell_type": "code",
   "execution_count": 39,
   "id": "e30ce9d5",
   "metadata": {},
   "outputs": [],
   "source": [
    "data.type = data.type.str.replace('Boating', 'Boat')"
   ]
  },
  {
   "cell_type": "code",
   "execution_count": 40,
   "id": "4e0bfa86",
   "metadata": {},
   "outputs": [],
   "source": [
    "data.type = data.type.str.replace('Questionable', 'Other')"
   ]
  },
  {
   "cell_type": "code",
   "execution_count": 41,
   "id": "7218b8cf",
   "metadata": {},
   "outputs": [],
   "source": [
    "data.type = data.type.str.replace('Invalid', 'Other')"
   ]
  },
  {
   "cell_type": "code",
   "execution_count": 42,
   "id": "dfa8a3fd",
   "metadata": {},
   "outputs": [
    {
     "data": {
      "text/plain": [
       "Unprovoked      4595\n",
       "Provoked         574\n",
       "Other            549\n",
       "Boat             341\n",
       "Sea Disaster     239\n",
       "Name: type, dtype: int64"
      ]
     },
     "execution_count": 42,
     "metadata": {},
     "output_type": "execute_result"
    }
   ],
   "source": [
    "data.type.value_counts()"
   ]
  },
  {
   "cell_type": "markdown",
   "id": "89063caf",
   "metadata": {},
   "source": [
    "# Country"
   ]
  },
  {
   "cell_type": "code",
   "execution_count": 43,
   "id": "f19dae13",
   "metadata": {},
   "outputs": [
    {
     "data": {
      "text/plain": [
       "213"
      ]
     },
     "execution_count": 43,
     "metadata": {},
     "output_type": "execute_result"
    }
   ],
   "source": [
    "len(data.country.unique())"
   ]
  },
  {
   "cell_type": "code",
   "execution_count": 44,
   "id": "c73e0d16",
   "metadata": {},
   "outputs": [
    {
     "data": {
      "text/plain": [
       "188"
      ]
     },
     "execution_count": 44,
     "metadata": {},
     "output_type": "execute_result"
    }
   ],
   "source": [
    "data.country = data.country.str.upper()\n",
    "data.country = data.country.str.replace(r'[(\\)\\-\\?]+', ' ')\n",
    "data.country = data.country.str.replace('CEYLON  ','')\n",
    "data.country = data.country.replace(['NORTH SEA', 'RED SEA / INDIAN OCEAN', 'BRITISH WEST INDIES', 'ASIA', 'COAST OF AFRICA', 'WEST INDIES', 'CENTRAL PACIFIC', 'RED SEA', 'MID ATLANTIC OCEAN', 'SOUTH PACIFIC OCEAN', 'BETWEEN PORTUGAL & INDIA', 'MEDITERRANEAN SEA'], np.nan)\n",
    "data.country = data.country.str.strip()\n",
    "len(data.country.unique())"
   ]
  },
  {
   "cell_type": "code",
   "execution_count": 45,
   "id": "30a25d9d",
   "metadata": {},
   "outputs": [
    {
     "data": {
      "text/plain": [
       "USA                           2229\n",
       "AUSTRALIA                     1338\n",
       "SOUTH AFRICA                   579\n",
       "PAPUA NEW GUINEA               134\n",
       "NEW ZEALAND                    128\n",
       "                              ... \n",
       "MAYOTTE                          1\n",
       "GABON                            1\n",
       "ANDAMAN / NICOBAR ISLANDAS       1\n",
       "MALDIVE ISLANDS                  1\n",
       "ASIA                             1\n",
       "Name: country, Length: 187, dtype: int64"
      ]
     },
     "execution_count": 45,
     "metadata": {},
     "output_type": "execute_result"
    }
   ],
   "source": [
    "data.country.value_counts()"
   ]
  },
  {
   "cell_type": "markdown",
   "id": "d6d9128c",
   "metadata": {},
   "source": [
    "# Area"
   ]
  },
  {
   "cell_type": "code",
   "execution_count": 46,
   "id": "d0850f94",
   "metadata": {},
   "outputs": [
    {
     "data": {
      "text/plain": [
       "826"
      ]
     },
     "execution_count": 46,
     "metadata": {},
     "output_type": "execute_result"
    }
   ],
   "source": [
    "len(data.area.unique())"
   ]
  },
  {
   "cell_type": "code",
   "execution_count": 47,
   "id": "4eb29982",
   "metadata": {},
   "outputs": [],
   "source": [
    "data.area = data.area.str.upper()\n",
    "data.area = data.area.str.strip()"
   ]
  },
  {
   "cell_type": "code",
   "execution_count": 48,
   "id": "87796ee4",
   "metadata": {},
   "outputs": [
    {
     "data": {
      "text/plain": [
       "FLORIDA                     1038\n",
       "NEW SOUTH WALES              486\n",
       "QUEENSLAND                   312\n",
       "HAWAII                       298\n",
       "CALIFORNIA                   290\n",
       "                            ... \n",
       "REGGIO CALABRIA PROVINCE       1\n",
       "GENOA PROVINCE                 1\n",
       "GANGES-BRAHMAPUTRA DELTA       1\n",
       "AULONG ISLAND                  1\n",
       "MOALA ISLAND                   1\n",
       "Name: area, Length: 801, dtype: int64"
      ]
     },
     "execution_count": 48,
     "metadata": {},
     "output_type": "execute_result"
    }
   ],
   "source": [
    "data.area.value_counts()"
   ]
  },
  {
   "cell_type": "markdown",
   "id": "d5949bea",
   "metadata": {},
   "source": [
    "# Year"
   ]
  },
  {
   "cell_type": "code",
   "execution_count": 49,
   "id": "cbe4e9d4",
   "metadata": {},
   "outputs": [
    {
     "data": {
      "text/plain": [
       "250"
      ]
     },
     "execution_count": 49,
     "metadata": {},
     "output_type": "execute_result"
    }
   ],
   "source": [
    "len(data.year.unique())"
   ]
  },
  {
   "cell_type": "code",
   "execution_count": 50,
   "id": "24e96bb6",
   "metadata": {},
   "outputs": [
    {
     "data": {
      "text/plain": [
       "2015.0    143\n",
       "2017.0    136\n",
       "2016.0    130\n",
       "2011.0    128\n",
       "2014.0    127\n",
       "         ... \n",
       "1786.0      1\n",
       "1785.0      1\n",
       "1784.0      1\n",
       "1783.0      1\n",
       "1815.0      1\n",
       "Name: year, Length: 249, dtype: int64"
      ]
     },
     "execution_count": 50,
     "metadata": {},
     "output_type": "execute_result"
    }
   ],
   "source": [
    "data.year.value_counts()"
   ]
  },
  {
   "cell_type": "code",
   "execution_count": 51,
   "id": "1823eb54",
   "metadata": {},
   "outputs": [
    {
     "data": {
      "text/plain": [
       "date          case_number  case_number.1  case_number.2\n",
       "2018.06.25    2018-06-25   2018.06.25     2018.06.25       True\n",
       "2018.06.18    2018-06-18   2018.06.18     2018.06.18       True\n",
       "2018.06.09    2018-06-09   2018.06.09     2018.06.09       True\n",
       "2018.06.08    2018-06-08   2018.06.08     2018.06.08       True\n",
       "2018.06.04    2018-06-04   2018.06.04     2018.06.04       True\n",
       "2018.06.03.b  2018-06-03   2018.06.03.b   2018.06.03.b     True\n",
       "2018.06.03.a  2018-06-03   2018.06.03.a   2018.06.03.a     True\n",
       "2018.05.27    2018-05-27   2018.05.27     2018.05.27       True\n",
       "2018.05.26.b  2018-05-26   2018.05.26.b   2018.05.26.b     True\n",
       "2018.05.26.a  2018-05-26   2018.05.26.a   2018.05.26.a     True\n",
       "2018.05.24    2018-05-24   2018.05.24     2018.05.24       True\n",
       "2018.05.21    2018-05-21   2018.05.21     2018.05.21       True\n",
       "2018.05.13.b  2018-05-13   2018.05.13.b   2018.05.13.b     True\n",
       "2018.05.13.a  2018-05-13   2018.05.13.a   2018.05.13.a     True\n",
       "2018.05.00    2018-05-01   2018.05.00     2018.05.00       True\n",
       "2018.05.12    2018-05-12   2018.05.12     2018.05.12       True\n",
       "2018.05.09    2018-05-09   2018.05.09     2018.05.09       True\n",
       "2018.04.30.R  2018-04-30   2018.04.30.R   2018.04.30.R     True\n",
       "2018.04.28.b  2018-04-28   2018.04.28.b   2018.04.28.b     True\n",
       "2018.04.28.a  2018-04-28   2018.04.28.a   2018.04.28.a     True\n",
       "Name: year, dtype: bool"
      ]
     },
     "execution_count": 51,
     "metadata": {},
     "output_type": "execute_result"
    }
   ],
   "source": [
    "data.year.notnull().head(20)"
   ]
  },
  {
   "cell_type": "code",
   "execution_count": null,
   "id": "a945ab46",
   "metadata": {},
   "outputs": [],
   "source": []
  },
  {
   "cell_type": "code",
   "execution_count": 52,
   "id": "4a483bbe",
   "metadata": {},
   "outputs": [],
   "source": [
    "#eliminamos valores nulos de las dos columnas donde todos los valores son NaN\n",
    "#def reemplazar_nulos_con_unknown(data, columna):\n",
    "   # data[columna] = data[columna].fillna('unknown')\n",
    "   # return data"
   ]
  },
  {
   "cell_type": "code",
   "execution_count": 53,
   "id": "a3c9c4f3",
   "metadata": {},
   "outputs": [],
   "source": [
    "#data = reemplazar_nulos_con_unknown(data, 'Unnamed: 22')"
   ]
  },
  {
   "cell_type": "code",
   "execution_count": 54,
   "id": "bcfb4737",
   "metadata": {},
   "outputs": [],
   "source": [
    "#data = reemplazar_nulos_con_unknown(data, 'Unnamed: 23')"
   ]
  },
  {
   "cell_type": "code",
   "execution_count": 55,
   "id": "5d0fbdfc",
   "metadata": {},
   "outputs": [],
   "source": [
    "#data.head()"
   ]
  },
  {
   "cell_type": "code",
   "execution_count": 56,
   "id": "53c43707",
   "metadata": {},
   "outputs": [],
   "source": [
    "#data.info(memory_usage='deep')"
   ]
  },
  {
   "cell_type": "code",
   "execution_count": null,
   "id": "888615fd",
   "metadata": {},
   "outputs": [],
   "source": []
  },
  {
   "cell_type": "code",
   "execution_count": 57,
   "id": "c2376f12",
   "metadata": {},
   "outputs": [],
   "source": [
    "#df[df-date.isin()]"
   ]
  }
 ],
 "metadata": {
  "kernelspec": {
   "display_name": "Python 3 (ipykernel)",
   "language": "python",
   "name": "python3"
  },
  "language_info": {
   "codemirror_mode": {
    "name": "ipython",
    "version": 3
   },
   "file_extension": ".py",
   "mimetype": "text/x-python",
   "name": "python",
   "nbconvert_exporter": "python",
   "pygments_lexer": "ipython3",
   "version": "3.10.9"
  }
 },
 "nbformat": 4,
 "nbformat_minor": 5
}
