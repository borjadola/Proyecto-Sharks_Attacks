{
 "cells": [
  {
   "cell_type": "code",
   "execution_count": 1,
   "id": "a36ba8df",
   "metadata": {},
   "outputs": [],
   "source": [
    "import pandas as pd\n",
    "import numpy as np\n",
    "import warnings\n",
    "warnings.filterwarnings('ignore')\n",
    "pd.set_option('display.max_columns', None)\n",
    "\n",
    "import pylab as plt    \n",
    "import seaborn as sns"
   ]
  },
  {
   "cell_type": "code",
   "execution_count": 2,
   "id": "d9b2066a",
   "metadata": {},
   "outputs": [
    {
     "data": {
      "text/plain": [
       "Index(['case_number', 'date', 'year', 'type', 'country', 'area', 'location',\n",
       "       'activity', 'name', 'sex', 'age', 'injury', 'fatal_(y/n)', 'time',\n",
       "       'species', 'investigator_or_source', 'pdf', 'href_formula', 'href',\n",
       "       'case_number.1', 'case_number.2', 'original_order', 'unnamed:_22',\n",
       "       'unnamed:_23'],\n",
       "      dtype='object')"
      ]
     },
     "execution_count": 2,
     "metadata": {},
     "output_type": "execute_result"
    }
   ],
   "source": [
    "analysis_original = pd.read_csv('attacks_clean.csv')\n",
    "\n",
    "analysis_original.columns\n"
   ]
  },
  {
   "cell_type": "code",
   "execution_count": 3,
   "id": "e0aea42d",
   "metadata": {},
   "outputs": [
    {
     "data": {
      "text/html": [
       "<div>\n",
       "<style scoped>\n",
       "    .dataframe tbody tr th:only-of-type {\n",
       "        vertical-align: middle;\n",
       "    }\n",
       "\n",
       "    .dataframe tbody tr th {\n",
       "        vertical-align: top;\n",
       "    }\n",
       "\n",
       "    .dataframe thead th {\n",
       "        text-align: right;\n",
       "    }\n",
       "</style>\n",
       "<table border=\"1\" class=\"dataframe\">\n",
       "  <thead>\n",
       "    <tr style=\"text-align: right;\">\n",
       "      <th></th>\n",
       "      <th>case_number</th>\n",
       "      <th>date</th>\n",
       "      <th>year</th>\n",
       "      <th>type</th>\n",
       "      <th>country</th>\n",
       "      <th>area</th>\n",
       "      <th>location</th>\n",
       "      <th>activity</th>\n",
       "      <th>name</th>\n",
       "      <th>sex</th>\n",
       "      <th>age</th>\n",
       "      <th>injury</th>\n",
       "      <th>fatal_(y/n)</th>\n",
       "      <th>time</th>\n",
       "      <th>species</th>\n",
       "      <th>investigator_or_source</th>\n",
       "      <th>pdf</th>\n",
       "      <th>href_formula</th>\n",
       "      <th>href</th>\n",
       "      <th>case_number.1</th>\n",
       "      <th>case_number.2</th>\n",
       "      <th>original_order</th>\n",
       "      <th>unnamed:_22</th>\n",
       "      <th>unnamed:_23</th>\n",
       "    </tr>\n",
       "  </thead>\n",
       "  <tbody>\n",
       "    <tr>\n",
       "      <th>0</th>\n",
       "      <td>2018-06-25 00:00:00</td>\n",
       "      <td>2018-06-25 00:00:00</td>\n",
       "      <td>2018.0</td>\n",
       "      <td>BOAT</td>\n",
       "      <td>USA</td>\n",
       "      <td>CALIFORNIA</td>\n",
       "      <td>Oceanside, San Diego County</td>\n",
       "      <td>PADDLE BOARDING</td>\n",
       "      <td>Julie Wolfe</td>\n",
       "      <td>F</td>\n",
       "      <td>57.0</td>\n",
       "      <td>No injury to occupant, outrigger canoe and pad...</td>\n",
       "      <td>0.0</td>\n",
       "      <td>EVENING</td>\n",
       "      <td>WHITE SHARK</td>\n",
       "      <td>R. Collier, GSAF</td>\n",
       "      <td>2018.06.25-Wolfe.pdf</td>\n",
       "      <td>http://sharkattackfile.net/spreadsheets/pdf_di...</td>\n",
       "      <td>http://sharkattackfile.net/spreadsheets/pdf_di...</td>\n",
       "      <td>2018-06-25 00:00:00</td>\n",
       "      <td>2018-06-25 00:00:00</td>\n",
       "      <td>0</td>\n",
       "      <td>UNIDENTIFIED</td>\n",
       "      <td>UNIDENTIFIED</td>\n",
       "    </tr>\n",
       "    <tr>\n",
       "      <th>1</th>\n",
       "      <td>2018-06-18 00:00:00</td>\n",
       "      <td>2018-06-18 00:00:00</td>\n",
       "      <td>2018.0</td>\n",
       "      <td>UNPROVOKED</td>\n",
       "      <td>USA</td>\n",
       "      <td>GEORGIA</td>\n",
       "      <td>St. Simon Island, Glynn County</td>\n",
       "      <td>STANDING</td>\n",
       "      <td>Adyson McNeely</td>\n",
       "      <td>F</td>\n",
       "      <td>11.0</td>\n",
       "      <td>Minor injury to left thigh</td>\n",
       "      <td>0.0</td>\n",
       "      <td>AFTERNOON</td>\n",
       "      <td>UNIDENTIFIED</td>\n",
       "      <td>K.McMurray, TrackingSharks.com</td>\n",
       "      <td>2018.06.18-McNeely.pdf</td>\n",
       "      <td>http://sharkattackfile.net/spreadsheets/pdf_di...</td>\n",
       "      <td>http://sharkattackfile.net/spreadsheets/pdf_di...</td>\n",
       "      <td>2018-06-18 00:00:00</td>\n",
       "      <td>2018-06-18 00:00:00</td>\n",
       "      <td>0</td>\n",
       "      <td>UNIDENTIFIED</td>\n",
       "      <td>UNIDENTIFIED</td>\n",
       "    </tr>\n",
       "    <tr>\n",
       "      <th>2</th>\n",
       "      <td>2018-06-09 00:00:00</td>\n",
       "      <td>2018-06-09 00:00:00</td>\n",
       "      <td>2018.0</td>\n",
       "      <td>OTHER</td>\n",
       "      <td>USA</td>\n",
       "      <td>HAWAII</td>\n",
       "      <td>Habush, Oahu</td>\n",
       "      <td>SURFING</td>\n",
       "      <td>John Denges</td>\n",
       "      <td>M</td>\n",
       "      <td>48.0</td>\n",
       "      <td>Injury to left lower leg from surfboard skeg</td>\n",
       "      <td>0.0</td>\n",
       "      <td>DAY MORNING</td>\n",
       "      <td>UNIDENTIFIED</td>\n",
       "      <td>K.McMurray, TrackingSharks.com</td>\n",
       "      <td>2018.06.09-Denges.pdf</td>\n",
       "      <td>http://sharkattackfile.net/spreadsheets/pdf_di...</td>\n",
       "      <td>http://sharkattackfile.net/spreadsheets/pdf_di...</td>\n",
       "      <td>2018-06-09 00:00:00</td>\n",
       "      <td>2018-06-09 00:00:00</td>\n",
       "      <td>0</td>\n",
       "      <td>UNIDENTIFIED</td>\n",
       "      <td>UNIDENTIFIED</td>\n",
       "    </tr>\n",
       "    <tr>\n",
       "      <th>3</th>\n",
       "      <td>2018-06-08 00:00:00</td>\n",
       "      <td>2018-06-08 00:00:00</td>\n",
       "      <td>2018.0</td>\n",
       "      <td>UNPROVOKED</td>\n",
       "      <td>AUSTRALIA</td>\n",
       "      <td>NEW SOUTH WALES</td>\n",
       "      <td>Arrawarra Headland</td>\n",
       "      <td>SURFING</td>\n",
       "      <td>male</td>\n",
       "      <td>M</td>\n",
       "      <td>UNIDENTIFIED</td>\n",
       "      <td>Minor injury to lower leg</td>\n",
       "      <td>0.0</td>\n",
       "      <td>UNIDENTIFIED</td>\n",
       "      <td>UNIDENTIFIED</td>\n",
       "      <td>B. Myatt, GSAF</td>\n",
       "      <td>2018.06.08-Arrawarra.pdf</td>\n",
       "      <td>http://sharkattackfile.net/spreadsheets/pdf_di...</td>\n",
       "      <td>http://sharkattackfile.net/spreadsheets/pdf_di...</td>\n",
       "      <td>2018-06-08 00:00:00</td>\n",
       "      <td>2018-06-08 00:00:00</td>\n",
       "      <td>0</td>\n",
       "      <td>UNIDENTIFIED</td>\n",
       "      <td>UNIDENTIFIED</td>\n",
       "    </tr>\n",
       "    <tr>\n",
       "      <th>4</th>\n",
       "      <td>2018-06-04 00:00:00</td>\n",
       "      <td>2018-06-04 00:00:00</td>\n",
       "      <td>2018.0</td>\n",
       "      <td>PROVOKED</td>\n",
       "      <td>MEXICO</td>\n",
       "      <td>COLIMA</td>\n",
       "      <td>La Ticla</td>\n",
       "      <td>SCUBA DIVING</td>\n",
       "      <td>Gustavo Ramos</td>\n",
       "      <td>M</td>\n",
       "      <td>UNIDENTIFIED</td>\n",
       "      <td>Lacerations to leg &amp; hand shark PROVOKED INCIDENT</td>\n",
       "      <td>0.0</td>\n",
       "      <td>UNIDENTIFIED</td>\n",
       "      <td>TIGER SHARK</td>\n",
       "      <td>A .Kipper</td>\n",
       "      <td>2018.06.04-Ramos.pdf</td>\n",
       "      <td>http://sharkattackfile.net/spreadsheets/pdf_di...</td>\n",
       "      <td>http://sharkattackfile.net/spreadsheets/pdf_di...</td>\n",
       "      <td>2018-06-04 00:00:00</td>\n",
       "      <td>2018-06-04 00:00:00</td>\n",
       "      <td>0</td>\n",
       "      <td>UNIDENTIFIED</td>\n",
       "      <td>UNIDENTIFIED</td>\n",
       "    </tr>\n",
       "  </tbody>\n",
       "</table>\n",
       "</div>"
      ],
      "text/plain": [
       "           case_number                 date    year        type    country  \\\n",
       "0  2018-06-25 00:00:00  2018-06-25 00:00:00  2018.0        BOAT        USA   \n",
       "1  2018-06-18 00:00:00  2018-06-18 00:00:00  2018.0  UNPROVOKED        USA   \n",
       "2  2018-06-09 00:00:00  2018-06-09 00:00:00  2018.0       OTHER        USA   \n",
       "3  2018-06-08 00:00:00  2018-06-08 00:00:00  2018.0  UNPROVOKED  AUSTRALIA   \n",
       "4  2018-06-04 00:00:00  2018-06-04 00:00:00  2018.0    PROVOKED     MEXICO   \n",
       "\n",
       "              area                        location         activity  \\\n",
       "0       CALIFORNIA     Oceanside, San Diego County  PADDLE BOARDING   \n",
       "1          GEORGIA  St. Simon Island, Glynn County         STANDING   \n",
       "2           HAWAII                    Habush, Oahu          SURFING   \n",
       "3  NEW SOUTH WALES              Arrawarra Headland          SURFING   \n",
       "4           COLIMA                        La Ticla     SCUBA DIVING   \n",
       "\n",
       "              name sex           age  \\\n",
       "0      Julie Wolfe   F          57.0   \n",
       "1  Adyson McNeely    F          11.0   \n",
       "2      John Denges   M          48.0   \n",
       "3             male   M  UNIDENTIFIED   \n",
       "4   Gustavo Ramos    M  UNIDENTIFIED   \n",
       "\n",
       "                                              injury fatal_(y/n)  \\\n",
       "0  No injury to occupant, outrigger canoe and pad...         0.0   \n",
       "1                         Minor injury to left thigh         0.0   \n",
       "2       Injury to left lower leg from surfboard skeg         0.0   \n",
       "3                          Minor injury to lower leg         0.0   \n",
       "4  Lacerations to leg & hand shark PROVOKED INCIDENT         0.0   \n",
       "\n",
       "           time       species          investigator_or_source  \\\n",
       "0       EVENING   WHITE SHARK                R. Collier, GSAF   \n",
       "1     AFTERNOON  UNIDENTIFIED  K.McMurray, TrackingSharks.com   \n",
       "2   DAY MORNING  UNIDENTIFIED  K.McMurray, TrackingSharks.com   \n",
       "3  UNIDENTIFIED  UNIDENTIFIED                  B. Myatt, GSAF   \n",
       "4  UNIDENTIFIED   TIGER SHARK                       A .Kipper   \n",
       "\n",
       "                        pdf  \\\n",
       "0      2018.06.25-Wolfe.pdf   \n",
       "1    2018.06.18-McNeely.pdf   \n",
       "2     2018.06.09-Denges.pdf   \n",
       "3  2018.06.08-Arrawarra.pdf   \n",
       "4      2018.06.04-Ramos.pdf   \n",
       "\n",
       "                                        href_formula  \\\n",
       "0  http://sharkattackfile.net/spreadsheets/pdf_di...   \n",
       "1  http://sharkattackfile.net/spreadsheets/pdf_di...   \n",
       "2  http://sharkattackfile.net/spreadsheets/pdf_di...   \n",
       "3  http://sharkattackfile.net/spreadsheets/pdf_di...   \n",
       "4  http://sharkattackfile.net/spreadsheets/pdf_di...   \n",
       "\n",
       "                                                href        case_number.1  \\\n",
       "0  http://sharkattackfile.net/spreadsheets/pdf_di...  2018-06-25 00:00:00   \n",
       "1  http://sharkattackfile.net/spreadsheets/pdf_di...  2018-06-18 00:00:00   \n",
       "2  http://sharkattackfile.net/spreadsheets/pdf_di...  2018-06-09 00:00:00   \n",
       "3  http://sharkattackfile.net/spreadsheets/pdf_di...  2018-06-08 00:00:00   \n",
       "4  http://sharkattackfile.net/spreadsheets/pdf_di...  2018-06-04 00:00:00   \n",
       "\n",
       "         case_number.2  original_order   unnamed:_22   unnamed:_23  \n",
       "0  2018-06-25 00:00:00               0  UNIDENTIFIED  UNIDENTIFIED  \n",
       "1  2018-06-18 00:00:00               0  UNIDENTIFIED  UNIDENTIFIED  \n",
       "2  2018-06-09 00:00:00               0  UNIDENTIFIED  UNIDENTIFIED  \n",
       "3  2018-06-08 00:00:00               0  UNIDENTIFIED  UNIDENTIFIED  \n",
       "4  2018-06-04 00:00:00               0  UNIDENTIFIED  UNIDENTIFIED  "
      ]
     },
     "execution_count": 3,
     "metadata": {},
     "output_type": "execute_result"
    }
   ],
   "source": [
    "analysis_original.head()"
   ]
  },
  {
   "cell_type": "code",
   "execution_count": 4,
   "id": "89f58641",
   "metadata": {},
   "outputs": [],
   "source": [
    "analysis = analysis_original.copy()"
   ]
  },
  {
   "cell_type": "code",
   "execution_count": 5,
   "id": "abbb46f6",
   "metadata": {},
   "outputs": [],
   "source": [
    "analysis.drop(columns=['case_number', 'location', 'name', 'injury', 'investigator_or_source', \n",
    "                                'pdf', 'href_formula', 'href', 'case_number.1', 'case_number.2', \n",
    "                                'original_order', 'unnamed:_22', 'unnamed:_23'], inplace=True)"
   ]
  },
  {
   "cell_type": "code",
   "execution_count": 6,
   "id": "63784ada",
   "metadata": {},
   "outputs": [
    {
     "data": {
      "text/html": [
       "<div>\n",
       "<style scoped>\n",
       "    .dataframe tbody tr th:only-of-type {\n",
       "        vertical-align: middle;\n",
       "    }\n",
       "\n",
       "    .dataframe tbody tr th {\n",
       "        vertical-align: top;\n",
       "    }\n",
       "\n",
       "    .dataframe thead th {\n",
       "        text-align: right;\n",
       "    }\n",
       "</style>\n",
       "<table border=\"1\" class=\"dataframe\">\n",
       "  <thead>\n",
       "    <tr style=\"text-align: right;\">\n",
       "      <th></th>\n",
       "      <th>date</th>\n",
       "      <th>year</th>\n",
       "      <th>type</th>\n",
       "      <th>country</th>\n",
       "      <th>area</th>\n",
       "      <th>activity</th>\n",
       "      <th>sex</th>\n",
       "      <th>age</th>\n",
       "      <th>fatal_(y/n)</th>\n",
       "      <th>time</th>\n",
       "      <th>species</th>\n",
       "    </tr>\n",
       "  </thead>\n",
       "  <tbody>\n",
       "    <tr>\n",
       "      <th>0</th>\n",
       "      <td>2018-06-25 00:00:00</td>\n",
       "      <td>2018.0</td>\n",
       "      <td>BOAT</td>\n",
       "      <td>USA</td>\n",
       "      <td>CALIFORNIA</td>\n",
       "      <td>PADDLE BOARDING</td>\n",
       "      <td>F</td>\n",
       "      <td>57.0</td>\n",
       "      <td>0.0</td>\n",
       "      <td>EVENING</td>\n",
       "      <td>WHITE SHARK</td>\n",
       "    </tr>\n",
       "    <tr>\n",
       "      <th>1</th>\n",
       "      <td>2018-06-18 00:00:00</td>\n",
       "      <td>2018.0</td>\n",
       "      <td>UNPROVOKED</td>\n",
       "      <td>USA</td>\n",
       "      <td>GEORGIA</td>\n",
       "      <td>STANDING</td>\n",
       "      <td>F</td>\n",
       "      <td>11.0</td>\n",
       "      <td>0.0</td>\n",
       "      <td>AFTERNOON</td>\n",
       "      <td>UNIDENTIFIED</td>\n",
       "    </tr>\n",
       "    <tr>\n",
       "      <th>2</th>\n",
       "      <td>2018-06-09 00:00:00</td>\n",
       "      <td>2018.0</td>\n",
       "      <td>OTHER</td>\n",
       "      <td>USA</td>\n",
       "      <td>HAWAII</td>\n",
       "      <td>SURFING</td>\n",
       "      <td>M</td>\n",
       "      <td>48.0</td>\n",
       "      <td>0.0</td>\n",
       "      <td>DAY MORNING</td>\n",
       "      <td>UNIDENTIFIED</td>\n",
       "    </tr>\n",
       "    <tr>\n",
       "      <th>3</th>\n",
       "      <td>2018-06-08 00:00:00</td>\n",
       "      <td>2018.0</td>\n",
       "      <td>UNPROVOKED</td>\n",
       "      <td>AUSTRALIA</td>\n",
       "      <td>NEW SOUTH WALES</td>\n",
       "      <td>SURFING</td>\n",
       "      <td>M</td>\n",
       "      <td>UNIDENTIFIED</td>\n",
       "      <td>0.0</td>\n",
       "      <td>UNIDENTIFIED</td>\n",
       "      <td>UNIDENTIFIED</td>\n",
       "    </tr>\n",
       "    <tr>\n",
       "      <th>4</th>\n",
       "      <td>2018-06-04 00:00:00</td>\n",
       "      <td>2018.0</td>\n",
       "      <td>PROVOKED</td>\n",
       "      <td>MEXICO</td>\n",
       "      <td>COLIMA</td>\n",
       "      <td>SCUBA DIVING</td>\n",
       "      <td>M</td>\n",
       "      <td>UNIDENTIFIED</td>\n",
       "      <td>0.0</td>\n",
       "      <td>UNIDENTIFIED</td>\n",
       "      <td>TIGER SHARK</td>\n",
       "    </tr>\n",
       "  </tbody>\n",
       "</table>\n",
       "</div>"
      ],
      "text/plain": [
       "                  date    year        type    country             area  \\\n",
       "0  2018-06-25 00:00:00  2018.0        BOAT        USA       CALIFORNIA   \n",
       "1  2018-06-18 00:00:00  2018.0  UNPROVOKED        USA          GEORGIA   \n",
       "2  2018-06-09 00:00:00  2018.0       OTHER        USA           HAWAII   \n",
       "3  2018-06-08 00:00:00  2018.0  UNPROVOKED  AUSTRALIA  NEW SOUTH WALES   \n",
       "4  2018-06-04 00:00:00  2018.0    PROVOKED     MEXICO           COLIMA   \n",
       "\n",
       "          activity sex           age fatal_(y/n)          time       species  \n",
       "0  PADDLE BOARDING   F          57.0         0.0       EVENING   WHITE SHARK  \n",
       "1         STANDING   F          11.0         0.0     AFTERNOON  UNIDENTIFIED  \n",
       "2          SURFING   M          48.0         0.0   DAY MORNING  UNIDENTIFIED  \n",
       "3          SURFING   M  UNIDENTIFIED         0.0  UNIDENTIFIED  UNIDENTIFIED  \n",
       "4     SCUBA DIVING   M  UNIDENTIFIED         0.0  UNIDENTIFIED   TIGER SHARK  "
      ]
     },
     "execution_count": 6,
     "metadata": {},
     "output_type": "execute_result"
    }
   ],
   "source": [
    "analysis.head()"
   ]
  },
  {
   "cell_type": "code",
   "execution_count": 7,
   "id": "7325c412",
   "metadata": {},
   "outputs": [
    {
     "data": {
      "text/plain": [
       "Index(['date', 'year', 'type', 'country', 'area', 'activity', 'sex', 'age',\n",
       "       'fatal_(y/n)', 'time', 'species'],\n",
       "      dtype='object')"
      ]
     },
     "execution_count": 7,
     "metadata": {},
     "output_type": "execute_result"
    }
   ],
   "source": [
    "analysis.columns"
   ]
  },
  {
   "cell_type": "code",
   "execution_count": 8,
   "id": "6a755b77",
   "metadata": {},
   "outputs": [],
   "source": [
    "analysis.columns = ['date', 'year', 'type', 'country', 'area', 'activity', 'sex', 'age',\n",
    "       'fatal', 'time', 'species']"
   ]
  },
  {
   "cell_type": "markdown",
   "id": "d25c7ea9",
   "metadata": {},
   "source": [
    "# Número de ataques por intervalo de tiempo."
   ]
  },
  {
   "cell_type": "code",
   "execution_count": 9,
   "id": "f64a0318",
   "metadata": {},
   "outputs": [
    {
     "data": {
      "text/plain": [
       "Text(0.5, 1.0, 'Número de ataques por intervalo de tiempo')"
      ]
     },
     "execution_count": 9,
     "metadata": {},
     "output_type": "execute_result"
    },
    {
     "data": {
      "image/png": "[encoded data removed]",
      "text/plain": [
       "<Figure size 1000x600 with 1 Axes>"
      ]
     },
     "metadata": {},
     "output_type": "display_data"
    }
   ],
   "source": [
    "# Eliminamos 'UNIDENTIFIED' y valores NaN (que no hay)\n",
    "analysis_time = analysis[analysis.time != 'UNIDENTIFIED']\n",
    "analysis_time = analysis_time.dropna(subset=['time'])\n",
    "\n",
    "# Número de veces que se repite cada valor\n",
    "time_counts = analysis_time.time.value_counts()\n",
    "\n",
    "# Plot the histogram\n",
    "time_counts.plot(kind='bar', figsize=(10, 6))\n",
    "\n",
    "plt.xlabel('Intervalo del día')\n",
    "plt.ylabel('Número de ataques')\n",
    "plt.title('Número de ataques por intervalo de tiempo')"
   ]
  },
  {
   "cell_type": "markdown",
   "id": "02cb2fa1",
   "metadata": {},
   "source": [
    "# Número de ataques por especie"
   ]
  },
  {
   "cell_type": "code",
   "execution_count": 10,
   "id": "7d76a567",
   "metadata": {},
   "outputs": [
    {
     "data": {
      "text/html": [
       "<div>\n",
       "<style scoped>\n",
       "    .dataframe tbody tr th:only-of-type {\n",
       "        vertical-align: middle;\n",
       "    }\n",
       "\n",
       "    .dataframe tbody tr th {\n",
       "        vertical-align: top;\n",
       "    }\n",
       "\n",
       "    .dataframe thead th {\n",
       "        text-align: right;\n",
       "    }\n",
       "</style>\n",
       "<table border=\"1\" class=\"dataframe\">\n",
       "  <thead>\n",
       "    <tr style=\"text-align: right;\">\n",
       "      <th></th>\n",
       "      <th>fatal</th>\n",
       "      <th>species</th>\n",
       "    </tr>\n",
       "  </thead>\n",
       "  <tbody>\n",
       "    <tr>\n",
       "      <th>0</th>\n",
       "      <td>0.0</td>\n",
       "      <td>WHITE SHARK</td>\n",
       "    </tr>\n",
       "    <tr>\n",
       "      <th>1</th>\n",
       "      <td>0.0</td>\n",
       "      <td>UNIDENTIFIED</td>\n",
       "    </tr>\n",
       "    <tr>\n",
       "      <th>2</th>\n",
       "      <td>0.0</td>\n",
       "      <td>UNIDENTIFIED</td>\n",
       "    </tr>\n",
       "    <tr>\n",
       "      <th>3</th>\n",
       "      <td>0.0</td>\n",
       "      <td>UNIDENTIFIED</td>\n",
       "    </tr>\n",
       "    <tr>\n",
       "      <th>4</th>\n",
       "      <td>0.0</td>\n",
       "      <td>TIGER SHARK</td>\n",
       "    </tr>\n",
       "  </tbody>\n",
       "</table>\n",
       "</div>"
      ],
      "text/plain": [
       "  fatal       species\n",
       "0   0.0   WHITE SHARK\n",
       "1   0.0  UNIDENTIFIED\n",
       "2   0.0  UNIDENTIFIED\n",
       "3   0.0  UNIDENTIFIED\n",
       "4   0.0   TIGER SHARK"
      ]
     },
     "execution_count": 10,
     "metadata": {},
     "output_type": "execute_result"
    }
   ],
   "source": [
    "analysis[['fatal','species']].head()"
   ]
  },
  {
   "cell_type": "code",
   "execution_count": 11,
   "id": "87b1a186",
   "metadata": {},
   "outputs": [
    {
     "data": {
      "text/plain": [
       "Text(0.5, 1.0, 'Número de ataques por especie')"
      ]
     },
     "execution_count": 11,
     "metadata": {},
     "output_type": "execute_result"
    },
    {
     "data": {
      "image/png": "[encoded data removed]",
      "text/plain": [
       "<Figure size 1000x600 with 1 Axes>"
      ]
     },
     "metadata": {},
     "output_type": "display_data"
    }
   ],
   "source": [
    "# Eliminamos 'UNIDENTIFIED' y valores NaN (que no hay)\n",
    "analysis_species = analysis[analysis.species != 'UNIDENTIFIED']\n",
    "analysis_species = analysis_species.dropna(subset=['species'])\n",
    "\n",
    "# Número de veces que se repite cada valor\n",
    "species_counts = analysis_species.species.value_counts()\n",
    "\n",
    "# Plot the histogram\n",
    "species_counts.head(5).plot(kind='bar', figsize=(10, 6))\n",
    "\n",
    "plt.xlabel('Especie')\n",
    "plt.ylabel('Número de ataques')\n",
    "plt.title('Número de ataques por especie')"
   ]
  },
  {
   "cell_type": "markdown",
   "id": "c5e654df",
   "metadata": {},
   "source": [
    "# Relación entre los ataques por especie y el intervalo de tiempo"
   ]
  },
  {
   "cell_type": "code",
   "execution_count": 22,
   "id": "23b3461e",
   "metadata": {},
   "outputs": [
    {
     "data": {
      "text/html": [
       "<div>\n",
       "<style scoped>\n",
       "    .dataframe tbody tr th:only-of-type {\n",
       "        vertical-align: middle;\n",
       "    }\n",
       "\n",
       "    .dataframe tbody tr th {\n",
       "        vertical-align: top;\n",
       "    }\n",
       "\n",
       "    .dataframe thead th {\n",
       "        text-align: right;\n",
       "    }\n",
       "</style>\n",
       "<table border=\"1\" class=\"dataframe\">\n",
       "  <thead>\n",
       "    <tr style=\"text-align: right;\">\n",
       "      <th>time</th>\n",
       "      <th>AFTERNOON</th>\n",
       "      <th>DAY MORNING</th>\n",
       "      <th>EVENING</th>\n",
       "      <th>NIGHT MORNING</th>\n",
       "    </tr>\n",
       "    <tr>\n",
       "      <th>species</th>\n",
       "      <th></th>\n",
       "      <th></th>\n",
       "      <th></th>\n",
       "      <th></th>\n",
       "    </tr>\n",
       "  </thead>\n",
       "  <tbody>\n",
       "    <tr>\n",
       "      <th>BLACKTIP SHARK</th>\n",
       "      <td>45.0</td>\n",
       "      <td>23.0</td>\n",
       "      <td>6.0</td>\n",
       "      <td>0.0</td>\n",
       "    </tr>\n",
       "    <tr>\n",
       "      <th>BULL SHARK</th>\n",
       "      <td>72.0</td>\n",
       "      <td>41.0</td>\n",
       "      <td>10.0</td>\n",
       "      <td>2.0</td>\n",
       "    </tr>\n",
       "    <tr>\n",
       "      <th>NURSE SHARK</th>\n",
       "      <td>30.0</td>\n",
       "      <td>9.0</td>\n",
       "      <td>3.0</td>\n",
       "      <td>0.0</td>\n",
       "    </tr>\n",
       "    <tr>\n",
       "      <th>TIGER SHARK</th>\n",
       "      <td>90.0</td>\n",
       "      <td>65.0</td>\n",
       "      <td>19.0</td>\n",
       "      <td>3.0</td>\n",
       "    </tr>\n",
       "    <tr>\n",
       "      <th>WHITE SHARK</th>\n",
       "      <td>243.0</td>\n",
       "      <td>194.0</td>\n",
       "      <td>24.0</td>\n",
       "      <td>4.0</td>\n",
       "    </tr>\n",
       "  </tbody>\n",
       "</table>\n",
       "</div>"
      ],
      "text/plain": [
       "time            AFTERNOON  DAY MORNING  EVENING  NIGHT MORNING\n",
       "species                                                       \n",
       "BLACKTIP SHARK       45.0         23.0      6.0            0.0\n",
       "BULL SHARK           72.0         41.0     10.0            2.0\n",
       "NURSE SHARK          30.0          9.0      3.0            0.0\n",
       "TIGER SHARK          90.0         65.0     19.0            3.0\n",
       "WHITE SHARK         243.0        194.0     24.0            4.0"
      ]
     },
     "execution_count": 22,
     "metadata": {},
     "output_type": "execute_result"
    }
   ],
   "source": [
    "# Identifico el top 5 de especies\n",
    "top_5_species = species_counts.head(5).index\n",
    "\n",
    "# filtro los valores del top 5 en el dataframe\n",
    "top_5_species_analysis = analysis[analysis.species.isin(top_5_species)]\n",
    "\n",
    "# Agrupo el top 5 de especies con el tiempo\n",
    "time_distribution = top_5_species_analysis.groupby(['species', 'time']).size().unstack().fillna(0)\n",
    "\n",
    "# Borro la columna 'UNIDENTIFIED'\n",
    "time_distribution = time_distribution.drop('UNIDENTIFIED', axis=1)\n",
    "\n",
    "time_distribution\n"
   ]
  },
  {
   "cell_type": "code",
   "execution_count": 24,
   "id": "7942d67c",
   "metadata": {},
   "outputs": [
    {
     "data": {
      "image/png": "[encoded data removed]",
      "text/plain": [
       "<Figure size 1000x600 with 1 Axes>"
      ]
     },
     "metadata": {},
     "output_type": "display_data"
    }
   ],
   "source": [
    "time_distribution.plot(kind='bar', stacked=True, color=['orange', 'red', 'blue', 'black'], figsize=(10, 6))\n",
    "\n",
    "plt.title('Relación entre ataques por especie y el intervalo de tiempo')\n",
    "plt.xlabel('Especies')\n",
    "plt.ylabel('Ataques')\n",
    "\n",
    "plt.show()\n"
   ]
  },
  {
   "cell_type": "markdown",
   "id": "bc525bab",
   "metadata": {},
   "source": [
    "# Relación entre las principales especies y su mortalidad"
   ]
  },
  {
   "cell_type": "code",
   "execution_count": 28,
   "id": "000fc36a",
   "metadata": {},
   "outputs": [
    {
     "data": {
      "text/html": [
       "<div>\n",
       "<style scoped>\n",
       "    .dataframe tbody tr th:only-of-type {\n",
       "        vertical-align: middle;\n",
       "    }\n",
       "\n",
       "    .dataframe tbody tr th {\n",
       "        vertical-align: top;\n",
       "    }\n",
       "\n",
       "    .dataframe thead th {\n",
       "        text-align: right;\n",
       "    }\n",
       "</style>\n",
       "<table border=\"1\" class=\"dataframe\">\n",
       "  <thead>\n",
       "    <tr style=\"text-align: right;\">\n",
       "      <th>fatal</th>\n",
       "      <th>0.0</th>\n",
       "      <th>1.0</th>\n",
       "    </tr>\n",
       "    <tr>\n",
       "      <th>species</th>\n",
       "      <th></th>\n",
       "      <th></th>\n",
       "    </tr>\n",
       "  </thead>\n",
       "  <tbody>\n",
       "    <tr>\n",
       "      <th>BLACKTIP SHARK</th>\n",
       "      <td>101.0</td>\n",
       "      <td>0.0</td>\n",
       "    </tr>\n",
       "    <tr>\n",
       "      <th>BULL SHARK</th>\n",
       "      <td>141.0</td>\n",
       "      <td>36.0</td>\n",
       "    </tr>\n",
       "    <tr>\n",
       "      <th>NURSE SHARK</th>\n",
       "      <td>95.0</td>\n",
       "      <td>1.0</td>\n",
       "    </tr>\n",
       "    <tr>\n",
       "      <th>TIGER SHARK</th>\n",
       "      <td>207.0</td>\n",
       "      <td>72.0</td>\n",
       "    </tr>\n",
       "    <tr>\n",
       "      <th>WHITE SHARK</th>\n",
       "      <td>503.0</td>\n",
       "      <td>150.0</td>\n",
       "    </tr>\n",
       "  </tbody>\n",
       "</table>\n",
       "</div>"
      ],
      "text/plain": [
       "fatal             0.0    1.0\n",
       "species                     \n",
       "BLACKTIP SHARK  101.0    0.0\n",
       "BULL SHARK      141.0   36.0\n",
       "NURSE SHARK      95.0    1.0\n",
       "TIGER SHARK     207.0   72.0\n",
       "WHITE SHARK     503.0  150.0"
      ]
     },
     "execution_count": 28,
     "metadata": {},
     "output_type": "execute_result"
    }
   ],
   "source": [
    "# Especies del top 5\n",
    "#top_5_species_analysis\n",
    "\n",
    "# Analyze the distribution of fatal attacks for these species\n",
    "fatal_distribution = top_5_species_analysis.groupby(['species', 'fatal']).size().unstack().fillna(0)\n",
    "\n",
    "fatal_distribution = fatal_distribution.drop('UNIDENTIFIED', axis=1)\n",
    "\n",
    "# Display the fatal distribution\n",
    "fatal_distribution"
   ]
  },
  {
   "cell_type": "markdown",
   "id": "dbed320f",
   "metadata": {},
   "source": [
    "# Tasa de mortalidad"
   ]
  },
  {
   "cell_type": "code",
   "execution_count": 32,
   "id": "6b16e61c",
   "metadata": {},
   "outputs": [
    {
     "data": {
      "text/plain": [
       "species\n",
       "BLACKTIP SHARK    0.000000\n",
       "BULL SHARK        0.203390\n",
       "NURSE SHARK       0.010417\n",
       "TIGER SHARK       0.258065\n",
       "WHITE SHARK       0.229709\n",
       "dtype: float64"
      ]
     },
     "execution_count": 32,
     "metadata": {},
     "output_type": "execute_result"
    }
   ],
   "source": [
    "fatal_distribution.rate = fatal_distribution['1.0'] / (fatal_distribution['0.0'] + fatal_distribution['1.0'])\n",
    "fatal_distribution.rate"
   ]
  },
  {
   "cell_type": "code",
   "execution_count": 33,
   "id": "73587453",
   "metadata": {},
   "outputs": [
    {
     "data": {
      "image/png": "[encoded data removed]",
      "text/plain": [
       "<Figure size 1000x600 with 1 Axes>"
      ]
     },
     "metadata": {},
     "output_type": "display_data"
    }
   ],
   "source": [
    "fatal_distribution.rate.plot(kind='bar', figsize=(10, 6))\n",
    "\n",
    "plt.title('Tasa de mortalidad')\n",
    "plt.xlabel('Especies')\n",
    "plt.ylabel('Ratio')\n",
    "\n",
    "plt.show()\n"
   ]
  },
  {
   "cell_type": "code",
   "execution_count": null,
   "id": "253ad14e",
   "metadata": {},
   "outputs": [],
   "source": []
  },
  {
   "cell_type": "code",
   "execution_count": null,
   "id": "98f84999",
   "metadata": {},
   "outputs": [],
   "source": []
  }
 ],
 "metadata": {
  "kernelspec": {
   "display_name": "Python 3 (ipykernel)",
   "language": "python",
   "name": "python3"
  },
  "language_info": {
   "codemirror_mode": {
    "name": "ipython",
    "version": 3
   },
   "file_extension": ".py",
   "mimetype": "text/x-python",
   "name": "python",
   "nbconvert_exporter": "python",
   "pygments_lexer": "ipython3",
   "version": "3.10.9"
  }
 },
 "nbformat": 4,
 "nbformat_minor": 5
}
